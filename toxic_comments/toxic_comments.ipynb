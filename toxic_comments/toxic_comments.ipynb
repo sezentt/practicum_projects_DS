{
 "cells": [
  {
   "cell_type": "markdown",
   "metadata": {
    "toc": true
   },
   "source": [
    "<h1>Содержание<span class=\"tocSkip\"></span></h1>\n",
    "<div class=\"toc\"><ul class=\"toc-item\"><li><span><a href=\"#Загрузка-и-просмотр-данных\" data-toc-modified-id=\"Загрузка-и-просмотр-данных-1\"><span class=\"toc-item-num\">1&nbsp;&nbsp;</span>Загрузка и просмотр данных</a></span></li><li><span><a href=\"#Подготовка\" data-toc-modified-id=\"Подготовка-2\"><span class=\"toc-item-num\">2&nbsp;&nbsp;</span>Подготовка</a></span></li><li><span><a href=\"#Обучение\" data-toc-modified-id=\"Обучение-3\"><span class=\"toc-item-num\">3&nbsp;&nbsp;</span>Обучение</a></span><ul class=\"toc-item\"><li><span><a href=\"#LogisticRegression\" data-toc-modified-id=\"LogisticRegression-3.1\"><span class=\"toc-item-num\">3.1&nbsp;&nbsp;</span>LogisticRegression</a></span></li><li><span><a href=\"#LinearSVC\" data-toc-modified-id=\"LinearSVC-3.2\"><span class=\"toc-item-num\">3.2&nbsp;&nbsp;</span>LinearSVC</a></span></li><li><span><a href=\"#LGBMClassifier\" data-toc-modified-id=\"LGBMClassifier-3.3\"><span class=\"toc-item-num\">3.3&nbsp;&nbsp;</span>LGBMClassifier</a></span></li><li><span><a href=\"#Тестирование-лучшей-модели\" data-toc-modified-id=\"Тестирование-лучшей-модели-3.4\"><span class=\"toc-item-num\">3.4&nbsp;&nbsp;</span>Тестирование лучшей модели</a></span></li></ul></li><li><span><a href=\"#Общий-вывод\" data-toc-modified-id=\"Общий-вывод-4\"><span class=\"toc-item-num\">4&nbsp;&nbsp;</span>Общий вывод</a></span></li></ul></div>"
   ]
  },
  {
   "cell_type": "markdown",
   "metadata": {},
   "source": [
    "# Проект для «Викишоп»"
   ]
  },
  {
   "cell_type": "markdown",
   "metadata": {},
   "source": [
    "**Цель проекта**:<br>\n",
    "Разработать модель машинного обучения для автоматического определения токсичных пользовательских комментариев на платформе «Викишоп» с использованием методов обработки естественного языка. Модель должна достигать значения метрики F1 не ниже 0.75 для обеспечения надежной фильтрации негативного контента."
   ]
  },
  {
   "cell_type": "markdown",
   "metadata": {},
   "source": [
    "**Описание проекта:**<br>\n",
    "Интернет-магазин «Викишоп» запускает новый сервис. Теперь пользователи могут редактировать и дополнять описания товаров, как в вики-сообществах. То есть клиенты предлагают свои правки и комментируют изменения других. Магазину нужен инструмент, который будет искать токсичные комментарии и отправлять их на модерацию. \n",
    "\n",
    "Необходимо обучить модель классифицировать комментарии на позитивные и негативные. В нашем распоряжении набор данных с разметкой о токсичности правок.\n",
    "\n",
    "Построим модель со значением метрики качества *F1* не меньше 0.75. \n",
    "\n",
    "**План по выполнению проекта:**\n",
    "1. Загрузим и подготовим данные.\n",
    "2. Обучим разные модели. \n",
    "3. Сделаем выводы.\n",
    "\n",
    "**Описание данных:**<br>\n",
    "Данные находятся в файле `toxic_comments.csv`. Столбец `text` в нём содержит текст комментария, а `toxic` — целевой признак."
   ]
  },
  {
   "cell_type": "markdown",
   "metadata": {},
   "source": [
    "## Загрузка и просмотр данных"
   ]
  },
  {
   "cell_type": "code",
   "execution_count": 1,
   "metadata": {},
   "outputs": [],
   "source": [
    "# Подключение всех необходимых библиотек\n",
    "import os\n",
    "import pandas as pd\n",
    "import numpy as np\n",
    "import matplotlib.pyplot as plt\n",
    "import seaborn as sns\n",
    "import re\n",
    "\n",
    "from sklearn.feature_extraction.text import TfidfVectorizer\n",
    "from sklearn.model_selection import train_test_split, GridSearchCV\n",
    "from sklearn.pipeline import Pipeline\n",
    "from sklearn.base import BaseEstimator, TransformerMixin\n",
    "from sklearn.metrics import f1_score, classification_report, confusion_matrix\n",
    "\n",
    "from sklearn.linear_model import LogisticRegression\n",
    "from sklearn.svm import LinearSVC\n",
    "from lightgbm import LGBMClassifier\n",
    "\n",
    "# Настройка pandas для отображения полного текста\n",
    "pd.set_option('display.max_colwidth', None)\n",
    "\n",
    "# Задаем стиль графиков\n",
    "sns.set(style=\"whitegrid\")\n",
    "\n",
    "import warnings\n",
    "warnings.filterwarnings(\"ignore\")"
   ]
  },
  {
   "cell_type": "code",
   "execution_count": 2,
   "metadata": {},
   "outputs": [],
   "source": [
    "# Загружает CSV-файл и выводит случайные строки и общую информацию\n",
    "def load_and_inspect_csv(filepath, delimiter=',', sample_size=10):\n",
    "    if os.path.exists(filepath):\n",
    "        df = pd.read_csv(filepath, delimiter=delimiter, index_col=0)\n",
    "        print(f\"Файл успешно загружен: {filepath}\")\n",
    "        display(df.sample(sample_size, random_state=42))\n",
    "        df.info()\n",
    "        return df\n",
    "    else:\n",
    "        print(f\"Файл не найден: {filepath}\")\n",
    "        return None"
   ]
  },
  {
   "cell_type": "code",
   "execution_count": 3,
   "metadata": {},
   "outputs": [
    {
     "name": "stdout",
     "output_type": "stream",
     "text": [
      "Файл успешно загружен: /datasets/toxic_comments.csv\n"
     ]
    },
    {
     "data": {
      "text/html": [
       "<div>\n",
       "<style scoped>\n",
       "    .dataframe tbody tr th:only-of-type {\n",
       "        vertical-align: middle;\n",
       "    }\n",
       "\n",
       "    .dataframe tbody tr th {\n",
       "        vertical-align: top;\n",
       "    }\n",
       "\n",
       "    .dataframe thead th {\n",
       "        text-align: right;\n",
       "    }\n",
       "</style>\n",
       "<table border=\"1\" class=\"dataframe\">\n",
       "  <thead>\n",
       "    <tr style=\"text-align: right;\">\n",
       "      <th></th>\n",
       "      <th>text</th>\n",
       "      <th>toxic</th>\n",
       "    </tr>\n",
       "  </thead>\n",
       "  <tbody>\n",
       "    <tr>\n",
       "      <th>31055</th>\n",
       "      <td>Sometime back, I just happened to log on to www.izoom.in with a friend’s reference and I was amazed to see the concept Fresh Ideas Entertainment has come up with. So many deals… all under one roof. This website is very user friendly and easy to use and is fun to be on.\\nYou have Gossip, Games, Facts… Another exciting feature to add to it is Face of the Week… Every week, 4 new faces are selected and put up as izoom faces. It’s great to have been selected in four out of a group of millions. \\nThis new start up has already got many a deals in its kitty. Few of them being TheFortune Hotel, The Beach… are my personal favorites. izoom.in has a USP of mobile coupons. Coupons are available even when a user cannot access internet. You just need to SMS izoom support to 56767 and you get attended immediately.\\nAll I can say is izoom.in is a must visit website for everyone before they go out for shopping or dining or for outing.\\nCheers!!!</td>\n",
       "      <td>0</td>\n",
       "    </tr>\n",
       "    <tr>\n",
       "      <th>102929</th>\n",
       "      <td>\"\\n\\nThe latest edit is much better, don't make this article state \"\"super.\"\" at all. 71.237.70.49  \"</td>\n",
       "      <td>0</td>\n",
       "    </tr>\n",
       "    <tr>\n",
       "      <th>67385</th>\n",
       "      <td>\" October 2007 (UTC)\\n\\nI would think you'd be able to get your point across, and be immune to any objections, were you to simply embellish the second sentence of the article by changing \"\"he was schooled at Thornleigh Salesian College\"\" to \"\"he was schooled at (the then all-Catholic) Thornleigh Salesian College\"\".   \\n\\nGood suggestion from an Anon - what do you think? Rgds, -  07:53, 5\"</td>\n",
       "      <td>0</td>\n",
       "    </tr>\n",
       "    <tr>\n",
       "      <th>81167</th>\n",
       "      <td>Thanks for the tip on the currency translation.  Think it's all done now.</td>\n",
       "      <td>0</td>\n",
       "    </tr>\n",
       "    <tr>\n",
       "      <th>90182</th>\n",
       "      <td>I would argue that if content on the Con in comparison to the Arts Music is out of proportion, then it warrants further contribution to the article, not the removal of an indepth piece of content. Also, as I mentioned before, the Arts Music unit has a notable history comparable to that of the Con itself. Because of this, I would further argue that content on the Arts Music Unit is more relevant to this article than the information on the Newcastle Conservatorium.</td>\n",
       "      <td>0</td>\n",
       "    </tr>\n",
       "    <tr>\n",
       "      <th>1860</th>\n",
       "      <td>\"=Reliable sources===\\nCheating:\\n\"\"Barry Bonds:Cheater\"\" from CBS, yea I kinda think that is reliable. \\n\"\"Dear Barry Bonds, You are either an outright cheater or very stupid\"\" from the USA Today \\n\"\"Yes, Barry Bonds is a cheater. He is a cheater of the worst sort\"\" \\nLying:\\n\"\"It's clear, Barry Bonds' a liar\"\" New York Daily News, another pretty freakin' reliable source. \\n\"\"Barry Lamar Bonds is a bad man\"\" Baseball Digest \\n\"\"but Bonds is a liar, a cheater, a whiner and a bad influence on America's youth\"\"  Mark Barnes\\n\\n==\"</td>\n",
       "      <td>1</td>\n",
       "    </tr>\n",
       "    <tr>\n",
       "      <th>125422</th>\n",
       "      <td>WTF=\\n\\nHow The Fuck Does This Person Merit A Page On Wikipedia.</td>\n",
       "      <td>1</td>\n",
       "    </tr>\n",
       "    <tr>\n",
       "      <th>149142</th>\n",
       "      <td>cajuns, acadians\\nCajuns, acadians, louisianans, they're so many different names for different americans of french descent because their culture is so rich and somewhat so different but so close at the same time. I'm an acadian but more importantly I'm a french american so I really don't see why there should be a difference. \\n\\nIf you say there should be two different list, it doesn't make sense. The people on the french-american list should be in one of wiki-invented list of cajuns or acadians. I understand there are some more recent french-americans who are only 1 or 2 generations-old americans but this distinction isn't made for italian-americans, german-americans. I'm surprised to see Albert Einstein a fairly recent immigrant in American history next to Katherine Heigl, a 10 to 12 generations american. \\\\\\n\\nThis is all race-based, biased because french-bashing don't stop at the bush government level.</td>\n",
       "      <td>0</td>\n",
       "    </tr>\n",
       "    <tr>\n",
       "      <th>89784</th>\n",
       "      <td>Hi - I dropped a pin in Google Maps at the ceremonial site near Chief Tayak's grave and recorded the lat/long.  Is this not permitted? It maps correctly in other sites, as well, so I believe they're the correct coordinates. I live nearby, so could also visit the site and get the coordinates from GPS.</td>\n",
       "      <td>0</td>\n",
       "    </tr>\n",
       "    <tr>\n",
       "      <th>64323</th>\n",
       "      <td>Re removal of accessdate= for urls books \\n\\nThis is from Template:Cite book\\naccessdate: Full date when url was accessed. Should be used when url field is used.\\nSomeone has claimed the exact opposite &amp; removed the accessdates</td>\n",
       "      <td>0</td>\n",
       "    </tr>\n",
       "  </tbody>\n",
       "</table>\n",
       "</div>"
      ],
      "text/plain": [
       "                                                                                                                                                                                                                                                                                                                                                                                                                                                                                                                                                                                                                                                                                                                                                                                                                                                                                                                                                                                 text  \\\n",
       "31055   Sometime back, I just happened to log on to www.izoom.in with a friend’s reference and I was amazed to see the concept Fresh Ideas Entertainment has come up with. So many deals… all under one roof. This website is very user friendly and easy to use and is fun to be on.\\nYou have Gossip, Games, Facts… Another exciting feature to add to it is Face of the Week… Every week, 4 new faces are selected and put up as izoom faces. It’s great to have been selected in four out of a group of millions. \\nThis new start up has already got many a deals in its kitty. Few of them being TheFortune Hotel, The Beach… are my personal favorites. izoom.in has a USP of mobile coupons. Coupons are available even when a user cannot access internet. You just need to SMS izoom support to 56767 and you get attended immediately.\\nAll I can say is izoom.in is a must visit website for everyone before they go out for shopping or dining or for outing.\\nCheers!!!   \n",
       "102929                                                                                                                                                                                                                                                                                                                                                                                                                                                                                                                                                                                                                                                                                                                                                                                                                                                                          \"\\n\\nThe latest edit is much better, don't make this article state \"\"super.\"\" at all. 71.237.70.49  \"   \n",
       "67385                                                                                                                                                                                                                                                                                                                                                                                                                                                                                                                                                                         \" October 2007 (UTC)\\n\\nI would think you'd be able to get your point across, and be immune to any objections, were you to simply embellish the second sentence of the article by changing \"\"he was schooled at Thornleigh Salesian College\"\" to \"\"he was schooled at (the then all-Catholic) Thornleigh Salesian College\"\".   \\n\\nGood suggestion from an Anon - what do you think? Rgds, -  07:53, 5\"   \n",
       "81167                                                                                                                                                                                                                                                                                                                                                                                                                                                                                                                                                                                                                                                                                                                                                                                                                                                                                                       Thanks for the tip on the currency translation.  Think it's all done now.   \n",
       "90182                                                                                                                                                                                                                                                                                                                                                                                                                                                                                             I would argue that if content on the Con in comparison to the Arts Music is out of proportion, then it warrants further contribution to the article, not the removal of an indepth piece of content. Also, as I mentioned before, the Arts Music unit has a notable history comparable to that of the Con itself. Because of this, I would further argue that content on the Arts Music Unit is more relevant to this article than the information on the Newcastle Conservatorium.   \n",
       "1860                                                                                                                                                                                                                                                                                                                                                                                                                           \"=Reliable sources===\\nCheating:\\n\"\"Barry Bonds:Cheater\"\" from CBS, yea I kinda think that is reliable. \\n\"\"Dear Barry Bonds, You are either an outright cheater or very stupid\"\" from the USA Today \\n\"\"Yes, Barry Bonds is a cheater. He is a cheater of the worst sort\"\" \\nLying:\\n\"\"It's clear, Barry Bonds' a liar\"\" New York Daily News, another pretty freakin' reliable source. \\n\"\"Barry Lamar Bonds is a bad man\"\" Baseball Digest \\n\"\"but Bonds is a liar, a cheater, a whiner and a bad influence on America's youth\"\"  Mark Barnes\\n\\n==\"   \n",
       "125422                                                                                                                                                                                                                                                                                                                                                                                                                                                                                                                                                                                                                                                                                                                                                                                                                                                                                                               WTF=\\n\\nHow The Fuck Does This Person Merit A Page On Wikipedia.   \n",
       "149142                        cajuns, acadians\\nCajuns, acadians, louisianans, they're so many different names for different americans of french descent because their culture is so rich and somewhat so different but so close at the same time. I'm an acadian but more importantly I'm a french american so I really don't see why there should be a difference. \\n\\nIf you say there should be two different list, it doesn't make sense. The people on the french-american list should be in one of wiki-invented list of cajuns or acadians. I understand there are some more recent french-americans who are only 1 or 2 generations-old americans but this distinction isn't made for italian-americans, german-americans. I'm surprised to see Albert Einstein a fairly recent immigrant in American history next to Katherine Heigl, a 10 to 12 generations american. \\\\\\n\\nThis is all race-based, biased because french-bashing don't stop at the bush government level.   \n",
       "89784                                                                                                                                                                                                                                                                                                                                                                                                                                                                                                                                                                                                                                                                   Hi - I dropped a pin in Google Maps at the ceremonial site near Chief Tayak's grave and recorded the lat/long.  Is this not permitted? It maps correctly in other sites, as well, so I believe they're the correct coordinates. I live nearby, so could also visit the site and get the coordinates from GPS.   \n",
       "64323                                                                                                                                                                                                                                                                                                                                                                                                                                                                                                                                                                                                                                                                                                                                             Re removal of accessdate= for urls books \\n\\nThis is from Template:Cite book\\naccessdate: Full date when url was accessed. Should be used when url field is used.\\nSomeone has claimed the exact opposite & removed the accessdates   \n",
       "\n",
       "        toxic  \n",
       "31055       0  \n",
       "102929      0  \n",
       "67385       0  \n",
       "81167       0  \n",
       "90182       0  \n",
       "1860        1  \n",
       "125422      1  \n",
       "149142      0  \n",
       "89784       0  \n",
       "64323       0  "
      ]
     },
     "metadata": {},
     "output_type": "display_data"
    },
    {
     "name": "stdout",
     "output_type": "stream",
     "text": [
      "<class 'pandas.core.frame.DataFrame'>\n",
      "Int64Index: 159292 entries, 0 to 159450\n",
      "Data columns (total 2 columns):\n",
      " #   Column  Non-Null Count   Dtype \n",
      "---  ------  --------------   ----- \n",
      " 0   text    159292 non-null  object\n",
      " 1   toxic   159292 non-null  int64 \n",
      "dtypes: int64(1), object(1)\n",
      "memory usage: 3.6+ MB\n"
     ]
    }
   ],
   "source": [
    "# Изучим данные\n",
    "df = load_and_inspect_csv('/datasets/toxic_comments.csv')"
   ]
  },
  {
   "cell_type": "markdown",
   "metadata": {},
   "source": [
    "Таким образом, мы загрузили и изучили наши данные."
   ]
  },
  {
   "cell_type": "markdown",
   "metadata": {},
   "source": [
    "## Подготовка"
   ]
  },
  {
   "cell_type": "markdown",
   "metadata": {},
   "source": [
    "Изучим распределение классов, а также проверим, есть ли пустые строки или аномалии в столбце `text`."
   ]
  },
  {
   "cell_type": "code",
   "execution_count": 4,
   "metadata": {
    "scrolled": true
   },
   "outputs": [
    {
     "data": {
      "text/plain": [
       "0    0.898388\n",
       "1    0.101612\n",
       "Name: toxic, dtype: float64"
      ]
     },
     "execution_count": 4,
     "metadata": {},
     "output_type": "execute_result"
    }
   ],
   "source": [
    "# Распределение классов\n",
    "df['toxic'].value_counts(normalize=True)"
   ]
  },
  {
   "cell_type": "code",
   "execution_count": 5,
   "metadata": {},
   "outputs": [
    {
     "name": "stdout",
     "output_type": "stream",
     "text": [
      "0\n"
     ]
    },
    {
     "data": {
      "text/plain": [
       "0"
      ]
     },
     "execution_count": 5,
     "metadata": {},
     "output_type": "execute_result"
    }
   ],
   "source": [
    "# Проверка на пустые строки\n",
    "print(df['text'].isnull().sum())\n",
    "(df['text'].str.strip() == '').sum()"
   ]
  },
  {
   "cell_type": "markdown",
   "metadata": {},
   "source": [
    "Только ~10% комментариев помечены как токсичные. Это важно учитывать при обучении – дисбаланс может повлиять на качество модели. Будем использовать F1-меру как основную метрику, а также применим стратификацию."
   ]
  },
  {
   "cell_type": "markdown",
   "metadata": {},
   "source": [
    "Теперь необходимо очистить текст и преобразовать его в числовой формат."
   ]
  },
  {
   "cell_type": "code",
   "execution_count": 6,
   "metadata": {},
   "outputs": [],
   "source": [
    "# Функция очистки текста\n",
    "def preprocess_text(text):\n",
    "    text = text.lower()  # приведение к нижнему регистру\n",
    "    text = re.sub(r'<.*?>', '', text)  # удаление HTML-тегов\n",
    "    text = re.sub(r'[^a-z\\s]', '', text)  # удаление пунктуации и чисел\n",
    "    text = re.sub(r'\\s+', ' ', text).strip()  # удаление лишних пробелов\n",
    "    return text"
   ]
  },
  {
   "cell_type": "code",
   "execution_count": 7,
   "metadata": {},
   "outputs": [],
   "source": [
    "# Сделаем класс для добавления его в пайплайн\n",
    "class TextCleaner(BaseEstimator, TransformerMixin):\n",
    "    def fit(self, X, y=None):\n",
    "        return self\n",
    "    \n",
    "    def transform(self, X):\n",
    "        return X.apply(preprocess_text)"
   ]
  },
  {
   "cell_type": "code",
   "execution_count": 8,
   "metadata": {},
   "outputs": [],
   "source": [
    "# Стратифицированное разбиение\n",
    "df_trainval, df_test = train_test_split(df, test_size=0.2, stratify=df['toxic'], random_state=42)\n",
    "df_train, df_valid = train_test_split(df_trainval, test_size=0.2, stratify=df_trainval['toxic'], random_state=42)\n",
    "\n",
    "# X и y по подвыборкам\n",
    "X_train = df_train['text']\n",
    "y_train = df_train['toxic']\n",
    "\n",
    "X_valid = df_valid['text']\n",
    "y_valid = df_valid['toxic']\n",
    "\n",
    "X_test = df_test['text']\n",
    "y_test = df_test['toxic']"
   ]
  },
  {
   "cell_type": "markdown",
   "metadata": {},
   "source": [
    "## Обучение"
   ]
  },
  {
   "cell_type": "markdown",
   "metadata": {},
   "source": [
    "Создадим универсальную функцию для оценки модели на валидационной выборке."
   ]
  },
  {
   "cell_type": "code",
   "execution_count": 9,
   "metadata": {},
   "outputs": [],
   "source": [
    "def evaluate_on_validation(model, X, y, model_name='Model'):\n",
    "    y_pred = model.predict(X)\n",
    "    f1 = f1_score(y, y_pred)\n",
    "    print(f'F1-score ({model_name}): {f1:.4f}')\n",
    "    print('\\nClassification Report:')\n",
    "    print(classification_report(y, y_pred))\n",
    "\n",
    "    cm = confusion_matrix(y, y_pred)\n",
    "    plt.figure(figsize=(6, 4))\n",
    "    sns.heatmap(cm, annot=True, fmt='d', cmap='Blues',\n",
    "                xticklabels=['not toxic', 'toxic'],\n",
    "                yticklabels=['not toxic', 'toxic'])\n",
    "    plt.xlabel('Predicted')\n",
    "    plt.ylabel('Actual')\n",
    "    plt.title(f'Confusion Matrix – {model_name}')\n",
    "    plt.show()\n",
    "    \n",
    "    return f1"
   ]
  },
  {
   "cell_type": "markdown",
   "metadata": {},
   "source": [
    "Добавим возможность подбирать гиперпараметры через `GridSearchCV`."
   ]
  },
  {
   "cell_type": "code",
   "execution_count": 10,
   "metadata": {},
   "outputs": [],
   "source": [
    "def train_with_pipeline_and_gridsearch(estimator, param_grid, X_train, y_train, cv=3):\n",
    "    pipeline = Pipeline([\n",
    "        ('cleaner', TextCleaner()),\n",
    "        ('tfidf', TfidfVectorizer(max_features=50000, ngram_range=(1, 2))),\n",
    "        ('clf', estimator)\n",
    "    ])\n",
    "    \n",
    "    grid = GridSearchCV(\n",
    "        pipeline,\n",
    "        param_grid,\n",
    "        scoring='f1',\n",
    "        cv=cv,\n",
    "        n_jobs=-1,\n",
    "        verbose=1\n",
    "    )\n",
    "    grid.fit(X_train, y_train)\n",
    "    print(f'Best params: {grid.best_params_}')\n",
    "    return grid.best_estimator_"
   ]
  },
  {
   "cell_type": "markdown",
   "metadata": {},
   "source": [
    "Теперь проверим 3 различные модели."
   ]
  },
  {
   "cell_type": "markdown",
   "metadata": {},
   "source": [
    "### LogisticRegression"
   ]
  },
  {
   "cell_type": "code",
   "execution_count": 11,
   "metadata": {},
   "outputs": [
    {
     "name": "stdout",
     "output_type": "stream",
     "text": [
      "Fitting 3 folds for each of 4 candidates, totalling 12 fits\n",
      "Best params: {'clf__C': 10}\n",
      "F1-score (Logistic Regression): 0.7590\n",
      "\n",
      "Classification Report:\n",
      "              precision    recall  f1-score   support\n",
      "\n",
      "           0       0.98      0.97      0.97     22897\n",
      "           1       0.73      0.79      0.76      2590\n",
      "\n",
      "    accuracy                           0.95     25487\n",
      "   macro avg       0.85      0.88      0.87     25487\n",
      "weighted avg       0.95      0.95      0.95     25487\n",
      "\n"
     ]
    },
    {
     "data": {
      "image/png": "[encoded data removed]",
      "text/plain": [
       "<Figure size 432x288 with 2 Axes>"
      ]
     },
     "metadata": {},
     "output_type": "display_data"
    },
    {
     "data": {
      "text/plain": [
       "0.7590027700831024"
      ]
     },
     "execution_count": 11,
     "metadata": {},
     "output_type": "execute_result"
    }
   ],
   "source": [
    "# Модель\n",
    "logreg = LogisticRegression(class_weight='balanced', max_iter=1000, random_state=42)\n",
    "\n",
    "# Сетка гиперпараметров\n",
    "logreg_grid = {\n",
    "    'clf__C': [0.1, 1, 5, 10]\n",
    "}\n",
    "\n",
    "# Обучение с подбором параметров\n",
    "best_logreg = train_with_pipeline_and_gridsearch(logreg, logreg_grid, X_train, y_train)\n",
    "\n",
    "# Оценка на валидации\n",
    "evaluate_on_validation(best_logreg, X_valid, y_valid, 'Logistic Regression')"
   ]
  },
  {
   "cell_type": "markdown",
   "metadata": {},
   "source": [
    "После подбора гиперпараметра `C` с помощью `GridSearchCV` (лучшее значение: `C = 10`) модель логистической регрессии достигла F1-score = 0.7590 на валидационной выборке.\n",
    "\n",
    "Модель продемонстрировала стабильный баланс между точностью (precision = 0.73) и полнотой (recall = 0.79) при определении токсичных комментариев. Общая точность классификации составила 95 %, что подтверждает надёжность модели в задаче автоматической модерации пользовательского контента."
   ]
  },
  {
   "cell_type": "markdown",
   "metadata": {},
   "source": [
    "### LinearSVC"
   ]
  },
  {
   "cell_type": "code",
   "execution_count": 12,
   "metadata": {},
   "outputs": [
    {
     "name": "stdout",
     "output_type": "stream",
     "text": [
      "Fitting 3 folds for each of 3 candidates, totalling 9 fits\n",
      "Best params: {'clf__C': 1}\n",
      "F1-score (LinearSVC): 0.7525\n",
      "\n",
      "Classification Report:\n",
      "              precision    recall  f1-score   support\n",
      "\n",
      "           0       0.98      0.97      0.97     22897\n",
      "           1       0.72      0.79      0.75      2590\n",
      "\n",
      "    accuracy                           0.95     25487\n",
      "   macro avg       0.85      0.88      0.86     25487\n",
      "weighted avg       0.95      0.95      0.95     25487\n",
      "\n"
     ]
    },
    {
     "data": {
      "image/png": "[encoded data removed]",
      "text/plain": [
       "<Figure size 432x288 with 2 Axes>"
      ]
     },
     "metadata": {},
     "output_type": "display_data"
    },
    {
     "data": {
      "text/plain": [
       "0.7524972253052165"
      ]
     },
     "execution_count": 12,
     "metadata": {},
     "output_type": "execute_result"
    }
   ],
   "source": [
    "# Модель\n",
    "svc = LinearSVC(class_weight='balanced', max_iter=10000, random_state=42)\n",
    "\n",
    "# Сетка гиперпараметров\n",
    "svc_grid = {\n",
    "    'clf__C': [0.1, 1, 5]\n",
    "}\n",
    "\n",
    "# Обучение с подбором параметров\n",
    "best_svc = train_with_pipeline_and_gridsearch(svc, svc_grid, X_train, y_train)\n",
    "\n",
    "# Оценка на валидации\n",
    "evaluate_on_validation(best_svc, X_valid, y_valid, 'LinearSVC')"
   ]
  },
  {
   "cell_type": "markdown",
   "metadata": {},
   "source": [
    "По результатам `GridSearchCV` был подобран оптимальный параметр `C = 1`. Модель LinearSVC достигла F1-score = 0.7525 на валидационной выборке, показав стабильные результаты при классификации токсичных комментариев, минимально уступая LogisticRegression.\n",
    "\n",
    "Модель обеспечила хорошее соотношение точности (precision = 0.72) и полноты (recall = 0.79) для токсичного класса. Общая точность составила 95 %, что делает LinearSVC эффективным и устойчивым инструментом в задаче фильтрации пользовательского контента."
   ]
  },
  {
   "cell_type": "markdown",
   "metadata": {},
   "source": [
    "### LGBMClassifier"
   ]
  },
  {
   "cell_type": "code",
   "execution_count": 13,
   "metadata": {},
   "outputs": [
    {
     "name": "stdout",
     "output_type": "stream",
     "text": [
      "Fitting 3 folds for each of 8 candidates, totalling 24 fits\n",
      "Best params: {'clf__learning_rate': 0.1, 'clf__n_estimators': 300, 'clf__num_leaves': 63}\n",
      "F1-score (LightGBM): 0.7596\n",
      "\n",
      "Classification Report:\n",
      "              precision    recall  f1-score   support\n",
      "\n",
      "           0       0.98      0.97      0.97     22897\n",
      "           1       0.73      0.80      0.76      2590\n",
      "\n",
      "    accuracy                           0.95     25487\n",
      "   macro avg       0.85      0.88      0.87     25487\n",
      "weighted avg       0.95      0.95      0.95     25487\n",
      "\n"
     ]
    },
    {
     "data": {
      "image/png": "[encoded data removed]",
      "text/plain": [
       "<Figure size 432x288 with 2 Axes>"
      ]
     },
     "metadata": {},
     "output_type": "display_data"
    },
    {
     "data": {
      "text/plain": [
       "0.7595870206489675"
      ]
     },
     "execution_count": 13,
     "metadata": {},
     "output_type": "execute_result"
    }
   ],
   "source": [
    "# Модель\n",
    "lgbm = LGBMClassifier(class_weight='balanced', random_state=42)\n",
    "\n",
    "# Сетка гиперпараметров\n",
    "lgbm_grid = {\n",
    "    'clf__n_estimators': [100, 300],\n",
    "    'clf__learning_rate': [0.05, 0.1],\n",
    "    'clf__num_leaves': [31, 63]\n",
    "}\n",
    "\n",
    "# Обучение с подбором параметров\n",
    "best_lgbm = train_with_pipeline_and_gridsearch(lgbm, lgbm_grid, X_train, y_train)\n",
    "\n",
    "# Оценка на валидации\n",
    "evaluate_on_validation(best_lgbm, X_valid, y_valid, 'LightGBM')"
   ]
  },
  {
   "cell_type": "markdown",
   "metadata": {},
   "source": [
    "По результатам `GridSearchCV` наилучшими параметрами оказались: `learning_rate = 0.1`, `n_estimators = 300`, `num_leaves = 63`. Обученная модель LightGBM достигла F1-score = 0.7596 на валидационной выборке.\n",
    "\n",
    "Модель продемонстрировала хороший баланс между точностью (precision = 0.73) и полнотой (recall = 0.80), а также общую точность 95 %. Качество классификации оказалось сопоставимо с результатами логистической регрессии и LinearSVC.\n",
    "\n",
    "С учётом достигнутых метрик, модель **LightGBM** выбрана для финальной оценки на тестовой выборке."
   ]
  },
  {
   "cell_type": "markdown",
   "metadata": {},
   "source": [
    "### Тестирование лучшей модели"
   ]
  },
  {
   "cell_type": "code",
   "execution_count": 15,
   "metadata": {},
   "outputs": [
    {
     "name": "stdout",
     "output_type": "stream",
     "text": [
      "F1-score (LightGBM (Test)): 0.7721\n",
      "\n",
      "Classification Report:\n",
      "              precision    recall  f1-score   support\n",
      "\n",
      "           0       0.98      0.97      0.97     28622\n",
      "           1       0.74      0.81      0.77      3237\n",
      "\n",
      "    accuracy                           0.95     31859\n",
      "   macro avg       0.86      0.89      0.87     31859\n",
      "weighted avg       0.95      0.95      0.95     31859\n",
      "\n"
     ]
    },
    {
     "data": {
      "image/png": "[encoded data removed]",
      "text/plain": [
       "<Figure size 432x288 with 2 Axes>"
      ]
     },
     "metadata": {},
     "output_type": "display_data"
    },
    {
     "data": {
      "text/plain": [
       "0.7720544701006512"
      ]
     },
     "execution_count": 15,
     "metadata": {},
     "output_type": "execute_result"
    }
   ],
   "source": [
    "# Финальная проверка лучшей модели на тесте\n",
    "evaluate_on_validation(best_lgbm, X_test, y_test, 'LightGBM (Test)')"
   ]
  },
  {
   "cell_type": "markdown",
   "metadata": {},
   "source": [
    "Выбранная по результатам валидации модель LightGBM была протестирована на ранее неиспользуемой тестовой выборке. Модель достигла F1-score = 0.7721, подтвердив свою устойчивость и способность обобщать на новых данных.\n",
    "\n",
    "Модель продемонстрировала высокую полноту (recall = 0.81) и хорошую точность (precision = 0.74) при классификации токсичных комментариев. Общая точность составила 95 %, что соответствует показателям на валидации и подтверждает надёжность модели.\n",
    "\n",
    "Таким образом, модель успешно прошла финальную проверку и может быть рекомендована для внедрения в систему автоматической модерации пользовательских комментариев."
   ]
  },
  {
   "cell_type": "markdown",
   "metadata": {},
   "source": [
    "## Общий вывод"
   ]
  },
  {
   "cell_type": "markdown",
   "metadata": {},
   "source": [
    "В рамках проекта была решена задача автоматической классификации пользовательских комментариев на токсичные и нетоксичные для интернет-магазина «Викишоп». Цель состояла в разработке модели, способной выявлять токсичные сообщения с F1-метрикой не ниже 0.75. В распоряжении находился размеченный текстовый датасет объёмом более 150 тысяч комментариев.\n",
    "\n",
    "После предварительного анализа и очистки данные были приведены к единому формату. Для исключения утечки информации в процессе векторизации был реализован сквозной Pipeline, включающий очистку текста, TF-IDF-векторизацию (c униграммами и биграммами) и классификатор. Для компенсации дисбаланса классов использовался параметр `class_weight='balanced'`. Данные были разделены на обучающую, валидационную и тестовую выборки. Подбор гиперпараметров всех моделей выполнялся на обучающей выборке с использованием кросс-валидации, а выбор лучшей модели - по результатам валидации.\n",
    "\n",
    "Были обучены и сравнены три модели: логистическая регрессия, LinearSVC и градиентный бустинг LightGBM. Все три показали сопоставимое качество на валидационной выборке (F1 около 0.75). По итогам сравнения была выбрана модель LightGBM, как обеспечившая наилучший баланс метрик. Финальная проверка на тестовой выборке показала F1-score = 0.7721, что подтверждает стабильность модели и её способность обобщать на новых данных.\n",
    "\n",
    "Таким образом, поставленная задача была успешно решена: построена и протестирована модель, способная эффективно выявлять токсичные комментарии. Результаты позволяют рекомендовать её к использованию в системе автоматической модерации пользовательского контента платформы «Викишоп»."
   ]
  }
 ],
 "metadata": {
  "ExecuteTimeLog": [
   {
    "duration": 1433,
    "start_time": "2025-07-22T15:22:26.063Z"
   },
   {
    "duration": 4,
    "start_time": "2025-07-22T15:22:27.498Z"
   },
   {
    "duration": 1094,
    "start_time": "2025-07-22T15:22:27.503Z"
   },
   {
    "duration": 5,
    "start_time": "2025-07-22T15:22:42.915Z"
   },
   {
    "duration": 1821,
    "start_time": "2025-07-22T15:22:43.531Z"
   },
   {
    "duration": 1283,
    "start_time": "2025-07-22T15:23:07.915Z"
   },
   {
    "duration": 5,
    "start_time": "2025-07-22T15:23:09.200Z"
   },
   {
    "duration": 1072,
    "start_time": "2025-07-22T15:23:09.207Z"
   },
   {
    "duration": 1191,
    "start_time": "2025-07-22T15:26:53.064Z"
   },
   {
    "duration": 4,
    "start_time": "2025-07-22T15:26:54.257Z"
   },
   {
    "duration": 1095,
    "start_time": "2025-07-22T15:26:54.262Z"
   },
   {
    "duration": 1243,
    "start_time": "2025-07-22T15:35:57.030Z"
   },
   {
    "duration": 4,
    "start_time": "2025-07-22T15:35:58.275Z"
   },
   {
    "duration": 1121,
    "start_time": "2025-07-22T15:35:58.281Z"
   },
   {
    "duration": 8,
    "start_time": "2025-07-22T15:40:26.461Z"
   },
   {
    "duration": 172,
    "start_time": "2025-07-22T15:40:27.082Z"
   },
   {
    "duration": 1225,
    "start_time": "2025-07-22T15:40:53.851Z"
   },
   {
    "duration": 4,
    "start_time": "2025-07-22T15:40:55.078Z"
   },
   {
    "duration": 1130,
    "start_time": "2025-07-22T15:40:55.084Z"
   },
   {
    "duration": 19,
    "start_time": "2025-07-22T15:40:56.216Z"
   },
   {
    "duration": 200,
    "start_time": "2025-07-22T15:40:56.237Z"
   },
   {
    "duration": 8,
    "start_time": "2025-07-22T15:41:19.168Z"
   },
   {
    "duration": 1418,
    "start_time": "2025-07-22T15:45:59.890Z"
   },
   {
    "duration": 4,
    "start_time": "2025-07-22T15:46:01.310Z"
   },
   {
    "duration": 1348,
    "start_time": "2025-07-22T15:46:01.316Z"
   },
   {
    "duration": 7,
    "start_time": "2025-07-22T15:46:02.666Z"
   },
   {
    "duration": 229,
    "start_time": "2025-07-22T15:46:02.675Z"
   },
   {
    "duration": 4,
    "start_time": "2025-07-22T15:46:02.905Z"
   },
   {
    "duration": 5127,
    "start_time": "2025-07-22T15:46:02.911Z"
   },
   {
    "duration": 32287,
    "start_time": "2025-07-22T15:46:08.040Z"
   },
   {
    "duration": 145,
    "start_time": "2025-07-22T15:46:40.328Z"
   },
   {
    "duration": 25,
    "start_time": "2025-07-22T15:47:23.735Z"
   },
   {
    "duration": 49936,
    "start_time": "2025-07-22T15:47:43.108Z"
   },
   {
    "duration": 145,
    "start_time": "2025-07-22T15:48:33.047Z"
   },
   {
    "duration": 210,
    "start_time": "2025-07-22T15:48:33.194Z"
   },
   {
    "duration": 31,
    "start_time": "2025-07-22T15:51:29.210Z"
   },
   {
    "duration": 722039,
    "start_time": "2025-07-22T15:51:39.320Z"
   },
   {
    "duration": 2753,
    "start_time": "2025-07-22T16:03:41.361Z"
   },
   {
    "duration": 198,
    "start_time": "2025-07-22T16:03:44.116Z"
   },
   {
    "duration": 1723,
    "start_time": "2025-07-23T13:05:09.667Z"
   },
   {
    "duration": 10,
    "start_time": "2025-07-23T13:05:11.392Z"
   },
   {
    "duration": 1102,
    "start_time": "2025-07-23T13:05:11.407Z"
   },
   {
    "duration": 8,
    "start_time": "2025-07-23T13:05:12.513Z"
   },
   {
    "duration": 170,
    "start_time": "2025-07-23T13:05:12.523Z"
   },
   {
    "duration": 12,
    "start_time": "2025-07-23T13:05:12.698Z"
   },
   {
    "duration": 5543,
    "start_time": "2025-07-23T13:05:12.712Z"
   },
   {
    "duration": 31712,
    "start_time": "2025-07-23T13:05:18.257Z"
   },
   {
    "duration": 145,
    "start_time": "2025-07-23T13:05:49.971Z"
   },
   {
    "duration": 48588,
    "start_time": "2025-07-23T13:05:50.118Z"
   },
   {
    "duration": 224,
    "start_time": "2025-07-23T13:06:38.707Z"
   },
   {
    "duration": 212,
    "start_time": "2025-07-23T13:06:38.933Z"
   },
   {
    "duration": 2671757,
    "start_time": "2025-07-23T13:06:39.147Z"
   },
   {
    "duration": 2338,
    "start_time": "2025-07-23T13:51:10.906Z"
   },
   {
    "duration": 198,
    "start_time": "2025-07-23T13:51:13.245Z"
   },
   {
    "duration": 5914,
    "start_time": "2025-07-23T14:10:20.358Z"
   },
   {
    "duration": 52,
    "start_time": "2025-07-23T14:10:27.332Z"
   },
   {
    "duration": 177,
    "start_time": "2025-07-23T14:10:35.514Z"
   },
   {
    "duration": 7,
    "start_time": "2025-07-23T14:19:45.807Z"
   },
   {
    "duration": 4,
    "start_time": "2025-07-23T14:19:46.235Z"
   },
   {
    "duration": 150,
    "start_time": "2025-07-23T14:19:47.323Z"
   },
   {
    "duration": 11,
    "start_time": "2025-07-23T14:20:11.201Z"
   },
   {
    "duration": 925044,
    "start_time": "2025-07-23T14:20:15.171Z"
   },
   {
    "duration": 1523,
    "start_time": "2025-07-23T14:36:32.494Z"
   },
   {
    "duration": 4,
    "start_time": "2025-07-23T14:36:34.019Z"
   },
   {
    "duration": 1111,
    "start_time": "2025-07-23T14:36:34.024Z"
   },
   {
    "duration": 7,
    "start_time": "2025-07-23T14:36:35.137Z"
   },
   {
    "duration": 188,
    "start_time": "2025-07-23T14:36:35.146Z"
   },
   {
    "duration": 3,
    "start_time": "2025-07-23T14:36:35.336Z"
   },
   {
    "duration": 4941,
    "start_time": "2025-07-23T14:36:35.340Z"
   },
   {
    "duration": 29432,
    "start_time": "2025-07-23T14:36:40.282Z"
   },
   {
    "duration": 126,
    "start_time": "2025-07-23T14:37:09.716Z"
   },
   {
    "duration": 5,
    "start_time": "2025-07-23T14:37:09.844Z"
   },
   {
    "duration": 29,
    "start_time": "2025-07-23T14:37:09.851Z"
   },
   {
    "duration": 866083,
    "start_time": "2025-07-23T14:37:09.883Z"
   },
   {
    "duration": 387556,
    "start_time": "2025-07-23T14:51:35.969Z"
   },
   {
    "duration": 0,
    "start_time": "2025-07-23T14:58:03.527Z"
   },
   {
    "duration": 66558,
    "start_time": "2025-07-23T14:58:07.128Z"
   },
   {
    "duration": 127402,
    "start_time": "2025-07-23T14:59:48.114Z"
   },
   {
    "duration": 1424,
    "start_time": "2025-07-23T15:21:40.881Z"
   },
   {
    "duration": 5,
    "start_time": "2025-07-23T15:21:42.307Z"
   },
   {
    "duration": 1012,
    "start_time": "2025-07-23T15:21:42.314Z"
   },
   {
    "duration": 9,
    "start_time": "2025-07-23T15:21:43.328Z"
   },
   {
    "duration": 186,
    "start_time": "2025-07-23T15:21:43.339Z"
   },
   {
    "duration": 4,
    "start_time": "2025-07-23T15:21:43.527Z"
   },
   {
    "duration": 4751,
    "start_time": "2025-07-23T15:21:43.532Z"
   },
   {
    "duration": 31113,
    "start_time": "2025-07-23T15:21:48.285Z"
   },
   {
    "duration": 136,
    "start_time": "2025-07-23T15:22:19.400Z"
   },
   {
    "duration": 5,
    "start_time": "2025-07-23T15:22:19.537Z"
   },
   {
    "duration": 6,
    "start_time": "2025-07-23T15:22:19.544Z"
   },
   {
    "duration": 844432,
    "start_time": "2025-07-23T15:22:19.551Z"
   },
   {
    "duration": 12650727,
    "start_time": "2025-07-23T15:36:23.984Z"
   },
   {
    "duration": 129669,
    "start_time": "2025-07-23T19:07:14.715Z"
   },
   {
    "duration": 1842,
    "start_time": "2025-07-24T06:11:05.910Z"
   },
   {
    "duration": 4,
    "start_time": "2025-07-24T06:11:07.754Z"
   },
   {
    "duration": 1177,
    "start_time": "2025-07-24T06:11:07.760Z"
   },
   {
    "duration": 8,
    "start_time": "2025-07-24T06:11:08.939Z"
   },
   {
    "duration": 203,
    "start_time": "2025-07-24T06:11:08.949Z"
   },
   {
    "duration": 4,
    "start_time": "2025-07-24T06:11:09.154Z"
   },
   {
    "duration": 5750,
    "start_time": "2025-07-24T06:11:09.160Z"
   },
   {
    "duration": 36099,
    "start_time": "2025-07-24T06:11:14.912Z"
   },
   {
    "duration": 150,
    "start_time": "2025-07-24T06:11:51.013Z"
   },
   {
    "duration": 4,
    "start_time": "2025-07-24T06:11:51.165Z"
   },
   {
    "duration": 87,
    "start_time": "2025-07-24T06:11:51.171Z"
   },
   {
    "duration": 917397,
    "start_time": "2025-07-24T06:11:51.259Z"
   },
   {
    "duration": 1609,
    "start_time": "2025-07-24T13:24:45.689Z"
   },
   {
    "duration": 5,
    "start_time": "2025-07-24T13:24:47.300Z"
   },
   {
    "duration": 1172,
    "start_time": "2025-07-24T13:24:47.306Z"
   },
   {
    "duration": 17,
    "start_time": "2025-07-24T13:24:48.479Z"
   },
   {
    "duration": 226,
    "start_time": "2025-07-24T13:24:48.498Z"
   },
   {
    "duration": 4,
    "start_time": "2025-07-24T13:24:48.725Z"
   },
   {
    "duration": 5232,
    "start_time": "2025-07-24T13:24:48.730Z"
   },
   {
    "duration": 33046,
    "start_time": "2025-07-24T13:24:53.964Z"
   },
   {
    "duration": 136,
    "start_time": "2025-07-24T13:25:27.011Z"
   },
   {
    "duration": 5,
    "start_time": "2025-07-24T13:25:27.149Z"
   },
   {
    "duration": 24,
    "start_time": "2025-07-24T13:25:27.155Z"
   },
   {
    "duration": 926517,
    "start_time": "2025-07-24T13:25:27.181Z"
   },
   {
    "duration": 24418873,
    "start_time": "2025-07-24T13:40:53.700Z"
   },
   {
    "duration": 127748,
    "start_time": "2025-07-24T20:27:52.575Z"
   },
   {
    "duration": 1642,
    "start_time": "2025-07-25T06:30:25.312Z"
   },
   {
    "duration": 3,
    "start_time": "2025-07-25T06:30:26.956Z"
   },
   {
    "duration": 1296,
    "start_time": "2025-07-25T06:30:26.961Z"
   },
   {
    "duration": 10,
    "start_time": "2025-07-25T06:30:28.258Z"
   },
   {
    "duration": 209,
    "start_time": "2025-07-25T06:30:28.271Z"
   },
   {
    "duration": 4,
    "start_time": "2025-07-25T06:30:28.482Z"
   },
   {
    "duration": 14,
    "start_time": "2025-07-25T06:30:28.488Z"
   },
   {
    "duration": 152,
    "start_time": "2025-07-25T06:30:28.504Z"
   },
   {
    "duration": 4,
    "start_time": "2025-07-25T06:30:28.658Z"
   },
   {
    "duration": 79,
    "start_time": "2025-07-25T06:30:28.664Z"
   },
   {
    "duration": 788360,
    "start_time": "2025-07-25T06:30:28.745Z"
   },
   {
    "duration": 254209,
    "start_time": "2025-07-25T06:43:37.107Z"
   },
   {
    "duration": 4539,
    "start_time": "2025-07-25T06:54:53.105Z"
   },
   {
    "duration": 1678,
    "start_time": "2025-07-25T06:56:42.212Z"
   },
   {
    "duration": 3,
    "start_time": "2025-07-25T06:56:43.892Z"
   },
   {
    "duration": 993,
    "start_time": "2025-07-25T06:56:43.896Z"
   },
   {
    "duration": 7,
    "start_time": "2025-07-25T06:56:44.890Z"
   },
   {
    "duration": 187,
    "start_time": "2025-07-25T06:56:44.899Z"
   },
   {
    "duration": 3,
    "start_time": "2025-07-25T06:56:45.087Z"
   },
   {
    "duration": 22,
    "start_time": "2025-07-25T06:56:45.091Z"
   },
   {
    "duration": 132,
    "start_time": "2025-07-25T06:56:45.115Z"
   },
   {
    "duration": 4,
    "start_time": "2025-07-25T06:56:45.249Z"
   },
   {
    "duration": 98,
    "start_time": "2025-07-25T06:56:45.261Z"
   },
   {
    "duration": 1722,
    "start_time": "2025-07-25T06:59:47.038Z"
   },
   {
    "duration": 11,
    "start_time": "2025-07-25T06:59:48.763Z"
   },
   {
    "duration": 1267,
    "start_time": "2025-07-25T06:59:48.783Z"
   },
   {
    "duration": 24,
    "start_time": "2025-07-25T06:59:50.053Z"
   },
   {
    "duration": 260,
    "start_time": "2025-07-25T06:59:50.084Z"
   },
   {
    "duration": 3,
    "start_time": "2025-07-25T06:59:50.346Z"
   },
   {
    "duration": 24,
    "start_time": "2025-07-25T06:59:50.351Z"
   },
   {
    "duration": 152,
    "start_time": "2025-07-25T06:59:50.377Z"
   },
   {
    "duration": 4,
    "start_time": "2025-07-25T06:59:50.531Z"
   },
   {
    "duration": 54,
    "start_time": "2025-07-25T06:59:50.537Z"
   },
   {
    "duration": 850739,
    "start_time": "2025-07-25T06:59:50.592Z"
   },
   {
    "duration": 260724,
    "start_time": "2025-07-25T07:14:01.332Z"
   },
   {
    "duration": 25230487,
    "start_time": "2025-07-25T07:18:22.057Z"
   },
   {
    "duration": 4838,
    "start_time": "2025-07-25T14:18:52.547Z"
   },
   {
    "duration": 8363,
    "start_time": "2025-07-25T14:24:56.787Z"
   }
  ],
  "kernelspec": {
   "display_name": "Python 3 (ipykernel)",
   "language": "python",
   "name": "python3"
  },
  "language_info": {
   "codemirror_mode": {
    "name": "ipython",
    "version": 3
   },
   "file_extension": ".py",
   "mimetype": "text/x-python",
   "name": "python",
   "nbconvert_exporter": "python",
   "pygments_lexer": "ipython3",
   "version": "3.9.18"
  },
  "toc": {
   "base_numbering": 1,
   "nav_menu": {},
   "number_sections": true,
   "sideBar": true,
   "skip_h1_title": true,
   "title_cell": "Содержание",
   "title_sidebar": "Contents",
   "toc_cell": true,
   "toc_position": {
    "height": "calc(100% - 180px)",
    "left": "10px",
    "top": "150px",
    "width": "302.391px"
   },
   "toc_section_display": true,
   "toc_window_display": false
  }
 },
 "nbformat": 4,
 "nbformat_minor": 2
}
