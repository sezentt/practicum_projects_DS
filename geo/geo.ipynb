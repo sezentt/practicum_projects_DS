{
 "cells": [
  {
   "cell_type": "markdown",
   "metadata": {},
   "source": [
    "# Выбор локации для скважины"
   ]
  },
  {
   "cell_type": "markdown",
   "metadata": {},
   "source": [
    "Допустим, мы работаем в добывающей компании «ГлавРосГосНефть». Нужно решить, где бурить новую скважину.\n",
    "\n",
    "Нам предоставлены пробы нефти в трёх регионах: в каждом 100 000 месторождений, где измерили качество нефти и объём её запасов. Построим модель машинного обучения, которая поможет определить регион, где добыча принесёт наибольшую прибыль. Проанализируем возможную прибыль и риски техникой *Bootstrap.*\n",
    "\n",
    "Шаги для выбора локации:\n",
    "\n",
    "- В избранном регионе ищут месторождения, для каждого определяют значения признаков;\n",
    "- Строят модель и оценивают объём запасов;\n",
    "- Выбирают месторождения с самым высокими оценками значений. Количество месторождений зависит от бюджета компании и стоимости разработки одной скважины;\n",
    "- Прибыль равна суммарной прибыли отобранных месторождений."
   ]
  },
  {
   "cell_type": "markdown",
   "metadata": {},
   "source": [
    "Описание данных:\n",
    "- `id` — уникальный идентификатор скважины;\n",
    "- `f0`, `f1`, `f2` — три признака точек (неважно, что они означают, но сами признаки значимы);\n",
    "- `product` — объём запасов в скважине (тыс. баррелей)."
   ]
  },
  {
   "cell_type": "markdown",
   "metadata": {},
   "source": [
    "Дополнительные условия:\n",
    "- Для обучения модели подходит только линейная регрессия (остальные — недостаточно предсказуемые).\n",
    "- При разведке региона исследуют 500 точек, из которых с помощью машинного обучения выбирают 200 лучших для разработки.\n",
    "- Бюджет на разработку скважин в регионе — 10 млрд рублей.\n",
    "- При нынешних ценах один баррель сырья приносит 450 рублей дохода. Доход с каждой единицы продукта составляет 450 тыс. рублей, поскольку объём указан в тысячах баррелей.\n",
    "- После оценки рисков нужно оставить лишь те регионы, в которых вероятность убытков меньше 2.5%. Среди них выбирают регион с наибольшей средней прибылью."
   ]
  },
  {
   "cell_type": "markdown",
   "metadata": {},
   "source": [
    "## Загрузка и просмотр данных"
   ]
  },
  {
   "cell_type": "markdown",
   "metadata": {},
   "source": [
    "Загрузим датасеты, сохраним их в датафреймы и изучим общую информацию о данных."
   ]
  },
  {
   "cell_type": "code",
   "execution_count": 1,
   "metadata": {},
   "outputs": [],
   "source": [
    "# Подключение всех необходимых библиотек\n",
    "import os\n",
    "import pandas as pd\n",
    "import numpy as np\n",
    "import matplotlib.pyplot as plt\n",
    "import seaborn as sns\n",
    "\n",
    "# Настройка pandas для отображения полного текста\n",
    "pd.set_option('display.max_colwidth', None)\n",
    "\n",
    "# Задаем стиль графиков\n",
    "sns.set(style=\"whitegrid\")\n",
    "\n",
    "# ML\n",
    "from sklearn.pipeline import Pipeline\n",
    "from sklearn.compose import ColumnTransformer\n",
    "from sklearn.preprocessing import StandardScaler\n",
    "from sklearn.linear_model import Ridge, Lasso, LinearRegression\n",
    "from sklearn.model_selection import train_test_split, GridSearchCV\n",
    "from sklearn.metrics import mean_absolute_error, mean_squared_error, r2_score"
   ]
  },
  {
   "cell_type": "code",
   "execution_count": 2,
   "metadata": {},
   "outputs": [],
   "source": [
    "# Загружает CSV-файл и выводит случайные строки и общую информацию\n",
    "def load_and_inspect_csv(filepath, delimiter=',', sample_size=5):\n",
    "    if os.path.exists(filepath):\n",
    "        df = pd.read_csv(filepath, delimiter=delimiter)\n",
    "        print(f\"Файл успешно загружен: {filepath}\")\n",
    "        display(df.sample(sample_size, random_state=42))\n",
    "        df.info()\n",
    "        return df\n",
    "    else:\n",
    "        print(f\"Файл не найден: {filepath}\")\n",
    "        return None"
   ]
  },
  {
   "cell_type": "code",
   "execution_count": 3,
   "metadata": {},
   "outputs": [
    {
     "name": "stdout",
     "output_type": "stream",
     "text": [
      "Файл успешно загружен: /datasets/geo_data_0.csv\n"
     ]
    },
    {
     "data": {
      "text/html": [
       "<div>\n",
       "<style scoped>\n",
       "    .dataframe tbody tr th:only-of-type {\n",
       "        vertical-align: middle;\n",
       "    }\n",
       "\n",
       "    .dataframe tbody tr th {\n",
       "        vertical-align: top;\n",
       "    }\n",
       "\n",
       "    .dataframe thead th {\n",
       "        text-align: right;\n",
       "    }\n",
       "</style>\n",
       "<table border=\"1\" class=\"dataframe\">\n",
       "  <thead>\n",
       "    <tr style=\"text-align: right;\">\n",
       "      <th></th>\n",
       "      <th>id</th>\n",
       "      <th>f0</th>\n",
       "      <th>f1</th>\n",
       "      <th>f2</th>\n",
       "      <th>product</th>\n",
       "    </tr>\n",
       "  </thead>\n",
       "  <tbody>\n",
       "    <tr>\n",
       "      <th>75721</th>\n",
       "      <td>7C6bA</td>\n",
       "      <td>0.599283</td>\n",
       "      <td>-0.557623</td>\n",
       "      <td>2.121187</td>\n",
       "      <td>122.073350</td>\n",
       "    </tr>\n",
       "    <tr>\n",
       "      <th>80184</th>\n",
       "      <td>dVxsn</td>\n",
       "      <td>0.739017</td>\n",
       "      <td>-0.463156</td>\n",
       "      <td>-1.347584</td>\n",
       "      <td>48.738540</td>\n",
       "    </tr>\n",
       "    <tr>\n",
       "      <th>19864</th>\n",
       "      <td>1Gm3l</td>\n",
       "      <td>1.422743</td>\n",
       "      <td>-0.534917</td>\n",
       "      <td>3.718798</td>\n",
       "      <td>131.338088</td>\n",
       "    </tr>\n",
       "    <tr>\n",
       "      <th>76699</th>\n",
       "      <td>Nzg1t</td>\n",
       "      <td>1.580244</td>\n",
       "      <td>-0.238458</td>\n",
       "      <td>2.805149</td>\n",
       "      <td>88.327757</td>\n",
       "    </tr>\n",
       "    <tr>\n",
       "      <th>92991</th>\n",
       "      <td>Z7b4F</td>\n",
       "      <td>0.918974</td>\n",
       "      <td>0.023961</td>\n",
       "      <td>2.598575</td>\n",
       "      <td>36.959266</td>\n",
       "    </tr>\n",
       "  </tbody>\n",
       "</table>\n",
       "</div>"
      ],
      "text/plain": [
       "          id        f0        f1        f2     product\n",
       "75721  7C6bA  0.599283 -0.557623  2.121187  122.073350\n",
       "80184  dVxsn  0.739017 -0.463156 -1.347584   48.738540\n",
       "19864  1Gm3l  1.422743 -0.534917  3.718798  131.338088\n",
       "76699  Nzg1t  1.580244 -0.238458  2.805149   88.327757\n",
       "92991  Z7b4F  0.918974  0.023961  2.598575   36.959266"
      ]
     },
     "metadata": {},
     "output_type": "display_data"
    },
    {
     "name": "stdout",
     "output_type": "stream",
     "text": [
      "<class 'pandas.core.frame.DataFrame'>\n",
      "RangeIndex: 100000 entries, 0 to 99999\n",
      "Data columns (total 5 columns):\n",
      " #   Column   Non-Null Count   Dtype  \n",
      "---  ------   --------------   -----  \n",
      " 0   id       100000 non-null  object \n",
      " 1   f0       100000 non-null  float64\n",
      " 2   f1       100000 non-null  float64\n",
      " 3   f2       100000 non-null  float64\n",
      " 4   product  100000 non-null  float64\n",
      "dtypes: float64(4), object(1)\n",
      "memory usage: 3.8+ MB\n"
     ]
    }
   ],
   "source": [
    "# Первый регион\n",
    "geo_data_0 = load_and_inspect_csv('/datasets/geo_data_0.csv')"
   ]
  },
  {
   "cell_type": "code",
   "execution_count": 4,
   "metadata": {},
   "outputs": [
    {
     "name": "stdout",
     "output_type": "stream",
     "text": [
      "Файл успешно загружен: /datasets/geo_data_1.csv\n"
     ]
    },
    {
     "data": {
      "text/html": [
       "<div>\n",
       "<style scoped>\n",
       "    .dataframe tbody tr th:only-of-type {\n",
       "        vertical-align: middle;\n",
       "    }\n",
       "\n",
       "    .dataframe tbody tr th {\n",
       "        vertical-align: top;\n",
       "    }\n",
       "\n",
       "    .dataframe thead th {\n",
       "        text-align: right;\n",
       "    }\n",
       "</style>\n",
       "<table border=\"1\" class=\"dataframe\">\n",
       "  <thead>\n",
       "    <tr style=\"text-align: right;\">\n",
       "      <th></th>\n",
       "      <th>id</th>\n",
       "      <th>f0</th>\n",
       "      <th>f1</th>\n",
       "      <th>f2</th>\n",
       "      <th>product</th>\n",
       "    </tr>\n",
       "  </thead>\n",
       "  <tbody>\n",
       "    <tr>\n",
       "      <th>75721</th>\n",
       "      <td>fYVDK</td>\n",
       "      <td>6.078076</td>\n",
       "      <td>0.084568</td>\n",
       "      <td>0.002957</td>\n",
       "      <td>0.000000</td>\n",
       "    </tr>\n",
       "    <tr>\n",
       "      <th>80184</th>\n",
       "      <td>3SQcq</td>\n",
       "      <td>16.462386</td>\n",
       "      <td>2.712946</td>\n",
       "      <td>1.993030</td>\n",
       "      <td>53.906522</td>\n",
       "    </tr>\n",
       "    <tr>\n",
       "      <th>19864</th>\n",
       "      <td>hQ1gJ</td>\n",
       "      <td>7.051898</td>\n",
       "      <td>0.766983</td>\n",
       "      <td>4.990194</td>\n",
       "      <td>134.766305</td>\n",
       "    </tr>\n",
       "    <tr>\n",
       "      <th>76699</th>\n",
       "      <td>Y4vux</td>\n",
       "      <td>-0.240045</td>\n",
       "      <td>-0.380804</td>\n",
       "      <td>3.999693</td>\n",
       "      <td>107.813044</td>\n",
       "    </tr>\n",
       "    <tr>\n",
       "      <th>92991</th>\n",
       "      <td>H1NUw</td>\n",
       "      <td>13.350111</td>\n",
       "      <td>-8.558281</td>\n",
       "      <td>0.002010</td>\n",
       "      <td>0.000000</td>\n",
       "    </tr>\n",
       "  </tbody>\n",
       "</table>\n",
       "</div>"
      ],
      "text/plain": [
       "          id         f0        f1        f2     product\n",
       "75721  fYVDK   6.078076  0.084568  0.002957    0.000000\n",
       "80184  3SQcq  16.462386  2.712946  1.993030   53.906522\n",
       "19864  hQ1gJ   7.051898  0.766983  4.990194  134.766305\n",
       "76699  Y4vux  -0.240045 -0.380804  3.999693  107.813044\n",
       "92991  H1NUw  13.350111 -8.558281  0.002010    0.000000"
      ]
     },
     "metadata": {},
     "output_type": "display_data"
    },
    {
     "name": "stdout",
     "output_type": "stream",
     "text": [
      "<class 'pandas.core.frame.DataFrame'>\n",
      "RangeIndex: 100000 entries, 0 to 99999\n",
      "Data columns (total 5 columns):\n",
      " #   Column   Non-Null Count   Dtype  \n",
      "---  ------   --------------   -----  \n",
      " 0   id       100000 non-null  object \n",
      " 1   f0       100000 non-null  float64\n",
      " 2   f1       100000 non-null  float64\n",
      " 3   f2       100000 non-null  float64\n",
      " 4   product  100000 non-null  float64\n",
      "dtypes: float64(4), object(1)\n",
      "memory usage: 3.8+ MB\n"
     ]
    }
   ],
   "source": [
    "# Второй регион\n",
    "geo_data_1 = load_and_inspect_csv('/datasets/geo_data_1.csv')"
   ]
  },
  {
   "cell_type": "code",
   "execution_count": 5,
   "metadata": {},
   "outputs": [
    {
     "name": "stdout",
     "output_type": "stream",
     "text": [
      "Файл успешно загружен: /datasets/geo_data_2.csv\n"
     ]
    },
    {
     "data": {
      "text/html": [
       "<div>\n",
       "<style scoped>\n",
       "    .dataframe tbody tr th:only-of-type {\n",
       "        vertical-align: middle;\n",
       "    }\n",
       "\n",
       "    .dataframe tbody tr th {\n",
       "        vertical-align: top;\n",
       "    }\n",
       "\n",
       "    .dataframe thead th {\n",
       "        text-align: right;\n",
       "    }\n",
       "</style>\n",
       "<table border=\"1\" class=\"dataframe\">\n",
       "  <thead>\n",
       "    <tr style=\"text-align: right;\">\n",
       "      <th></th>\n",
       "      <th>id</th>\n",
       "      <th>f0</th>\n",
       "      <th>f1</th>\n",
       "      <th>f2</th>\n",
       "      <th>product</th>\n",
       "    </tr>\n",
       "  </thead>\n",
       "  <tbody>\n",
       "    <tr>\n",
       "      <th>75721</th>\n",
       "      <td>sPjbT</td>\n",
       "      <td>2.111118</td>\n",
       "      <td>-1.679773</td>\n",
       "      <td>3.112240</td>\n",
       "      <td>117.441301</td>\n",
       "    </tr>\n",
       "    <tr>\n",
       "      <th>80184</th>\n",
       "      <td>1u4uo</td>\n",
       "      <td>0.734759</td>\n",
       "      <td>0.747788</td>\n",
       "      <td>3.670879</td>\n",
       "      <td>47.841249</td>\n",
       "    </tr>\n",
       "    <tr>\n",
       "      <th>19864</th>\n",
       "      <td>kZ6HO</td>\n",
       "      <td>-2.513109</td>\n",
       "      <td>0.844631</td>\n",
       "      <td>-4.922889</td>\n",
       "      <td>45.883483</td>\n",
       "    </tr>\n",
       "    <tr>\n",
       "      <th>76699</th>\n",
       "      <td>gCZGK</td>\n",
       "      <td>-2.035301</td>\n",
       "      <td>-1.522988</td>\n",
       "      <td>5.072839</td>\n",
       "      <td>139.014608</td>\n",
       "    </tr>\n",
       "    <tr>\n",
       "      <th>92991</th>\n",
       "      <td>rqJHx</td>\n",
       "      <td>2.744145</td>\n",
       "      <td>1.429952</td>\n",
       "      <td>-1.372661</td>\n",
       "      <td>84.004276</td>\n",
       "    </tr>\n",
       "  </tbody>\n",
       "</table>\n",
       "</div>"
      ],
      "text/plain": [
       "          id        f0        f1        f2     product\n",
       "75721  sPjbT  2.111118 -1.679773  3.112240  117.441301\n",
       "80184  1u4uo  0.734759  0.747788  3.670879   47.841249\n",
       "19864  kZ6HO -2.513109  0.844631 -4.922889   45.883483\n",
       "76699  gCZGK -2.035301 -1.522988  5.072839  139.014608\n",
       "92991  rqJHx  2.744145  1.429952 -1.372661   84.004276"
      ]
     },
     "metadata": {},
     "output_type": "display_data"
    },
    {
     "name": "stdout",
     "output_type": "stream",
     "text": [
      "<class 'pandas.core.frame.DataFrame'>\n",
      "RangeIndex: 100000 entries, 0 to 99999\n",
      "Data columns (total 5 columns):\n",
      " #   Column   Non-Null Count   Dtype  \n",
      "---  ------   --------------   -----  \n",
      " 0   id       100000 non-null  object \n",
      " 1   f0       100000 non-null  float64\n",
      " 2   f1       100000 non-null  float64\n",
      " 3   f2       100000 non-null  float64\n",
      " 4   product  100000 non-null  float64\n",
      "dtypes: float64(4), object(1)\n",
      "memory usage: 3.8+ MB\n"
     ]
    }
   ],
   "source": [
    "# Третий регион\n",
    "geo_data_2 = load_and_inspect_csv('/datasets/geo_data_2.csv')"
   ]
  },
  {
   "cell_type": "markdown",
   "metadata": {},
   "source": [
    "Все три датасета содержат по 100 000 строк и 5 столбцов: уникальный идентификатор скважины (`id`), три числовых признака (`f0`, `f1`, `f2`) и целевую переменную (`product`), выраженную в тысячах баррелей. Пропущенные значения отсутствуют, типы данных корректны: признаки представлены как `float64`, идентификаторы – как `object`. Перед обучением модели необходимо проверить наличие полных дубликатов строк и дубликатов по столбцу `id`."
   ]
  },
  {
   "cell_type": "markdown",
   "metadata": {},
   "source": [
    "## Предобработка данных"
   ]
  },
  {
   "cell_type": "markdown",
   "metadata": {},
   "source": [
    "Работу со стобцами выполнять не нужно - названия уже в змеином формате, типы данных корректны.\n",
    "\n",
    "Хоть мы и заметили, что пропусков нет, убедимся в этом явно."
   ]
  },
  {
   "cell_type": "code",
   "execution_count": 6,
   "metadata": {},
   "outputs": [],
   "source": [
    "# Определяет пропущенные значения и выводит строки с ними\n",
    "def analyze_missing_values(df):\n",
    "    missing_counts = df.isna().sum()\n",
    "    missing_counts = missing_counts[missing_counts > 0]\n",
    "    \n",
    "    if missing_counts.empty:\n",
    "        print(\"Пропущенные значения отсутствуют.\")\n",
    "    else:\n",
    "        print(\"Число пропусков по столбцам:\")\n",
    "        display(missing_counts)\n",
    "        print(\"\\nСтроки с пропущенными значениями:\")\n",
    "        display(df[df.isna().any(axis=1)])"
   ]
  },
  {
   "cell_type": "code",
   "execution_count": 7,
   "metadata": {},
   "outputs": [
    {
     "name": "stdout",
     "output_type": "stream",
     "text": [
      "Пропущенные значения отсутствуют.\n",
      "Пропущенные значения отсутствуют.\n",
      "Пропущенные значения отсутствуют.\n"
     ]
    }
   ],
   "source": [
    "for df in [geo_data_0, geo_data_1, geo_data_2]:\n",
    "    analyze_missing_values(df)"
   ]
  },
  {
   "cell_type": "markdown",
   "metadata": {},
   "source": [
    "Теперь проверим дубли."
   ]
  },
  {
   "cell_type": "code",
   "execution_count": 8,
   "metadata": {},
   "outputs": [],
   "source": [
    "def analyze_duplicates(df, subset=None):\n",
    "    # Маска дубликатов (все, кроме первого вхождения)\n",
    "    duplicate_mask = df.duplicated(subset=subset, keep='first')\n",
    "    \n",
    "    if not duplicate_mask.any():\n",
    "        print(\"Дубликаты отсутствуют.\")\n",
    "        return\n",
    "    \n",
    "    col_info = f\"по столбцам: {subset}\" if subset else \"по всем столбцам\"\n",
    "    print(f\"Найдено дубликатов ({col_info}): {duplicate_mask.sum()}\")\n",
    "\n",
    "    # Получаем все строки-дубликаты и их первые оригиналы\n",
    "    duplicates = df[duplicate_mask]\n",
    "    first_occurrences = df[df.duplicated(subset=subset, keep='last')]\n",
    "\n",
    "    # Объединяем для сравнения\n",
    "    combined = pd.concat([first_occurrences, duplicates]).sort_index()\n",
    "    \n",
    "    display(combined)"
   ]
  },
  {
   "cell_type": "code",
   "execution_count": 9,
   "metadata": {},
   "outputs": [
    {
     "name": "stdout",
     "output_type": "stream",
     "text": [
      "Дубликаты отсутствуют.\n",
      "Найдено дубликатов (по столбцам: ['id']): 10\n"
     ]
    },
    {
     "data": {
      "text/html": [
       "<div>\n",
       "<style scoped>\n",
       "    .dataframe tbody tr th:only-of-type {\n",
       "        vertical-align: middle;\n",
       "    }\n",
       "\n",
       "    .dataframe tbody tr th {\n",
       "        vertical-align: top;\n",
       "    }\n",
       "\n",
       "    .dataframe thead th {\n",
       "        text-align: right;\n",
       "    }\n",
       "</style>\n",
       "<table border=\"1\" class=\"dataframe\">\n",
       "  <thead>\n",
       "    <tr style=\"text-align: right;\">\n",
       "      <th></th>\n",
       "      <th>id</th>\n",
       "      <th>f0</th>\n",
       "      <th>f1</th>\n",
       "      <th>f2</th>\n",
       "      <th>product</th>\n",
       "    </tr>\n",
       "  </thead>\n",
       "  <tbody>\n",
       "    <tr>\n",
       "      <th>931</th>\n",
       "      <td>HZww2</td>\n",
       "      <td>0.755284</td>\n",
       "      <td>0.368511</td>\n",
       "      <td>1.863211</td>\n",
       "      <td>30.681774</td>\n",
       "    </tr>\n",
       "    <tr>\n",
       "      <th>1364</th>\n",
       "      <td>bxg6G</td>\n",
       "      <td>0.411645</td>\n",
       "      <td>0.856830</td>\n",
       "      <td>-3.653440</td>\n",
       "      <td>73.604260</td>\n",
       "    </tr>\n",
       "    <tr>\n",
       "      <th>1949</th>\n",
       "      <td>QcMuo</td>\n",
       "      <td>0.506563</td>\n",
       "      <td>-0.323775</td>\n",
       "      <td>-2.215583</td>\n",
       "      <td>75.496502</td>\n",
       "    </tr>\n",
       "    <tr>\n",
       "      <th>3389</th>\n",
       "      <td>A5aEY</td>\n",
       "      <td>-0.039949</td>\n",
       "      <td>0.156872</td>\n",
       "      <td>0.209861</td>\n",
       "      <td>89.249364</td>\n",
       "    </tr>\n",
       "    <tr>\n",
       "      <th>7530</th>\n",
       "      <td>HZww2</td>\n",
       "      <td>1.061194</td>\n",
       "      <td>-0.373969</td>\n",
       "      <td>10.430210</td>\n",
       "      <td>158.828695</td>\n",
       "    </tr>\n",
       "    <tr>\n",
       "      <th>16633</th>\n",
       "      <td>fiKDv</td>\n",
       "      <td>0.157341</td>\n",
       "      <td>1.028359</td>\n",
       "      <td>5.585586</td>\n",
       "      <td>95.817889</td>\n",
       "    </tr>\n",
       "    <tr>\n",
       "      <th>21426</th>\n",
       "      <td>Tdehs</td>\n",
       "      <td>0.829407</td>\n",
       "      <td>0.298807</td>\n",
       "      <td>-0.049563</td>\n",
       "      <td>96.035308</td>\n",
       "    </tr>\n",
       "    <tr>\n",
       "      <th>41724</th>\n",
       "      <td>bxg6G</td>\n",
       "      <td>-0.823752</td>\n",
       "      <td>0.546319</td>\n",
       "      <td>3.630479</td>\n",
       "      <td>93.007798</td>\n",
       "    </tr>\n",
       "    <tr>\n",
       "      <th>42529</th>\n",
       "      <td>AGS9W</td>\n",
       "      <td>1.454747</td>\n",
       "      <td>-0.479651</td>\n",
       "      <td>0.683380</td>\n",
       "      <td>126.370504</td>\n",
       "    </tr>\n",
       "    <tr>\n",
       "      <th>51970</th>\n",
       "      <td>A5aEY</td>\n",
       "      <td>-0.180335</td>\n",
       "      <td>0.935548</td>\n",
       "      <td>-2.094773</td>\n",
       "      <td>33.020205</td>\n",
       "    </tr>\n",
       "    <tr>\n",
       "      <th>60140</th>\n",
       "      <td>TtcGQ</td>\n",
       "      <td>0.569276</td>\n",
       "      <td>-0.104876</td>\n",
       "      <td>6.440215</td>\n",
       "      <td>85.350186</td>\n",
       "    </tr>\n",
       "    <tr>\n",
       "      <th>63593</th>\n",
       "      <td>QcMuo</td>\n",
       "      <td>0.635635</td>\n",
       "      <td>-0.473422</td>\n",
       "      <td>0.862670</td>\n",
       "      <td>64.578675</td>\n",
       "    </tr>\n",
       "    <tr>\n",
       "      <th>64022</th>\n",
       "      <td>74z30</td>\n",
       "      <td>0.741456</td>\n",
       "      <td>0.459229</td>\n",
       "      <td>5.153109</td>\n",
       "      <td>140.771492</td>\n",
       "    </tr>\n",
       "    <tr>\n",
       "      <th>66136</th>\n",
       "      <td>74z30</td>\n",
       "      <td>1.084962</td>\n",
       "      <td>-0.312358</td>\n",
       "      <td>6.990771</td>\n",
       "      <td>127.643327</td>\n",
       "    </tr>\n",
       "    <tr>\n",
       "      <th>69163</th>\n",
       "      <td>AGS9W</td>\n",
       "      <td>-0.933795</td>\n",
       "      <td>0.116194</td>\n",
       "      <td>-3.655896</td>\n",
       "      <td>19.230453</td>\n",
       "    </tr>\n",
       "    <tr>\n",
       "      <th>75715</th>\n",
       "      <td>Tdehs</td>\n",
       "      <td>0.112079</td>\n",
       "      <td>0.430296</td>\n",
       "      <td>3.218993</td>\n",
       "      <td>60.964018</td>\n",
       "    </tr>\n",
       "    <tr>\n",
       "      <th>89582</th>\n",
       "      <td>bsk9y</td>\n",
       "      <td>0.398908</td>\n",
       "      <td>-0.400253</td>\n",
       "      <td>10.122376</td>\n",
       "      <td>163.433078</td>\n",
       "    </tr>\n",
       "    <tr>\n",
       "      <th>90815</th>\n",
       "      <td>fiKDv</td>\n",
       "      <td>0.049883</td>\n",
       "      <td>0.841313</td>\n",
       "      <td>6.394613</td>\n",
       "      <td>137.346586</td>\n",
       "    </tr>\n",
       "    <tr>\n",
       "      <th>92341</th>\n",
       "      <td>TtcGQ</td>\n",
       "      <td>0.110711</td>\n",
       "      <td>1.022689</td>\n",
       "      <td>0.911381</td>\n",
       "      <td>101.318008</td>\n",
       "    </tr>\n",
       "    <tr>\n",
       "      <th>97785</th>\n",
       "      <td>bsk9y</td>\n",
       "      <td>0.378429</td>\n",
       "      <td>0.005837</td>\n",
       "      <td>0.160827</td>\n",
       "      <td>160.637302</td>\n",
       "    </tr>\n",
       "  </tbody>\n",
       "</table>\n",
       "</div>"
      ],
      "text/plain": [
       "          id        f0        f1         f2     product\n",
       "931    HZww2  0.755284  0.368511   1.863211   30.681774\n",
       "1364   bxg6G  0.411645  0.856830  -3.653440   73.604260\n",
       "1949   QcMuo  0.506563 -0.323775  -2.215583   75.496502\n",
       "3389   A5aEY -0.039949  0.156872   0.209861   89.249364\n",
       "7530   HZww2  1.061194 -0.373969  10.430210  158.828695\n",
       "16633  fiKDv  0.157341  1.028359   5.585586   95.817889\n",
       "21426  Tdehs  0.829407  0.298807  -0.049563   96.035308\n",
       "41724  bxg6G -0.823752  0.546319   3.630479   93.007798\n",
       "42529  AGS9W  1.454747 -0.479651   0.683380  126.370504\n",
       "51970  A5aEY -0.180335  0.935548  -2.094773   33.020205\n",
       "60140  TtcGQ  0.569276 -0.104876   6.440215   85.350186\n",
       "63593  QcMuo  0.635635 -0.473422   0.862670   64.578675\n",
       "64022  74z30  0.741456  0.459229   5.153109  140.771492\n",
       "66136  74z30  1.084962 -0.312358   6.990771  127.643327\n",
       "69163  AGS9W -0.933795  0.116194  -3.655896   19.230453\n",
       "75715  Tdehs  0.112079  0.430296   3.218993   60.964018\n",
       "89582  bsk9y  0.398908 -0.400253  10.122376  163.433078\n",
       "90815  fiKDv  0.049883  0.841313   6.394613  137.346586\n",
       "92341  TtcGQ  0.110711  1.022689   0.911381  101.318008\n",
       "97785  bsk9y  0.378429  0.005837   0.160827  160.637302"
      ]
     },
     "metadata": {},
     "output_type": "display_data"
    }
   ],
   "source": [
    "# Первый регион\n",
    "# Проверка на полные дубликаты по всем признакам\n",
    "analyze_duplicates(geo_data_0)\n",
    "\n",
    "# Проверка на дубликаты по id\n",
    "analyze_duplicates(geo_data_0, subset=[\"id\"])"
   ]
  },
  {
   "cell_type": "code",
   "execution_count": 10,
   "metadata": {},
   "outputs": [
    {
     "name": "stdout",
     "output_type": "stream",
     "text": [
      "Дубликаты отсутствуют.\n",
      "Найдено дубликатов (по столбцам: ['id']): 4\n"
     ]
    },
    {
     "data": {
      "text/html": [
       "<div>\n",
       "<style scoped>\n",
       "    .dataframe tbody tr th:only-of-type {\n",
       "        vertical-align: middle;\n",
       "    }\n",
       "\n",
       "    .dataframe tbody tr th {\n",
       "        vertical-align: top;\n",
       "    }\n",
       "\n",
       "    .dataframe thead th {\n",
       "        text-align: right;\n",
       "    }\n",
       "</style>\n",
       "<table border=\"1\" class=\"dataframe\">\n",
       "  <thead>\n",
       "    <tr style=\"text-align: right;\">\n",
       "      <th></th>\n",
       "      <th>id</th>\n",
       "      <th>f0</th>\n",
       "      <th>f1</th>\n",
       "      <th>f2</th>\n",
       "      <th>product</th>\n",
       "    </tr>\n",
       "  </thead>\n",
       "  <tbody>\n",
       "    <tr>\n",
       "      <th>1305</th>\n",
       "      <td>LHZR0</td>\n",
       "      <td>11.170835</td>\n",
       "      <td>-1.945066</td>\n",
       "      <td>3.002872</td>\n",
       "      <td>80.859783</td>\n",
       "    </tr>\n",
       "    <tr>\n",
       "      <th>2721</th>\n",
       "      <td>bfPNe</td>\n",
       "      <td>-9.494442</td>\n",
       "      <td>-5.463692</td>\n",
       "      <td>4.006042</td>\n",
       "      <td>110.992147</td>\n",
       "    </tr>\n",
       "    <tr>\n",
       "      <th>5849</th>\n",
       "      <td>5ltQ6</td>\n",
       "      <td>-3.435401</td>\n",
       "      <td>-12.296043</td>\n",
       "      <td>1.999796</td>\n",
       "      <td>57.085625</td>\n",
       "    </tr>\n",
       "    <tr>\n",
       "      <th>41906</th>\n",
       "      <td>LHZR0</td>\n",
       "      <td>-8.989672</td>\n",
       "      <td>-4.286607</td>\n",
       "      <td>2.009139</td>\n",
       "      <td>57.085625</td>\n",
       "    </tr>\n",
       "    <tr>\n",
       "      <th>47591</th>\n",
       "      <td>wt4Uk</td>\n",
       "      <td>-9.091098</td>\n",
       "      <td>-8.109279</td>\n",
       "      <td>-0.002314</td>\n",
       "      <td>3.179103</td>\n",
       "    </tr>\n",
       "    <tr>\n",
       "      <th>82178</th>\n",
       "      <td>bfPNe</td>\n",
       "      <td>-6.202799</td>\n",
       "      <td>-4.820045</td>\n",
       "      <td>2.995107</td>\n",
       "      <td>84.038886</td>\n",
       "    </tr>\n",
       "    <tr>\n",
       "      <th>82873</th>\n",
       "      <td>wt4Uk</td>\n",
       "      <td>10.259972</td>\n",
       "      <td>-9.376355</td>\n",
       "      <td>4.994297</td>\n",
       "      <td>134.766305</td>\n",
       "    </tr>\n",
       "    <tr>\n",
       "      <th>84461</th>\n",
       "      <td>5ltQ6</td>\n",
       "      <td>18.213839</td>\n",
       "      <td>2.191999</td>\n",
       "      <td>3.993869</td>\n",
       "      <td>107.813044</td>\n",
       "    </tr>\n",
       "  </tbody>\n",
       "</table>\n",
       "</div>"
      ],
      "text/plain": [
       "          id         f0         f1        f2     product\n",
       "1305   LHZR0  11.170835  -1.945066  3.002872   80.859783\n",
       "2721   bfPNe  -9.494442  -5.463692  4.006042  110.992147\n",
       "5849   5ltQ6  -3.435401 -12.296043  1.999796   57.085625\n",
       "41906  LHZR0  -8.989672  -4.286607  2.009139   57.085625\n",
       "47591  wt4Uk  -9.091098  -8.109279 -0.002314    3.179103\n",
       "82178  bfPNe  -6.202799  -4.820045  2.995107   84.038886\n",
       "82873  wt4Uk  10.259972  -9.376355  4.994297  134.766305\n",
       "84461  5ltQ6  18.213839   2.191999  3.993869  107.813044"
      ]
     },
     "metadata": {},
     "output_type": "display_data"
    }
   ],
   "source": [
    "# Второй регион\n",
    "# Проверка на полные дубликаты по всем признакам\n",
    "analyze_duplicates(geo_data_1)\n",
    "\n",
    "# Проверка на дубликаты по id\n",
    "analyze_duplicates(geo_data_1, subset=[\"id\"])"
   ]
  },
  {
   "cell_type": "code",
   "execution_count": 11,
   "metadata": {},
   "outputs": [
    {
     "name": "stdout",
     "output_type": "stream",
     "text": [
      "Дубликаты отсутствуют.\n",
      "Найдено дубликатов (по столбцам: ['id']): 4\n"
     ]
    },
    {
     "data": {
      "text/html": [
       "<div>\n",
       "<style scoped>\n",
       "    .dataframe tbody tr th:only-of-type {\n",
       "        vertical-align: middle;\n",
       "    }\n",
       "\n",
       "    .dataframe tbody tr th {\n",
       "        vertical-align: top;\n",
       "    }\n",
       "\n",
       "    .dataframe thead th {\n",
       "        text-align: right;\n",
       "    }\n",
       "</style>\n",
       "<table border=\"1\" class=\"dataframe\">\n",
       "  <thead>\n",
       "    <tr style=\"text-align: right;\">\n",
       "      <th></th>\n",
       "      <th>id</th>\n",
       "      <th>f0</th>\n",
       "      <th>f1</th>\n",
       "      <th>f2</th>\n",
       "      <th>product</th>\n",
       "    </tr>\n",
       "  </thead>\n",
       "  <tbody>\n",
       "    <tr>\n",
       "      <th>11449</th>\n",
       "      <td>VF7Jo</td>\n",
       "      <td>2.122656</td>\n",
       "      <td>-0.858275</td>\n",
       "      <td>5.746001</td>\n",
       "      <td>181.716817</td>\n",
       "    </tr>\n",
       "    <tr>\n",
       "      <th>28039</th>\n",
       "      <td>xCHr8</td>\n",
       "      <td>1.633027</td>\n",
       "      <td>0.368135</td>\n",
       "      <td>-2.378367</td>\n",
       "      <td>6.120525</td>\n",
       "    </tr>\n",
       "    <tr>\n",
       "      <th>43233</th>\n",
       "      <td>xCHr8</td>\n",
       "      <td>-0.847066</td>\n",
       "      <td>2.101796</td>\n",
       "      <td>5.597130</td>\n",
       "      <td>184.388641</td>\n",
       "    </tr>\n",
       "    <tr>\n",
       "      <th>44378</th>\n",
       "      <td>Vcm5J</td>\n",
       "      <td>-1.229484</td>\n",
       "      <td>-2.439204</td>\n",
       "      <td>1.222909</td>\n",
       "      <td>137.968290</td>\n",
       "    </tr>\n",
       "    <tr>\n",
       "      <th>45404</th>\n",
       "      <td>KUPhW</td>\n",
       "      <td>0.231846</td>\n",
       "      <td>-1.698941</td>\n",
       "      <td>4.990775</td>\n",
       "      <td>11.716299</td>\n",
       "    </tr>\n",
       "    <tr>\n",
       "      <th>49564</th>\n",
       "      <td>VF7Jo</td>\n",
       "      <td>-0.883115</td>\n",
       "      <td>0.560537</td>\n",
       "      <td>0.723601</td>\n",
       "      <td>136.233420</td>\n",
       "    </tr>\n",
       "    <tr>\n",
       "      <th>55967</th>\n",
       "      <td>KUPhW</td>\n",
       "      <td>1.211150</td>\n",
       "      <td>3.176408</td>\n",
       "      <td>5.543540</td>\n",
       "      <td>132.831802</td>\n",
       "    </tr>\n",
       "    <tr>\n",
       "      <th>95090</th>\n",
       "      <td>Vcm5J</td>\n",
       "      <td>2.587702</td>\n",
       "      <td>1.986875</td>\n",
       "      <td>2.482245</td>\n",
       "      <td>92.327572</td>\n",
       "    </tr>\n",
       "  </tbody>\n",
       "</table>\n",
       "</div>"
      ],
      "text/plain": [
       "          id        f0        f1        f2     product\n",
       "11449  VF7Jo  2.122656 -0.858275  5.746001  181.716817\n",
       "28039  xCHr8  1.633027  0.368135 -2.378367    6.120525\n",
       "43233  xCHr8 -0.847066  2.101796  5.597130  184.388641\n",
       "44378  Vcm5J -1.229484 -2.439204  1.222909  137.968290\n",
       "45404  KUPhW  0.231846 -1.698941  4.990775   11.716299\n",
       "49564  VF7Jo -0.883115  0.560537  0.723601  136.233420\n",
       "55967  KUPhW  1.211150  3.176408  5.543540  132.831802\n",
       "95090  Vcm5J  2.587702  1.986875  2.482245   92.327572"
      ]
     },
     "metadata": {},
     "output_type": "display_data"
    }
   ],
   "source": [
    "# Третий регион\n",
    "# Проверка на полные дубликаты по всем признакам\n",
    "analyze_duplicates(geo_data_2)\n",
    "\n",
    "# Проверка на дубликаты по id\n",
    "analyze_duplicates(geo_data_2, subset=[\"id\"])"
   ]
  },
  {
   "cell_type": "markdown",
   "metadata": {},
   "source": [
    "Во всех трёх датасетах отсутствуют полные дубликаты строк. Однако были обнаружены дублирующиеся значения в столбце `id`: 10 в регионе 1, 4 в регионе 2 и 4 в регионе 3. При этом строки с одинаковыми `id` отличаются по признакам и целевой переменной, что исключает возможность их удаления как дубликатов. Поскольку столбец `id` не используется при моделировании и анализе признаков, он сохраняется в исходном виде. Это позволит при необходимости идентифицировать скважины после завершения анализа."
   ]
  },
  {
   "cell_type": "markdown",
   "metadata": {},
   "source": [
    "## Исследовательский анализ данных"
   ]
  },
  {
   "cell_type": "markdown",
   "metadata": {},
   "source": [
    "### Распределения признаков"
   ]
  },
  {
   "cell_type": "markdown",
   "metadata": {},
   "source": [
    "Проведем EDA - исследуем все признаки и сделаем выводы о том, как их нужно подготовить."
   ]
  },
  {
   "cell_type": "code",
   "execution_count": 12,
   "metadata": {},
   "outputs": [],
   "source": [
    "# Универсальная функция для первичного EDA\n",
    "def explore_dataframe(df, name):\n",
    "    print(f'--- Анализ таблицы: {name} ---\\n')\n",
    "\n",
    "    # Исключаем id из анализа\n",
    "    df = df.drop(columns=['id'], errors='ignore')\n",
    "\n",
    "    # Разделение признаков\n",
    "    numeric_cols = df.select_dtypes(include=['int64', 'float64']).columns.tolist()\n",
    "    categorical_cols = df.select_dtypes(include=['object', 'category']).columns.tolist()\n",
    "\n",
    "    discrete_cols = [\n",
    "        col for col in numeric_cols\n",
    "        if pd.api.types.is_integer_dtype(df[col]) and df[col].nunique() <= 20\n",
    "    ]\n",
    "    continuous_cols = [col for col in numeric_cols if col not in discrete_cols]\n",
    "\n",
    "    # Числовые признаки\n",
    "    print('Числовые признаки:\\n')\n",
    "    display(df[numeric_cols].describe().T)\n",
    "    print()\n",
    "\n",
    "    # Категориальные признаки\n",
    "    if categorical_cols:\n",
    "        print('Категориальные признаки:\\n')\n",
    "        cat_stats = []\n",
    "        for col in categorical_cols:\n",
    "            mode_val = df[col].mode()[0] if not df[col].mode().empty else None\n",
    "            cat_stats.append({\n",
    "                'Признак': col,\n",
    "                'Уникальных значений': df[col].nunique(),\n",
    "                'Мода': mode_val\n",
    "            })\n",
    "        display(pd.DataFrame(cat_stats))\n",
    "        print()\n",
    "\n",
    "    # Построение графиков\n",
    "    def plot_distributions(cols, plot_type, title):\n",
    "        n = len(cols)\n",
    "        cols_per_row = 2\n",
    "        rows = (n + cols_per_row - 1) // cols_per_row\n",
    "        fig, axes = plt.subplots(rows, cols_per_row, figsize=(14, 5 * rows))\n",
    "        axes = axes.flatten()\n",
    "\n",
    "        for i, col in enumerate(cols):\n",
    "            if plot_type == 'numeric':\n",
    "                sns.histplot(df[col], kde=True, ax=axes[i])\n",
    "            else:\n",
    "                sns.countplot(data=df, x=col, ax=axes[i], order=df[col].value_counts().index)\n",
    "                axes[i].tick_params(axis='x', rotation=45)\n",
    "            axes[i].set_title(col)\n",
    "\n",
    "        for j in range(i + 1, len(axes)):\n",
    "            fig.delaxes(axes[j])\n",
    "\n",
    "        fig.suptitle(f'{title} ({name})', fontsize=16)\n",
    "        plt.tight_layout()\n",
    "        plt.show()\n",
    "\n",
    "    if continuous_cols:\n",
    "        plot_distributions(continuous_cols, 'numeric', 'Распределение непрерывных числовых признаков')\n",
    "\n",
    "    if discrete_cols or categorical_cols:\n",
    "        plot_distributions(discrete_cols + categorical_cols, 'categorical', 'Распределение дискретных и категориальных признаков')"
   ]
  },
  {
   "cell_type": "code",
   "execution_count": 13,
   "metadata": {},
   "outputs": [
    {
     "name": "stdout",
     "output_type": "stream",
     "text": [
      "--- Анализ таблицы: First region ---\n",
      "\n",
      "Числовые признаки:\n",
      "\n"
     ]
    },
    {
     "data": {
      "text/html": [
       "<div>\n",
       "<style scoped>\n",
       "    .dataframe tbody tr th:only-of-type {\n",
       "        vertical-align: middle;\n",
       "    }\n",
       "\n",
       "    .dataframe tbody tr th {\n",
       "        vertical-align: top;\n",
       "    }\n",
       "\n",
       "    .dataframe thead th {\n",
       "        text-align: right;\n",
       "    }\n",
       "</style>\n",
       "<table border=\"1\" class=\"dataframe\">\n",
       "  <thead>\n",
       "    <tr style=\"text-align: right;\">\n",
       "      <th></th>\n",
       "      <th>count</th>\n",
       "      <th>mean</th>\n",
       "      <th>std</th>\n",
       "      <th>min</th>\n",
       "      <th>25%</th>\n",
       "      <th>50%</th>\n",
       "      <th>75%</th>\n",
       "      <th>max</th>\n",
       "    </tr>\n",
       "  </thead>\n",
       "  <tbody>\n",
       "    <tr>\n",
       "      <th>f0</th>\n",
       "      <td>100000.0</td>\n",
       "      <td>0.500419</td>\n",
       "      <td>0.871832</td>\n",
       "      <td>-1.408605</td>\n",
       "      <td>-0.072580</td>\n",
       "      <td>0.502360</td>\n",
       "      <td>1.073581</td>\n",
       "      <td>2.362331</td>\n",
       "    </tr>\n",
       "    <tr>\n",
       "      <th>f1</th>\n",
       "      <td>100000.0</td>\n",
       "      <td>0.250143</td>\n",
       "      <td>0.504433</td>\n",
       "      <td>-0.848218</td>\n",
       "      <td>-0.200881</td>\n",
       "      <td>0.250252</td>\n",
       "      <td>0.700646</td>\n",
       "      <td>1.343769</td>\n",
       "    </tr>\n",
       "    <tr>\n",
       "      <th>f2</th>\n",
       "      <td>100000.0</td>\n",
       "      <td>2.502647</td>\n",
       "      <td>3.248248</td>\n",
       "      <td>-12.088328</td>\n",
       "      <td>0.287748</td>\n",
       "      <td>2.515969</td>\n",
       "      <td>4.715088</td>\n",
       "      <td>16.003790</td>\n",
       "    </tr>\n",
       "    <tr>\n",
       "      <th>product</th>\n",
       "      <td>100000.0</td>\n",
       "      <td>92.500000</td>\n",
       "      <td>44.288691</td>\n",
       "      <td>0.000000</td>\n",
       "      <td>56.497507</td>\n",
       "      <td>91.849972</td>\n",
       "      <td>128.564089</td>\n",
       "      <td>185.364347</td>\n",
       "    </tr>\n",
       "  </tbody>\n",
       "</table>\n",
       "</div>"
      ],
      "text/plain": [
       "            count       mean        std        min        25%        50%  \\\n",
       "f0       100000.0   0.500419   0.871832  -1.408605  -0.072580   0.502360   \n",
       "f1       100000.0   0.250143   0.504433  -0.848218  -0.200881   0.250252   \n",
       "f2       100000.0   2.502647   3.248248 -12.088328   0.287748   2.515969   \n",
       "product  100000.0  92.500000  44.288691   0.000000  56.497507  91.849972   \n",
       "\n",
       "                75%         max  \n",
       "f0         1.073581    2.362331  \n",
       "f1         0.700646    1.343769  \n",
       "f2         4.715088   16.003790  \n",
       "product  128.564089  185.364347  "
      ]
     },
     "metadata": {},
     "output_type": "display_data"
    },
    {
     "name": "stdout",
     "output_type": "stream",
     "text": [
      "\n"
     ]
    },
    {
     "data": {
      "image/png": "[encoded data removed]",
      "text/plain": [
       "<Figure size 1008x720 with 4 Axes>"
      ]
     },
     "metadata": {},
     "output_type": "display_data"
    }
   ],
   "source": [
    "# Первый регион \n",
    "explore_dataframe(geo_data_0, \"First region\")"
   ]
  },
  {
   "cell_type": "markdown",
   "metadata": {},
   "source": [
    "Распределения признаков `f0` и `f1` имеют выраженную многомодальную структуру и находятся в пределах ограниченного диапазона. Признак `f2` распределён близко к нормальному, но с длинными хвостами. Целевая переменная `product` демонстрирует многомодальность и равномерное распределение по всему диапазону, что может быть результатом синтетической генерации. Среднее значение объёма запасов составляет 92.5 тыс. баррелей, разброс умеренный."
   ]
  },
  {
   "cell_type": "code",
   "execution_count": 14,
   "metadata": {},
   "outputs": [
    {
     "name": "stdout",
     "output_type": "stream",
     "text": [
      "--- Анализ таблицы: Second region ---\n",
      "\n",
      "Числовые признаки:\n",
      "\n"
     ]
    },
    {
     "data": {
      "text/html": [
       "<div>\n",
       "<style scoped>\n",
       "    .dataframe tbody tr th:only-of-type {\n",
       "        vertical-align: middle;\n",
       "    }\n",
       "\n",
       "    .dataframe tbody tr th {\n",
       "        vertical-align: top;\n",
       "    }\n",
       "\n",
       "    .dataframe thead th {\n",
       "        text-align: right;\n",
       "    }\n",
       "</style>\n",
       "<table border=\"1\" class=\"dataframe\">\n",
       "  <thead>\n",
       "    <tr style=\"text-align: right;\">\n",
       "      <th></th>\n",
       "      <th>count</th>\n",
       "      <th>mean</th>\n",
       "      <th>std</th>\n",
       "      <th>min</th>\n",
       "      <th>25%</th>\n",
       "      <th>50%</th>\n",
       "      <th>75%</th>\n",
       "      <th>max</th>\n",
       "    </tr>\n",
       "  </thead>\n",
       "  <tbody>\n",
       "    <tr>\n",
       "      <th>f0</th>\n",
       "      <td>100000.0</td>\n",
       "      <td>1.141296</td>\n",
       "      <td>8.965932</td>\n",
       "      <td>-31.609576</td>\n",
       "      <td>-6.298551</td>\n",
       "      <td>1.153055</td>\n",
       "      <td>8.621015</td>\n",
       "      <td>29.421755</td>\n",
       "    </tr>\n",
       "    <tr>\n",
       "      <th>f1</th>\n",
       "      <td>100000.0</td>\n",
       "      <td>-4.796579</td>\n",
       "      <td>5.119872</td>\n",
       "      <td>-26.358598</td>\n",
       "      <td>-8.267985</td>\n",
       "      <td>-4.813172</td>\n",
       "      <td>-1.332816</td>\n",
       "      <td>18.734063</td>\n",
       "    </tr>\n",
       "    <tr>\n",
       "      <th>f2</th>\n",
       "      <td>100000.0</td>\n",
       "      <td>2.494541</td>\n",
       "      <td>1.703572</td>\n",
       "      <td>-0.018144</td>\n",
       "      <td>1.000021</td>\n",
       "      <td>2.011479</td>\n",
       "      <td>3.999904</td>\n",
       "      <td>5.019721</td>\n",
       "    </tr>\n",
       "    <tr>\n",
       "      <th>product</th>\n",
       "      <td>100000.0</td>\n",
       "      <td>68.825000</td>\n",
       "      <td>45.944423</td>\n",
       "      <td>0.000000</td>\n",
       "      <td>26.953261</td>\n",
       "      <td>57.085625</td>\n",
       "      <td>107.813044</td>\n",
       "      <td>137.945408</td>\n",
       "    </tr>\n",
       "  </tbody>\n",
       "</table>\n",
       "</div>"
      ],
      "text/plain": [
       "            count       mean        std        min        25%        50%  \\\n",
       "f0       100000.0   1.141296   8.965932 -31.609576  -6.298551   1.153055   \n",
       "f1       100000.0  -4.796579   5.119872 -26.358598  -8.267985  -4.813172   \n",
       "f2       100000.0   2.494541   1.703572  -0.018144   1.000021   2.011479   \n",
       "product  100000.0  68.825000  45.944423   0.000000  26.953261  57.085625   \n",
       "\n",
       "                75%         max  \n",
       "f0         8.621015   29.421755  \n",
       "f1        -1.332816   18.734063  \n",
       "f2         3.999904    5.019721  \n",
       "product  107.813044  137.945408  "
      ]
     },
     "metadata": {},
     "output_type": "display_data"
    },
    {
     "name": "stdout",
     "output_type": "stream",
     "text": [
      "\n"
     ]
    },
    {
     "data": {
      "image/png": "[encoded data removed]",
      "text/plain": [
       "<Figure size 1008x720 with 4 Axes>"
      ]
     },
     "metadata": {},
     "output_type": "display_data"
    }
   ],
   "source": [
    "# Второй регион \n",
    "explore_dataframe(geo_data_1, \"Second region\")"
   ]
  },
  {
   "cell_type": "markdown",
   "metadata": {},
   "source": [
    "Распределения признаков в данном регионе наиболее нестабильны: `f0` и `f1` имеют значительно растянутые значения (от -30 до +30), а `f2` принимает ограниченное число фиксированных значений, что указывает на его дискретную природу. Распределение целевой переменной `product` также носит искусственный характер – значения разбиты на отдельные группы с явно выраженными пиками. Среднее значение объёма запасов ниже, чем в других регионах, и составляет около 68.8 тыс. баррелей."
   ]
  },
  {
   "cell_type": "code",
   "execution_count": 15,
   "metadata": {},
   "outputs": [
    {
     "name": "stdout",
     "output_type": "stream",
     "text": [
      "--- Анализ таблицы: Third region ---\n",
      "\n",
      "Числовые признаки:\n",
      "\n"
     ]
    },
    {
     "data": {
      "text/html": [
       "<div>\n",
       "<style scoped>\n",
       "    .dataframe tbody tr th:only-of-type {\n",
       "        vertical-align: middle;\n",
       "    }\n",
       "\n",
       "    .dataframe tbody tr th {\n",
       "        vertical-align: top;\n",
       "    }\n",
       "\n",
       "    .dataframe thead th {\n",
       "        text-align: right;\n",
       "    }\n",
       "</style>\n",
       "<table border=\"1\" class=\"dataframe\">\n",
       "  <thead>\n",
       "    <tr style=\"text-align: right;\">\n",
       "      <th></th>\n",
       "      <th>count</th>\n",
       "      <th>mean</th>\n",
       "      <th>std</th>\n",
       "      <th>min</th>\n",
       "      <th>25%</th>\n",
       "      <th>50%</th>\n",
       "      <th>75%</th>\n",
       "      <th>max</th>\n",
       "    </tr>\n",
       "  </thead>\n",
       "  <tbody>\n",
       "    <tr>\n",
       "      <th>f0</th>\n",
       "      <td>100000.0</td>\n",
       "      <td>0.002023</td>\n",
       "      <td>1.732045</td>\n",
       "      <td>-8.760004</td>\n",
       "      <td>-1.162288</td>\n",
       "      <td>0.009424</td>\n",
       "      <td>1.158535</td>\n",
       "      <td>7.238262</td>\n",
       "    </tr>\n",
       "    <tr>\n",
       "      <th>f1</th>\n",
       "      <td>100000.0</td>\n",
       "      <td>-0.002081</td>\n",
       "      <td>1.730417</td>\n",
       "      <td>-7.084020</td>\n",
       "      <td>-1.174820</td>\n",
       "      <td>-0.009482</td>\n",
       "      <td>1.163678</td>\n",
       "      <td>7.844801</td>\n",
       "    </tr>\n",
       "    <tr>\n",
       "      <th>f2</th>\n",
       "      <td>100000.0</td>\n",
       "      <td>2.495128</td>\n",
       "      <td>3.473445</td>\n",
       "      <td>-11.970335</td>\n",
       "      <td>0.130359</td>\n",
       "      <td>2.484236</td>\n",
       "      <td>4.858794</td>\n",
       "      <td>16.739402</td>\n",
       "    </tr>\n",
       "    <tr>\n",
       "      <th>product</th>\n",
       "      <td>100000.0</td>\n",
       "      <td>95.000000</td>\n",
       "      <td>44.749921</td>\n",
       "      <td>0.000000</td>\n",
       "      <td>59.450441</td>\n",
       "      <td>94.925613</td>\n",
       "      <td>130.595027</td>\n",
       "      <td>190.029838</td>\n",
       "    </tr>\n",
       "  </tbody>\n",
       "</table>\n",
       "</div>"
      ],
      "text/plain": [
       "            count       mean        std        min        25%        50%  \\\n",
       "f0       100000.0   0.002023   1.732045  -8.760004  -1.162288   0.009424   \n",
       "f1       100000.0  -0.002081   1.730417  -7.084020  -1.174820  -0.009482   \n",
       "f2       100000.0   2.495128   3.473445 -11.970335   0.130359   2.484236   \n",
       "product  100000.0  95.000000  44.749921   0.000000  59.450441  94.925613   \n",
       "\n",
       "                75%         max  \n",
       "f0         1.158535    7.238262  \n",
       "f1         1.163678    7.844801  \n",
       "f2         4.858794   16.739402  \n",
       "product  130.595027  190.029838  "
      ]
     },
     "metadata": {},
     "output_type": "display_data"
    },
    {
     "name": "stdout",
     "output_type": "stream",
     "text": [
      "\n"
     ]
    },
    {
     "data": {
      "image/png": "[encoded data removed]",
      "text/plain": [
       "<Figure size 1008x720 with 4 Axes>"
      ]
     },
     "metadata": {},
     "output_type": "display_data"
    }
   ],
   "source": [
    "# Третий регион \n",
    "explore_dataframe(geo_data_2, \"Third region\")"
   ]
  },
  {
   "cell_type": "markdown",
   "metadata": {},
   "source": [
    "Распределения всех признаков (`f0`, `f1`, `f2`) приближены к нормальному, симметричны и сбалансированы. Масштабы значений сопоставимы между собой и не содержат явных выбросов. Распределение целевой переменной аналогично первому региону – также наблюдается многомодальность, но без выраженной сегментации. Среднее значение `product` составляет 95.0 тыс. баррелей, что является наибольшим среди всех регионов."
   ]
  },
  {
   "cell_type": "markdown",
   "metadata": {},
   "source": [
    "Этот анализ показывает, что признаки в регионах распределены по-разному: регион 2 выделяется нестабильностью и дискретностью, в то время как регионы 1 и 3 обладают более предсказуемыми и плавными структурами. Это может повлиять на точность и устойчивость модели линейной регрессии, особенно в условиях ограничений по типу модели.\n",
    "\n",
    "Во всех регионах признаки имеют разные масштабы: в регионе 2 значения `f0` и `f1` достигают ±30, тогда как в других регионах варьируются в пределах ±8 или меньше. Для обеспечения корректной работы линейной регрессии и сопоставимости весов модели рекомендуется провести стандартизацию признаков с помощью методов масштабирования, например `StandardScaler`. Это особенно важно при сравнении моделей между регионами и при использовании техники `Bootstrap`, где различие в шкалах может привести к искажению оценок."
   ]
  },
  {
   "cell_type": "markdown",
   "metadata": {},
   "source": [
    "### Оценка корреляций"
   ]
  },
  {
   "cell_type": "code",
   "execution_count": 16,
   "metadata": {},
   "outputs": [],
   "source": [
    "# Тепловая карта корреляций между числовыми признаками\n",
    "def plot_numeric_correlations(df, title='Корреляция числовых признаков'):\n",
    "    df = df.drop(columns=['id'], errors='ignore')\n",
    "    numeric_cols = df.select_dtypes(include=['int64', 'float64']).columns\n",
    "    corr = df[numeric_cols].corr(method='spearman')\n",
    "\n",
    "    plt.figure(figsize=(10, 8))\n",
    "    sns.heatmap(corr, annot=True, fmt=\".2f\", cmap='coolwarm', square=True, cbar_kws={\"shrink\": .8})\n",
    "    plt.title(title)\n",
    "    plt.tight_layout()\n",
    "    plt.show()"
   ]
  },
  {
   "cell_type": "code",
   "execution_count": 17,
   "metadata": {},
   "outputs": [
    {
     "data": {
      "image/png": "[encoded data removed]",
      "text/plain": [
       "<Figure size 720x576 with 2 Axes>"
      ]
     },
     "metadata": {},
     "output_type": "display_data"
    }
   ],
   "source": [
    "plot_numeric_correlations(geo_data_0)"
   ]
  },
  {
   "cell_type": "markdown",
   "metadata": {},
   "source": [
    "В первом регионе умеренная положительная корреляция с целевой переменной наблюдается только у признака `f2` (0.49), тогда как `f0` и `f1` демонстрируют слабую связь с product (0.13 и -0.18 соответственно). Между признаками `f0` и `f1` присутствует отрицательная корреляция (-0.47), однако остальные пары практически некоррелированы. Наибольшую предсказательную ценность для модели имеет `f2`."
   ]
  },
  {
   "cell_type": "code",
   "execution_count": 18,
   "metadata": {},
   "outputs": [
    {
     "data": {
      "image/png": "[encoded data removed]",
      "text/plain": [
       "<Figure size 720x576 with 2 Axes>"
      ]
     },
     "metadata": {},
     "output_type": "display_data"
    }
   ],
   "source": [
    "plot_numeric_correlations(geo_data_1)"
   ]
  },
  {
   "cell_type": "markdown",
   "metadata": {},
   "source": [
    "Во втором регионе признак `f2` демонстрирует почти идеальную линейную корреляцию с целевой переменной (`product`, коэффициент 0.98), что указывает на прямое функциональное соответствие - вероятно, `product` вычисляется напрямую на основе `f2`. Остальные признаки (`f0` и `f1`) слабо связаны с целевой переменной. Модель линейной регрессии в этом регионе, по сути, будет опираться исключительно на `f2`."
   ]
  },
  {
   "cell_type": "code",
   "execution_count": 19,
   "metadata": {},
   "outputs": [
    {
     "data": {
      "image/png": "[encoded data removed]",
      "text/plain": [
       "<Figure size 720x576 with 2 Axes>"
      ]
     },
     "metadata": {},
     "output_type": "display_data"
    }
   ],
   "source": [
    "plot_numeric_correlations(geo_data_2)"
   ]
  },
  {
   "cell_type": "markdown",
   "metadata": {},
   "source": [
    "В третьем регионе единственная заметная корреляция наблюдается между признаком `f2` и целевой переменной `product` (0.45), что делает `f2` основным источником информации для модели. Остальные признаки (`f0` и `f1`) не связаны ни с целевой переменной, ни друг с другом - все коэффициенты стремятся к нулю. Это указывает на потенциальную однофакторную зависимость объёма запасов от `f2`."
   ]
  },
  {
   "cell_type": "markdown",
   "metadata": {},
   "source": [
    "Во всех трёх регионах основным информативным признаком для предсказания объёма запасов (`product`) является `f2`, который демонстрирует умеренную или сильную положительную корреляцию (от 0.45 до 0.98). В регионах 1 и 3 значения корреляции достигают 0.49 и 0.45 соответственно, а во втором регионе наблюдается идеальная линейная зависимость между `f2` и целевым признаком, что может быть результатом синтетической генерации данных. Остальные признаки (`f0` и `f1`) либо слабо связаны с целевой переменной, либо полностью независимы. Между самими признаками значимой взаимной корреляции не обнаружено, за исключением умеренно отрицательной связи между `f0` и `f1` в первом регионе."
   ]
  },
  {
   "cell_type": "markdown",
   "metadata": {},
   "source": [
    "## Обучение и проверка модели"
   ]
  },
  {
   "cell_type": "markdown",
   "metadata": {},
   "source": [
    "Для каждого региона подбирается лучшая линейная модель: без регуляризации, с L1 или L2-регуляризацией. Поиск осуществляется через `GridSearchCV` с подбором `alpha` и выбором между масштабированием и без него. Оцениваются основные метрики качества на валидационной выборке."
   ]
  },
  {
   "cell_type": "code",
   "execution_count": 20,
   "metadata": {},
   "outputs": [],
   "source": [
    "def train_with_full_cv(df, region_name=\"Регион\", random_state=42):\n",
    "    # Признаки и целевая переменная\n",
    "    X = df.drop(columns=['id', 'product'])\n",
    "    y = df['product']\n",
    "\n",
    "    # Разделение на обучающую и валидационную выборки\n",
    "    X_train, X_valid, y_train, y_valid = train_test_split(\n",
    "        X, y, test_size=0.25, random_state=random_state\n",
    "    )\n",
    "\n",
    "    # Список признаков\n",
    "    num_features = X.columns.tolist()\n",
    "\n",
    "    # Варианты масштабирования\n",
    "    scalers = [StandardScaler(), 'passthrough']\n",
    "\n",
    "    # Предобработка\n",
    "    preprocessor = ColumnTransformer([\n",
    "        ('num', 'passthrough', num_features)\n",
    "    ])\n",
    "\n",
    "    # Пайплайн\n",
    "    pipe = Pipeline([\n",
    "        ('preprocessor', preprocessor),\n",
    "        ('model', LinearRegression())  # заглушка\n",
    "    ])\n",
    "\n",
    "    # Расширенная сетка параметров\n",
    "    param_grid = [\n",
    "        {\n",
    "            'model': [Ridge(random_state=random_state), Lasso(random_state=random_state, max_iter=10000)],\n",
    "            'model__alpha': [0.001, 0.01, 0.1, 1.0, 10.0, 100.0],\n",
    "            'preprocessor__num': scalers\n",
    "        },\n",
    "        {\n",
    "            'model': [LinearRegression()],\n",
    "            'preprocessor__num': scalers\n",
    "        }\n",
    "    ]\n",
    "\n",
    "    # GridSearchCV\n",
    "    grid = GridSearchCV(pipe, param_grid, cv=5, scoring='neg_root_mean_squared_error', n_jobs=-1)\n",
    "    grid.fit(X_train, y_train)\n",
    "\n",
    "    # Предсказания\n",
    "    best_model = grid.best_estimator_\n",
    "    preds = best_model.predict(X_valid)\n",
    "\n",
    "    # Метрики\n",
    "    mae = mean_absolute_error(y_valid, preds)\n",
    "    mse = mean_squared_error(y_valid, preds)\n",
    "    rmse = mean_squared_error(y_valid, preds, squared=False)\n",
    "    r2 = r2_score(y_valid, preds)\n",
    "    mean_pred = preds.mean()\n",
    "\n",
    "    # Вывод\n",
    "    print(f\"\\n{region_name}:\")\n",
    "    print(f\"Лучшая модель: {type(grid.best_estimator_.named_steps['model']).__name__}\")\n",
    "    if hasattr(grid.best_estimator_.named_steps['model'], 'alpha'):\n",
    "        print(f\"Альфа: {grid.best_estimator_.named_steps['model'].alpha}\")\n",
    "    print(f\"Масштабирование: {type(grid.best_params_['preprocessor__num']).__name__ if grid.best_params_['preprocessor__num'] != 'passthrough' else 'без масштабирования'}\")\n",
    "    print(f\"Среднее предсказание: {mean_pred:.2f} тыс. баррелей\")\n",
    "    print(f\"MAE: {mae:.2f}\")\n",
    "    print(f\"MSE: {mse:.2f}\")\n",
    "    print(f\"RMSE: {rmse:.2f}\")\n",
    "    print(f\"R²: {r2:.4f}\")\n",
    "\n",
    "    return best_model, preds, y_valid.reset_index(drop=True)"
   ]
  },
  {
   "cell_type": "code",
   "execution_count": 21,
   "metadata": {},
   "outputs": [
    {
     "name": "stdout",
     "output_type": "stream",
     "text": [
      "\n",
      "Region 1:\n",
      "Лучшая модель: Ridge\n",
      "Альфа: 10.0\n",
      "Масштабирование: без масштабирования\n",
      "Среднее предсказание: 92.40 тыс. баррелей\n",
      "MAE: 31.05\n",
      "MSE: 1425.56\n",
      "RMSE: 37.76\n",
      "R²: 0.2728\n"
     ]
    }
   ],
   "source": [
    "model_r1, preds_r1, yval_r1 = train_with_full_cv(geo_data_0, \"Region 1\")"
   ]
  },
  {
   "cell_type": "markdown",
   "metadata": {},
   "source": [
    "В первом регионе наилучшие результаты показала модель Ridge с высокой степенью регуляризации (`alpha = 10.0`) и без масштабирования. Среднее предсказание объёма запасов (92.40 тыс. баррелей) практически совпадает с фактическим средним, однако метрики качества свидетельствуют о невысокой точности модели: MAE составил 31.05, RMSE – 37.76, а коэффициент детерминации R² – лишь 0.27. Это указывает на слабую линейную предсказуемость целевой переменной и наличие существенной доли шума или нелинейных зависимостей в данных."
   ]
  },
  {
   "cell_type": "code",
   "execution_count": 22,
   "metadata": {},
   "outputs": [
    {
     "name": "stdout",
     "output_type": "stream",
     "text": [
      "\n",
      "Region 2:\n",
      "Лучшая модель: Lasso\n",
      "Альфа: 0.001\n",
      "Масштабирование: без масштабирования\n",
      "Среднее предсказание: 68.71 тыс. баррелей\n",
      "MAE: 0.72\n",
      "MSE: 0.79\n",
      "RMSE: 0.89\n",
      "R²: 0.9996\n"
     ]
    }
   ],
   "source": [
    "model_r2, preds_r2, yval_r2 = train_with_full_cv(geo_data_1, \"Region 2\")"
   ]
  },
  {
   "cell_type": "markdown",
   "metadata": {},
   "source": [
    "Во втором регионе лучшей оказалась модель Lasso с минимальным уровнем регуляризации (`alpha = 0.001`) и без масштабирования. Среднее предсказание (68.71 тыс. баррелей) почти совпадает с фактическим средним, а все метрики указывают на исключительно высокую точность: MAE – 0.72, RMSE – 0.89 и R² – 0.9996. Это подтверждает практически полную линейную зависимость целевой переменной от признаков, в первую очередь от `f2`, который, согласно корреляционному анализу, идеально соответствует `product`."
   ]
  },
  {
   "cell_type": "code",
   "execution_count": 23,
   "metadata": {},
   "outputs": [
    {
     "name": "stdout",
     "output_type": "stream",
     "text": [
      "\n",
      "Region 3:\n",
      "Лучшая модель: Lasso\n",
      "Альфа: 0.1\n",
      "Масштабирование: StandardScaler\n",
      "Среднее предсказание: 94.77 тыс. баррелей\n",
      "MAE: 32.90\n",
      "MSE: 1611.65\n",
      "RMSE: 40.15\n",
      "R²: 0.1964\n"
     ]
    }
   ],
   "source": [
    "model_r3, preds_r3, yval_r3 = train_with_full_cv(geo_data_2, \"Region 3\")"
   ]
  },
  {
   "cell_type": "markdown",
   "metadata": {},
   "source": [
    "В третьем регионе наилучший результат показала модель Lasso с умеренной регуляризацией (`alpha = 0.1`) и применением масштабирования признаков (`StandardScaler`). Среднее предсказание (94.77 тыс. баррелей) близко к фактическому значению, однако модель продемонстрировала слабое качество: MAE – 32.90, RMSE – 40.15, R² – 0.20. Это свидетельствует о низкой объясняющей способности линейной модели и наличии нерегулярных или нелинейных факторов, влияющих на объём запасов."
   ]
  },
  {
   "cell_type": "markdown",
   "metadata": {},
   "source": [
    "Для каждого региона была обучена линейная модель с автоматическим подбором регуляризации (L1/L2), параметра `alpha` и масштабирования признаков. Во втором регионе модель показала практически идеальное качество (R² ≈ 1.0), что подтверждает наличие явной линейной зависимости между признаками и целевой переменной. В первом и третьем регионах точность оказалась значительно ниже (R² менее 0.3), несмотря на настройку регуляризации и масштабирование. Это указывает на слабую линейную структуру данных и возможное влияние скрытых факторов. Таким образом, линейная модель подходит для региона 2, но недостаточно эффективна в регионах 1 и 3."
   ]
  },
  {
   "cell_type": "markdown",
   "metadata": {},
   "source": [
    "## Подготовка к расчёту прибыли"
   ]
  },
  {
   "cell_type": "markdown",
   "metadata": {},
   "source": [
    "Сохраняем ключевые параметры:\n",
    "- `BUDGET` = 10_000_000_000 – бюджет на разработку региона (в рублях);\n",
    "- `PRICE_PER_BARREL` = 450_000 – доход за 1 тыс. баррелей (в рублях);\n",
    "- `NUMBER_OF_WELLS` = 200 – количество скважин, которые будут разрабатываться;\n",
    "- `SELECTED_WELLS` = 500 – количество скважин, из которых выбираются лучшие;\n",
    "- `UNITS_TO_RUBLES` = 450_000 – коэффициент пересчёта запасов в прибыль.\n",
    "\n",
    "Расчёт порогового объёма сырья:\n",
    "\n",
    "$$\n",
    "\\text{Минимальный объём на скважину (в тыс. баррелей)} = \\frac{\\text{Бюджет}}{\\text{Количество скважин} \\times \\text{Доход с 1 тыс. баррелей}}\n",
    "$$\n",
    "\n",
    "Сравним этот порог с **средним предсказанным значением `product`** по валидационной выборке для каждого региона (у нас оно уже есть)."
   ]
  },
  {
   "cell_type": "code",
   "execution_count": 24,
   "metadata": {},
   "outputs": [
    {
     "name": "stdout",
     "output_type": "stream",
     "text": [
      "Минимальный объём сырья на одну скважину для безубыточности: 111.11 тыс. баррелей\n",
      "Среднее фактическое значение product на валидационной выборке:\n",
      "Регион 1: 92.33\n",
      "Регион 2: 68.73\n",
      "Регион 3: 95.15\n"
     ]
    }
   ],
   "source": [
    "# Параметры\n",
    "BUDGET = 10_000_000_000  # рублей\n",
    "PRICE_PER_BARREL = 450_000  # рублей за 1000 баррелей\n",
    "NUMBER_OF_WELLS = 200\n",
    "SELECTED_WELLS = 500\n",
    "\n",
    "# Расчёт порогового объёма\n",
    "min_product_threshold = BUDGET / (NUMBER_OF_WELLS * PRICE_PER_BARREL)\n",
    "print(f\"Минимальный объём сырья на одну скважину для безубыточности: {min_product_threshold:.2f} тыс. баррелей\")\n",
    "\n",
    "# Сравнение со средними фактическими значениями\n",
    "print(\"Среднее фактическое значение product на валидационной выборке:\")\n",
    "print(f\"Регион 1: {yval_r1.mean():.2f}\")\n",
    "print(f\"Регион 2: {yval_r2.mean():.2f}\")\n",
    "print(f\"Регион 3: {yval_r3.mean():.2f}\")"
   ]
  },
  {
   "cell_type": "markdown",
   "metadata": {},
   "source": [
    "Для выхода на безубыточность каждая скважина должна содержать не менее 111.11 тыс. баррелей сырья. Средние объёмы по всем регионам ниже этой отметки: в регионе 1 - 92.33, в регионе 2 - 68.73, в регионе 3 - 95.15 тыс. баррелей. Это означает, что разработка всех скважин подряд в любом регионе приведёт к убыткам. Следовательно, для достижения прибыли необходимо выбирать только наиболее перспективные скважины с наибольшим предсказанным объёмом сырья."
   ]
  },
  {
   "cell_type": "markdown",
   "metadata": {},
   "source": [
    "## Расчёт прибыли и рисков "
   ]
  },
  {
   "cell_type": "markdown",
   "metadata": {},
   "source": [
    "Напишем функцию для расчёта прибыли по выбранным скважинам и предсказаниям модели:\n",
    "- Выберем скважины с максимальными значениями предсказаний. \n",
    "- Просуммируем целевое значение объёма сырья, соответствующее этим предсказаниям.\n",
    "- Рассчитаем прибыль для полученного объёма сырья."
   ]
  },
  {
   "cell_type": "code",
   "execution_count": 31,
   "metadata": {},
   "outputs": [],
   "source": [
    "def calculate_profit(predictions, targets, top_n=200, price_per_thousand_barrels=450_000, budget=10_000_000_000):\n",
    "    # Индексы топ-N скважин по предсказаниям\n",
    "    top_indices = predictions.argsort()[-top_n:]\n",
    "    \n",
    "    # Сумма фактического объёма сырья по этим скважинам\n",
    "    selected_volume = targets.iloc[top_indices].sum()\n",
    "    \n",
    "    # Расчёт прибыли\n",
    "    revenue = selected_volume * price_per_thousand_barrels\n",
    "    profit = revenue - budget\n",
    "    return profit"
   ]
  },
  {
   "cell_type": "code",
   "execution_count": 32,
   "metadata": {},
   "outputs": [
    {
     "name": "stdout",
     "output_type": "stream",
     "text": [
      "Прибыль – Регион 1: 3,359,141,114 руб.\n",
      "Прибыль – Регион 2: 2,415,086,697 руб.\n",
      "Прибыль – Регион 3: 2,583,442,208 руб.\n"
     ]
    }
   ],
   "source": [
    "profit_r1 = calculate_profit(preds_r1, yval_r1)\n",
    "profit_r2 = calculate_profit(preds_r2, yval_r2)\n",
    "profit_r3 = calculate_profit(preds_r3, yval_r3)\n",
    "\n",
    "print(f\"Прибыль – Регион 1: {profit_r1:,.0f} руб.\")\n",
    "print(f\"Прибыль – Регион 2: {profit_r2:,.0f} руб.\")\n",
    "print(f\"Прибыль – Регион 3: {profit_r3:,.0f} руб.\")"
   ]
  },
  {
   "cell_type": "markdown",
   "metadata": {},
   "source": [
    "На основании предсказаний модели и выбора 200 лучших скважин максимальная ожидаемая прибыль составляет 3.36 млрд рублей в регионе 1, 2.58 млрд в регионе 3 и 2.42 млрд в регионе 2. Таким образом, наибольшая потенциальная прибыль наблюдается в регионе 1, несмотря на то, что модель в этом регионе имеет сравнительно невысокое качество. Это объясняется наличием в выборке скважин с высокими фактическими объёмами сырья, что позволяет компенсировать ошибки модели при отборе."
   ]
  },
  {
   "cell_type": "markdown",
   "metadata": {},
   "source": [
    "Посчитаем риски и прибыль для каждого региона:\n",
    "- Применим технику `Bootstrap` с 1000 выборок, чтобы найти распределение прибыли.\n",
    "- Найдем среднюю прибыль, 95%-й доверительный интервал и риск убытков. Убыток — это отрицательная прибыль.\n",
    "- Напишем выводы: предложим регион для разработки скважин и обоснуем выбор."
   ]
  },
  {
   "cell_type": "code",
   "execution_count": 39,
   "metadata": {},
   "outputs": [],
   "source": [
    "def bootstrap_profit(predictions, targets, n_iterations=1000, sample_size=500, top_n=200, price_per_thousand_barrels=450_000, budget=10_000_000_000, seed=42):\n",
    "    np.random.seed(seed)\n",
    "    profits = []\n",
    "\n",
    "    predictions = np.array(predictions)\n",
    "    targets = np.array(targets)\n",
    "\n",
    "    for _ in range(n_iterations):\n",
    "        # Случайная выборка с заменой\n",
    "        indices = np.random.choice(len(predictions), size=sample_size, replace=True)\n",
    "        sample_preds = predictions[indices]\n",
    "        sample_targets = targets[indices]\n",
    "\n",
    "        # Выбор топ-N по предсказаниям\n",
    "        top_indices = sample_preds.argsort()[-top_n:]\n",
    "        selected_targets = sample_targets[top_indices]\n",
    "\n",
    "        # Подсчёт прибыли\n",
    "        revenue = selected_targets.sum() * price_per_thousand_barrels\n",
    "        profit = revenue - budget\n",
    "        profits.append(profit)\n",
    "\n",
    "    profits = np.array(profits)\n",
    "    mean_profit = profits.mean()\n",
    "    lower = np.percentile(profits, 2.5)\n",
    "    upper = np.percentile(profits, 97.5)\n",
    "    risk = (profits < 0).mean()\n",
    "\n",
    "    return mean_profit, (lower, upper), risk, profits"
   ]
  },
  {
   "cell_type": "code",
   "execution_count": 40,
   "metadata": {},
   "outputs": [
    {
     "name": "stdout",
     "output_type": "stream",
     "text": [
      "Регион 1: Средняя прибыль = 399,558,149, 95% CI = (-115,709,290, 897,460,328), Риск убытка = 6.00%\n",
      "Регион 2: Средняя прибыль = 452,048,891, 95% CI = (61,684,480, 845,340,178), Риск убытка = 1.50%\n",
      "Регион 3: Средняя прибыль = 375,121,866, 95% CI = (-140,788,056, 882,735,777), Риск убытка = 8.30%\n"
     ]
    }
   ],
   "source": [
    "# Получение всех распределений\n",
    "mean_r1, ci_r1, risk_r1, dist_r1 = bootstrap_profit(preds_r1, yval_r1)\n",
    "mean_r2, ci_r2, risk_r2, dist_r2 = bootstrap_profit(preds_r2, yval_r2)\n",
    "mean_r3, ci_r3, risk_r3, dist_r3 = bootstrap_profit(preds_r3, yval_r3)\n",
    "\n",
    "# Вывод\n",
    "print(f\"Регион 1: Средняя прибыль = {mean_r1:,.0f}, 95% CI = ({ci_r1[0]:,.0f}, {ci_r1[1]:,.0f}), Риск убытка = {risk_r1:.2%}\")\n",
    "print(f\"Регион 2: Средняя прибыль = {mean_r2:,.0f}, 95% CI = ({ci_r2[0]:,.0f}, {ci_r2[1]:,.0f}), Риск убытка = {risk_r2:.2%}\")\n",
    "print(f\"Регион 3: Средняя прибыль = {mean_r3:,.0f}, 95% CI = ({ci_r3[0]:,.0f}, {ci_r3[1]:,.0f}), Риск убытка = {risk_r3:.2%}\")"
   ]
  },
  {
   "cell_type": "code",
   "execution_count": 29,
   "metadata": {},
   "outputs": [
    {
     "data": {
      "image/png": "[encoded data removed]",
      "text/plain": [
       "<Figure size 576x288 with 1 Axes>"
      ]
     },
     "metadata": {},
     "output_type": "display_data"
    },
    {
     "data": {
      "image/png": "[encoded data removed]",
      "text/plain": [
       "<Figure size 576x288 with 1 Axes>"
      ]
     },
     "metadata": {},
     "output_type": "display_data"
    },
    {
     "data": {
      "image/png": "[encoded data removed]",
      "text/plain": [
       "<Figure size 576x288 with 1 Axes>"
      ]
     },
     "metadata": {},
     "output_type": "display_data"
    }
   ],
   "source": [
    "# Подготовка данных\n",
    "bootstrap_data = {\n",
    "    'Регион 1': dist_r1,\n",
    "    'Регион 2': dist_r2,\n",
    "    'Регион 3': dist_r3\n",
    "}\n",
    "\n",
    "# Построение графиков\n",
    "for region, profits in bootstrap_data.items():\n",
    "    mean = profits.mean()\n",
    "    lower, upper = np.percentile(profits, [2.5, 97.5])\n",
    "\n",
    "    plt.figure(figsize=(8, 4))\n",
    "    sns.histplot(profits, bins=50, kde=True)\n",
    "    plt.axvline(mean, color='black', linestyle='--', label=f'Среднее: {mean:,.0f}')\n",
    "    plt.axvline(lower, color='red', linestyle='--', label=f'2.5%: {lower:,.0f}')\n",
    "    plt.axvline(upper, color='green', linestyle='--', label=f'97.5%: {upper:,.0f}')\n",
    "    plt.title(f'Распределение прибыли – {region}')\n",
    "    plt.xlabel('Прибыль, руб.')\n",
    "    plt.ylabel('Частота')\n",
    "    plt.legend()\n",
    "    plt.tight_layout()\n",
    "    plt.show()"
   ]
  },
  {
   "cell_type": "code",
   "execution_count": 30,
   "metadata": {},
   "outputs": [
    {
     "data": {
      "image/png": "[encoded data removed]",
      "text/plain": [
       "<Figure size 576x360 with 1 Axes>"
      ]
     },
     "metadata": {},
     "output_type": "display_data"
    }
   ],
   "source": [
    "# Подготовка данных в DataFrame\n",
    "df_box = pd.DataFrame({\n",
    "    'Регион 1': dist_r1,\n",
    "    'Регион 2': dist_r2,\n",
    "    'Регион 3': dist_r3\n",
    "})\n",
    "\n",
    "# Преобразуем в длинный формат для seaborn\n",
    "df_long = df_box.melt(var_name='Регион', value_name='Прибыль')\n",
    "\n",
    "# Построение boxplot\n",
    "plt.figure(figsize=(8, 5))\n",
    "sns.boxplot(data=df_long, x='Регион', y='Прибыль')\n",
    "plt.title('Распределение прибыли по регионам (Bootstrap, top-200 скважин)')\n",
    "plt.ylabel('Прибыль, руб.')\n",
    "plt.xlabel('')\n",
    "plt.grid(True, axis='y')\n",
    "plt.tight_layout()\n",
    "plt.show()"
   ]
  },
  {
   "cell_type": "markdown",
   "metadata": {},
   "source": [
    "Согласно результатам бутстрэп-анализа с 1000 выборками, ни один из регионов не гарантирует стабильную прибыль при разработке 200 лучших скважин - во всех случаях существует риск убытков. Наиболее выгодным оказался регион 2: **средняя прибыль составляет 452 млн рублей**, доверительный интервал \\[61.7 млн; 845.3 млн], а **риск убытков минимален - 1.5%**. В регионе 1 прибыль в среднем ниже (≈400 млн), а риск выше — 6%. В регионе 3 средняя прибыль наименьшая (≈375 млн), при этом вероятность убытков достигает 8.3%.\n",
    "\n",
    "Визуальный анализ распределений прибылей (гистограммы и boxplot) показывает, что оценки для всех регионов варьируются существенно, с наличием выбросов и асимметрии. Тем не менее, **регион 2 демонстрирует наилучший баланс между доходностью и надёжностью**.\n",
    "\n",
    "**Рекомендуется выбрать регион 2 для разработки**, поскольку он обеспечивает **самую высокую среднюю прибыль при минимальном уровне риска**."
   ]
  }
 ],
 "metadata": {
  "ExecuteTimeLog": [
   {
    "duration": 12,
    "start_time": "2025-03-28T16:34:30.916Z"
   },
   {
    "duration": 1408,
    "start_time": "2025-05-26T00:50:01.821Z"
   },
   {
    "duration": 4,
    "start_time": "2025-05-26T00:50:03.231Z"
   },
   {
    "duration": 188,
    "start_time": "2025-05-26T00:50:03.493Z"
   },
   {
    "duration": 164,
    "start_time": "2025-05-26T00:51:08.311Z"
   },
   {
    "duration": 164,
    "start_time": "2025-05-26T00:51:27.973Z"
   },
   {
    "duration": 4,
    "start_time": "2025-05-26T01:02:43.270Z"
   },
   {
    "duration": 1274,
    "start_time": "2025-05-26T01:04:08.840Z"
   },
   {
    "duration": 4,
    "start_time": "2025-05-26T01:04:10.116Z"
   },
   {
    "duration": 194,
    "start_time": "2025-05-26T01:04:10.122Z"
   },
   {
    "duration": 166,
    "start_time": "2025-05-26T01:04:10.318Z"
   },
   {
    "duration": 165,
    "start_time": "2025-05-26T01:04:10.487Z"
   },
   {
    "duration": 4,
    "start_time": "2025-05-26T01:04:10.654Z"
   },
   {
    "duration": 38,
    "start_time": "2025-05-26T01:04:10.671Z"
   },
   {
    "duration": 4,
    "start_time": "2025-05-26T01:05:14.347Z"
   },
   {
    "duration": 91,
    "start_time": "2025-05-26T01:06:00.944Z"
   },
   {
    "duration": 1269,
    "start_time": "2025-05-26T01:07:45.839Z"
   },
   {
    "duration": 4,
    "start_time": "2025-05-26T01:07:47.110Z"
   },
   {
    "duration": 178,
    "start_time": "2025-05-26T01:07:47.115Z"
   },
   {
    "duration": 157,
    "start_time": "2025-05-26T01:07:47.295Z"
   },
   {
    "duration": 161,
    "start_time": "2025-05-26T01:07:47.454Z"
   },
   {
    "duration": 4,
    "start_time": "2025-05-26T01:07:47.616Z"
   },
   {
    "duration": 68,
    "start_time": "2025-05-26T01:07:47.622Z"
   },
   {
    "duration": 4,
    "start_time": "2025-05-26T01:07:47.692Z"
   },
   {
    "duration": 108,
    "start_time": "2025-05-26T01:07:47.698Z"
   },
   {
    "duration": 1237,
    "start_time": "2025-05-26T01:10:44.573Z"
   },
   {
    "duration": 4,
    "start_time": "2025-05-26T01:10:45.812Z"
   },
   {
    "duration": 178,
    "start_time": "2025-05-26T01:10:45.818Z"
   },
   {
    "duration": 166,
    "start_time": "2025-05-26T01:10:45.998Z"
   },
   {
    "duration": 171,
    "start_time": "2025-05-26T01:10:46.172Z"
   },
   {
    "duration": 5,
    "start_time": "2025-05-26T01:10:46.344Z"
   },
   {
    "duration": 39,
    "start_time": "2025-05-26T01:10:46.350Z"
   },
   {
    "duration": 5,
    "start_time": "2025-05-26T01:10:46.391Z"
   },
   {
    "duration": 117,
    "start_time": "2025-05-26T01:10:46.397Z"
   },
   {
    "duration": 105,
    "start_time": "2025-05-26T01:10:46.516Z"
   },
   {
    "duration": 112,
    "start_time": "2025-05-26T01:10:46.623Z"
   },
   {
    "duration": 99,
    "start_time": "2025-05-26T01:22:05.574Z"
   },
   {
    "duration": 10,
    "start_time": "2025-05-26T01:22:08.489Z"
   },
   {
    "duration": 3265,
    "start_time": "2025-05-26T01:22:09.115Z"
   },
   {
    "duration": 1183,
    "start_time": "2025-05-26T01:23:46.322Z"
   },
   {
    "duration": 4,
    "start_time": "2025-05-26T01:23:47.507Z"
   },
   {
    "duration": 186,
    "start_time": "2025-05-26T01:23:47.512Z"
   },
   {
    "duration": 155,
    "start_time": "2025-05-26T01:23:47.699Z"
   },
   {
    "duration": 158,
    "start_time": "2025-05-26T01:23:47.856Z"
   },
   {
    "duration": 4,
    "start_time": "2025-05-26T01:23:48.016Z"
   },
   {
    "duration": 45,
    "start_time": "2025-05-26T01:23:48.021Z"
   },
   {
    "duration": 5,
    "start_time": "2025-05-26T01:23:48.068Z"
   },
   {
    "duration": 103,
    "start_time": "2025-05-26T01:23:48.075Z"
   },
   {
    "duration": 97,
    "start_time": "2025-05-26T01:23:48.179Z"
   },
   {
    "duration": 101,
    "start_time": "2025-05-26T01:23:48.278Z"
   },
   {
    "duration": 9,
    "start_time": "2025-05-26T01:23:48.381Z"
   },
   {
    "duration": 3308,
    "start_time": "2025-05-26T01:23:48.392Z"
   },
   {
    "duration": 1231,
    "start_time": "2025-05-26T01:24:56.565Z"
   },
   {
    "duration": 4,
    "start_time": "2025-05-26T01:24:57.797Z"
   },
   {
    "duration": 175,
    "start_time": "2025-05-26T01:24:57.803Z"
   },
   {
    "duration": 158,
    "start_time": "2025-05-26T01:24:57.980Z"
   },
   {
    "duration": 161,
    "start_time": "2025-05-26T01:24:58.140Z"
   },
   {
    "duration": 4,
    "start_time": "2025-05-26T01:24:58.303Z"
   },
   {
    "duration": 24,
    "start_time": "2025-05-26T01:24:58.308Z"
   },
   {
    "duration": 5,
    "start_time": "2025-05-26T01:24:58.333Z"
   },
   {
    "duration": 121,
    "start_time": "2025-05-26T01:24:58.339Z"
   },
   {
    "duration": 105,
    "start_time": "2025-05-26T01:24:58.470Z"
   },
   {
    "duration": 112,
    "start_time": "2025-05-26T01:24:58.577Z"
   },
   {
    "duration": 10,
    "start_time": "2025-05-26T01:24:58.691Z"
   },
   {
    "duration": 3405,
    "start_time": "2025-05-26T01:24:58.703Z"
   },
   {
    "duration": 3423,
    "start_time": "2025-05-26T01:25:02.111Z"
   },
   {
    "duration": 3864,
    "start_time": "2025-05-26T01:25:05.536Z"
   },
   {
    "duration": 1231,
    "start_time": "2025-05-26T01:31:05.684Z"
   },
   {
    "duration": 4,
    "start_time": "2025-05-26T01:31:06.918Z"
   },
   {
    "duration": 181,
    "start_time": "2025-05-26T01:31:06.923Z"
   },
   {
    "duration": 166,
    "start_time": "2025-05-26T01:31:07.105Z"
   },
   {
    "duration": 169,
    "start_time": "2025-05-26T01:31:07.273Z"
   },
   {
    "duration": 4,
    "start_time": "2025-05-26T01:31:07.443Z"
   },
   {
    "duration": 43,
    "start_time": "2025-05-26T01:31:07.449Z"
   },
   {
    "duration": 4,
    "start_time": "2025-05-26T01:31:07.494Z"
   },
   {
    "duration": 113,
    "start_time": "2025-05-26T01:31:07.500Z"
   },
   {
    "duration": 107,
    "start_time": "2025-05-26T01:31:07.614Z"
   },
   {
    "duration": 112,
    "start_time": "2025-05-26T01:31:07.722Z"
   },
   {
    "duration": 10,
    "start_time": "2025-05-26T01:31:07.835Z"
   },
   {
    "duration": 3337,
    "start_time": "2025-05-26T01:31:07.847Z"
   },
   {
    "duration": 3526,
    "start_time": "2025-05-26T01:31:11.186Z"
   },
   {
    "duration": 3897,
    "start_time": "2025-05-26T01:31:14.714Z"
   },
   {
    "duration": 5,
    "start_time": "2025-05-26T01:31:18.612Z"
   },
   {
    "duration": 552,
    "start_time": "2025-05-26T01:31:18.619Z"
   },
   {
    "duration": 493,
    "start_time": "2025-05-26T01:31:19.173Z"
   },
   {
    "duration": 486,
    "start_time": "2025-05-26T01:31:19.672Z"
   },
   {
    "duration": 316,
    "start_time": "2025-05-26T01:58:40.034Z"
   },
   {
    "duration": 8,
    "start_time": "2025-05-26T02:04:34.743Z"
   },
   {
    "duration": 1506,
    "start_time": "2025-05-26T02:05:30.657Z"
   },
   {
    "duration": 4,
    "start_time": "2025-05-26T02:05:32.165Z"
   },
   {
    "duration": 212,
    "start_time": "2025-05-26T02:05:32.170Z"
   },
   {
    "duration": 167,
    "start_time": "2025-05-26T02:05:32.384Z"
   },
   {
    "duration": 168,
    "start_time": "2025-05-26T02:05:32.553Z"
   },
   {
    "duration": 4,
    "start_time": "2025-05-26T02:05:32.723Z"
   },
   {
    "duration": 38,
    "start_time": "2025-05-26T02:05:32.728Z"
   },
   {
    "duration": 4,
    "start_time": "2025-05-26T02:05:32.768Z"
   },
   {
    "duration": 108,
    "start_time": "2025-05-26T02:05:32.774Z"
   },
   {
    "duration": 97,
    "start_time": "2025-05-26T02:05:32.883Z"
   },
   {
    "duration": 105,
    "start_time": "2025-05-26T02:05:32.981Z"
   },
   {
    "duration": 10,
    "start_time": "2025-05-26T02:05:33.088Z"
   },
   {
    "duration": 3412,
    "start_time": "2025-05-26T02:05:33.099Z"
   },
   {
    "duration": 3313,
    "start_time": "2025-05-26T02:05:36.515Z"
   },
   {
    "duration": 3861,
    "start_time": "2025-05-26T02:05:39.830Z"
   },
   {
    "duration": 6,
    "start_time": "2025-05-26T02:05:43.693Z"
   },
   {
    "duration": 489,
    "start_time": "2025-05-26T02:05:43.701Z"
   },
   {
    "duration": 467,
    "start_time": "2025-05-26T02:05:44.191Z"
   },
   {
    "duration": 497,
    "start_time": "2025-05-26T02:05:44.660Z"
   },
   {
    "duration": 16,
    "start_time": "2025-05-26T02:05:45.159Z"
   },
   {
    "duration": 15103,
    "start_time": "2025-05-26T02:05:45.177Z"
   },
   {
    "duration": 14606,
    "start_time": "2025-05-26T02:06:00.283Z"
   },
   {
    "duration": 14598,
    "start_time": "2025-05-26T02:06:14.979Z"
   },
   {
    "duration": 1527,
    "start_time": "2025-05-26T02:26:25.148Z"
   },
   {
    "duration": 4,
    "start_time": "2025-05-26T02:26:26.678Z"
   },
   {
    "duration": 189,
    "start_time": "2025-05-26T02:26:26.683Z"
   },
   {
    "duration": 160,
    "start_time": "2025-05-26T02:26:26.874Z"
   },
   {
    "duration": 166,
    "start_time": "2025-05-26T02:26:27.037Z"
   },
   {
    "duration": 4,
    "start_time": "2025-05-26T02:26:27.204Z"
   },
   {
    "duration": 26,
    "start_time": "2025-05-26T02:26:27.210Z"
   },
   {
    "duration": 5,
    "start_time": "2025-05-26T02:26:27.237Z"
   },
   {
    "duration": 112,
    "start_time": "2025-05-26T02:26:27.271Z"
   },
   {
    "duration": 106,
    "start_time": "2025-05-26T02:26:27.384Z"
   },
   {
    "duration": 111,
    "start_time": "2025-05-26T02:26:27.491Z"
   },
   {
    "duration": 10,
    "start_time": "2025-05-26T02:26:27.604Z"
   },
   {
    "duration": 3488,
    "start_time": "2025-05-26T02:26:27.616Z"
   },
   {
    "duration": 3465,
    "start_time": "2025-05-26T02:26:31.107Z"
   },
   {
    "duration": 4036,
    "start_time": "2025-05-26T02:26:34.574Z"
   },
   {
    "duration": 5,
    "start_time": "2025-05-26T02:26:38.611Z"
   },
   {
    "duration": 566,
    "start_time": "2025-05-26T02:26:38.618Z"
   },
   {
    "duration": 479,
    "start_time": "2025-05-26T02:26:39.185Z"
   },
   {
    "duration": 501,
    "start_time": "2025-05-26T02:26:39.670Z"
   },
   {
    "duration": 9,
    "start_time": "2025-05-26T02:26:40.173Z"
   },
   {
    "duration": 24196,
    "start_time": "2025-05-26T02:26:40.184Z"
   },
   {
    "duration": 23604,
    "start_time": "2025-05-26T02:27:04.472Z"
   },
   {
    "duration": 24098,
    "start_time": "2025-05-26T02:27:28.078Z"
   },
   {
    "duration": 5,
    "start_time": "2025-05-26T02:39:29.610Z"
   },
   {
    "duration": 4,
    "start_time": "2025-05-26T02:42:29.837Z"
   },
   {
    "duration": 11,
    "start_time": "2025-05-26T02:42:45.696Z"
   },
   {
    "duration": 6,
    "start_time": "2025-05-26T02:46:04.825Z"
   },
   {
    "duration": 149,
    "start_time": "2025-05-26T02:46:11.419Z"
   },
   {
    "duration": 1482,
    "start_time": "2025-05-26T02:49:30.693Z"
   },
   {
    "duration": 4,
    "start_time": "2025-05-26T02:49:32.177Z"
   },
   {
    "duration": 208,
    "start_time": "2025-05-26T02:49:32.182Z"
   },
   {
    "duration": 163,
    "start_time": "2025-05-26T02:49:32.392Z"
   },
   {
    "duration": 164,
    "start_time": "2025-05-26T02:49:32.558Z"
   },
   {
    "duration": 4,
    "start_time": "2025-05-26T02:49:32.724Z"
   },
   {
    "duration": 41,
    "start_time": "2025-05-26T02:49:32.730Z"
   },
   {
    "duration": 5,
    "start_time": "2025-05-26T02:49:32.772Z"
   },
   {
    "duration": 104,
    "start_time": "2025-05-26T02:49:32.778Z"
   },
   {
    "duration": 98,
    "start_time": "2025-05-26T02:49:32.883Z"
   },
   {
    "duration": 105,
    "start_time": "2025-05-26T02:49:32.983Z"
   },
   {
    "duration": 10,
    "start_time": "2025-05-26T02:49:33.090Z"
   },
   {
    "duration": 3567,
    "start_time": "2025-05-26T02:49:33.101Z"
   },
   {
    "duration": 3258,
    "start_time": "2025-05-26T02:49:36.671Z"
   },
   {
    "duration": 3765,
    "start_time": "2025-05-26T02:49:39.931Z"
   },
   {
    "duration": 4,
    "start_time": "2025-05-26T02:49:43.698Z"
   },
   {
    "duration": 479,
    "start_time": "2025-05-26T02:49:43.703Z"
   },
   {
    "duration": 479,
    "start_time": "2025-05-26T02:49:44.183Z"
   },
   {
    "duration": 498,
    "start_time": "2025-05-26T02:49:44.664Z"
   },
   {
    "duration": 13,
    "start_time": "2025-05-26T02:49:45.164Z"
   },
   {
    "duration": 23701,
    "start_time": "2025-05-26T02:49:45.179Z"
   },
   {
    "duration": 23904,
    "start_time": "2025-05-26T02:50:08.973Z"
   },
   {
    "duration": 22097,
    "start_time": "2025-05-26T02:50:32.879Z"
   },
   {
    "duration": 6,
    "start_time": "2025-05-26T02:50:54.978Z"
   },
   {
    "duration": 85,
    "start_time": "2025-05-26T02:50:54.986Z"
   },
   {
    "duration": 24,
    "start_time": "2025-05-26T02:50:55.073Z"
   },
   {
    "duration": 6,
    "start_time": "2025-05-26T02:50:55.099Z"
   },
   {
    "duration": 166,
    "start_time": "2025-05-26T02:50:55.106Z"
   },
   {
    "duration": 2355,
    "start_time": "2025-05-26T11:16:06.909Z"
   },
   {
    "duration": 4,
    "start_time": "2025-05-26T11:16:09.266Z"
   },
   {
    "duration": 262,
    "start_time": "2025-05-26T11:16:09.272Z"
   },
   {
    "duration": 155,
    "start_time": "2025-05-26T11:16:09.536Z"
   },
   {
    "duration": 158,
    "start_time": "2025-05-26T11:16:09.693Z"
   },
   {
    "duration": 4,
    "start_time": "2025-05-26T11:16:09.852Z"
   },
   {
    "duration": 79,
    "start_time": "2025-05-26T11:16:09.857Z"
   },
   {
    "duration": 13,
    "start_time": "2025-05-26T11:16:09.938Z"
   },
   {
    "duration": 107,
    "start_time": "2025-05-26T11:16:09.953Z"
   },
   {
    "duration": 84,
    "start_time": "2025-05-26T11:16:10.062Z"
   },
   {
    "duration": 98,
    "start_time": "2025-05-26T11:16:10.147Z"
   },
   {
    "duration": 9,
    "start_time": "2025-05-26T11:16:10.247Z"
   },
   {
    "duration": 3277,
    "start_time": "2025-05-26T11:16:10.257Z"
   },
   {
    "duration": 3270,
    "start_time": "2025-05-26T11:16:13.538Z"
   },
   {
    "duration": 3580,
    "start_time": "2025-05-26T11:16:16.810Z"
   },
   {
    "duration": 4,
    "start_time": "2025-05-26T11:16:20.391Z"
   },
   {
    "duration": 525,
    "start_time": "2025-05-26T11:16:20.397Z"
   },
   {
    "duration": 494,
    "start_time": "2025-05-26T11:16:20.924Z"
   },
   {
    "duration": 493,
    "start_time": "2025-05-26T11:16:21.419Z"
   },
   {
    "duration": 25,
    "start_time": "2025-05-26T11:16:21.914Z"
   },
   {
    "duration": 23604,
    "start_time": "2025-05-26T11:16:21.941Z"
   },
   {
    "duration": 23895,
    "start_time": "2025-05-26T11:16:45.547Z"
   },
   {
    "duration": 20902,
    "start_time": "2025-05-26T11:17:09.443Z"
   },
   {
    "duration": 91,
    "start_time": "2025-05-26T11:17:30.347Z"
   },
   {
    "duration": 27,
    "start_time": "2025-05-26T11:17:30.439Z"
   },
   {
    "duration": 13,
    "start_time": "2025-05-26T11:17:30.468Z"
   },
   {
    "duration": 5,
    "start_time": "2025-05-26T11:17:30.483Z"
   },
   {
    "duration": 195,
    "start_time": "2025-05-26T11:17:30.489Z"
   },
   {
    "duration": 1722,
    "start_time": "2025-05-28T07:24:52.348Z"
   },
   {
    "duration": 4,
    "start_time": "2025-05-28T07:24:54.073Z"
   },
   {
    "duration": 185,
    "start_time": "2025-05-28T07:24:54.078Z"
   },
   {
    "duration": 158,
    "start_time": "2025-05-28T07:24:54.265Z"
   },
   {
    "duration": 162,
    "start_time": "2025-05-28T07:24:54.425Z"
   },
   {
    "duration": 3,
    "start_time": "2025-05-28T07:24:54.589Z"
   },
   {
    "duration": 37,
    "start_time": "2025-05-28T07:24:54.594Z"
   },
   {
    "duration": 4,
    "start_time": "2025-05-28T07:24:54.640Z"
   },
   {
    "duration": 119,
    "start_time": "2025-05-28T07:24:54.646Z"
   },
   {
    "duration": 105,
    "start_time": "2025-05-28T07:24:54.766Z"
   },
   {
    "duration": 111,
    "start_time": "2025-05-28T07:24:54.872Z"
   },
   {
    "duration": 9,
    "start_time": "2025-05-28T07:24:54.985Z"
   },
   {
    "duration": 3384,
    "start_time": "2025-05-28T07:24:54.996Z"
   },
   {
    "duration": 3351,
    "start_time": "2025-05-28T07:24:58.383Z"
   },
   {
    "duration": 3927,
    "start_time": "2025-05-28T07:25:01.736Z"
   },
   {
    "duration": 4,
    "start_time": "2025-05-28T07:25:05.665Z"
   },
   {
    "duration": 581,
    "start_time": "2025-05-28T07:25:05.671Z"
   },
   {
    "duration": 572,
    "start_time": "2025-05-28T07:25:06.254Z"
   },
   {
    "duration": 595,
    "start_time": "2025-05-28T07:25:06.828Z"
   },
   {
    "duration": 18,
    "start_time": "2025-05-28T07:25:07.425Z"
   },
   {
    "duration": 22802,
    "start_time": "2025-05-28T07:25:07.444Z"
   },
   {
    "duration": 22791,
    "start_time": "2025-05-28T07:25:30.248Z"
   },
   {
    "duration": 21102,
    "start_time": "2025-05-28T07:25:53.041Z"
   },
   {
    "duration": 7,
    "start_time": "2025-05-28T07:26:14.145Z"
   },
   {
    "duration": 17,
    "start_time": "2025-05-28T07:26:14.153Z"
   },
   {
    "duration": 38,
    "start_time": "2025-05-28T07:26:14.171Z"
   },
   {
    "duration": 6,
    "start_time": "2025-05-28T07:26:14.239Z"
   },
   {
    "duration": 285,
    "start_time": "2025-05-28T07:26:14.247Z"
   },
   {
    "duration": 1660,
    "start_time": "2025-05-28T07:26:14.535Z"
   },
   {
    "duration": 293,
    "start_time": "2025-05-28T07:32:22.096Z"
   },
   {
    "duration": 1402,
    "start_time": "2025-05-28T07:35:58.103Z"
   },
   {
    "duration": 4,
    "start_time": "2025-05-28T07:35:59.507Z"
   },
   {
    "duration": 208,
    "start_time": "2025-05-28T07:35:59.512Z"
   },
   {
    "duration": 152,
    "start_time": "2025-05-28T07:35:59.722Z"
   },
   {
    "duration": 201,
    "start_time": "2025-05-28T07:35:59.876Z"
   },
   {
    "duration": 4,
    "start_time": "2025-05-28T07:36:00.078Z"
   },
   {
    "duration": 81,
    "start_time": "2025-05-28T07:36:00.083Z"
   },
   {
    "duration": 73,
    "start_time": "2025-05-28T07:36:00.166Z"
   },
   {
    "duration": 220,
    "start_time": "2025-05-28T07:36:00.241Z"
   },
   {
    "duration": 203,
    "start_time": "2025-05-28T07:36:00.463Z"
   },
   {
    "duration": 192,
    "start_time": "2025-05-28T07:36:00.668Z"
   },
   {
    "duration": 9,
    "start_time": "2025-05-28T07:36:00.861Z"
   },
   {
    "duration": 3415,
    "start_time": "2025-05-28T07:36:00.872Z"
   },
   {
    "duration": 3140,
    "start_time": "2025-05-28T07:36:04.290Z"
   },
   {
    "duration": 3638,
    "start_time": "2025-05-28T07:36:07.432Z"
   },
   {
    "duration": 5,
    "start_time": "2025-05-28T07:36:11.072Z"
   },
   {
    "duration": 544,
    "start_time": "2025-05-28T07:36:11.078Z"
   },
   {
    "duration": 505,
    "start_time": "2025-05-28T07:36:11.623Z"
   },
   {
    "duration": 553,
    "start_time": "2025-05-28T07:36:12.130Z"
   },
   {
    "duration": 8,
    "start_time": "2025-05-28T07:36:12.685Z"
   },
   {
    "duration": 23546,
    "start_time": "2025-05-28T07:36:12.695Z"
   },
   {
    "duration": 23504,
    "start_time": "2025-05-28T07:36:36.243Z"
   },
   {
    "duration": 22309,
    "start_time": "2025-05-28T07:36:59.838Z"
   },
   {
    "duration": 94,
    "start_time": "2025-05-28T07:37:22.149Z"
   },
   {
    "duration": 97,
    "start_time": "2025-05-28T07:37:22.246Z"
   },
   {
    "duration": 141,
    "start_time": "2025-05-28T07:37:22.345Z"
   },
   {
    "duration": 28,
    "start_time": "2025-05-28T07:37:22.488Z"
   },
   {
    "duration": 183,
    "start_time": "2025-05-28T07:37:22.518Z"
   },
   {
    "duration": 1718,
    "start_time": "2025-05-28T07:37:22.703Z"
   },
   {
    "duration": 270,
    "start_time": "2025-05-28T07:37:24.423Z"
   },
   {
    "duration": 1791,
    "start_time": "2025-05-28T08:10:22.024Z"
   },
   {
    "duration": 5,
    "start_time": "2025-05-28T08:10:23.817Z"
   },
   {
    "duration": 191,
    "start_time": "2025-05-28T08:10:23.824Z"
   },
   {
    "duration": 177,
    "start_time": "2025-05-28T08:10:24.017Z"
   },
   {
    "duration": 181,
    "start_time": "2025-05-28T08:10:24.197Z"
   },
   {
    "duration": 4,
    "start_time": "2025-05-28T08:10:24.380Z"
   },
   {
    "duration": 79,
    "start_time": "2025-05-28T08:10:24.387Z"
   },
   {
    "duration": 5,
    "start_time": "2025-05-28T08:10:24.467Z"
   },
   {
    "duration": 96,
    "start_time": "2025-05-28T08:10:24.473Z"
   },
   {
    "duration": 93,
    "start_time": "2025-05-28T08:10:24.571Z"
   },
   {
    "duration": 89,
    "start_time": "2025-05-28T08:10:24.665Z"
   },
   {
    "duration": 9,
    "start_time": "2025-05-28T08:10:24.755Z"
   },
   {
    "duration": 3419,
    "start_time": "2025-05-28T08:10:24.765Z"
   },
   {
    "duration": 3454,
    "start_time": "2025-05-28T08:10:28.186Z"
   },
   {
    "duration": 3777,
    "start_time": "2025-05-28T08:10:31.642Z"
   },
   {
    "duration": 5,
    "start_time": "2025-05-28T08:10:35.421Z"
   },
   {
    "duration": 588,
    "start_time": "2025-05-28T08:10:35.436Z"
   },
   {
    "duration": 542,
    "start_time": "2025-05-28T08:10:36.026Z"
   },
   {
    "duration": 546,
    "start_time": "2025-05-28T08:10:36.569Z"
   },
   {
    "duration": 18,
    "start_time": "2025-05-28T08:10:37.117Z"
   },
   {
    "duration": 23900,
    "start_time": "2025-05-28T08:10:37.137Z"
   },
   {
    "duration": 24802,
    "start_time": "2025-05-28T08:11:01.039Z"
   },
   {
    "duration": 23302,
    "start_time": "2025-05-28T08:11:25.843Z"
   },
   {
    "duration": 7,
    "start_time": "2025-05-28T08:11:49.236Z"
   },
   {
    "duration": 5,
    "start_time": "2025-05-28T08:11:49.246Z"
   },
   {
    "duration": 13,
    "start_time": "2025-05-28T08:11:49.252Z"
   },
   {
    "duration": 5,
    "start_time": "2025-05-28T08:11:49.267Z"
   },
   {
    "duration": 182,
    "start_time": "2025-05-28T08:11:49.335Z"
   },
   {
    "duration": 1697,
    "start_time": "2025-05-28T08:11:49.518Z"
   },
   {
    "duration": 266,
    "start_time": "2025-05-28T08:11:51.217Z"
   },
   {
    "duration": 5,
    "start_time": "2025-05-28T08:16:02.882Z"
   },
   {
    "duration": 11,
    "start_time": "2025-05-28T08:16:03.402Z"
   },
   {
    "duration": 6,
    "start_time": "2025-05-28T08:16:04.607Z"
   },
   {
    "duration": 156,
    "start_time": "2025-05-28T08:16:05.460Z"
   },
   {
    "duration": 5,
    "start_time": "2025-05-28T08:16:28.615Z"
   },
   {
    "duration": 109,
    "start_time": "2025-05-28T08:16:29.617Z"
   },
   {
    "duration": 6,
    "start_time": "2025-05-28T08:16:36.703Z"
   },
   {
    "duration": 689,
    "start_time": "2025-05-28T08:16:37.101Z"
   },
   {
    "duration": 6,
    "start_time": "2025-05-28T08:22:46.230Z"
   },
   {
    "duration": 187,
    "start_time": "2025-05-28T08:22:46.692Z"
   },
   {
    "duration": 6,
    "start_time": "2025-05-28T08:23:01.070Z"
   },
   {
    "duration": 11,
    "start_time": "2025-05-28T08:46:37.263Z"
   }
  ],
  "kernelspec": {
   "display_name": "Python 3 (ipykernel)",
   "language": "python",
   "name": "python3"
  },
  "language_info": {
   "codemirror_mode": {
    "name": "ipython",
    "version": 3
   },
   "file_extension": ".py",
   "mimetype": "text/x-python",
   "name": "python",
   "nbconvert_exporter": "python",
   "pygments_lexer": "ipython3",
   "version": "3.9.18"
  },
  "toc": {
   "base_numbering": 1,
   "nav_menu": {},
   "number_sections": true,
   "sideBar": true,
   "skip_h1_title": true,
   "title_cell": "Table of Contents",
   "title_sidebar": "Contents",
   "toc_cell": false,
   "toc_position": {},
   "toc_section_display": true,
   "toc_window_display": true
  }
 },
 "nbformat": 4,
 "nbformat_minor": 2
}
