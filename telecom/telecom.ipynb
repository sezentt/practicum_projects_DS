{
 "cells": [
  {
   "cell_type": "markdown",
   "id": "950cb4c1",
   "metadata": {},
   "source": [
    "# Прогнозирование оттока клиентов телеком-оператора «ТелеДом»"
   ]
  },
  {
   "cell_type": "markdown",
   "id": "eb157e1a",
   "metadata": {},
   "source": [
    "**Цель проекта**\n",
    "\n",
    "Разработать модель машинного обучения для прогноза оттока клиентов оператора «ТелеДом».<br>\n",
    "Задача модели – по историческим данным о договорах, персональных характеристиках клиентов и используемых услугах предсказать, разорвёт ли клиент договор.\n",
    "\n",
    "**Бизнес-цель**\n",
    "\n",
    "Снижение оттока клиентов за счёт раннего выявления абонентов, склонных к уходу, и применения к ним удерживающих предложений (скидки, промокоды, специальные условия)."
   ]
  },
  {
   "cell_type": "markdown",
   "id": "dfb89b75",
   "metadata": {},
   "source": [
    "**Описание проекта**\n",
    "\n",
    "Оператор связи «ТелеДом» хочет бороться с оттоком клиентов. Для этого его сотрудники начнут предлагать промокоды и специальные условия всем, кто планирует отказаться от услуг связи. Чтобы заранее находить таких пользователей, «ТелеДому» нужна модель, которая будет предсказывать, разорвёт ли абонент договор. Команда оператора собрала персональные данные о некоторых клиентах, информацию об их тарифах и услугах. Наша задача — обучить на этих данных модель для прогноза оттока клиентов.\n",
    "\n",
    "**Описание услуг**\n",
    "\n",
    "Оператор предоставляет два основных типа услуг: \n",
    "- Стационарную телефонную связь. Телефон можно подключить к нескольким линиям одновременно.\n",
    "- Интернет. Подключение может быть двух типов: через телефонную линию (DSL, от англ. digital subscriber line — «цифровая абонентская линия») или оптоволоконный кабель (Fiber optic).\n",
    "\n",
    "Также доступны такие услуги:\n",
    "- Интернет-безопасность: антивирус (DeviceProtection) и блокировка небезопасных сайтов (OnlineSecurity);\n",
    "- Выделенная линия технической поддержки (TechSupport);\n",
    "- Облачное хранилище файлов для резервного копирования данных (OnlineBackup);\n",
    "- Стриминговое телевидение (StreamingTV) и каталог фильмов (StreamingMovies).\n",
    "\n",
    "Клиенты могут платить за услуги каждый месяц или заключить договор на 1–2 года. Возможно оплатить счёт разными способами, а также получить электронный чек."
   ]
  },
  {
   "cell_type": "markdown",
   "id": "942a530a",
   "metadata": {},
   "source": [
    "**Описание данных** \n",
    "\n",
    "Данные состоят из нескольких файлов, полученных из разных источников:\n",
    "- `contract_new.csv` — информация о договоре;\n",
    "- `personal_new.csv` — персональные данные клиента;\n",
    "- `internet_new.csv` — информация об интернет-услугах;\n",
    "- `phone_new.csv` — информация об услугах телефонии.\n",
    "\n",
    "Файл `contract_new.csv`\n",
    "- `customerID` — идентификатор абонента;\n",
    "- `BeginDate` — дата начала действия договора;\n",
    "- `EndDate` — дата окончания действия договора;\n",
    "- `Type` — тип оплаты: раз в год-два или ежемесячно;\n",
    "- `PaperlessBilling` — электронный расчётный лист;\n",
    "- `PaymentMethod` — тип платежа;\n",
    "- `MonthlyCharges` — расходы за месяц;\n",
    "- `TotalCharges` — общие расходы абонента.\n",
    "\n",
    "Файл `personal_new.csv`\n",
    "- `customerID` — идентификатор пользователя;\n",
    "- `gender` — пол;\n",
    "- `SeniorCitizen` — является ли абонент пенсионером;\n",
    "- `Partner` — есть ли у абонента супруг или супруга;\n",
    "- `Dependents` — есть ли у абонента дети.\n",
    "\n",
    "Файл `internet_new.csv`\n",
    "- `customerID` — идентификатор пользователя;\n",
    "- `InternetService` — тип подключения;\n",
    "- `OnlineSecurity` — блокировка опасных сайтов;\n",
    "- `OnlineBackup` — облачное хранилище файлов для резервного копирования данных;\n",
    "- `DeviceProtection` — антивирус;\n",
    "- `TechSupport` — выделенная линия технической поддержки;\n",
    "- `StreamingTV` — стриминговое телевидение;\n",
    "- `StreamingMovies` — каталог фильмов.\n",
    "\n",
    "Файл `phone_new.csv`\n",
    "- `customerID` — идентификатор пользователя;\n",
    "- `MultipleLines` — подключение телефона к нескольким линиям одновременно.\n",
    "\n",
    "Во всех файлах столбец `customerID` содержит код клиента. Информация о договорах актуальна на 1 февраля 2020 года."
   ]
  },
  {
   "cell_type": "markdown",
   "id": "6108f946",
   "metadata": {},
   "source": [
    "**План работы**\n",
    "1. Загрузка и первичный осмотр данных.\n",
    "2. Исследовательский анализ и предобработка датасетов.\n",
    "3. Объединение данных в единый датафрейм.\n",
    "4. Анализ объединённого датафрейма и генерация признаков.\n",
    "5. Подготовка данных к моделированию.\n",
    "6. Обучение и подбор гиперпараметров моделей.\n",
    "7. Оценка качества и выбор лучшей модели.\n",
    "8. Итоговые выводы и рекомендации для бизнеса."
   ]
  },
  {
   "cell_type": "markdown",
   "id": "89c0fd4b",
   "metadata": {},
   "source": [
    "## Загрузка и просмотр данных"
   ]
  },
  {
   "cell_type": "code",
   "execution_count": 1,
   "id": "18d03ec3",
   "metadata": {
    "scrolled": true
   },
   "outputs": [
    {
     "name": "stdout",
     "output_type": "stream",
     "text": [
      "Requirement already satisfied: phik in /opt/conda/lib/python3.9/site-packages (0.12.5)\n",
      "Requirement already satisfied: matplotlib>=2.2.3 in /opt/conda/lib/python3.9/site-packages (from phik) (3.3.4)\n",
      "Requirement already satisfied: joblib>=0.14.1 in /opt/conda/lib/python3.9/site-packages (from phik) (1.1.0)\n",
      "Requirement already satisfied: scipy>=1.5.2 in /opt/conda/lib/python3.9/site-packages (from phik) (1.9.1)\n",
      "Requirement already satisfied: numpy>=1.18.0 in /opt/conda/lib/python3.9/site-packages (from phik) (1.21.1)\n",
      "Requirement already satisfied: pandas>=0.25.1 in /opt/conda/lib/python3.9/site-packages (from phik) (1.2.4)\n",
      "Requirement already satisfied: pillow>=6.2.0 in /opt/conda/lib/python3.9/site-packages (from matplotlib>=2.2.3->phik) (8.4.0)\n",
      "Requirement already satisfied: cycler>=0.10 in /opt/conda/lib/python3.9/site-packages (from matplotlib>=2.2.3->phik) (0.11.0)\n",
      "Requirement already satisfied: python-dateutil>=2.1 in /opt/conda/lib/python3.9/site-packages (from matplotlib>=2.2.3->phik) (2.8.1)\n",
      "Requirement already satisfied: kiwisolver>=1.0.1 in /opt/conda/lib/python3.9/site-packages (from matplotlib>=2.2.3->phik) (1.4.4)\n",
      "Requirement already satisfied: pyparsing!=2.0.4,!=2.1.2,!=2.1.6,>=2.0.3 in /opt/conda/lib/python3.9/site-packages (from matplotlib>=2.2.3->phik) (2.4.7)\n",
      "Requirement already satisfied: pytz>=2017.3 in /opt/conda/lib/python3.9/site-packages (from pandas>=0.25.1->phik) (2021.1)\n",
      "Requirement already satisfied: six>=1.5 in /opt/conda/lib/python3.9/site-packages (from python-dateutil>=2.1->matplotlib>=2.2.3->phik) (1.16.0)\n"
     ]
    }
   ],
   "source": [
    "!pip install phik"
   ]
  },
  {
   "cell_type": "code",
   "execution_count": 2,
   "id": "eec46700",
   "metadata": {},
   "outputs": [],
   "source": [
    "# Подключение всех необходимых библиотек\n",
    "import os\n",
    "import pandas as pd\n",
    "import numpy as np\n",
    "import matplotlib.pyplot as plt\n",
    "import seaborn as sns\n",
    "from math import sqrt\n",
    "from datetime import datetime\n",
    "\n",
    "import phik\n",
    "\n",
    "# Настройка pandas для отображения полного текста\n",
    "pd.set_option('display.max_colwidth', None)\n",
    "\n",
    "# Задаем стиль графиков\n",
    "sns.set(style=\"whitegrid\", palette=\"pastel\")\n",
    "\n",
    "import warnings\n",
    "warnings.filterwarnings(\"ignore\")\n",
    "\n",
    "from sklearn.model_selection import train_test_split, StratifiedKFold, GridSearchCV\n",
    "from sklearn.pipeline import Pipeline\n",
    "from sklearn.compose import ColumnTransformer\n",
    "from sklearn.preprocessing import OneHotEncoder, StandardScaler\n",
    "from sklearn.impute import SimpleImputer\n",
    "from sklearn.base import BaseEstimator, TransformerMixin\n",
    "from sklearn.cluster import KMeans\n",
    "from sklearn.metrics import silhouette_score, make_scorer, roc_auc_score, accuracy_score, classification_report, confusion_matrix\n",
    "\n",
    "from sklearn.ensemble import RandomForestClassifier, GradientBoostingClassifier\n",
    "from sklearn.neighbors import KNeighborsClassifier\n",
    "from catboost import CatBoostClassifier\n",
    "from sklearn.experimental import enable_hist_gradient_boosting\n",
    "from sklearn.ensemble import HistGradientBoostingClassifier\n",
    "\n",
    "RANDOM_STATE = 250825\n",
    "CONTROL_DATE = pd.Timestamp(\"2020-02-01\")  # дата актуальности среза по условию"
   ]
  },
  {
   "cell_type": "code",
   "execution_count": 3,
   "id": "d4b4f67a",
   "metadata": {},
   "outputs": [],
   "source": [
    "# Загружает CSV-файл и выводит случайные строки и общую информацию\n",
    "def load_and_inspect_csv(filepath, delimiter=',', sample_size=5):\n",
    "    if os.path.exists(filepath):\n",
    "        df = pd.read_csv(filepath, delimiter=delimiter)\n",
    "        print(f\"Файл успешно загружен: {filepath}\")\n",
    "        display(df.sample(sample_size, random_state=42))\n",
    "        df.info()\n",
    "        return df\n",
    "    else:\n",
    "        print(f\"Файл не найден: {filepath}\")\n",
    "        return None"
   ]
  },
  {
   "cell_type": "code",
   "execution_count": 4,
   "id": "36b1963b",
   "metadata": {
    "scrolled": true
   },
   "outputs": [
    {
     "name": "stdout",
     "output_type": "stream",
     "text": [
      "Файл успешно загружен: /datasets/contract_new.csv\n"
     ]
    },
    {
     "data": {
      "text/html": [
       "<div>\n",
       "<style scoped>\n",
       "    .dataframe tbody tr th:only-of-type {\n",
       "        vertical-align: middle;\n",
       "    }\n",
       "\n",
       "    .dataframe tbody tr th {\n",
       "        vertical-align: top;\n",
       "    }\n",
       "\n",
       "    .dataframe thead th {\n",
       "        text-align: right;\n",
       "    }\n",
       "</style>\n",
       "<table border=\"1\" class=\"dataframe\">\n",
       "  <thead>\n",
       "    <tr style=\"text-align: right;\">\n",
       "      <th></th>\n",
       "      <th>customerID</th>\n",
       "      <th>BeginDate</th>\n",
       "      <th>EndDate</th>\n",
       "      <th>Type</th>\n",
       "      <th>PaperlessBilling</th>\n",
       "      <th>PaymentMethod</th>\n",
       "      <th>MonthlyCharges</th>\n",
       "      <th>TotalCharges</th>\n",
       "    </tr>\n",
       "  </thead>\n",
       "  <tbody>\n",
       "    <tr>\n",
       "      <th>185</th>\n",
       "      <td>1024-GUALD</td>\n",
       "      <td>2019-10-01</td>\n",
       "      <td>No</td>\n",
       "      <td>Month-to-month</td>\n",
       "      <td>Yes</td>\n",
       "      <td>Electronic check</td>\n",
       "      <td>24.80</td>\n",
       "      <td>99.2</td>\n",
       "    </tr>\n",
       "    <tr>\n",
       "      <th>2715</th>\n",
       "      <td>0484-JPBRU</td>\n",
       "      <td>2016-09-01</td>\n",
       "      <td>No</td>\n",
       "      <td>Month-to-month</td>\n",
       "      <td>Yes</td>\n",
       "      <td>Bank transfer (automatic)</td>\n",
       "      <td>25.25</td>\n",
       "      <td>1107.72</td>\n",
       "    </tr>\n",
       "    <tr>\n",
       "      <th>3825</th>\n",
       "      <td>3620-EHIMZ</td>\n",
       "      <td>2015-10-01</td>\n",
       "      <td>No</td>\n",
       "      <td>Two year</td>\n",
       "      <td>No</td>\n",
       "      <td>Mailed check</td>\n",
       "      <td>19.35</td>\n",
       "      <td>1066.57</td>\n",
       "    </tr>\n",
       "    <tr>\n",
       "      <th>1807</th>\n",
       "      <td>6910-HADCM</td>\n",
       "      <td>2019-09-01</td>\n",
       "      <td>No</td>\n",
       "      <td>Month-to-month</td>\n",
       "      <td>No</td>\n",
       "      <td>Electronic check</td>\n",
       "      <td>76.35</td>\n",
       "      <td>400.84</td>\n",
       "    </tr>\n",
       "    <tr>\n",
       "      <th>132</th>\n",
       "      <td>8587-XYZSF</td>\n",
       "      <td>2014-07-01</td>\n",
       "      <td>No</td>\n",
       "      <td>Two year</td>\n",
       "      <td>No</td>\n",
       "      <td>Bank transfer (automatic)</td>\n",
       "      <td>50.55</td>\n",
       "      <td>3691.67</td>\n",
       "    </tr>\n",
       "  </tbody>\n",
       "</table>\n",
       "</div>"
      ],
      "text/plain": [
       "      customerID   BeginDate EndDate            Type PaperlessBilling  \\\n",
       "185   1024-GUALD  2019-10-01      No  Month-to-month              Yes   \n",
       "2715  0484-JPBRU  2016-09-01      No  Month-to-month              Yes   \n",
       "3825  3620-EHIMZ  2015-10-01      No        Two year               No   \n",
       "1807  6910-HADCM  2019-09-01      No  Month-to-month               No   \n",
       "132   8587-XYZSF  2014-07-01      No        Two year               No   \n",
       "\n",
       "                  PaymentMethod  MonthlyCharges TotalCharges  \n",
       "185            Electronic check           24.80         99.2  \n",
       "2715  Bank transfer (automatic)           25.25      1107.72  \n",
       "3825               Mailed check           19.35      1066.57  \n",
       "1807           Electronic check           76.35       400.84  \n",
       "132   Bank transfer (automatic)           50.55      3691.67  "
      ]
     },
     "metadata": {},
     "output_type": "display_data"
    },
    {
     "name": "stdout",
     "output_type": "stream",
     "text": [
      "<class 'pandas.core.frame.DataFrame'>\n",
      "RangeIndex: 7043 entries, 0 to 7042\n",
      "Data columns (total 8 columns):\n",
      " #   Column            Non-Null Count  Dtype  \n",
      "---  ------            --------------  -----  \n",
      " 0   customerID        7043 non-null   object \n",
      " 1   BeginDate         7043 non-null   object \n",
      " 2   EndDate           7043 non-null   object \n",
      " 3   Type              7043 non-null   object \n",
      " 4   PaperlessBilling  7043 non-null   object \n",
      " 5   PaymentMethod     7043 non-null   object \n",
      " 6   MonthlyCharges    7043 non-null   float64\n",
      " 7   TotalCharges      7043 non-null   object \n",
      "dtypes: float64(1), object(7)\n",
      "memory usage: 440.3+ KB\n"
     ]
    }
   ],
   "source": [
    "# Изучим данные\n",
    "contract_raw = load_and_inspect_csv('/datasets/contract_new.csv')"
   ]
  },
  {
   "cell_type": "markdown",
   "id": "0c188d09",
   "metadata": {},
   "source": [
    "`contract_new.csv` – содержит сведения о договорах (7043 записи, 8 признаков). Здесь зафиксированы даты начала и окончания действия договора, тип оплаты, наличие электронного счёта, способ платежа, ежемесячные и суммарные расходы клиента. Поле TotalCharges хранится в текстовом формате и потребует преобразования."
   ]
  },
  {
   "cell_type": "code",
   "execution_count": 5,
   "id": "2fe97210",
   "metadata": {},
   "outputs": [
    {
     "name": "stdout",
     "output_type": "stream",
     "text": [
      "Файл успешно загружен: /datasets/personal_new.csv\n"
     ]
    },
    {
     "data": {
      "text/html": [
       "<div>\n",
       "<style scoped>\n",
       "    .dataframe tbody tr th:only-of-type {\n",
       "        vertical-align: middle;\n",
       "    }\n",
       "\n",
       "    .dataframe tbody tr th {\n",
       "        vertical-align: top;\n",
       "    }\n",
       "\n",
       "    .dataframe thead th {\n",
       "        text-align: right;\n",
       "    }\n",
       "</style>\n",
       "<table border=\"1\" class=\"dataframe\">\n",
       "  <thead>\n",
       "    <tr style=\"text-align: right;\">\n",
       "      <th></th>\n",
       "      <th>customerID</th>\n",
       "      <th>gender</th>\n",
       "      <th>SeniorCitizen</th>\n",
       "      <th>Partner</th>\n",
       "      <th>Dependents</th>\n",
       "    </tr>\n",
       "  </thead>\n",
       "  <tbody>\n",
       "    <tr>\n",
       "      <th>185</th>\n",
       "      <td>1024-GUALD</td>\n",
       "      <td>Female</td>\n",
       "      <td>0</td>\n",
       "      <td>Yes</td>\n",
       "      <td>No</td>\n",
       "    </tr>\n",
       "    <tr>\n",
       "      <th>2715</th>\n",
       "      <td>0484-JPBRU</td>\n",
       "      <td>Male</td>\n",
       "      <td>0</td>\n",
       "      <td>No</td>\n",
       "      <td>No</td>\n",
       "    </tr>\n",
       "    <tr>\n",
       "      <th>3825</th>\n",
       "      <td>3620-EHIMZ</td>\n",
       "      <td>Female</td>\n",
       "      <td>0</td>\n",
       "      <td>Yes</td>\n",
       "      <td>Yes</td>\n",
       "    </tr>\n",
       "    <tr>\n",
       "      <th>1807</th>\n",
       "      <td>6910-HADCM</td>\n",
       "      <td>Female</td>\n",
       "      <td>0</td>\n",
       "      <td>No</td>\n",
       "      <td>No</td>\n",
       "    </tr>\n",
       "    <tr>\n",
       "      <th>132</th>\n",
       "      <td>8587-XYZSF</td>\n",
       "      <td>Male</td>\n",
       "      <td>0</td>\n",
       "      <td>No</td>\n",
       "      <td>No</td>\n",
       "    </tr>\n",
       "  </tbody>\n",
       "</table>\n",
       "</div>"
      ],
      "text/plain": [
       "      customerID  gender  SeniorCitizen Partner Dependents\n",
       "185   1024-GUALD  Female              0     Yes         No\n",
       "2715  0484-JPBRU    Male              0      No         No\n",
       "3825  3620-EHIMZ  Female              0     Yes        Yes\n",
       "1807  6910-HADCM  Female              0      No         No\n",
       "132   8587-XYZSF    Male              0      No         No"
      ]
     },
     "metadata": {},
     "output_type": "display_data"
    },
    {
     "name": "stdout",
     "output_type": "stream",
     "text": [
      "<class 'pandas.core.frame.DataFrame'>\n",
      "RangeIndex: 7043 entries, 0 to 7042\n",
      "Data columns (total 5 columns):\n",
      " #   Column         Non-Null Count  Dtype \n",
      "---  ------         --------------  ----- \n",
      " 0   customerID     7043 non-null   object\n",
      " 1   gender         7043 non-null   object\n",
      " 2   SeniorCitizen  7043 non-null   int64 \n",
      " 3   Partner        7043 non-null   object\n",
      " 4   Dependents     7043 non-null   object\n",
      "dtypes: int64(1), object(4)\n",
      "memory usage: 275.2+ KB\n"
     ]
    }
   ],
   "source": [
    "# Изучим данные\n",
    "personal_raw = load_and_inspect_csv('/datasets/personal_new.csv')"
   ]
  },
  {
   "cell_type": "markdown",
   "id": "87efd2ee",
   "metadata": {},
   "source": [
    "`personal_new.csv` – содержит персональные данные абонентов (7043 записи, 5 признаков). В таблице указаны пол клиента, принадлежность к категории «пенсионер», а также наличие супруга и детей."
   ]
  },
  {
   "cell_type": "code",
   "execution_count": 6,
   "id": "ac9d92cd",
   "metadata": {},
   "outputs": [
    {
     "name": "stdout",
     "output_type": "stream",
     "text": [
      "Файл успешно загружен: /datasets/internet_new.csv\n"
     ]
    },
    {
     "data": {
      "text/html": [
       "<div>\n",
       "<style scoped>\n",
       "    .dataframe tbody tr th:only-of-type {\n",
       "        vertical-align: middle;\n",
       "    }\n",
       "\n",
       "    .dataframe tbody tr th {\n",
       "        vertical-align: top;\n",
       "    }\n",
       "\n",
       "    .dataframe thead th {\n",
       "        text-align: right;\n",
       "    }\n",
       "</style>\n",
       "<table border=\"1\" class=\"dataframe\">\n",
       "  <thead>\n",
       "    <tr style=\"text-align: right;\">\n",
       "      <th></th>\n",
       "      <th>customerID</th>\n",
       "      <th>InternetService</th>\n",
       "      <th>OnlineSecurity</th>\n",
       "      <th>OnlineBackup</th>\n",
       "      <th>DeviceProtection</th>\n",
       "      <th>TechSupport</th>\n",
       "      <th>StreamingTV</th>\n",
       "      <th>StreamingMovies</th>\n",
       "    </tr>\n",
       "  </thead>\n",
       "  <tbody>\n",
       "    <tr>\n",
       "      <th>1615</th>\n",
       "      <td>1170-SASML</td>\n",
       "      <td>Fiber optic</td>\n",
       "      <td>No</td>\n",
       "      <td>Yes</td>\n",
       "      <td>Yes</td>\n",
       "      <td>No</td>\n",
       "      <td>No</td>\n",
       "      <td>No</td>\n",
       "    </tr>\n",
       "    <tr>\n",
       "      <th>1874</th>\n",
       "      <td>9314-QDMDW</td>\n",
       "      <td>DSL</td>\n",
       "      <td>No</td>\n",
       "      <td>Yes</td>\n",
       "      <td>No</td>\n",
       "      <td>No</td>\n",
       "      <td>Yes</td>\n",
       "      <td>No</td>\n",
       "    </tr>\n",
       "    <tr>\n",
       "      <th>3167</th>\n",
       "      <td>2434-EEVDB</td>\n",
       "      <td>Fiber optic</td>\n",
       "      <td>Yes</td>\n",
       "      <td>No</td>\n",
       "      <td>Yes</td>\n",
       "      <td>No</td>\n",
       "      <td>Yes</td>\n",
       "      <td>No</td>\n",
       "    </tr>\n",
       "    <tr>\n",
       "      <th>5287</th>\n",
       "      <td>7672-VFMXZ</td>\n",
       "      <td>DSL</td>\n",
       "      <td>Yes</td>\n",
       "      <td>No</td>\n",
       "      <td>No</td>\n",
       "      <td>Yes</td>\n",
       "      <td>No</td>\n",
       "      <td>No</td>\n",
       "    </tr>\n",
       "    <tr>\n",
       "      <th>4770</th>\n",
       "      <td>7445-WMRBW</td>\n",
       "      <td>DSL</td>\n",
       "      <td>No</td>\n",
       "      <td>Yes</td>\n",
       "      <td>Yes</td>\n",
       "      <td>Yes</td>\n",
       "      <td>Yes</td>\n",
       "      <td>No</td>\n",
       "    </tr>\n",
       "  </tbody>\n",
       "</table>\n",
       "</div>"
      ],
      "text/plain": [
       "      customerID InternetService OnlineSecurity OnlineBackup DeviceProtection  \\\n",
       "1615  1170-SASML     Fiber optic             No          Yes              Yes   \n",
       "1874  9314-QDMDW             DSL             No          Yes               No   \n",
       "3167  2434-EEVDB     Fiber optic            Yes           No              Yes   \n",
       "5287  7672-VFMXZ             DSL            Yes           No               No   \n",
       "4770  7445-WMRBW             DSL             No          Yes              Yes   \n",
       "\n",
       "     TechSupport StreamingTV StreamingMovies  \n",
       "1615          No          No              No  \n",
       "1874          No         Yes              No  \n",
       "3167          No         Yes              No  \n",
       "5287         Yes          No              No  \n",
       "4770         Yes         Yes              No  "
      ]
     },
     "metadata": {},
     "output_type": "display_data"
    },
    {
     "name": "stdout",
     "output_type": "stream",
     "text": [
      "<class 'pandas.core.frame.DataFrame'>\n",
      "RangeIndex: 5517 entries, 0 to 5516\n",
      "Data columns (total 8 columns):\n",
      " #   Column            Non-Null Count  Dtype \n",
      "---  ------            --------------  ----- \n",
      " 0   customerID        5517 non-null   object\n",
      " 1   InternetService   5517 non-null   object\n",
      " 2   OnlineSecurity    5517 non-null   object\n",
      " 3   OnlineBackup      5517 non-null   object\n",
      " 4   DeviceProtection  5517 non-null   object\n",
      " 5   TechSupport       5517 non-null   object\n",
      " 6   StreamingTV       5517 non-null   object\n",
      " 7   StreamingMovies   5517 non-null   object\n",
      "dtypes: object(8)\n",
      "memory usage: 344.9+ KB\n"
     ]
    }
   ],
   "source": [
    "# Изучим данные\n",
    "internet_raw = load_and_inspect_csv('/datasets/internet_new.csv')"
   ]
  },
  {
   "cell_type": "markdown",
   "id": "55cf7bb6",
   "metadata": {},
   "source": [
    "`internet_new.csv` – отражает информацию об интернет-услугах (5517 записей, 8 признаков). Доступны сведения о типе подключения и дополнительных сервисах (блокировка сайтов, антивирус, облачное хранилище, техподдержка, стриминговые сервисы)."
   ]
  },
  {
   "cell_type": "code",
   "execution_count": 7,
   "id": "f367af1d",
   "metadata": {},
   "outputs": [
    {
     "name": "stdout",
     "output_type": "stream",
     "text": [
      "Файл успешно загружен: /datasets/phone_new.csv\n"
     ]
    },
    {
     "data": {
      "text/html": [
       "<div>\n",
       "<style scoped>\n",
       "    .dataframe tbody tr th:only-of-type {\n",
       "        vertical-align: middle;\n",
       "    }\n",
       "\n",
       "    .dataframe tbody tr th {\n",
       "        vertical-align: top;\n",
       "    }\n",
       "\n",
       "    .dataframe thead th {\n",
       "        text-align: right;\n",
       "    }\n",
       "</style>\n",
       "<table border=\"1\" class=\"dataframe\">\n",
       "  <thead>\n",
       "    <tr style=\"text-align: right;\">\n",
       "      <th></th>\n",
       "      <th>customerID</th>\n",
       "      <th>MultipleLines</th>\n",
       "    </tr>\n",
       "  </thead>\n",
       "  <tbody>\n",
       "    <tr>\n",
       "      <th>4743</th>\n",
       "      <td>5887-IKKYO</td>\n",
       "      <td>Yes</td>\n",
       "    </tr>\n",
       "    <tr>\n",
       "      <th>4825</th>\n",
       "      <td>7718-UPSKJ</td>\n",
       "      <td>No</td>\n",
       "    </tr>\n",
       "    <tr>\n",
       "      <th>472</th>\n",
       "      <td>3571-DPYUH</td>\n",
       "      <td>Yes</td>\n",
       "    </tr>\n",
       "    <tr>\n",
       "      <th>2722</th>\n",
       "      <td>3769-MHZNV</td>\n",
       "      <td>No</td>\n",
       "    </tr>\n",
       "    <tr>\n",
       "      <th>932</th>\n",
       "      <td>6732-FZUGP</td>\n",
       "      <td>Yes</td>\n",
       "    </tr>\n",
       "  </tbody>\n",
       "</table>\n",
       "</div>"
      ],
      "text/plain": [
       "      customerID MultipleLines\n",
       "4743  5887-IKKYO           Yes\n",
       "4825  7718-UPSKJ            No\n",
       "472   3571-DPYUH           Yes\n",
       "2722  3769-MHZNV            No\n",
       "932   6732-FZUGP           Yes"
      ]
     },
     "metadata": {},
     "output_type": "display_data"
    },
    {
     "name": "stdout",
     "output_type": "stream",
     "text": [
      "<class 'pandas.core.frame.DataFrame'>\n",
      "RangeIndex: 6361 entries, 0 to 6360\n",
      "Data columns (total 2 columns):\n",
      " #   Column         Non-Null Count  Dtype \n",
      "---  ------         --------------  ----- \n",
      " 0   customerID     6361 non-null   object\n",
      " 1   MultipleLines  6361 non-null   object\n",
      "dtypes: object(2)\n",
      "memory usage: 99.5+ KB\n"
     ]
    }
   ],
   "source": [
    "# Изучим данные\n",
    "phone_raw = load_and_inspect_csv('/datasets/phone_new.csv')"
   ]
  },
  {
   "cell_type": "markdown",
   "id": "061819c4",
   "metadata": {},
   "source": [
    "`phone_new.csv` – содержит данные об услугах телефонии (6361 запись, 2 признака). Признак показывает, подключен ли телефон к нескольким линиям."
   ]
  },
  {
   "cell_type": "markdown",
   "id": "6519d974",
   "metadata": {},
   "source": [
    "Таким образом, мы загрузили и изучили наши данные. Общим ключом во всех таблицах является `customerID`.<br>\n",
    "Наборы данных различаются по размерности: не все клиенты пользуются интернетом или телефоном, поэтому в соответствующих таблицах меньше строк, чем в данных о договорах."
   ]
  },
  {
   "cell_type": "markdown",
   "id": "721091dd",
   "metadata": {},
   "source": [
    "## Исследовательский анализ и предобработка данных"
   ]
  },
  {
   "cell_type": "code",
   "execution_count": 8,
   "id": "edbd8997",
   "metadata": {},
   "outputs": [],
   "source": [
    "def inspect_df(df: pd.DataFrame, id_cols=None, top_n: int = 3, name: str = None):\n",
    "    \"\"\"\n",
    "    Лёгкий первичный осмотр датафрейма:\n",
    "    - shape, dtypes, пропуски, дубликаты\n",
    "    - describe() для числовых\n",
    "    - для текстовых: n_unique, мода, её частота, топ-N значений\n",
    "    Колонки-ID исключаются из статистики.\n",
    "    \"\"\"\n",
    "    name = name or \"DataFrame\"\n",
    "    id_cols = set((id_cols or [])) | {c for c in df.columns if \"id\" in c.lower()}\n",
    "\n",
    "    print(f\"=== {name}: shape={df.shape[0]}x{df.shape[1]} ===\")\n",
    "    print(\"Дубликаты:\", int(df.duplicated().sum()))\n",
    "    print(\"\\nDtypes:\")\n",
    "    print(df.dtypes.astype(str))\n",
    "\n",
    "    miss = pd.DataFrame({\n",
    "        \"missing\": df.isna().sum(),\n",
    "        \"missing_%\": (df.isna().mean()*100).round(2)\n",
    "    }).sort_values(\"missing\", ascending=False)\n",
    "    print(\"\\nПропуски (top 10):\")\n",
    "    print(miss.head(10))\n",
    "\n",
    "    cols_for_stats = [c for c in df.columns if c not in id_cols]\n",
    "    num_cols = [c for c in cols_for_stats if pd.api.types.is_numeric_dtype(df[c])]\n",
    "    obj_cols = [c for c in cols_for_stats if pd.api.types.is_object_dtype(df[c]) or pd.api.types.is_categorical_dtype(df[c])]\n",
    "\n",
    "    if num_cols:\n",
    "        print(\"\\nЧисловая статистика (describe):\")\n",
    "        display(df[num_cols].describe().T)\n",
    "\n",
    "    if obj_cols:\n",
    "        print(\"\\nКатегориальная статистика:\")\n",
    "        rows = []\n",
    "        for c in obj_cols:\n",
    "            vc = df[c].value_counts(dropna=True)\n",
    "            top_vals = vc.head(top_n)\n",
    "            rows.append({\n",
    "                \"feature\": c,\n",
    "                \"n_unique\": int(df[c].nunique(dropna=True)),\n",
    "                \"mode\": top_vals.index[0] if len(top_vals) > 0 else np.nan,\n",
    "                \"mode_freq\": int(top_vals.iloc[0]) if len(top_vals) > 0 else 0,\n",
    "                **{f\"top{i+1}_value\": (top_vals.index[i] if len(top_vals)>i else np.nan) for i in range(top_n)},\n",
    "                **{f\"top{i+1}_freq\": (int(top_vals.iloc[i]) if len(top_vals)>i else np.nan) for i in range(top_n)}\n",
    "            })\n",
    "        display(pd.DataFrame(rows).set_index(\"feature\"))"
   ]
  },
  {
   "cell_type": "markdown",
   "id": "a085e169",
   "metadata": {},
   "source": [
    "### contract_new.csv"
   ]
  },
  {
   "cell_type": "code",
   "execution_count": 9,
   "id": "5cd29a1f",
   "metadata": {
    "scrolled": true
   },
   "outputs": [
    {
     "name": "stdout",
     "output_type": "stream",
     "text": [
      "=== contract_raw: shape=7043x8 ===\n",
      "Дубликаты: 0\n",
      "\n",
      "Dtypes:\n",
      "customerID           object\n",
      "BeginDate            object\n",
      "EndDate              object\n",
      "Type                 object\n",
      "PaperlessBilling     object\n",
      "PaymentMethod        object\n",
      "MonthlyCharges      float64\n",
      "TotalCharges         object\n",
      "dtype: object\n",
      "\n",
      "Пропуски (top 10):\n",
      "                  missing  missing_%\n",
      "customerID              0        0.0\n",
      "BeginDate               0        0.0\n",
      "EndDate                 0        0.0\n",
      "Type                    0        0.0\n",
      "PaperlessBilling        0        0.0\n",
      "PaymentMethod           0        0.0\n",
      "MonthlyCharges          0        0.0\n",
      "TotalCharges            0        0.0\n",
      "\n",
      "Числовая статистика (describe):\n"
     ]
    },
    {
     "data": {
      "text/html": [
       "<div>\n",
       "<style scoped>\n",
       "    .dataframe tbody tr th:only-of-type {\n",
       "        vertical-align: middle;\n",
       "    }\n",
       "\n",
       "    .dataframe tbody tr th {\n",
       "        vertical-align: top;\n",
       "    }\n",
       "\n",
       "    .dataframe thead th {\n",
       "        text-align: right;\n",
       "    }\n",
       "</style>\n",
       "<table border=\"1\" class=\"dataframe\">\n",
       "  <thead>\n",
       "    <tr style=\"text-align: right;\">\n",
       "      <th></th>\n",
       "      <th>count</th>\n",
       "      <th>mean</th>\n",
       "      <th>std</th>\n",
       "      <th>min</th>\n",
       "      <th>25%</th>\n",
       "      <th>50%</th>\n",
       "      <th>75%</th>\n",
       "      <th>max</th>\n",
       "    </tr>\n",
       "  </thead>\n",
       "  <tbody>\n",
       "    <tr>\n",
       "      <th>MonthlyCharges</th>\n",
       "      <td>7043.0</td>\n",
       "      <td>64.761692</td>\n",
       "      <td>30.090047</td>\n",
       "      <td>18.25</td>\n",
       "      <td>35.5</td>\n",
       "      <td>70.35</td>\n",
       "      <td>89.85</td>\n",
       "      <td>118.75</td>\n",
       "    </tr>\n",
       "  </tbody>\n",
       "</table>\n",
       "</div>"
      ],
      "text/plain": [
       "                 count       mean        std    min   25%    50%    75%  \\\n",
       "MonthlyCharges  7043.0  64.761692  30.090047  18.25  35.5  70.35  89.85   \n",
       "\n",
       "                   max  \n",
       "MonthlyCharges  118.75  "
      ]
     },
     "metadata": {},
     "output_type": "display_data"
    },
    {
     "name": "stdout",
     "output_type": "stream",
     "text": [
      "\n",
      "Категориальная статистика:\n"
     ]
    },
    {
     "data": {
      "text/html": [
       "<div>\n",
       "<style scoped>\n",
       "    .dataframe tbody tr th:only-of-type {\n",
       "        vertical-align: middle;\n",
       "    }\n",
       "\n",
       "    .dataframe tbody tr th {\n",
       "        vertical-align: top;\n",
       "    }\n",
       "\n",
       "    .dataframe thead th {\n",
       "        text-align: right;\n",
       "    }\n",
       "</style>\n",
       "<table border=\"1\" class=\"dataframe\">\n",
       "  <thead>\n",
       "    <tr style=\"text-align: right;\">\n",
       "      <th></th>\n",
       "      <th>n_unique</th>\n",
       "      <th>mode</th>\n",
       "      <th>mode_freq</th>\n",
       "      <th>top1_value</th>\n",
       "      <th>top2_value</th>\n",
       "      <th>top3_value</th>\n",
       "      <th>top1_freq</th>\n",
       "      <th>top2_freq</th>\n",
       "      <th>top3_freq</th>\n",
       "    </tr>\n",
       "    <tr>\n",
       "      <th>feature</th>\n",
       "      <th></th>\n",
       "      <th></th>\n",
       "      <th></th>\n",
       "      <th></th>\n",
       "      <th></th>\n",
       "      <th></th>\n",
       "      <th></th>\n",
       "      <th></th>\n",
       "      <th></th>\n",
       "    </tr>\n",
       "  </thead>\n",
       "  <tbody>\n",
       "    <tr>\n",
       "      <th>BeginDate</th>\n",
       "      <td>77</td>\n",
       "      <td>2014-02-01</td>\n",
       "      <td>366</td>\n",
       "      <td>2014-02-01</td>\n",
       "      <td>2019-11-01</td>\n",
       "      <td>2019-10-01</td>\n",
       "      <td>366</td>\n",
       "      <td>237</td>\n",
       "      <td>237.0</td>\n",
       "    </tr>\n",
       "    <tr>\n",
       "      <th>EndDate</th>\n",
       "      <td>67</td>\n",
       "      <td>No</td>\n",
       "      <td>5942</td>\n",
       "      <td>No</td>\n",
       "      <td>2020-01-01</td>\n",
       "      <td>2019-12-01</td>\n",
       "      <td>5942</td>\n",
       "      <td>39</td>\n",
       "      <td>38.0</td>\n",
       "    </tr>\n",
       "    <tr>\n",
       "      <th>Type</th>\n",
       "      <td>3</td>\n",
       "      <td>Month-to-month</td>\n",
       "      <td>3875</td>\n",
       "      <td>Month-to-month</td>\n",
       "      <td>Two year</td>\n",
       "      <td>One year</td>\n",
       "      <td>3875</td>\n",
       "      <td>1695</td>\n",
       "      <td>1473.0</td>\n",
       "    </tr>\n",
       "    <tr>\n",
       "      <th>PaperlessBilling</th>\n",
       "      <td>2</td>\n",
       "      <td>Yes</td>\n",
       "      <td>4171</td>\n",
       "      <td>Yes</td>\n",
       "      <td>No</td>\n",
       "      <td>NaN</td>\n",
       "      <td>4171</td>\n",
       "      <td>2872</td>\n",
       "      <td>NaN</td>\n",
       "    </tr>\n",
       "    <tr>\n",
       "      <th>PaymentMethod</th>\n",
       "      <td>4</td>\n",
       "      <td>Electronic check</td>\n",
       "      <td>2365</td>\n",
       "      <td>Electronic check</td>\n",
       "      <td>Mailed check</td>\n",
       "      <td>Bank transfer (automatic)</td>\n",
       "      <td>2365</td>\n",
       "      <td>1612</td>\n",
       "      <td>1544.0</td>\n",
       "    </tr>\n",
       "    <tr>\n",
       "      <th>TotalCharges</th>\n",
       "      <td>6658</td>\n",
       "      <td></td>\n",
       "      <td>11</td>\n",
       "      <td></td>\n",
       "      <td>20.45</td>\n",
       "      <td>101.0</td>\n",
       "      <td>11</td>\n",
       "      <td>6</td>\n",
       "      <td>5.0</td>\n",
       "    </tr>\n",
       "  </tbody>\n",
       "</table>\n",
       "</div>"
      ],
      "text/plain": [
       "                  n_unique              mode  mode_freq        top1_value  \\\n",
       "feature                                                                     \n",
       "BeginDate               77        2014-02-01        366        2014-02-01   \n",
       "EndDate                 67                No       5942                No   \n",
       "Type                     3    Month-to-month       3875    Month-to-month   \n",
       "PaperlessBilling         2               Yes       4171               Yes   \n",
       "PaymentMethod            4  Electronic check       2365  Electronic check   \n",
       "TotalCharges          6658                           11                     \n",
       "\n",
       "                    top2_value                 top3_value  top1_freq  \\\n",
       "feature                                                                \n",
       "BeginDate           2019-11-01                 2019-10-01        366   \n",
       "EndDate             2020-01-01                 2019-12-01       5942   \n",
       "Type                  Two year                   One year       3875   \n",
       "PaperlessBilling            No                        NaN       4171   \n",
       "PaymentMethod     Mailed check  Bank transfer (automatic)       2365   \n",
       "TotalCharges             20.45                      101.0         11   \n",
       "\n",
       "                  top2_freq  top3_freq  \n",
       "feature                                 \n",
       "BeginDate               237      237.0  \n",
       "EndDate                  39       38.0  \n",
       "Type                   1695     1473.0  \n",
       "PaperlessBilling       2872        NaN  \n",
       "PaymentMethod          1612     1544.0  \n",
       "TotalCharges              6        5.0  "
      ]
     },
     "metadata": {},
     "output_type": "display_data"
    }
   ],
   "source": [
    "inspect_df(contract_raw, id_cols=[\"customerID\"], name=\"contract_raw\")"
   ]
  },
  {
   "cell_type": "markdown",
   "id": "041d6ce6",
   "metadata": {},
   "source": [
    "- преобразуем `BeginDate` и `EndDate` в формат дат;\n",
    "- сформируем целевой признак `Churn` (1 – расторгнут, 0 – активен);\n",
    "- рассчитаем стаж обслуживания `TenureMonths` относительно 2020-02-01;\n",
    "- `TotalCharges` приведём к типу `float`."
   ]
  },
  {
   "cell_type": "code",
   "execution_count": 10,
   "id": "06ea4de3",
   "metadata": {
    "scrolled": true
   },
   "outputs": [
    {
     "name": "stdout",
     "output_type": "stream",
     "text": [
      "=== contract_clean: shape=7043x10 ===\n",
      "Дубликаты: 0\n",
      "\n",
      "Dtypes:\n",
      "customerID                  object\n",
      "BeginDate           datetime64[ns]\n",
      "EndDate                     object\n",
      "Type                        object\n",
      "PaperlessBilling            object\n",
      "PaymentMethod               object\n",
      "MonthlyCharges             float64\n",
      "TotalCharges               float64\n",
      "Churn                        int64\n",
      "TenureMonths                 Int64\n",
      "dtype: object\n",
      "\n",
      "Пропуски (top 10):\n",
      "                  missing  missing_%\n",
      "EndDate              5942      84.37\n",
      "customerID              0       0.00\n",
      "BeginDate               0       0.00\n",
      "Type                    0       0.00\n",
      "PaperlessBilling        0       0.00\n",
      "PaymentMethod           0       0.00\n",
      "MonthlyCharges          0       0.00\n",
      "TotalCharges            0       0.00\n",
      "Churn                   0       0.00\n",
      "TenureMonths            0       0.00\n",
      "\n",
      "Числовая статистика (describe):\n"
     ]
    },
    {
     "data": {
      "text/html": [
       "<div>\n",
       "<style scoped>\n",
       "    .dataframe tbody tr th:only-of-type {\n",
       "        vertical-align: middle;\n",
       "    }\n",
       "\n",
       "    .dataframe tbody tr th {\n",
       "        vertical-align: top;\n",
       "    }\n",
       "\n",
       "    .dataframe thead th {\n",
       "        text-align: right;\n",
       "    }\n",
       "</style>\n",
       "<table border=\"1\" class=\"dataframe\">\n",
       "  <thead>\n",
       "    <tr style=\"text-align: right;\">\n",
       "      <th></th>\n",
       "      <th>count</th>\n",
       "      <th>mean</th>\n",
       "      <th>std</th>\n",
       "      <th>min</th>\n",
       "      <th>25%</th>\n",
       "      <th>50%</th>\n",
       "      <th>75%</th>\n",
       "      <th>max</th>\n",
       "    </tr>\n",
       "  </thead>\n",
       "  <tbody>\n",
       "    <tr>\n",
       "      <th>MonthlyCharges</th>\n",
       "      <td>7043.0</td>\n",
       "      <td>64.761692</td>\n",
       "      <td>30.090047</td>\n",
       "      <td>18.25</td>\n",
       "      <td>35.50</td>\n",
       "      <td>70.35</td>\n",
       "      <td>89.85</td>\n",
       "      <td>118.75</td>\n",
       "    </tr>\n",
       "    <tr>\n",
       "      <th>TotalCharges</th>\n",
       "      <td>7043.0</td>\n",
       "      <td>2115.312885</td>\n",
       "      <td>2112.742814</td>\n",
       "      <td>0.00</td>\n",
       "      <td>436.75</td>\n",
       "      <td>1343.35</td>\n",
       "      <td>3236.69</td>\n",
       "      <td>9221.38</td>\n",
       "    </tr>\n",
       "    <tr>\n",
       "      <th>Churn</th>\n",
       "      <td>7043.0</td>\n",
       "      <td>0.156325</td>\n",
       "      <td>0.363189</td>\n",
       "      <td>0.00</td>\n",
       "      <td>0.00</td>\n",
       "      <td>0.00</td>\n",
       "      <td>0.00</td>\n",
       "      <td>1.00</td>\n",
       "    </tr>\n",
       "    <tr>\n",
       "      <th>TenureMonths</th>\n",
       "      <td>7043.0</td>\n",
       "      <td>29.495385</td>\n",
       "      <td>22.446726</td>\n",
       "      <td>0.00</td>\n",
       "      <td>9.00</td>\n",
       "      <td>25.00</td>\n",
       "      <td>48.00</td>\n",
       "      <td>76.00</td>\n",
       "    </tr>\n",
       "  </tbody>\n",
       "</table>\n",
       "</div>"
      ],
      "text/plain": [
       "                 count         mean          std    min     25%      50%  \\\n",
       "MonthlyCharges  7043.0    64.761692    30.090047  18.25   35.50    70.35   \n",
       "TotalCharges    7043.0  2115.312885  2112.742814   0.00  436.75  1343.35   \n",
       "Churn           7043.0     0.156325     0.363189   0.00    0.00     0.00   \n",
       "TenureMonths    7043.0    29.495385    22.446726   0.00    9.00    25.00   \n",
       "\n",
       "                    75%      max  \n",
       "MonthlyCharges    89.85   118.75  \n",
       "TotalCharges    3236.69  9221.38  \n",
       "Churn              0.00     1.00  \n",
       "TenureMonths      48.00    76.00  "
      ]
     },
     "metadata": {},
     "output_type": "display_data"
    },
    {
     "name": "stdout",
     "output_type": "stream",
     "text": [
      "\n",
      "Категориальная статистика:\n"
     ]
    },
    {
     "data": {
      "text/html": [
       "<div>\n",
       "<style scoped>\n",
       "    .dataframe tbody tr th:only-of-type {\n",
       "        vertical-align: middle;\n",
       "    }\n",
       "\n",
       "    .dataframe tbody tr th {\n",
       "        vertical-align: top;\n",
       "    }\n",
       "\n",
       "    .dataframe thead th {\n",
       "        text-align: right;\n",
       "    }\n",
       "</style>\n",
       "<table border=\"1\" class=\"dataframe\">\n",
       "  <thead>\n",
       "    <tr style=\"text-align: right;\">\n",
       "      <th></th>\n",
       "      <th>n_unique</th>\n",
       "      <th>mode</th>\n",
       "      <th>mode_freq</th>\n",
       "      <th>top1_value</th>\n",
       "      <th>top2_value</th>\n",
       "      <th>top3_value</th>\n",
       "      <th>top1_freq</th>\n",
       "      <th>top2_freq</th>\n",
       "      <th>top3_freq</th>\n",
       "    </tr>\n",
       "    <tr>\n",
       "      <th>feature</th>\n",
       "      <th></th>\n",
       "      <th></th>\n",
       "      <th></th>\n",
       "      <th></th>\n",
       "      <th></th>\n",
       "      <th></th>\n",
       "      <th></th>\n",
       "      <th></th>\n",
       "      <th></th>\n",
       "    </tr>\n",
       "  </thead>\n",
       "  <tbody>\n",
       "    <tr>\n",
       "      <th>EndDate</th>\n",
       "      <td>66</td>\n",
       "      <td>2020-01-01 00:00:00</td>\n",
       "      <td>39</td>\n",
       "      <td>2020-01-01 00:00:00</td>\n",
       "      <td>2019-12-01 00:00:00</td>\n",
       "      <td>2018-11-01 00:00:00</td>\n",
       "      <td>39</td>\n",
       "      <td>38</td>\n",
       "      <td>35.0</td>\n",
       "    </tr>\n",
       "    <tr>\n",
       "      <th>Type</th>\n",
       "      <td>3</td>\n",
       "      <td>Month-to-month</td>\n",
       "      <td>3875</td>\n",
       "      <td>Month-to-month</td>\n",
       "      <td>Two year</td>\n",
       "      <td>One year</td>\n",
       "      <td>3875</td>\n",
       "      <td>1695</td>\n",
       "      <td>1473.0</td>\n",
       "    </tr>\n",
       "    <tr>\n",
       "      <th>PaperlessBilling</th>\n",
       "      <td>2</td>\n",
       "      <td>Yes</td>\n",
       "      <td>4171</td>\n",
       "      <td>Yes</td>\n",
       "      <td>No</td>\n",
       "      <td>NaN</td>\n",
       "      <td>4171</td>\n",
       "      <td>2872</td>\n",
       "      <td>NaN</td>\n",
       "    </tr>\n",
       "    <tr>\n",
       "      <th>PaymentMethod</th>\n",
       "      <td>4</td>\n",
       "      <td>Electronic check</td>\n",
       "      <td>2365</td>\n",
       "      <td>Electronic check</td>\n",
       "      <td>Mailed check</td>\n",
       "      <td>Bank transfer (automatic)</td>\n",
       "      <td>2365</td>\n",
       "      <td>1612</td>\n",
       "      <td>1544.0</td>\n",
       "    </tr>\n",
       "  </tbody>\n",
       "</table>\n",
       "</div>"
      ],
      "text/plain": [
       "                  n_unique                 mode  mode_freq  \\\n",
       "feature                                                      \n",
       "EndDate                 66  2020-01-01 00:00:00         39   \n",
       "Type                     3       Month-to-month       3875   \n",
       "PaperlessBilling         2                  Yes       4171   \n",
       "PaymentMethod            4     Electronic check       2365   \n",
       "\n",
       "                           top1_value           top2_value  \\\n",
       "feature                                                      \n",
       "EndDate           2020-01-01 00:00:00  2019-12-01 00:00:00   \n",
       "Type                   Month-to-month             Two year   \n",
       "PaperlessBilling                  Yes                   No   \n",
       "PaymentMethod        Electronic check         Mailed check   \n",
       "\n",
       "                                 top3_value  top1_freq  top2_freq  top3_freq  \n",
       "feature                                                                       \n",
       "EndDate                 2018-11-01 00:00:00         39         38       35.0  \n",
       "Type                               One year       3875       1695     1473.0  \n",
       "PaperlessBilling                        NaN       4171       2872        NaN  \n",
       "PaymentMethod     Bank transfer (automatic)       2365       1612     1544.0  "
      ]
     },
     "metadata": {},
     "output_type": "display_data"
    },
    {
     "data": {
      "text/html": [
       "<div>\n",
       "<style scoped>\n",
       "    .dataframe tbody tr th:only-of-type {\n",
       "        vertical-align: middle;\n",
       "    }\n",
       "\n",
       "    .dataframe tbody tr th {\n",
       "        vertical-align: top;\n",
       "    }\n",
       "\n",
       "    .dataframe thead th {\n",
       "        text-align: right;\n",
       "    }\n",
       "</style>\n",
       "<table border=\"1\" class=\"dataframe\">\n",
       "  <thead>\n",
       "    <tr style=\"text-align: right;\">\n",
       "      <th></th>\n",
       "      <th>customerID</th>\n",
       "      <th>BeginDate</th>\n",
       "      <th>EndDate</th>\n",
       "      <th>Type</th>\n",
       "      <th>PaperlessBilling</th>\n",
       "      <th>PaymentMethod</th>\n",
       "      <th>MonthlyCharges</th>\n",
       "      <th>TotalCharges</th>\n",
       "      <th>Churn</th>\n",
       "      <th>TenureMonths</th>\n",
       "    </tr>\n",
       "  </thead>\n",
       "  <tbody>\n",
       "    <tr>\n",
       "      <th>0</th>\n",
       "      <td>7590-VHVEG</td>\n",
       "      <td>2020-01-01</td>\n",
       "      <td>NaT</td>\n",
       "      <td>Month-to-month</td>\n",
       "      <td>Yes</td>\n",
       "      <td>Electronic check</td>\n",
       "      <td>29.85</td>\n",
       "      <td>31.04</td>\n",
       "      <td>0</td>\n",
       "      <td>1</td>\n",
       "    </tr>\n",
       "    <tr>\n",
       "      <th>1</th>\n",
       "      <td>5575-GNVDE</td>\n",
       "      <td>2017-04-01</td>\n",
       "      <td>NaT</td>\n",
       "      <td>One year</td>\n",
       "      <td>No</td>\n",
       "      <td>Mailed check</td>\n",
       "      <td>56.95</td>\n",
       "      <td>2071.84</td>\n",
       "      <td>0</td>\n",
       "      <td>34</td>\n",
       "    </tr>\n",
       "    <tr>\n",
       "      <th>2</th>\n",
       "      <td>3668-QPYBK</td>\n",
       "      <td>2019-10-01</td>\n",
       "      <td>NaT</td>\n",
       "      <td>Month-to-month</td>\n",
       "      <td>Yes</td>\n",
       "      <td>Mailed check</td>\n",
       "      <td>53.85</td>\n",
       "      <td>226.17</td>\n",
       "      <td>0</td>\n",
       "      <td>4</td>\n",
       "    </tr>\n",
       "    <tr>\n",
       "      <th>3</th>\n",
       "      <td>7795-CFOCW</td>\n",
       "      <td>2016-05-01</td>\n",
       "      <td>NaT</td>\n",
       "      <td>One year</td>\n",
       "      <td>No</td>\n",
       "      <td>Bank transfer (automatic)</td>\n",
       "      <td>42.30</td>\n",
       "      <td>1960.60</td>\n",
       "      <td>0</td>\n",
       "      <td>45</td>\n",
       "    </tr>\n",
       "    <tr>\n",
       "      <th>4</th>\n",
       "      <td>9237-HQITU</td>\n",
       "      <td>2019-09-01</td>\n",
       "      <td>NaT</td>\n",
       "      <td>Month-to-month</td>\n",
       "      <td>Yes</td>\n",
       "      <td>Electronic check</td>\n",
       "      <td>70.70</td>\n",
       "      <td>353.50</td>\n",
       "      <td>0</td>\n",
       "      <td>5</td>\n",
       "    </tr>\n",
       "  </tbody>\n",
       "</table>\n",
       "</div>"
      ],
      "text/plain": [
       "   customerID  BeginDate EndDate            Type PaperlessBilling  \\\n",
       "0  7590-VHVEG 2020-01-01     NaT  Month-to-month              Yes   \n",
       "1  5575-GNVDE 2017-04-01     NaT        One year               No   \n",
       "2  3668-QPYBK 2019-10-01     NaT  Month-to-month              Yes   \n",
       "3  7795-CFOCW 2016-05-01     NaT        One year               No   \n",
       "4  9237-HQITU 2019-09-01     NaT  Month-to-month              Yes   \n",
       "\n",
       "               PaymentMethod  MonthlyCharges  TotalCharges  Churn  \\\n",
       "0           Electronic check           29.85         31.04      0   \n",
       "1               Mailed check           56.95       2071.84      0   \n",
       "2               Mailed check           53.85        226.17      0   \n",
       "3  Bank transfer (automatic)           42.30       1960.60      0   \n",
       "4           Electronic check           70.70        353.50      0   \n",
       "\n",
       "   TenureMonths  \n",
       "0             1  \n",
       "1            34  \n",
       "2             4  \n",
       "3            45  \n",
       "4             5  "
      ]
     },
     "execution_count": 10,
     "metadata": {},
     "output_type": "execute_result"
    }
   ],
   "source": [
    "contract = contract_raw.copy()\n",
    "\n",
    "# Даты\n",
    "contract[\"BeginDate\"] = pd.to_datetime(contract[\"BeginDate\"], errors=\"coerce\")\n",
    "\n",
    "# EndDate: \"No\" → активен (NaT), иначе преобразуем к дате\n",
    "end_is_no = contract[\"EndDate\"].astype(str).str.lower().eq(\"no\")\n",
    "contract.loc[end_is_no, \"EndDate\"] = pd.NaT\n",
    "contract.loc[~end_is_no, \"EndDate\"] = pd.to_datetime(contract.loc[~end_is_no, \"EndDate\"], errors=\"coerce\")\n",
    "\n",
    "# Целевая переменная Churn\n",
    "contract[\"Churn\"] = (~end_is_no).astype(int)\n",
    "\n",
    "# Стаж обслуживания (в месяцах, грубо через среднюю длину месяца)\n",
    "end_for_tenure = contract[\"EndDate\"].fillna(CONTROL_DATE)\n",
    "tenure_days = (end_for_tenure - contract[\"BeginDate\"]).dt.days\n",
    "contract[\"TenureMonths\"] = (tenure_days / 30.4375).clip(lower=0).round().astype(\"Int64\")\n",
    "\n",
    "# TotalCharges -> float (чистка и конвертация)\n",
    "contract[\"TotalCharges\"] = pd.to_numeric(contract[\"TotalCharges\"], errors=\"coerce\")\n",
    "mask_nan = contract[\"TotalCharges\"].isna()\n",
    "\n",
    "contract.loc[mask_nan, \"TotalCharges\"] = (\n",
    "    contract.loc[mask_nan, \"MonthlyCharges\"] * contract.loc[mask_nan, \"TenureMonths\"].fillna(0)\n",
    ")\n",
    "\n",
    "# Для клиентов с TenureMonths == 0 ставим TotalCharges = 0\n",
    "contract.loc[contract[\"TenureMonths\"] == 0, \"TotalCharges\"] = 0\n",
    "\n",
    "# Контрольный осмотр\n",
    "inspect_df(contract, id_cols=[\"customerID\"], name=\"contract_clean\")\n",
    "contract.head()"
   ]
  },
  {
   "cell_type": "markdown",
   "id": "04d5017f",
   "metadata": {},
   "source": [
    "Таким образом, таблица содержит данные о договорах и платежах клиентов. Основные признаки, которые можно использовать для построения модели прогноза оттока:\n",
    "- `Type` – тип договора (ежемесячный, годовой, двухгодовой);\n",
    "- `PaperlessBilling` – наличие электронного счёта;\n",
    "- `PaymentMethod` – способ оплаты;\n",
    "- `MonthlyCharges` – ежемесячные расходы;\n",
    "- `TotalCharges` – суммарные расходы за весь период;\n",
    "- `TenureMonths` – длительность обслуживания в месяцах (рассчитанный признак).\n",
    "\n",
    "Целевая переменная – `Churn` (расторгнут договор или нет)."
   ]
  },
  {
   "cell_type": "markdown",
   "id": "487f7fd0",
   "metadata": {},
   "source": [
    "### personal_new.csv"
   ]
  },
  {
   "cell_type": "code",
   "execution_count": 11,
   "id": "57cbeac2",
   "metadata": {
    "scrolled": true
   },
   "outputs": [
    {
     "name": "stdout",
     "output_type": "stream",
     "text": [
      "=== personal_raw: shape=7043x5 ===\n",
      "Дубликаты: 0\n",
      "\n",
      "Dtypes:\n",
      "customerID       object\n",
      "gender           object\n",
      "SeniorCitizen     int64\n",
      "Partner          object\n",
      "Dependents       object\n",
      "dtype: object\n",
      "\n",
      "Пропуски (top 10):\n",
      "               missing  missing_%\n",
      "customerID           0        0.0\n",
      "gender               0        0.0\n",
      "SeniorCitizen        0        0.0\n",
      "Partner              0        0.0\n",
      "Dependents           0        0.0\n",
      "\n",
      "Числовая статистика (describe):\n"
     ]
    },
    {
     "data": {
      "text/html": [
       "<div>\n",
       "<style scoped>\n",
       "    .dataframe tbody tr th:only-of-type {\n",
       "        vertical-align: middle;\n",
       "    }\n",
       "\n",
       "    .dataframe tbody tr th {\n",
       "        vertical-align: top;\n",
       "    }\n",
       "\n",
       "    .dataframe thead th {\n",
       "        text-align: right;\n",
       "    }\n",
       "</style>\n",
       "<table border=\"1\" class=\"dataframe\">\n",
       "  <thead>\n",
       "    <tr style=\"text-align: right;\">\n",
       "      <th></th>\n",
       "      <th>count</th>\n",
       "      <th>mean</th>\n",
       "      <th>std</th>\n",
       "      <th>min</th>\n",
       "      <th>25%</th>\n",
       "      <th>50%</th>\n",
       "      <th>75%</th>\n",
       "      <th>max</th>\n",
       "    </tr>\n",
       "  </thead>\n",
       "  <tbody>\n",
       "    <tr>\n",
       "      <th>SeniorCitizen</th>\n",
       "      <td>7043.0</td>\n",
       "      <td>0.162147</td>\n",
       "      <td>0.368612</td>\n",
       "      <td>0.0</td>\n",
       "      <td>0.0</td>\n",
       "      <td>0.0</td>\n",
       "      <td>0.0</td>\n",
       "      <td>1.0</td>\n",
       "    </tr>\n",
       "  </tbody>\n",
       "</table>\n",
       "</div>"
      ],
      "text/plain": [
       "                count      mean       std  min  25%  50%  75%  max\n",
       "SeniorCitizen  7043.0  0.162147  0.368612  0.0  0.0  0.0  0.0  1.0"
      ]
     },
     "metadata": {},
     "output_type": "display_data"
    },
    {
     "name": "stdout",
     "output_type": "stream",
     "text": [
      "\n",
      "Категориальная статистика:\n"
     ]
    },
    {
     "data": {
      "text/html": [
       "<div>\n",
       "<style scoped>\n",
       "    .dataframe tbody tr th:only-of-type {\n",
       "        vertical-align: middle;\n",
       "    }\n",
       "\n",
       "    .dataframe tbody tr th {\n",
       "        vertical-align: top;\n",
       "    }\n",
       "\n",
       "    .dataframe thead th {\n",
       "        text-align: right;\n",
       "    }\n",
       "</style>\n",
       "<table border=\"1\" class=\"dataframe\">\n",
       "  <thead>\n",
       "    <tr style=\"text-align: right;\">\n",
       "      <th></th>\n",
       "      <th>n_unique</th>\n",
       "      <th>mode</th>\n",
       "      <th>mode_freq</th>\n",
       "      <th>top1_value</th>\n",
       "      <th>top2_value</th>\n",
       "      <th>top3_value</th>\n",
       "      <th>top1_freq</th>\n",
       "      <th>top2_freq</th>\n",
       "      <th>top3_freq</th>\n",
       "    </tr>\n",
       "    <tr>\n",
       "      <th>feature</th>\n",
       "      <th></th>\n",
       "      <th></th>\n",
       "      <th></th>\n",
       "      <th></th>\n",
       "      <th></th>\n",
       "      <th></th>\n",
       "      <th></th>\n",
       "      <th></th>\n",
       "      <th></th>\n",
       "    </tr>\n",
       "  </thead>\n",
       "  <tbody>\n",
       "    <tr>\n",
       "      <th>gender</th>\n",
       "      <td>2</td>\n",
       "      <td>Male</td>\n",
       "      <td>3555</td>\n",
       "      <td>Male</td>\n",
       "      <td>Female</td>\n",
       "      <td>NaN</td>\n",
       "      <td>3555</td>\n",
       "      <td>3488</td>\n",
       "      <td>NaN</td>\n",
       "    </tr>\n",
       "    <tr>\n",
       "      <th>Partner</th>\n",
       "      <td>2</td>\n",
       "      <td>No</td>\n",
       "      <td>3641</td>\n",
       "      <td>No</td>\n",
       "      <td>Yes</td>\n",
       "      <td>NaN</td>\n",
       "      <td>3641</td>\n",
       "      <td>3402</td>\n",
       "      <td>NaN</td>\n",
       "    </tr>\n",
       "    <tr>\n",
       "      <th>Dependents</th>\n",
       "      <td>2</td>\n",
       "      <td>No</td>\n",
       "      <td>4933</td>\n",
       "      <td>No</td>\n",
       "      <td>Yes</td>\n",
       "      <td>NaN</td>\n",
       "      <td>4933</td>\n",
       "      <td>2110</td>\n",
       "      <td>NaN</td>\n",
       "    </tr>\n",
       "  </tbody>\n",
       "</table>\n",
       "</div>"
      ],
      "text/plain": [
       "            n_unique  mode  mode_freq top1_value top2_value  top3_value  \\\n",
       "feature                                                                   \n",
       "gender             2  Male       3555       Male     Female         NaN   \n",
       "Partner            2    No       3641         No        Yes         NaN   \n",
       "Dependents         2    No       4933         No        Yes         NaN   \n",
       "\n",
       "            top1_freq  top2_freq  top3_freq  \n",
       "feature                                      \n",
       "gender           3555       3488        NaN  \n",
       "Partner          3641       3402        NaN  \n",
       "Dependents       4933       2110        NaN  "
      ]
     },
     "metadata": {},
     "output_type": "display_data"
    }
   ],
   "source": [
    "inspect_df(personal_raw, id_cols=[\"customerID\"], name=\"personal_raw\")"
   ]
  },
  {
   "cell_type": "code",
   "execution_count": 12,
   "id": "5eceb6e7",
   "metadata": {},
   "outputs": [
    {
     "data": {
      "text/html": [
       "<div>\n",
       "<style scoped>\n",
       "    .dataframe tbody tr th:only-of-type {\n",
       "        vertical-align: middle;\n",
       "    }\n",
       "\n",
       "    .dataframe tbody tr th {\n",
       "        vertical-align: top;\n",
       "    }\n",
       "\n",
       "    .dataframe thead th {\n",
       "        text-align: right;\n",
       "    }\n",
       "</style>\n",
       "<table border=\"1\" class=\"dataframe\">\n",
       "  <thead>\n",
       "    <tr style=\"text-align: right;\">\n",
       "      <th></th>\n",
       "      <th>customerID</th>\n",
       "      <th>gender</th>\n",
       "      <th>SeniorCitizen</th>\n",
       "      <th>Partner</th>\n",
       "      <th>Dependents</th>\n",
       "    </tr>\n",
       "  </thead>\n",
       "  <tbody>\n",
       "    <tr>\n",
       "      <th>0</th>\n",
       "      <td>7590-VHVEG</td>\n",
       "      <td>Female</td>\n",
       "      <td>0</td>\n",
       "      <td>Yes</td>\n",
       "      <td>No</td>\n",
       "    </tr>\n",
       "    <tr>\n",
       "      <th>1</th>\n",
       "      <td>5575-GNVDE</td>\n",
       "      <td>Male</td>\n",
       "      <td>0</td>\n",
       "      <td>No</td>\n",
       "      <td>No</td>\n",
       "    </tr>\n",
       "    <tr>\n",
       "      <th>2</th>\n",
       "      <td>3668-QPYBK</td>\n",
       "      <td>Male</td>\n",
       "      <td>0</td>\n",
       "      <td>No</td>\n",
       "      <td>No</td>\n",
       "    </tr>\n",
       "    <tr>\n",
       "      <th>3</th>\n",
       "      <td>7795-CFOCW</td>\n",
       "      <td>Male</td>\n",
       "      <td>0</td>\n",
       "      <td>No</td>\n",
       "      <td>No</td>\n",
       "    </tr>\n",
       "    <tr>\n",
       "      <th>4</th>\n",
       "      <td>9237-HQITU</td>\n",
       "      <td>Female</td>\n",
       "      <td>0</td>\n",
       "      <td>No</td>\n",
       "      <td>No</td>\n",
       "    </tr>\n",
       "  </tbody>\n",
       "</table>\n",
       "</div>"
      ],
      "text/plain": [
       "   customerID  gender  SeniorCitizen Partner Dependents\n",
       "0  7590-VHVEG  Female              0     Yes         No\n",
       "1  5575-GNVDE    Male              0      No         No\n",
       "2  3668-QPYBK    Male              0      No         No\n",
       "3  7795-CFOCW    Male              0      No         No\n",
       "4  9237-HQITU  Female              0      No         No"
      ]
     },
     "execution_count": 12,
     "metadata": {},
     "output_type": "execute_result"
    }
   ],
   "source": [
    "personal = personal_raw.copy()\n",
    "personal.head()"
   ]
  },
  {
   "cell_type": "markdown",
   "id": "7ff69270",
   "metadata": {},
   "source": [
    "Итак, таблица содержит персональные данные клиентов (7043 записи). В ней отражены пол (`gender`), принадлежность к категории «пенсионер» (`SeniorCitizen`), наличие супруга или супруги (`Partner`), а также наличие детей (`Dependents`). Пропусков и дубликатов нет, значения корректные. Признаки будут использоваться в качестве входных переменных в модели и преобразованы при подготовке данных."
   ]
  },
  {
   "cell_type": "markdown",
   "id": "6a826a4f",
   "metadata": {},
   "source": [
    "### internet_new.csv"
   ]
  },
  {
   "cell_type": "code",
   "execution_count": 13,
   "id": "1318aa64",
   "metadata": {
    "scrolled": true
   },
   "outputs": [
    {
     "name": "stdout",
     "output_type": "stream",
     "text": [
      "=== internet_raw: shape=5517x8 ===\n",
      "Дубликаты: 0\n",
      "\n",
      "Dtypes:\n",
      "customerID          object\n",
      "InternetService     object\n",
      "OnlineSecurity      object\n",
      "OnlineBackup        object\n",
      "DeviceProtection    object\n",
      "TechSupport         object\n",
      "StreamingTV         object\n",
      "StreamingMovies     object\n",
      "dtype: object\n",
      "\n",
      "Пропуски (top 10):\n",
      "                  missing  missing_%\n",
      "customerID              0        0.0\n",
      "InternetService         0        0.0\n",
      "OnlineSecurity          0        0.0\n",
      "OnlineBackup            0        0.0\n",
      "DeviceProtection        0        0.0\n",
      "TechSupport             0        0.0\n",
      "StreamingTV             0        0.0\n",
      "StreamingMovies         0        0.0\n",
      "\n",
      "Категориальная статистика:\n"
     ]
    },
    {
     "data": {
      "text/html": [
       "<div>\n",
       "<style scoped>\n",
       "    .dataframe tbody tr th:only-of-type {\n",
       "        vertical-align: middle;\n",
       "    }\n",
       "\n",
       "    .dataframe tbody tr th {\n",
       "        vertical-align: top;\n",
       "    }\n",
       "\n",
       "    .dataframe thead th {\n",
       "        text-align: right;\n",
       "    }\n",
       "</style>\n",
       "<table border=\"1\" class=\"dataframe\">\n",
       "  <thead>\n",
       "    <tr style=\"text-align: right;\">\n",
       "      <th></th>\n",
       "      <th>n_unique</th>\n",
       "      <th>mode</th>\n",
       "      <th>mode_freq</th>\n",
       "      <th>top1_value</th>\n",
       "      <th>top2_value</th>\n",
       "      <th>top3_value</th>\n",
       "      <th>top1_freq</th>\n",
       "      <th>top2_freq</th>\n",
       "      <th>top3_freq</th>\n",
       "    </tr>\n",
       "    <tr>\n",
       "      <th>feature</th>\n",
       "      <th></th>\n",
       "      <th></th>\n",
       "      <th></th>\n",
       "      <th></th>\n",
       "      <th></th>\n",
       "      <th></th>\n",
       "      <th></th>\n",
       "      <th></th>\n",
       "      <th></th>\n",
       "    </tr>\n",
       "  </thead>\n",
       "  <tbody>\n",
       "    <tr>\n",
       "      <th>InternetService</th>\n",
       "      <td>2</td>\n",
       "      <td>Fiber optic</td>\n",
       "      <td>3096</td>\n",
       "      <td>Fiber optic</td>\n",
       "      <td>DSL</td>\n",
       "      <td>NaN</td>\n",
       "      <td>3096</td>\n",
       "      <td>2421</td>\n",
       "      <td>NaN</td>\n",
       "    </tr>\n",
       "    <tr>\n",
       "      <th>OnlineSecurity</th>\n",
       "      <td>2</td>\n",
       "      <td>No</td>\n",
       "      <td>3498</td>\n",
       "      <td>No</td>\n",
       "      <td>Yes</td>\n",
       "      <td>NaN</td>\n",
       "      <td>3498</td>\n",
       "      <td>2019</td>\n",
       "      <td>NaN</td>\n",
       "    </tr>\n",
       "    <tr>\n",
       "      <th>OnlineBackup</th>\n",
       "      <td>2</td>\n",
       "      <td>No</td>\n",
       "      <td>3088</td>\n",
       "      <td>No</td>\n",
       "      <td>Yes</td>\n",
       "      <td>NaN</td>\n",
       "      <td>3088</td>\n",
       "      <td>2429</td>\n",
       "      <td>NaN</td>\n",
       "    </tr>\n",
       "    <tr>\n",
       "      <th>DeviceProtection</th>\n",
       "      <td>2</td>\n",
       "      <td>No</td>\n",
       "      <td>3095</td>\n",
       "      <td>No</td>\n",
       "      <td>Yes</td>\n",
       "      <td>NaN</td>\n",
       "      <td>3095</td>\n",
       "      <td>2422</td>\n",
       "      <td>NaN</td>\n",
       "    </tr>\n",
       "    <tr>\n",
       "      <th>TechSupport</th>\n",
       "      <td>2</td>\n",
       "      <td>No</td>\n",
       "      <td>3473</td>\n",
       "      <td>No</td>\n",
       "      <td>Yes</td>\n",
       "      <td>NaN</td>\n",
       "      <td>3473</td>\n",
       "      <td>2044</td>\n",
       "      <td>NaN</td>\n",
       "    </tr>\n",
       "    <tr>\n",
       "      <th>StreamingTV</th>\n",
       "      <td>2</td>\n",
       "      <td>No</td>\n",
       "      <td>2810</td>\n",
       "      <td>No</td>\n",
       "      <td>Yes</td>\n",
       "      <td>NaN</td>\n",
       "      <td>2810</td>\n",
       "      <td>2707</td>\n",
       "      <td>NaN</td>\n",
       "    </tr>\n",
       "    <tr>\n",
       "      <th>StreamingMovies</th>\n",
       "      <td>2</td>\n",
       "      <td>No</td>\n",
       "      <td>2785</td>\n",
       "      <td>No</td>\n",
       "      <td>Yes</td>\n",
       "      <td>NaN</td>\n",
       "      <td>2785</td>\n",
       "      <td>2732</td>\n",
       "      <td>NaN</td>\n",
       "    </tr>\n",
       "  </tbody>\n",
       "</table>\n",
       "</div>"
      ],
      "text/plain": [
       "                  n_unique         mode  mode_freq   top1_value top2_value  \\\n",
       "feature                                                                      \n",
       "InternetService          2  Fiber optic       3096  Fiber optic        DSL   \n",
       "OnlineSecurity           2           No       3498           No        Yes   \n",
       "OnlineBackup             2           No       3088           No        Yes   \n",
       "DeviceProtection         2           No       3095           No        Yes   \n",
       "TechSupport              2           No       3473           No        Yes   \n",
       "StreamingTV              2           No       2810           No        Yes   \n",
       "StreamingMovies          2           No       2785           No        Yes   \n",
       "\n",
       "                  top3_value  top1_freq  top2_freq  top3_freq  \n",
       "feature                                                        \n",
       "InternetService          NaN       3096       2421        NaN  \n",
       "OnlineSecurity           NaN       3498       2019        NaN  \n",
       "OnlineBackup             NaN       3088       2429        NaN  \n",
       "DeviceProtection         NaN       3095       2422        NaN  \n",
       "TechSupport              NaN       3473       2044        NaN  \n",
       "StreamingTV              NaN       2810       2707        NaN  \n",
       "StreamingMovies          NaN       2785       2732        NaN  "
      ]
     },
     "metadata": {},
     "output_type": "display_data"
    }
   ],
   "source": [
    "inspect_df(internet_raw, id_cols=[\"customerID\"], name=\"internet_raw\")"
   ]
  },
  {
   "cell_type": "code",
   "execution_count": 14,
   "id": "7c88ee89",
   "metadata": {},
   "outputs": [
    {
     "data": {
      "text/html": [
       "<div>\n",
       "<style scoped>\n",
       "    .dataframe tbody tr th:only-of-type {\n",
       "        vertical-align: middle;\n",
       "    }\n",
       "\n",
       "    .dataframe tbody tr th {\n",
       "        vertical-align: top;\n",
       "    }\n",
       "\n",
       "    .dataframe thead th {\n",
       "        text-align: right;\n",
       "    }\n",
       "</style>\n",
       "<table border=\"1\" class=\"dataframe\">\n",
       "  <thead>\n",
       "    <tr style=\"text-align: right;\">\n",
       "      <th></th>\n",
       "      <th>customerID</th>\n",
       "      <th>InternetService</th>\n",
       "      <th>OnlineSecurity</th>\n",
       "      <th>OnlineBackup</th>\n",
       "      <th>DeviceProtection</th>\n",
       "      <th>TechSupport</th>\n",
       "      <th>StreamingTV</th>\n",
       "      <th>StreamingMovies</th>\n",
       "    </tr>\n",
       "  </thead>\n",
       "  <tbody>\n",
       "    <tr>\n",
       "      <th>0</th>\n",
       "      <td>7590-VHVEG</td>\n",
       "      <td>DSL</td>\n",
       "      <td>No</td>\n",
       "      <td>Yes</td>\n",
       "      <td>No</td>\n",
       "      <td>No</td>\n",
       "      <td>No</td>\n",
       "      <td>No</td>\n",
       "    </tr>\n",
       "    <tr>\n",
       "      <th>1</th>\n",
       "      <td>5575-GNVDE</td>\n",
       "      <td>DSL</td>\n",
       "      <td>Yes</td>\n",
       "      <td>No</td>\n",
       "      <td>Yes</td>\n",
       "      <td>No</td>\n",
       "      <td>No</td>\n",
       "      <td>No</td>\n",
       "    </tr>\n",
       "    <tr>\n",
       "      <th>2</th>\n",
       "      <td>3668-QPYBK</td>\n",
       "      <td>DSL</td>\n",
       "      <td>Yes</td>\n",
       "      <td>Yes</td>\n",
       "      <td>No</td>\n",
       "      <td>No</td>\n",
       "      <td>No</td>\n",
       "      <td>No</td>\n",
       "    </tr>\n",
       "    <tr>\n",
       "      <th>3</th>\n",
       "      <td>7795-CFOCW</td>\n",
       "      <td>DSL</td>\n",
       "      <td>Yes</td>\n",
       "      <td>No</td>\n",
       "      <td>Yes</td>\n",
       "      <td>Yes</td>\n",
       "      <td>No</td>\n",
       "      <td>No</td>\n",
       "    </tr>\n",
       "    <tr>\n",
       "      <th>4</th>\n",
       "      <td>9237-HQITU</td>\n",
       "      <td>Fiber optic</td>\n",
       "      <td>No</td>\n",
       "      <td>No</td>\n",
       "      <td>No</td>\n",
       "      <td>No</td>\n",
       "      <td>No</td>\n",
       "      <td>No</td>\n",
       "    </tr>\n",
       "  </tbody>\n",
       "</table>\n",
       "</div>"
      ],
      "text/plain": [
       "   customerID InternetService OnlineSecurity OnlineBackup DeviceProtection  \\\n",
       "0  7590-VHVEG             DSL             No          Yes               No   \n",
       "1  5575-GNVDE             DSL            Yes           No              Yes   \n",
       "2  3668-QPYBK             DSL            Yes          Yes               No   \n",
       "3  7795-CFOCW             DSL            Yes           No              Yes   \n",
       "4  9237-HQITU     Fiber optic             No           No               No   \n",
       "\n",
       "  TechSupport StreamingTV StreamingMovies  \n",
       "0          No          No              No  \n",
       "1          No          No              No  \n",
       "2          No          No              No  \n",
       "3         Yes          No              No  \n",
       "4          No          No              No  "
      ]
     },
     "execution_count": 14,
     "metadata": {},
     "output_type": "execute_result"
    }
   ],
   "source": [
    "internet = internet_raw.copy()\n",
    "internet.head()"
   ]
  },
  {
   "cell_type": "markdown",
   "id": "e64f75f1",
   "metadata": {},
   "source": [
    "Данная таблица содержит информацию об интернет-услугах клиентов (5517 записей). В ней указаны тип подключения (`DSL` или `Fiber optic`) и наличие дополнительных сервисов: блокировка опасных сайтов (`OnlineSecurity`), резервное копирование данных (`OnlineBackup`), антивирус (`DeviceProtection`), выделенная линия поддержки (`TechSupport`), стриминговое телевидение (`StreamingTV`) и каталог фильмов (`StreamingMovies`). Пропусков и дубликатов нет, все признаки категориальные. Количество строк меньше, чем в таблицах с договорами и персональными данными, так как не все клиенты пользуются интернет-услугами. Все эти признаки будут использованы при обучении модели после кодирования категориальных значений."
   ]
  },
  {
   "cell_type": "markdown",
   "id": "237f74ea",
   "metadata": {},
   "source": [
    "### phone_new.csv"
   ]
  },
  {
   "cell_type": "code",
   "execution_count": 15,
   "id": "7269d471",
   "metadata": {},
   "outputs": [
    {
     "name": "stdout",
     "output_type": "stream",
     "text": [
      "=== phone_raw: shape=6361x2 ===\n",
      "Дубликаты: 0\n",
      "\n",
      "Dtypes:\n",
      "customerID       object\n",
      "MultipleLines    object\n",
      "dtype: object\n",
      "\n",
      "Пропуски (top 10):\n",
      "               missing  missing_%\n",
      "customerID           0        0.0\n",
      "MultipleLines        0        0.0\n",
      "\n",
      "Категориальная статистика:\n"
     ]
    },
    {
     "data": {
      "text/html": [
       "<div>\n",
       "<style scoped>\n",
       "    .dataframe tbody tr th:only-of-type {\n",
       "        vertical-align: middle;\n",
       "    }\n",
       "\n",
       "    .dataframe tbody tr th {\n",
       "        vertical-align: top;\n",
       "    }\n",
       "\n",
       "    .dataframe thead th {\n",
       "        text-align: right;\n",
       "    }\n",
       "</style>\n",
       "<table border=\"1\" class=\"dataframe\">\n",
       "  <thead>\n",
       "    <tr style=\"text-align: right;\">\n",
       "      <th></th>\n",
       "      <th>n_unique</th>\n",
       "      <th>mode</th>\n",
       "      <th>mode_freq</th>\n",
       "      <th>top1_value</th>\n",
       "      <th>top2_value</th>\n",
       "      <th>top3_value</th>\n",
       "      <th>top1_freq</th>\n",
       "      <th>top2_freq</th>\n",
       "      <th>top3_freq</th>\n",
       "    </tr>\n",
       "    <tr>\n",
       "      <th>feature</th>\n",
       "      <th></th>\n",
       "      <th></th>\n",
       "      <th></th>\n",
       "      <th></th>\n",
       "      <th></th>\n",
       "      <th></th>\n",
       "      <th></th>\n",
       "      <th></th>\n",
       "      <th></th>\n",
       "    </tr>\n",
       "  </thead>\n",
       "  <tbody>\n",
       "    <tr>\n",
       "      <th>MultipleLines</th>\n",
       "      <td>2</td>\n",
       "      <td>No</td>\n",
       "      <td>3390</td>\n",
       "      <td>No</td>\n",
       "      <td>Yes</td>\n",
       "      <td>NaN</td>\n",
       "      <td>3390</td>\n",
       "      <td>2971</td>\n",
       "      <td>NaN</td>\n",
       "    </tr>\n",
       "  </tbody>\n",
       "</table>\n",
       "</div>"
      ],
      "text/plain": [
       "               n_unique mode  mode_freq top1_value top2_value  top3_value  \\\n",
       "feature                                                                     \n",
       "MultipleLines         2   No       3390         No        Yes         NaN   \n",
       "\n",
       "               top1_freq  top2_freq  top3_freq  \n",
       "feature                                         \n",
       "MultipleLines       3390       2971        NaN  "
      ]
     },
     "metadata": {},
     "output_type": "display_data"
    }
   ],
   "source": [
    "inspect_df(phone_raw, id_cols=[\"customerID\"], name=\"phone_raw\")"
   ]
  },
  {
   "cell_type": "code",
   "execution_count": 16,
   "id": "e03992f2",
   "metadata": {},
   "outputs": [
    {
     "data": {
      "text/html": [
       "<div>\n",
       "<style scoped>\n",
       "    .dataframe tbody tr th:only-of-type {\n",
       "        vertical-align: middle;\n",
       "    }\n",
       "\n",
       "    .dataframe tbody tr th {\n",
       "        vertical-align: top;\n",
       "    }\n",
       "\n",
       "    .dataframe thead th {\n",
       "        text-align: right;\n",
       "    }\n",
       "</style>\n",
       "<table border=\"1\" class=\"dataframe\">\n",
       "  <thead>\n",
       "    <tr style=\"text-align: right;\">\n",
       "      <th></th>\n",
       "      <th>customerID</th>\n",
       "      <th>MultipleLines</th>\n",
       "    </tr>\n",
       "  </thead>\n",
       "  <tbody>\n",
       "    <tr>\n",
       "      <th>0</th>\n",
       "      <td>5575-GNVDE</td>\n",
       "      <td>No</td>\n",
       "    </tr>\n",
       "    <tr>\n",
       "      <th>1</th>\n",
       "      <td>3668-QPYBK</td>\n",
       "      <td>No</td>\n",
       "    </tr>\n",
       "    <tr>\n",
       "      <th>2</th>\n",
       "      <td>9237-HQITU</td>\n",
       "      <td>No</td>\n",
       "    </tr>\n",
       "    <tr>\n",
       "      <th>3</th>\n",
       "      <td>9305-CDSKC</td>\n",
       "      <td>Yes</td>\n",
       "    </tr>\n",
       "    <tr>\n",
       "      <th>4</th>\n",
       "      <td>1452-KIOVK</td>\n",
       "      <td>Yes</td>\n",
       "    </tr>\n",
       "  </tbody>\n",
       "</table>\n",
       "</div>"
      ],
      "text/plain": [
       "   customerID MultipleLines\n",
       "0  5575-GNVDE            No\n",
       "1  3668-QPYBK            No\n",
       "2  9237-HQITU            No\n",
       "3  9305-CDSKC           Yes\n",
       "4  1452-KIOVK           Yes"
      ]
     },
     "execution_count": 16,
     "metadata": {},
     "output_type": "execute_result"
    }
   ],
   "source": [
    "phone = phone_raw.copy()\n",
    "phone.head()"
   ]
  },
  {
   "cell_type": "markdown",
   "id": "e32da7cb",
   "metadata": {},
   "source": [
    "Таблица содержит данные об услугах стационарной телефонии (6361 запись). Признак `MultipleLines` отражает наличие подключения телефона к нескольким линиям одновременно (`Yes`/`No`). Пропусков и дубликатов нет, значения корректные. Количество записей меньше, чем в основной таблице, поскольку часть клиентов не пользуется услугами стационарного телефона. Признак может быть использован в качестве дополнительного фактора при построении модели после кодирования категориальных значений."
   ]
  },
  {
   "cell_type": "markdown",
   "id": "48162f44",
   "metadata": {},
   "source": [
    "## Объединение данных"
   ]
  },
  {
   "cell_type": "markdown",
   "id": "1ff09a01",
   "metadata": {},
   "source": [
    "Для дальнейшего анализа и построения модели необходимо объединить все таблицы в один датафрейм.\n",
    "\n",
    "- Ключ для объединения – `customerID`.\n",
    "- В качестве основы возьмём таблицу с договорами (`contract`), так как она содержит целевую переменную `Churn`.\n",
    "- К ней присоединим персональные данные (`personal`), данные об интернет-услугах (`internet`) и телефонии (`phone`).\n",
    "- Так как не все клиенты пользуются интернетом или телефоном, применим объединение типа **left join**, чтобы сохранить всех клиентов из основной таблицы."
   ]
  },
  {
   "cell_type": "code",
   "execution_count": 17,
   "id": "3c7cfc34",
   "metadata": {
    "scrolled": true
   },
   "outputs": [
    {
     "name": "stdout",
     "output_type": "stream",
     "text": [
      "Размер объединённого датафрейма: (7043, 22)\n",
      "=== merged_df: shape=7043x22 ===\n",
      "Дубликаты: 0\n",
      "\n",
      "Dtypes:\n",
      "customerID                  object\n",
      "BeginDate           datetime64[ns]\n",
      "EndDate                     object\n",
      "Type                        object\n",
      "PaperlessBilling            object\n",
      "PaymentMethod               object\n",
      "MonthlyCharges             float64\n",
      "TotalCharges               float64\n",
      "Churn                        int64\n",
      "TenureMonths                 Int64\n",
      "gender                      object\n",
      "SeniorCitizen                int64\n",
      "Partner                     object\n",
      "Dependents                  object\n",
      "InternetService             object\n",
      "OnlineSecurity              object\n",
      "OnlineBackup                object\n",
      "DeviceProtection            object\n",
      "TechSupport                 object\n",
      "StreamingTV                 object\n",
      "StreamingMovies             object\n",
      "MultipleLines               object\n",
      "dtype: object\n",
      "\n",
      "Пропуски (top 10):\n",
      "                  missing  missing_%\n",
      "EndDate              5942      84.37\n",
      "StreamingMovies      1526      21.67\n",
      "StreamingTV          1526      21.67\n",
      "TechSupport          1526      21.67\n",
      "DeviceProtection     1526      21.67\n",
      "OnlineBackup         1526      21.67\n",
      "OnlineSecurity       1526      21.67\n",
      "InternetService      1526      21.67\n",
      "MultipleLines         682       9.68\n",
      "Partner                 0       0.00\n",
      "\n",
      "Числовая статистика (describe):\n"
     ]
    },
    {
     "data": {
      "text/html": [
       "<div>\n",
       "<style scoped>\n",
       "    .dataframe tbody tr th:only-of-type {\n",
       "        vertical-align: middle;\n",
       "    }\n",
       "\n",
       "    .dataframe tbody tr th {\n",
       "        vertical-align: top;\n",
       "    }\n",
       "\n",
       "    .dataframe thead th {\n",
       "        text-align: right;\n",
       "    }\n",
       "</style>\n",
       "<table border=\"1\" class=\"dataframe\">\n",
       "  <thead>\n",
       "    <tr style=\"text-align: right;\">\n",
       "      <th></th>\n",
       "      <th>count</th>\n",
       "      <th>mean</th>\n",
       "      <th>std</th>\n",
       "      <th>min</th>\n",
       "      <th>25%</th>\n",
       "      <th>50%</th>\n",
       "      <th>75%</th>\n",
       "      <th>max</th>\n",
       "    </tr>\n",
       "  </thead>\n",
       "  <tbody>\n",
       "    <tr>\n",
       "      <th>MonthlyCharges</th>\n",
       "      <td>7043.0</td>\n",
       "      <td>64.761692</td>\n",
       "      <td>30.090047</td>\n",
       "      <td>18.25</td>\n",
       "      <td>35.50</td>\n",
       "      <td>70.35</td>\n",
       "      <td>89.85</td>\n",
       "      <td>118.75</td>\n",
       "    </tr>\n",
       "    <tr>\n",
       "      <th>TotalCharges</th>\n",
       "      <td>7043.0</td>\n",
       "      <td>2115.312885</td>\n",
       "      <td>2112.742814</td>\n",
       "      <td>0.00</td>\n",
       "      <td>436.75</td>\n",
       "      <td>1343.35</td>\n",
       "      <td>3236.69</td>\n",
       "      <td>9221.38</td>\n",
       "    </tr>\n",
       "    <tr>\n",
       "      <th>Churn</th>\n",
       "      <td>7043.0</td>\n",
       "      <td>0.156325</td>\n",
       "      <td>0.363189</td>\n",
       "      <td>0.00</td>\n",
       "      <td>0.00</td>\n",
       "      <td>0.00</td>\n",
       "      <td>0.00</td>\n",
       "      <td>1.00</td>\n",
       "    </tr>\n",
       "    <tr>\n",
       "      <th>TenureMonths</th>\n",
       "      <td>7043.0</td>\n",
       "      <td>29.495385</td>\n",
       "      <td>22.446726</td>\n",
       "      <td>0.00</td>\n",
       "      <td>9.00</td>\n",
       "      <td>25.00</td>\n",
       "      <td>48.00</td>\n",
       "      <td>76.00</td>\n",
       "    </tr>\n",
       "    <tr>\n",
       "      <th>SeniorCitizen</th>\n",
       "      <td>7043.0</td>\n",
       "      <td>0.162147</td>\n",
       "      <td>0.368612</td>\n",
       "      <td>0.00</td>\n",
       "      <td>0.00</td>\n",
       "      <td>0.00</td>\n",
       "      <td>0.00</td>\n",
       "      <td>1.00</td>\n",
       "    </tr>\n",
       "  </tbody>\n",
       "</table>\n",
       "</div>"
      ],
      "text/plain": [
       "                 count         mean          std    min     25%      50%  \\\n",
       "MonthlyCharges  7043.0    64.761692    30.090047  18.25   35.50    70.35   \n",
       "TotalCharges    7043.0  2115.312885  2112.742814   0.00  436.75  1343.35   \n",
       "Churn           7043.0     0.156325     0.363189   0.00    0.00     0.00   \n",
       "TenureMonths    7043.0    29.495385    22.446726   0.00    9.00    25.00   \n",
       "SeniorCitizen   7043.0     0.162147     0.368612   0.00    0.00     0.00   \n",
       "\n",
       "                    75%      max  \n",
       "MonthlyCharges    89.85   118.75  \n",
       "TotalCharges    3236.69  9221.38  \n",
       "Churn              0.00     1.00  \n",
       "TenureMonths      48.00    76.00  \n",
       "SeniorCitizen      0.00     1.00  "
      ]
     },
     "metadata": {},
     "output_type": "display_data"
    },
    {
     "name": "stdout",
     "output_type": "stream",
     "text": [
      "\n",
      "Категориальная статистика:\n"
     ]
    },
    {
     "data": {
      "text/html": [
       "<div>\n",
       "<style scoped>\n",
       "    .dataframe tbody tr th:only-of-type {\n",
       "        vertical-align: middle;\n",
       "    }\n",
       "\n",
       "    .dataframe tbody tr th {\n",
       "        vertical-align: top;\n",
       "    }\n",
       "\n",
       "    .dataframe thead th {\n",
       "        text-align: right;\n",
       "    }\n",
       "</style>\n",
       "<table border=\"1\" class=\"dataframe\">\n",
       "  <thead>\n",
       "    <tr style=\"text-align: right;\">\n",
       "      <th></th>\n",
       "      <th>n_unique</th>\n",
       "      <th>mode</th>\n",
       "      <th>mode_freq</th>\n",
       "      <th>top1_value</th>\n",
       "      <th>top2_value</th>\n",
       "      <th>top3_value</th>\n",
       "      <th>top1_freq</th>\n",
       "      <th>top2_freq</th>\n",
       "      <th>top3_freq</th>\n",
       "    </tr>\n",
       "    <tr>\n",
       "      <th>feature</th>\n",
       "      <th></th>\n",
       "      <th></th>\n",
       "      <th></th>\n",
       "      <th></th>\n",
       "      <th></th>\n",
       "      <th></th>\n",
       "      <th></th>\n",
       "      <th></th>\n",
       "      <th></th>\n",
       "    </tr>\n",
       "  </thead>\n",
       "  <tbody>\n",
       "    <tr>\n",
       "      <th>EndDate</th>\n",
       "      <td>66</td>\n",
       "      <td>2020-01-01 00:00:00</td>\n",
       "      <td>39</td>\n",
       "      <td>2020-01-01 00:00:00</td>\n",
       "      <td>2019-12-01 00:00:00</td>\n",
       "      <td>2018-11-01 00:00:00</td>\n",
       "      <td>39</td>\n",
       "      <td>38</td>\n",
       "      <td>35.0</td>\n",
       "    </tr>\n",
       "    <tr>\n",
       "      <th>Type</th>\n",
       "      <td>3</td>\n",
       "      <td>Month-to-month</td>\n",
       "      <td>3875</td>\n",
       "      <td>Month-to-month</td>\n",
       "      <td>Two year</td>\n",
       "      <td>One year</td>\n",
       "      <td>3875</td>\n",
       "      <td>1695</td>\n",
       "      <td>1473.0</td>\n",
       "    </tr>\n",
       "    <tr>\n",
       "      <th>PaperlessBilling</th>\n",
       "      <td>2</td>\n",
       "      <td>Yes</td>\n",
       "      <td>4171</td>\n",
       "      <td>Yes</td>\n",
       "      <td>No</td>\n",
       "      <td>NaN</td>\n",
       "      <td>4171</td>\n",
       "      <td>2872</td>\n",
       "      <td>NaN</td>\n",
       "    </tr>\n",
       "    <tr>\n",
       "      <th>PaymentMethod</th>\n",
       "      <td>4</td>\n",
       "      <td>Electronic check</td>\n",
       "      <td>2365</td>\n",
       "      <td>Electronic check</td>\n",
       "      <td>Mailed check</td>\n",
       "      <td>Bank transfer (automatic)</td>\n",
       "      <td>2365</td>\n",
       "      <td>1612</td>\n",
       "      <td>1544.0</td>\n",
       "    </tr>\n",
       "    <tr>\n",
       "      <th>gender</th>\n",
       "      <td>2</td>\n",
       "      <td>Male</td>\n",
       "      <td>3555</td>\n",
       "      <td>Male</td>\n",
       "      <td>Female</td>\n",
       "      <td>NaN</td>\n",
       "      <td>3555</td>\n",
       "      <td>3488</td>\n",
       "      <td>NaN</td>\n",
       "    </tr>\n",
       "    <tr>\n",
       "      <th>Partner</th>\n",
       "      <td>2</td>\n",
       "      <td>No</td>\n",
       "      <td>3641</td>\n",
       "      <td>No</td>\n",
       "      <td>Yes</td>\n",
       "      <td>NaN</td>\n",
       "      <td>3641</td>\n",
       "      <td>3402</td>\n",
       "      <td>NaN</td>\n",
       "    </tr>\n",
       "    <tr>\n",
       "      <th>Dependents</th>\n",
       "      <td>2</td>\n",
       "      <td>No</td>\n",
       "      <td>4933</td>\n",
       "      <td>No</td>\n",
       "      <td>Yes</td>\n",
       "      <td>NaN</td>\n",
       "      <td>4933</td>\n",
       "      <td>2110</td>\n",
       "      <td>NaN</td>\n",
       "    </tr>\n",
       "    <tr>\n",
       "      <th>InternetService</th>\n",
       "      <td>2</td>\n",
       "      <td>Fiber optic</td>\n",
       "      <td>3096</td>\n",
       "      <td>Fiber optic</td>\n",
       "      <td>DSL</td>\n",
       "      <td>NaN</td>\n",
       "      <td>3096</td>\n",
       "      <td>2421</td>\n",
       "      <td>NaN</td>\n",
       "    </tr>\n",
       "    <tr>\n",
       "      <th>OnlineSecurity</th>\n",
       "      <td>2</td>\n",
       "      <td>No</td>\n",
       "      <td>3498</td>\n",
       "      <td>No</td>\n",
       "      <td>Yes</td>\n",
       "      <td>NaN</td>\n",
       "      <td>3498</td>\n",
       "      <td>2019</td>\n",
       "      <td>NaN</td>\n",
       "    </tr>\n",
       "    <tr>\n",
       "      <th>OnlineBackup</th>\n",
       "      <td>2</td>\n",
       "      <td>No</td>\n",
       "      <td>3088</td>\n",
       "      <td>No</td>\n",
       "      <td>Yes</td>\n",
       "      <td>NaN</td>\n",
       "      <td>3088</td>\n",
       "      <td>2429</td>\n",
       "      <td>NaN</td>\n",
       "    </tr>\n",
       "    <tr>\n",
       "      <th>DeviceProtection</th>\n",
       "      <td>2</td>\n",
       "      <td>No</td>\n",
       "      <td>3095</td>\n",
       "      <td>No</td>\n",
       "      <td>Yes</td>\n",
       "      <td>NaN</td>\n",
       "      <td>3095</td>\n",
       "      <td>2422</td>\n",
       "      <td>NaN</td>\n",
       "    </tr>\n",
       "    <tr>\n",
       "      <th>TechSupport</th>\n",
       "      <td>2</td>\n",
       "      <td>No</td>\n",
       "      <td>3473</td>\n",
       "      <td>No</td>\n",
       "      <td>Yes</td>\n",
       "      <td>NaN</td>\n",
       "      <td>3473</td>\n",
       "      <td>2044</td>\n",
       "      <td>NaN</td>\n",
       "    </tr>\n",
       "    <tr>\n",
       "      <th>StreamingTV</th>\n",
       "      <td>2</td>\n",
       "      <td>No</td>\n",
       "      <td>2810</td>\n",
       "      <td>No</td>\n",
       "      <td>Yes</td>\n",
       "      <td>NaN</td>\n",
       "      <td>2810</td>\n",
       "      <td>2707</td>\n",
       "      <td>NaN</td>\n",
       "    </tr>\n",
       "    <tr>\n",
       "      <th>StreamingMovies</th>\n",
       "      <td>2</td>\n",
       "      <td>No</td>\n",
       "      <td>2785</td>\n",
       "      <td>No</td>\n",
       "      <td>Yes</td>\n",
       "      <td>NaN</td>\n",
       "      <td>2785</td>\n",
       "      <td>2732</td>\n",
       "      <td>NaN</td>\n",
       "    </tr>\n",
       "    <tr>\n",
       "      <th>MultipleLines</th>\n",
       "      <td>2</td>\n",
       "      <td>No</td>\n",
       "      <td>3390</td>\n",
       "      <td>No</td>\n",
       "      <td>Yes</td>\n",
       "      <td>NaN</td>\n",
       "      <td>3390</td>\n",
       "      <td>2971</td>\n",
       "      <td>NaN</td>\n",
       "    </tr>\n",
       "  </tbody>\n",
       "</table>\n",
       "</div>"
      ],
      "text/plain": [
       "                  n_unique                 mode  mode_freq  \\\n",
       "feature                                                      \n",
       "EndDate                 66  2020-01-01 00:00:00         39   \n",
       "Type                     3       Month-to-month       3875   \n",
       "PaperlessBilling         2                  Yes       4171   \n",
       "PaymentMethod            4     Electronic check       2365   \n",
       "gender                   2                 Male       3555   \n",
       "Partner                  2                   No       3641   \n",
       "Dependents               2                   No       4933   \n",
       "InternetService          2          Fiber optic       3096   \n",
       "OnlineSecurity           2                   No       3498   \n",
       "OnlineBackup             2                   No       3088   \n",
       "DeviceProtection         2                   No       3095   \n",
       "TechSupport              2                   No       3473   \n",
       "StreamingTV              2                   No       2810   \n",
       "StreamingMovies          2                   No       2785   \n",
       "MultipleLines            2                   No       3390   \n",
       "\n",
       "                           top1_value           top2_value  \\\n",
       "feature                                                      \n",
       "EndDate           2020-01-01 00:00:00  2019-12-01 00:00:00   \n",
       "Type                   Month-to-month             Two year   \n",
       "PaperlessBilling                  Yes                   No   \n",
       "PaymentMethod        Electronic check         Mailed check   \n",
       "gender                           Male               Female   \n",
       "Partner                            No                  Yes   \n",
       "Dependents                         No                  Yes   \n",
       "InternetService           Fiber optic                  DSL   \n",
       "OnlineSecurity                     No                  Yes   \n",
       "OnlineBackup                       No                  Yes   \n",
       "DeviceProtection                   No                  Yes   \n",
       "TechSupport                        No                  Yes   \n",
       "StreamingTV                        No                  Yes   \n",
       "StreamingMovies                    No                  Yes   \n",
       "MultipleLines                      No                  Yes   \n",
       "\n",
       "                                 top3_value  top1_freq  top2_freq  top3_freq  \n",
       "feature                                                                       \n",
       "EndDate                 2018-11-01 00:00:00         39         38       35.0  \n",
       "Type                               One year       3875       1695     1473.0  \n",
       "PaperlessBilling                        NaN       4171       2872        NaN  \n",
       "PaymentMethod     Bank transfer (automatic)       2365       1612     1544.0  \n",
       "gender                                  NaN       3555       3488        NaN  \n",
       "Partner                                 NaN       3641       3402        NaN  \n",
       "Dependents                              NaN       4933       2110        NaN  \n",
       "InternetService                         NaN       3096       2421        NaN  \n",
       "OnlineSecurity                          NaN       3498       2019        NaN  \n",
       "OnlineBackup                            NaN       3088       2429        NaN  \n",
       "DeviceProtection                        NaN       3095       2422        NaN  \n",
       "TechSupport                             NaN       3473       2044        NaN  \n",
       "StreamingTV                             NaN       2810       2707        NaN  \n",
       "StreamingMovies                         NaN       2785       2732        NaN  \n",
       "MultipleLines                           NaN       3390       2971        NaN  "
      ]
     },
     "metadata": {},
     "output_type": "display_data"
    },
    {
     "data": {
      "text/html": [
       "<div>\n",
       "<style scoped>\n",
       "    .dataframe tbody tr th:only-of-type {\n",
       "        vertical-align: middle;\n",
       "    }\n",
       "\n",
       "    .dataframe tbody tr th {\n",
       "        vertical-align: top;\n",
       "    }\n",
       "\n",
       "    .dataframe thead th {\n",
       "        text-align: right;\n",
       "    }\n",
       "</style>\n",
       "<table border=\"1\" class=\"dataframe\">\n",
       "  <thead>\n",
       "    <tr style=\"text-align: right;\">\n",
       "      <th></th>\n",
       "      <th>customerID</th>\n",
       "      <th>BeginDate</th>\n",
       "      <th>EndDate</th>\n",
       "      <th>Type</th>\n",
       "      <th>PaperlessBilling</th>\n",
       "      <th>PaymentMethod</th>\n",
       "      <th>MonthlyCharges</th>\n",
       "      <th>TotalCharges</th>\n",
       "      <th>Churn</th>\n",
       "      <th>TenureMonths</th>\n",
       "      <th>...</th>\n",
       "      <th>Partner</th>\n",
       "      <th>Dependents</th>\n",
       "      <th>InternetService</th>\n",
       "      <th>OnlineSecurity</th>\n",
       "      <th>OnlineBackup</th>\n",
       "      <th>DeviceProtection</th>\n",
       "      <th>TechSupport</th>\n",
       "      <th>StreamingTV</th>\n",
       "      <th>StreamingMovies</th>\n",
       "      <th>MultipleLines</th>\n",
       "    </tr>\n",
       "  </thead>\n",
       "  <tbody>\n",
       "    <tr>\n",
       "      <th>0</th>\n",
       "      <td>7590-VHVEG</td>\n",
       "      <td>2020-01-01</td>\n",
       "      <td>NaT</td>\n",
       "      <td>Month-to-month</td>\n",
       "      <td>Yes</td>\n",
       "      <td>Electronic check</td>\n",
       "      <td>29.85</td>\n",
       "      <td>31.04</td>\n",
       "      <td>0</td>\n",
       "      <td>1</td>\n",
       "      <td>...</td>\n",
       "      <td>Yes</td>\n",
       "      <td>No</td>\n",
       "      <td>DSL</td>\n",
       "      <td>No</td>\n",
       "      <td>Yes</td>\n",
       "      <td>No</td>\n",
       "      <td>No</td>\n",
       "      <td>No</td>\n",
       "      <td>No</td>\n",
       "      <td>NaN</td>\n",
       "    </tr>\n",
       "    <tr>\n",
       "      <th>1</th>\n",
       "      <td>5575-GNVDE</td>\n",
       "      <td>2017-04-01</td>\n",
       "      <td>NaT</td>\n",
       "      <td>One year</td>\n",
       "      <td>No</td>\n",
       "      <td>Mailed check</td>\n",
       "      <td>56.95</td>\n",
       "      <td>2071.84</td>\n",
       "      <td>0</td>\n",
       "      <td>34</td>\n",
       "      <td>...</td>\n",
       "      <td>No</td>\n",
       "      <td>No</td>\n",
       "      <td>DSL</td>\n",
       "      <td>Yes</td>\n",
       "      <td>No</td>\n",
       "      <td>Yes</td>\n",
       "      <td>No</td>\n",
       "      <td>No</td>\n",
       "      <td>No</td>\n",
       "      <td>No</td>\n",
       "    </tr>\n",
       "    <tr>\n",
       "      <th>2</th>\n",
       "      <td>3668-QPYBK</td>\n",
       "      <td>2019-10-01</td>\n",
       "      <td>NaT</td>\n",
       "      <td>Month-to-month</td>\n",
       "      <td>Yes</td>\n",
       "      <td>Mailed check</td>\n",
       "      <td>53.85</td>\n",
       "      <td>226.17</td>\n",
       "      <td>0</td>\n",
       "      <td>4</td>\n",
       "      <td>...</td>\n",
       "      <td>No</td>\n",
       "      <td>No</td>\n",
       "      <td>DSL</td>\n",
       "      <td>Yes</td>\n",
       "      <td>Yes</td>\n",
       "      <td>No</td>\n",
       "      <td>No</td>\n",
       "      <td>No</td>\n",
       "      <td>No</td>\n",
       "      <td>No</td>\n",
       "    </tr>\n",
       "    <tr>\n",
       "      <th>3</th>\n",
       "      <td>7795-CFOCW</td>\n",
       "      <td>2016-05-01</td>\n",
       "      <td>NaT</td>\n",
       "      <td>One year</td>\n",
       "      <td>No</td>\n",
       "      <td>Bank transfer (automatic)</td>\n",
       "      <td>42.30</td>\n",
       "      <td>1960.60</td>\n",
       "      <td>0</td>\n",
       "      <td>45</td>\n",
       "      <td>...</td>\n",
       "      <td>No</td>\n",
       "      <td>No</td>\n",
       "      <td>DSL</td>\n",
       "      <td>Yes</td>\n",
       "      <td>No</td>\n",
       "      <td>Yes</td>\n",
       "      <td>Yes</td>\n",
       "      <td>No</td>\n",
       "      <td>No</td>\n",
       "      <td>NaN</td>\n",
       "    </tr>\n",
       "    <tr>\n",
       "      <th>4</th>\n",
       "      <td>9237-HQITU</td>\n",
       "      <td>2019-09-01</td>\n",
       "      <td>NaT</td>\n",
       "      <td>Month-to-month</td>\n",
       "      <td>Yes</td>\n",
       "      <td>Electronic check</td>\n",
       "      <td>70.70</td>\n",
       "      <td>353.50</td>\n",
       "      <td>0</td>\n",
       "      <td>5</td>\n",
       "      <td>...</td>\n",
       "      <td>No</td>\n",
       "      <td>No</td>\n",
       "      <td>Fiber optic</td>\n",
       "      <td>No</td>\n",
       "      <td>No</td>\n",
       "      <td>No</td>\n",
       "      <td>No</td>\n",
       "      <td>No</td>\n",
       "      <td>No</td>\n",
       "      <td>No</td>\n",
       "    </tr>\n",
       "  </tbody>\n",
       "</table>\n",
       "<p>5 rows × 22 columns</p>\n",
       "</div>"
      ],
      "text/plain": [
       "   customerID  BeginDate EndDate            Type PaperlessBilling  \\\n",
       "0  7590-VHVEG 2020-01-01     NaT  Month-to-month              Yes   \n",
       "1  5575-GNVDE 2017-04-01     NaT        One year               No   \n",
       "2  3668-QPYBK 2019-10-01     NaT  Month-to-month              Yes   \n",
       "3  7795-CFOCW 2016-05-01     NaT        One year               No   \n",
       "4  9237-HQITU 2019-09-01     NaT  Month-to-month              Yes   \n",
       "\n",
       "               PaymentMethod  MonthlyCharges  TotalCharges  Churn  \\\n",
       "0           Electronic check           29.85         31.04      0   \n",
       "1               Mailed check           56.95       2071.84      0   \n",
       "2               Mailed check           53.85        226.17      0   \n",
       "3  Bank transfer (automatic)           42.30       1960.60      0   \n",
       "4           Electronic check           70.70        353.50      0   \n",
       "\n",
       "   TenureMonths  ... Partner  Dependents InternetService OnlineSecurity  \\\n",
       "0             1  ...     Yes          No             DSL             No   \n",
       "1            34  ...      No          No             DSL            Yes   \n",
       "2             4  ...      No          No             DSL            Yes   \n",
       "3            45  ...      No          No             DSL            Yes   \n",
       "4             5  ...      No          No     Fiber optic             No   \n",
       "\n",
       "  OnlineBackup DeviceProtection TechSupport StreamingTV StreamingMovies  \\\n",
       "0          Yes               No          No          No              No   \n",
       "1           No              Yes          No          No              No   \n",
       "2          Yes               No          No          No              No   \n",
       "3           No              Yes         Yes          No              No   \n",
       "4           No               No          No          No              No   \n",
       "\n",
       "  MultipleLines  \n",
       "0           NaN  \n",
       "1            No  \n",
       "2            No  \n",
       "3           NaN  \n",
       "4            No  \n",
       "\n",
       "[5 rows x 22 columns]"
      ]
     },
     "execution_count": 17,
     "metadata": {},
     "output_type": "execute_result"
    }
   ],
   "source": [
    "# --- Объединение всех таблиц по customerID ---\n",
    "df_merged = (\n",
    "    contract\n",
    "    .merge(personal, on=\"customerID\", how=\"left\")\n",
    "    .merge(internet, on=\"customerID\", how=\"left\")\n",
    "    .merge(phone, on=\"customerID\", how=\"left\")\n",
    ")\n",
    "\n",
    "print(\"Размер объединённого датафрейма:\", df_merged.shape)\n",
    "\n",
    "# Проверим пропуски\n",
    "inspect_df(df_merged, id_cols=[\"customerID\"], name=\"merged_df\")\n",
    "\n",
    "df_merged.head()"
   ]
  },
  {
   "cell_type": "markdown",
   "id": "9bc95ffa",
   "metadata": {},
   "source": [
    "Все таблицы были объединены в единый датафрейм размером 7043×22 по ключу `customerID`. Пропусков и дубликатов в основных данных (договора и персональные сведения) нет. Отсутствие значений в блоках интернет-услуг и телефонии связано с тем, что часть клиентов не пользовалась этими сервисами. Таким образом, итоговый датафрейм содержит полную информацию о клиентах: характеристики договора, персональные данные, подключённые интернет и телефонные услуги, а также целевую переменную `Churn`."
   ]
  },
  {
   "cell_type": "markdown",
   "id": "f66c775c",
   "metadata": {},
   "source": [
    "## EDA объединённого датафрейма"
   ]
  },
  {
   "cell_type": "markdown",
   "id": "c70e909c",
   "metadata": {},
   "source": [
    "### Распределения"
   ]
  },
  {
   "cell_type": "markdown",
   "id": "a005f402",
   "metadata": {},
   "source": [
    "- Построим распределения для числовых признаков (`MonthlyCharges`, `TotalCharges`, `TenureMonths`).\n",
    "- Для категориальных признаков покажем распределение частот.\n",
    "- Дополнительно визуализируем распределения целевой переменной `Churn`."
   ]
  },
  {
   "cell_type": "code",
   "execution_count": 18,
   "id": "14e28fbe",
   "metadata": {
    "scrolled": true
   },
   "outputs": [
    {
     "data": {
      "image/png": "[encoded data removed]",
      "text/plain": [
       "<Figure size 1296x288 with 3 Axes>"
      ]
     },
     "metadata": {},
     "output_type": "display_data"
    },
    {
     "data": {
      "image/png": "[encoded data removed]",
      "text/plain": [
       "<Figure size 1296x1440 with 15 Axes>"
      ]
     },
     "metadata": {},
     "output_type": "display_data"
    },
    {
     "data": {
      "image/png": "[encoded data removed]",
      "text/plain": [
       "<Figure size 288x288 with 1 Axes>"
      ]
     },
     "metadata": {},
     "output_type": "display_data"
    }
   ],
   "source": [
    "# --- 1. Числовые признаки ---\n",
    "num_cols = [\"MonthlyCharges\", \"TotalCharges\", \"TenureMonths\"]\n",
    "\n",
    "fig, axes = plt.subplots(1, 3, figsize=(18, 4))\n",
    "for i, col in enumerate(num_cols):\n",
    "    sns.histplot(data=df_merged, x=col, hue=\"Churn\", bins=30, multiple=\"stack\", ax=axes[i])\n",
    "    axes[i].set_title(f\"{col} по Churn\")\n",
    "plt.tight_layout()\n",
    "plt.show()\n",
    "\n",
    "# --- 2. Категориальные признаки ---\n",
    "cat_cols = [\n",
    "    \"Type\", \"PaperlessBilling\", \"PaymentMethod\",\n",
    "    \"gender\", \"SeniorCitizen\", \"Partner\", \"Dependents\",\n",
    "    \"InternetService\", \"OnlineSecurity\", \"OnlineBackup\",\n",
    "    \"DeviceProtection\", \"TechSupport\", \"StreamingTV\", \"StreamingMovies\",\n",
    "    \"MultipleLines\"\n",
    "]\n",
    "\n",
    "n_cols = 3\n",
    "n_rows = (len(cat_cols) + n_cols - 1) // n_cols\n",
    "\n",
    "fig, axes = plt.subplots(n_rows, n_cols, figsize=(18, n_rows * 4))\n",
    "axes = axes.flatten()\n",
    "\n",
    "for i, col in enumerate(cat_cols):\n",
    "    sns.countplot(data=df_merged, x=col, hue=\"Churn\", ax=axes[i])\n",
    "    axes[i].set_title(col)\n",
    "    axes[i].tick_params(axis=\"x\", rotation=30)\n",
    "\n",
    "# Отключим пустые оси (если кол-во признаков не кратно 3)\n",
    "for j in range(i + 1, len(axes)):\n",
    "    axes[j].set_visible(False)\n",
    "\n",
    "plt.tight_layout()\n",
    "plt.show()\n",
    "\n",
    "# --- 3. Целевая переменная ---\n",
    "plt.figure(figsize=(4, 4))\n",
    "sns.countplot(data=df_merged, x=\"Churn\")\n",
    "plt.title(\"Распределение целевой переменной (Churn)\")\n",
    "plt.show()"
   ]
  },
  {
   "cell_type": "markdown",
   "id": "52ddc76c",
   "metadata": {},
   "source": [
    "Большинство клиентов остаётся в компании, уровень оттока составляет \\~16%. Наибольший риск ухода наблюдается у абонентов с помесячными договорами, при оплате через *Electronic check*, а также у пользователей оптоволоконного интернета. Клиенты без семьи и пенсионеры чаще расторгают договор. Наличие дополнительных сервисов (особенно *OnlineSecurity* и *TechSupport*) снижает вероятность ухода. По числовым признакам видно, что уход чаще происходит среди клиентов с коротким сроком обслуживания и средними/высокими ежемесячными расходами, тогда как клиенты с длительным стажем и большими накопленными расходами более лояльны."
   ]
  },
  {
   "cell_type": "markdown",
   "id": "7ef29f93",
   "metadata": {},
   "source": [
    "### Корреляционный анализ"
   ]
  },
  {
   "cell_type": "markdown",
   "id": "cbed3d73",
   "metadata": {},
   "source": [
    "- Для числовых признаков рассчитаем коэффициенты корреляции Пирсона.\n",
    "- Для категориальных и смешанных признаков используем библиотеку `phik`, позволяющую оценить силу зависимости между переменными.\n",
    "- Отдельное внимание уделим связям признаков с целевой переменной `Churn`."
   ]
  },
  {
   "cell_type": "code",
   "execution_count": 19,
   "id": "a37272a2",
   "metadata": {},
   "outputs": [
    {
     "data": {
      "image/png": "[encoded data removed]",
      "text/plain": [
       "<Figure size 432x288 with 2 Axes>"
      ]
     },
     "metadata": {},
     "output_type": "display_data"
    }
   ],
   "source": [
    "# --- Корреляция Пирсона для числовых признаков ---\n",
    "num_cols = [\"MonthlyCharges\", \"TotalCharges\", \"TenureMonths\", \"Churn\"]\n",
    "\n",
    "plt.figure(figsize=(6, 4))\n",
    "sns.heatmap(df_merged[num_cols].corr(method=\"pearson\"), annot=True, fmt=\".2f\", cmap=\"coolwarm\")\n",
    "plt.title(\"Корреляция Пирсона (числовые признаки)\")\n",
    "plt.show()"
   ]
  },
  {
   "cell_type": "code",
   "execution_count": 20,
   "id": "4c527f1a",
   "metadata": {
    "scrolled": true
   },
   "outputs": [
    {
     "data": {
      "image/png": "[encoded data removed]",
      "text/plain": [
       "<Figure size 576x432 with 1 Axes>"
      ]
     },
     "metadata": {},
     "output_type": "display_data"
    },
    {
     "data": {
      "image/png": "[encoded data removed]",
      "text/plain": [
       "<Figure size 864x720 with 2 Axes>"
      ]
     },
     "metadata": {},
     "output_type": "display_data"
    }
   ],
   "source": [
    "# --- Phik: анализ для числовых и категориальных признаков ---\n",
    "df_phik = (\n",
    "    df_merged\n",
    "    .drop(columns=[c for c in [\"customerID\", \"BeginDate\", \"EndDate\"] if c in df_merged.columns])\n",
    "    .copy()\n",
    ")\n",
    "\n",
    "interval_cols = [c for c in df_phik.columns if pd.api.types.is_numeric_dtype(df_phik[c])]\n",
    "phik_corr = df_phik.phik_matrix(interval_cols=interval_cols)\n",
    "\n",
    "# Топ-связи с Churn\n",
    "phik_churn = (\n",
    "    phik_corr[\"Churn\"]\n",
    "    .drop(labels=[\"Churn\"], errors=\"ignore\")\n",
    "    .dropna()\n",
    "    .sort_values(ascending=False)\n",
    ")\n",
    "\n",
    "plt.figure(figsize=(8, 6))\n",
    "sns.barplot(x=phik_churn.values, y=phik_churn.index)\n",
    "plt.xlabel(\"phik(., Churn)\")\n",
    "plt.ylabel(\"\")\n",
    "plt.title(\"Сила связи признаков с Churn (phik)\")\n",
    "plt.tight_layout()\n",
    "plt.show()\n",
    "\n",
    "# Полная матрица phik\n",
    "plt.figure(figsize=(12, 10))\n",
    "sns.heatmap(phik_corr, vmin=0, vmax=1, cmap=\"Blues\", annot=True, fmt=\".2f\", cbar=True)\n",
    "plt.title(\"Матрица phik-корреляций\")\n",
    "plt.xticks(rotation=45, ha=\"right\")\n",
    "plt.yticks(rotation=0)\n",
    "plt.tight_layout()\n",
    "plt.show()"
   ]
  },
  {
   "cell_type": "markdown",
   "id": "6faff3d5",
   "metadata": {},
   "source": [
    "Анализ показал, что среди числовых признаков наибольшая корреляция наблюдается между `TenureMonths` и `TotalCharges` (0.82), что логично, так как суммарные расходы напрямую зависят от длительности обслуживания. Корреляция числовых признаков с целевой переменной `Churn` оказалась слабой (максимум около 0.15 у `MonthlyCharges`).\n",
    "\n",
    "Расчёт phik-корреляций позволил выявить признаки, наиболее связанные с оттоком клиентов: `TenureMonths`, `TotalCharges`, `MultipleLines`, `Partner`, `MonthlyCharges`, `OnlineBackup`, а также `PaymentMethod` и развлекательные сервисы. Наименьшее влияние на отток оказывают `gender`, `Dependents`, `TechSupport` и `PaperlessBilling`.\n",
    "\n",
    "Также обнаружена очень высокая зависимость между `InternetService` и `MonthlyCharges` (phik ≈ 0.95), что отражает прямую связь типа подключения с размером ежемесячных расходов. Несмотря на сильную корреляцию, оба признака будут сохранены для моделирования: деревья решений и градиентный бустинг способны корректно работать с такими зависимостями и использовать их для повышения точности. Для линейных моделей при необходимости можно исключить `InternetService`.\n",
    "\n",
    "Учитывая сильную взаимосвязь между `TenureMonths` и `TotalCharges`, в итоговом датасете лучше оставить только один из этих признаков, предпочтительно `TenureMonths`. Остальные признаки могут быть использованы в модели, так как современные алгоритмы справляются с избыточностью, а слабые факторы не внесут значимого шума."
   ]
  },
  {
   "cell_type": "markdown",
   "id": "fc9b1687",
   "metadata": {},
   "source": [
    "## Кластеризация клиентов"
   ]
  },
  {
   "cell_type": "markdown",
   "id": "76dbafb5",
   "metadata": {},
   "source": [
    "Для улучшения качества прогнозирования и последующего сегментирования клиентов была выполнена кластеризация. Цель – выявить скрытые группы абонентов со схожими характеристиками и добавить номер кластера как дополнительный признак в модель.\n",
    "\n",
    "На этапе подготовки:\n",
    "\n",
    "* выбраны числовые и категориальные признаки, отражающие услуги и поведение клиентов;\n",
    "* категориальные признаки преобразованы методом one-hot encoding;\n",
    "* данные масштабированы при помощи `StandardScaler`.\n",
    "\n",
    "Для определения оптимального числа кластеров использован **метод локтя**, который показывает, при каком количестве кластеров добавление новых сегментов перестаёт существенно снижать внутрикластерную дисперсию. После выбора числа кластеров применён алгоритм **KMeans**, и полученные метки кластеров добавлены в итоговый датафрейм как новый признак `Cluster`."
   ]
  },
  {
   "cell_type": "code",
   "execution_count": 21,
   "id": "f5187281",
   "metadata": {},
   "outputs": [],
   "source": [
    "# Копия и подготовка фичей\n",
    "df_clu = df_merged.copy()\n",
    "\n",
    "# Заполним пропуски в сервисах: отсутствие услуги — информативно\n",
    "svc_cols = [\"InternetService\",\"OnlineSecurity\",\"OnlineBackup\",\"DeviceProtection\",\"TechSupport\",\"StreamingTV\",\"StreamingMovies\",\"MultipleLines\"]\n",
    "for c in svc_cols:\n",
    "    if c in df_clu.columns:\n",
    "        df_clu[c] = df_clu[c].fillna(\"No\")\n",
    "\n",
    "# Список признаков для кластеризации\n",
    "num_cols = [\"MonthlyCharges\", \"TenureMonths\", \"SeniorCitizen\"]\n",
    "cat_cols = [\n",
    "    \"Type\", \"PaperlessBilling\", \"PaymentMethod\", \"gender\", \"Partner\", \"Dependents\",\n",
    "    \"InternetService\", \"OnlineSecurity\", \"OnlineBackup\", \"DeviceProtection\",\n",
    "    \"TechSupport\", \"StreamingTV\", \"StreamingMovies\", \"MultipleLines\"\n",
    "]\n",
    "\n",
    "use_cols = num_cols + cat_cols\n",
    "X = df_clu[use_cols].copy()\n",
    "\n",
    "# One-Hot Encoding для категориальных\n",
    "X = pd.get_dummies(X, columns=cat_cols, drop_first=False)\n",
    "\n",
    "# Масштабирование числовых\n",
    "scaler = StandardScaler()\n",
    "X[num_cols] = scaler.fit_transform(X[num_cols])"
   ]
  },
  {
   "cell_type": "code",
   "execution_count": 22,
   "id": "aa97c53b",
   "metadata": {},
   "outputs": [
    {
     "data": {
      "image/png": "[encoded data removed]",
      "text/plain": [
       "<Figure size 864x288 with 2 Axes>"
      ]
     },
     "metadata": {},
     "output_type": "display_data"
    }
   ],
   "source": [
    "inertias = []\n",
    "silhouettes = []\n",
    "k_range = range(2, 15)  # проверяем от 2 до 14 кластеров\n",
    "\n",
    "for k in k_range:\n",
    "    km = KMeans(n_clusters=k, n_init=10, random_state=RANDOM_STATE)\n",
    "    labels = km.fit_predict(X)\n",
    "    inertias.append(km.inertia_)\n",
    "    sil_score = silhouette_score(X, labels)\n",
    "    silhouettes.append(sil_score)\n",
    "\n",
    "# График локтя\n",
    "plt.figure(figsize=(12,4))\n",
    "\n",
    "plt.subplot(1,2,1)\n",
    "sns.lineplot(x=list(k_range), y=inertias, marker=\"o\")\n",
    "plt.xlabel(\"Число кластеров k\")\n",
    "plt.ylabel(\"Inertia (within-cluster SSE)\")\n",
    "plt.title(\"Метод локтя\")\n",
    "\n",
    "# График силуэта\n",
    "plt.subplot(1,2,2)\n",
    "sns.lineplot(x=list(k_range), y=silhouettes, marker=\"o\", color=\"orange\")\n",
    "plt.xlabel(\"Число кластеров k\")\n",
    "plt.ylabel(\"Silhouette score\")\n",
    "plt.title(\"Силуэтный коэффициент\")\n",
    "\n",
    "plt.tight_layout()\n",
    "plt.show()"
   ]
  },
  {
   "cell_type": "markdown",
   "id": "f2315d22",
   "metadata": {},
   "source": [
    "- Метод локтя: кривая быстро снижается до k≈4–5, после этого замедляется\n",
    "- Силуэтный коэффициент: максимальное значение у k=3 (~0.18), затем идёт снижение. Это значит, что при 3 кластерах группы наиболее компактные и разделённые.\n",
    "\n",
    "По силуэту лучший k=3, но для практической сегментации и как фича в модели детализация в 4–5 кластеров часто полезнее. Выберем k=4 как компромисс: локоть ещё заметен, детализация выше, а усложнение умеренное."
   ]
  },
  {
   "cell_type": "code",
   "execution_count": 23,
   "id": "61438847",
   "metadata": {
    "scrolled": true
   },
   "outputs": [
    {
     "data": {
      "text/html": [
       "<div>\n",
       "<style scoped>\n",
       "    .dataframe tbody tr th:only-of-type {\n",
       "        vertical-align: middle;\n",
       "    }\n",
       "\n",
       "    .dataframe tbody tr th {\n",
       "        vertical-align: top;\n",
       "    }\n",
       "\n",
       "    .dataframe thead tr th {\n",
       "        text-align: left;\n",
       "    }\n",
       "\n",
       "    .dataframe thead tr:last-of-type th {\n",
       "        text-align: right;\n",
       "    }\n",
       "</style>\n",
       "<table border=\"1\" class=\"dataframe\">\n",
       "  <thead>\n",
       "    <tr>\n",
       "      <th></th>\n",
       "      <th colspan=\"3\" halign=\"left\">MonthlyCharges</th>\n",
       "      <th colspan=\"3\" halign=\"left\">TenureMonths</th>\n",
       "      <th colspan=\"3\" halign=\"left\">SeniorCitizen</th>\n",
       "    </tr>\n",
       "    <tr>\n",
       "      <th></th>\n",
       "      <th>mean</th>\n",
       "      <th>median</th>\n",
       "      <th>count</th>\n",
       "      <th>mean</th>\n",
       "      <th>median</th>\n",
       "      <th>count</th>\n",
       "      <th>mean</th>\n",
       "      <th>median</th>\n",
       "      <th>count</th>\n",
       "    </tr>\n",
       "    <tr>\n",
       "      <th>Cluster</th>\n",
       "      <th></th>\n",
       "      <th></th>\n",
       "      <th></th>\n",
       "      <th></th>\n",
       "      <th></th>\n",
       "      <th></th>\n",
       "      <th></th>\n",
       "      <th></th>\n",
       "      <th></th>\n",
       "    </tr>\n",
       "  </thead>\n",
       "  <tbody>\n",
       "    <tr>\n",
       "      <th>0</th>\n",
       "      <td>23.09</td>\n",
       "      <td>20.25</td>\n",
       "      <td>1726</td>\n",
       "      <td>27.77</td>\n",
       "      <td>23.0</td>\n",
       "      <td>1726</td>\n",
       "      <td>0.03</td>\n",
       "      <td>0.0</td>\n",
       "      <td>1726</td>\n",
       "    </tr>\n",
       "    <tr>\n",
       "      <th>1</th>\n",
       "      <td>86.84</td>\n",
       "      <td>89.70</td>\n",
       "      <td>1921</td>\n",
       "      <td>49.65</td>\n",
       "      <td>51.0</td>\n",
       "      <td>1921</td>\n",
       "      <td>0.01</td>\n",
       "      <td>0.0</td>\n",
       "      <td>1921</td>\n",
       "    </tr>\n",
       "    <tr>\n",
       "      <th>2</th>\n",
       "      <td>69.39</td>\n",
       "      <td>70.75</td>\n",
       "      <td>2314</td>\n",
       "      <td>14.32</td>\n",
       "      <td>11.0</td>\n",
       "      <td>2314</td>\n",
       "      <td>0.00</td>\n",
       "      <td>0.0</td>\n",
       "      <td>2314</td>\n",
       "    </tr>\n",
       "    <tr>\n",
       "      <th>3</th>\n",
       "      <td>82.15</td>\n",
       "      <td>85.28</td>\n",
       "      <td>1082</td>\n",
       "      <td>28.91</td>\n",
       "      <td>26.0</td>\n",
       "      <td>1082</td>\n",
       "      <td>1.00</td>\n",
       "      <td>1.0</td>\n",
       "      <td>1082</td>\n",
       "    </tr>\n",
       "  </tbody>\n",
       "</table>\n",
       "</div>"
      ],
      "text/plain": [
       "        MonthlyCharges              TenureMonths              SeniorCitizen  \\\n",
       "                  mean median count         mean median count          mean   \n",
       "Cluster                                                                       \n",
       "0                23.09  20.25  1726        27.77   23.0  1726          0.03   \n",
       "1                86.84  89.70  1921        49.65   51.0  1921          0.01   \n",
       "2                69.39  70.75  2314        14.32   11.0  2314          0.00   \n",
       "3                82.15  85.28  1082        28.91   26.0  1082          1.00   \n",
       "\n",
       "                      \n",
       "        median count  \n",
       "Cluster               \n",
       "0          0.0  1726  \n",
       "1          0.0  1921  \n",
       "2          0.0  2314  \n",
       "3          1.0  1082  "
      ]
     },
     "metadata": {},
     "output_type": "display_data"
    },
    {
     "name": "stdout",
     "output_type": "stream",
     "text": [
      "\n",
      "Type (% по кластерам):\n"
     ]
    },
    {
     "data": {
      "text/html": [
       "<div>\n",
       "<style scoped>\n",
       "    .dataframe tbody tr th:only-of-type {\n",
       "        vertical-align: middle;\n",
       "    }\n",
       "\n",
       "    .dataframe tbody tr th {\n",
       "        vertical-align: top;\n",
       "    }\n",
       "\n",
       "    .dataframe thead th {\n",
       "        text-align: right;\n",
       "    }\n",
       "</style>\n",
       "<table border=\"1\" class=\"dataframe\">\n",
       "  <thead>\n",
       "    <tr style=\"text-align: right;\">\n",
       "      <th>Type</th>\n",
       "      <th>Month-to-month</th>\n",
       "      <th>One year</th>\n",
       "      <th>Two year</th>\n",
       "    </tr>\n",
       "    <tr>\n",
       "      <th>Cluster</th>\n",
       "      <th></th>\n",
       "      <th></th>\n",
       "      <th></th>\n",
       "    </tr>\n",
       "  </thead>\n",
       "  <tbody>\n",
       "    <tr>\n",
       "      <th>0</th>\n",
       "      <td>36.4</td>\n",
       "      <td>25.0</td>\n",
       "      <td>38.6</td>\n",
       "    </tr>\n",
       "    <tr>\n",
       "      <th>1</th>\n",
       "      <td>18.1</td>\n",
       "      <td>35.7</td>\n",
       "      <td>46.3</td>\n",
       "    </tr>\n",
       "    <tr>\n",
       "      <th>2</th>\n",
       "      <td>90.9</td>\n",
       "      <td>7.8</td>\n",
       "      <td>1.3</td>\n",
       "    </tr>\n",
       "    <tr>\n",
       "      <th>3</th>\n",
       "      <td>73.5</td>\n",
       "      <td>16.4</td>\n",
       "      <td>10.2</td>\n",
       "    </tr>\n",
       "  </tbody>\n",
       "</table>\n",
       "</div>"
      ],
      "text/plain": [
       "Type     Month-to-month  One year  Two year\n",
       "Cluster                                    \n",
       "0                  36.4      25.0      38.6\n",
       "1                  18.1      35.7      46.3\n",
       "2                  90.9       7.8       1.3\n",
       "3                  73.5      16.4      10.2"
      ]
     },
     "metadata": {},
     "output_type": "display_data"
    },
    {
     "name": "stdout",
     "output_type": "stream",
     "text": [
      "\n",
      "PaymentMethod (% по кластерам):\n"
     ]
    },
    {
     "data": {
      "text/html": [
       "<div>\n",
       "<style scoped>\n",
       "    .dataframe tbody tr th:only-of-type {\n",
       "        vertical-align: middle;\n",
       "    }\n",
       "\n",
       "    .dataframe tbody tr th {\n",
       "        vertical-align: top;\n",
       "    }\n",
       "\n",
       "    .dataframe thead th {\n",
       "        text-align: right;\n",
       "    }\n",
       "</style>\n",
       "<table border=\"1\" class=\"dataframe\">\n",
       "  <thead>\n",
       "    <tr style=\"text-align: right;\">\n",
       "      <th>PaymentMethod</th>\n",
       "      <th>Bank transfer (automatic)</th>\n",
       "      <th>Credit card (automatic)</th>\n",
       "      <th>Electronic check</th>\n",
       "      <th>Mailed check</th>\n",
       "    </tr>\n",
       "    <tr>\n",
       "      <th>Cluster</th>\n",
       "      <th></th>\n",
       "      <th></th>\n",
       "      <th></th>\n",
       "      <th></th>\n",
       "    </tr>\n",
       "  </thead>\n",
       "  <tbody>\n",
       "    <tr>\n",
       "      <th>0</th>\n",
       "      <td>21.6</td>\n",
       "      <td>22.0</td>\n",
       "      <td>7.9</td>\n",
       "      <td>48.5</td>\n",
       "    </tr>\n",
       "    <tr>\n",
       "      <th>1</th>\n",
       "      <td>32.7</td>\n",
       "      <td>32.3</td>\n",
       "      <td>24.5</td>\n",
       "      <td>10.6</td>\n",
       "    </tr>\n",
       "    <tr>\n",
       "      <th>2</th>\n",
       "      <td>14.3</td>\n",
       "      <td>14.0</td>\n",
       "      <td>50.4</td>\n",
       "      <td>21.3</td>\n",
       "    </tr>\n",
       "    <tr>\n",
       "      <th>3</th>\n",
       "      <td>19.7</td>\n",
       "      <td>18.3</td>\n",
       "      <td>54.7</td>\n",
       "      <td>7.3</td>\n",
       "    </tr>\n",
       "  </tbody>\n",
       "</table>\n",
       "</div>"
      ],
      "text/plain": [
       "PaymentMethod  Bank transfer (automatic)  Credit card (automatic)  \\\n",
       "Cluster                                                             \n",
       "0                                   21.6                     22.0   \n",
       "1                                   32.7                     32.3   \n",
       "2                                   14.3                     14.0   \n",
       "3                                   19.7                     18.3   \n",
       "\n",
       "PaymentMethod  Electronic check  Mailed check  \n",
       "Cluster                                        \n",
       "0                           7.9          48.5  \n",
       "1                          24.5          10.6  \n",
       "2                          50.4          21.3  \n",
       "3                          54.7           7.3  "
      ]
     },
     "metadata": {},
     "output_type": "display_data"
    },
    {
     "name": "stdout",
     "output_type": "stream",
     "text": [
      "\n",
      "InternetService (% по кластерам):\n"
     ]
    },
    {
     "data": {
      "text/html": [
       "<div>\n",
       "<style scoped>\n",
       "    .dataframe tbody tr th:only-of-type {\n",
       "        vertical-align: middle;\n",
       "    }\n",
       "\n",
       "    .dataframe tbody tr th {\n",
       "        vertical-align: top;\n",
       "    }\n",
       "\n",
       "    .dataframe thead th {\n",
       "        text-align: right;\n",
       "    }\n",
       "</style>\n",
       "<table border=\"1\" class=\"dataframe\">\n",
       "  <thead>\n",
       "    <tr style=\"text-align: right;\">\n",
       "      <th>InternetService</th>\n",
       "      <th>DSL</th>\n",
       "      <th>Fiber optic</th>\n",
       "    </tr>\n",
       "    <tr>\n",
       "      <th>Cluster</th>\n",
       "      <th></th>\n",
       "      <th></th>\n",
       "    </tr>\n",
       "  </thead>\n",
       "  <tbody>\n",
       "    <tr>\n",
       "      <th>0</th>\n",
       "      <td>99.0</td>\n",
       "      <td>1.0</td>\n",
       "    </tr>\n",
       "    <tr>\n",
       "      <th>1</th>\n",
       "      <td>47.8</td>\n",
       "      <td>52.2</td>\n",
       "    </tr>\n",
       "    <tr>\n",
       "      <th>2</th>\n",
       "      <td>45.4</td>\n",
       "      <td>54.6</td>\n",
       "    </tr>\n",
       "    <tr>\n",
       "      <th>3</th>\n",
       "      <td>22.8</td>\n",
       "      <td>77.2</td>\n",
       "    </tr>\n",
       "  </tbody>\n",
       "</table>\n",
       "</div>"
      ],
      "text/plain": [
       "InternetService   DSL  Fiber optic\n",
       "Cluster                           \n",
       "0                99.0          1.0\n",
       "1                47.8         52.2\n",
       "2                45.4         54.6\n",
       "3                22.8         77.2"
      ]
     },
     "metadata": {},
     "output_type": "display_data"
    },
    {
     "name": "stdout",
     "output_type": "stream",
     "text": [
      "\n",
      "OnlineSecurity (% по кластерам):\n"
     ]
    },
    {
     "data": {
      "text/html": [
       "<div>\n",
       "<style scoped>\n",
       "    .dataframe tbody tr th:only-of-type {\n",
       "        vertical-align: middle;\n",
       "    }\n",
       "\n",
       "    .dataframe tbody tr th {\n",
       "        vertical-align: top;\n",
       "    }\n",
       "\n",
       "    .dataframe thead th {\n",
       "        text-align: right;\n",
       "    }\n",
       "</style>\n",
       "<table border=\"1\" class=\"dataframe\">\n",
       "  <thead>\n",
       "    <tr style=\"text-align: right;\">\n",
       "      <th>OnlineSecurity</th>\n",
       "      <th>No</th>\n",
       "      <th>Yes</th>\n",
       "    </tr>\n",
       "    <tr>\n",
       "      <th>Cluster</th>\n",
       "      <th></th>\n",
       "      <th></th>\n",
       "    </tr>\n",
       "  </thead>\n",
       "  <tbody>\n",
       "    <tr>\n",
       "      <th>0</th>\n",
       "      <td>62.0</td>\n",
       "      <td>38.0</td>\n",
       "    </tr>\n",
       "    <tr>\n",
       "      <th>1</th>\n",
       "      <td>39.4</td>\n",
       "      <td>60.6</td>\n",
       "    </tr>\n",
       "    <tr>\n",
       "      <th>2</th>\n",
       "      <td>78.0</td>\n",
       "      <td>22.0</td>\n",
       "    </tr>\n",
       "    <tr>\n",
       "      <th>3</th>\n",
       "      <td>75.1</td>\n",
       "      <td>24.9</td>\n",
       "    </tr>\n",
       "  </tbody>\n",
       "</table>\n",
       "</div>"
      ],
      "text/plain": [
       "OnlineSecurity    No   Yes\n",
       "Cluster                   \n",
       "0               62.0  38.0\n",
       "1               39.4  60.6\n",
       "2               78.0  22.0\n",
       "3               75.1  24.9"
      ]
     },
     "metadata": {},
     "output_type": "display_data"
    },
    {
     "name": "stdout",
     "output_type": "stream",
     "text": [
      "\n",
      "TechSupport (% по кластерам):\n"
     ]
    },
    {
     "data": {
      "text/html": [
       "<div>\n",
       "<style scoped>\n",
       "    .dataframe tbody tr th:only-of-type {\n",
       "        vertical-align: middle;\n",
       "    }\n",
       "\n",
       "    .dataframe tbody tr th {\n",
       "        vertical-align: top;\n",
       "    }\n",
       "\n",
       "    .dataframe thead th {\n",
       "        text-align: right;\n",
       "    }\n",
       "</style>\n",
       "<table border=\"1\" class=\"dataframe\">\n",
       "  <thead>\n",
       "    <tr style=\"text-align: right;\">\n",
       "      <th>TechSupport</th>\n",
       "      <th>No</th>\n",
       "      <th>Yes</th>\n",
       "    </tr>\n",
       "    <tr>\n",
       "      <th>Cluster</th>\n",
       "      <th></th>\n",
       "      <th></th>\n",
       "    </tr>\n",
       "  </thead>\n",
       "  <tbody>\n",
       "    <tr>\n",
       "      <th>0</th>\n",
       "      <td>69.7</td>\n",
       "      <td>30.3</td>\n",
       "    </tr>\n",
       "    <tr>\n",
       "      <th>1</th>\n",
       "      <td>35.9</td>\n",
       "      <td>64.1</td>\n",
       "    </tr>\n",
       "    <tr>\n",
       "      <th>2</th>\n",
       "      <td>78.2</td>\n",
       "      <td>21.8</td>\n",
       "    </tr>\n",
       "    <tr>\n",
       "      <th>3</th>\n",
       "      <td>77.2</td>\n",
       "      <td>22.8</td>\n",
       "    </tr>\n",
       "  </tbody>\n",
       "</table>\n",
       "</div>"
      ],
      "text/plain": [
       "TechSupport    No   Yes\n",
       "Cluster                \n",
       "0            69.7  30.3\n",
       "1            35.9  64.1\n",
       "2            78.2  21.8\n",
       "3            77.2  22.8"
      ]
     },
     "metadata": {},
     "output_type": "display_data"
    },
    {
     "data": {
      "text/html": [
       "<div>\n",
       "<style scoped>\n",
       "    .dataframe tbody tr th:only-of-type {\n",
       "        vertical-align: middle;\n",
       "    }\n",
       "\n",
       "    .dataframe tbody tr th {\n",
       "        vertical-align: top;\n",
       "    }\n",
       "\n",
       "    .dataframe thead th {\n",
       "        text-align: right;\n",
       "    }\n",
       "</style>\n",
       "<table border=\"1\" class=\"dataframe\">\n",
       "  <thead>\n",
       "    <tr style=\"text-align: right;\">\n",
       "      <th></th>\n",
       "      <th>N</th>\n",
       "      <th>churn_rate</th>\n",
       "    </tr>\n",
       "    <tr>\n",
       "      <th>Cluster</th>\n",
       "      <th></th>\n",
       "      <th></th>\n",
       "    </tr>\n",
       "  </thead>\n",
       "  <tbody>\n",
       "    <tr>\n",
       "      <th>0</th>\n",
       "      <td>1726</td>\n",
       "      <td>10.4</td>\n",
       "    </tr>\n",
       "    <tr>\n",
       "      <th>1</th>\n",
       "      <td>1921</td>\n",
       "      <td>24.5</td>\n",
       "    </tr>\n",
       "    <tr>\n",
       "      <th>2</th>\n",
       "      <td>2314</td>\n",
       "      <td>9.6</td>\n",
       "    </tr>\n",
       "    <tr>\n",
       "      <th>3</th>\n",
       "      <td>1082</td>\n",
       "      <td>21.0</td>\n",
       "    </tr>\n",
       "  </tbody>\n",
       "</table>\n",
       "</div>"
      ],
      "text/plain": [
       "            N  churn_rate\n",
       "Cluster                  \n",
       "0        1726        10.4\n",
       "1        1921        24.5\n",
       "2        2314         9.6\n",
       "3        1082        21.0"
      ]
     },
     "metadata": {},
     "output_type": "display_data"
    }
   ],
   "source": [
    "# Обучение KMeans с выбранным k\n",
    "k_best = 4\n",
    "kmeans = KMeans(n_clusters=k_best, n_init=10, random_state=42)\n",
    "clusters = kmeans.fit_predict(X)  # X — наш OHE+scaled набор для кластеризации из предыдущего шага\n",
    "df_merged[\"Cluster\"] = clusters.astype(int)\n",
    "\n",
    "# Быстрая диагностика кластеров (только для EDA; в финале кластеризатор будет обучаться на train)\n",
    "stats_cols = [\"MonthlyCharges\", \"TenureMonths\", \"SeniorCitizen\"]\n",
    "\n",
    "summary_num = (\n",
    "    df_merged.groupby(\"Cluster\")[stats_cols]\n",
    "    .agg([\"mean\", \"median\", \"count\"])\n",
    ")\n",
    "\n",
    "# округлим только mean и median\n",
    "summary_num.loc[:, (slice(None), \"mean\")] = summary_num.loc[:, (slice(None), \"mean\")].astype(float).round(2)\n",
    "summary_num.loc[:, (slice(None), \"median\")] = summary_num.loc[:, (slice(None), \"median\")].astype(float).round(2)\n",
    "\n",
    "display(summary_num)\n",
    "\n",
    "# Распределения ключевых категориальных по кластерам (доли, %)\n",
    "for col in [\"Type\", \"PaymentMethod\", \"InternetService\", \"OnlineSecurity\", \"TechSupport\"]:\n",
    "    ct = (\n",
    "        df_merged.groupby([\"Cluster\", col]).size()\n",
    "        .groupby(level=0).apply(lambda s: 100 * s / s.sum())\n",
    "        .unstack(fill_value=0)\n",
    "        .round(1)\n",
    "    )\n",
    "    print(f\"\\n{col} (% по кластерам):\")\n",
    "    display(ct)\n",
    "\n",
    "# Доля оттока по кластерам\n",
    "churn_by_cluster = df_merged.groupby(\"Cluster\")[\"Churn\"].agg(N=\"count\", churn_rate=lambda s: 100*s.mean())\n",
    "churn_by_cluster[\"churn_rate\"] = churn_by_cluster[\"churn_rate\"].round(1)\n",
    "display(churn_by_cluster)"
   ]
  },
  {
   "cell_type": "markdown",
   "id": "c2523716",
   "metadata": {},
   "source": [
    "Для сегментации клиентов была проведена кластеризация методом **KMeans**. По результатам метода локтя и силуэтного коэффициента выбрано **4 кластера**, что позволило получить более детализированное разбиение по сравнению с грубой сегментацией на две группы (отточные/неотточные).\n",
    "\n",
    "Основные характеристики кластеров:\n",
    "\n",
    "* **Кластер 0** – клиенты с низкими ежемесячными расходами (≈23 у.е.), преимущественно пользователи DSL. Умеренный стаж, отток низкий (≈10%).\n",
    "* **Кластер 1** – клиенты с высокими ежемесячными расходами (≈87 у.е.) и длительным стажем. Активно пользуются дополнительными услугами (OnlineSecurity, TechSupport). Несмотря на это, доля оттока довольно высокая (≈25%).\n",
    "* **Кластер 2** – абоненты со средними расходами (≈69 у.е.) и минимальным стажем (≈14 мес.), чаще всего с помесячными договорами и оплатой через *Electronic check*. Характеризуются наименьшей долей оттока (≈10%).\n",
    "* **Кластер 3** – в основном пенсионеры с высокими расходами и оптоволоконным интернетом. Уровень оттока повышен (≈21%).\n",
    "\n",
    "Таким образом, кластеризация выявила скрытые сегменты клиентов, которые отличаются уровнем расходов, типом подключения, наличием дополнительных услуг и риском ухода. Полученный номер кластера (`Cluster`) будет использован как дополнительный признак в моделях предсказания оттока."
   ]
  },
  {
   "cell_type": "markdown",
   "id": "75c76192",
   "metadata": {},
   "source": [
    "## Подготовка данных"
   ]
  },
  {
   "cell_type": "markdown",
   "id": "f2c1c1e8",
   "metadata": {},
   "source": [
    "Для обучения моделей создан единый пайплайн предобработки:\n",
    "\n",
    "* удалены технические признаки (`customerID`, даты) и исключён `TotalCharges` как дублирующий `TenureMonths`;\n",
    "* числовые признаки (`MonthlyCharges`, `TenureMonths`, `SeniorCitizen`) масштабированы с помощью `StandardScaler`;\n",
    "* категориальные признаки преобразованы методом One-Hot Encoding;\n",
    "* добавлен новый признак `Cluster`, полученный с помощью алгоритма KMeans (4 кластера).\n",
    "\n",
    "Данные разделены на обучающую и тестовую выборки в пропорции 75/25. В результате после предобработки каждая запись описывается 39 признаками. Этот же пайплайн далее будет использоваться для обучения моделей и подбора гиперпараметров."
   ]
  },
  {
   "cell_type": "code",
   "execution_count": 24,
   "id": "2f525997",
   "metadata": {},
   "outputs": [],
   "source": [
    "# Выбор признаков\n",
    "drop_cols = [\"customerID\", \"TotalCharges\", \"Cluster\"]\n",
    "use_df = df_merged.drop(columns=[c for c in drop_cols if c in df_merged.columns]).copy()\n",
    "\n",
    "# Переводим SeniorCitizen в категорию Yes/No\n",
    "use_df[\"SeniorCitizen\"] = use_df[\"SeniorCitizen\"].map({0: \"No\", 1: \"Yes\"})\n",
    "\n",
    "# Заполняем сервисные NaN как \"No\" (нет услуги)\n",
    "svc_cols = [\"InternetService\",\"OnlineSecurity\",\"OnlineBackup\",\"DeviceProtection\",\n",
    "            \"TechSupport\",\"StreamingTV\",\"StreamingMovies\",\"MultipleLines\"]\n",
    "for c in svc_cols:\n",
    "    if c in use_df.columns:\n",
    "        use_df[c] = use_df[c].fillna(\"No\")\n",
    "\n",
    "# Считаем TenureDays\n",
    "bd = pd.to_datetime(use_df[\"BeginDate\"], errors=\"coerce\")\n",
    "ed = pd.to_datetime(use_df[\"EndDate\"], errors=\"coerce\").fillna(CONTROL_DATE)\n",
    "tenure_days = (ed - bd).dt.days.clip(lower=0)\n",
    "use_df[\"TenureDays\"] = tenure_days.astype(\"Int64\")\n",
    "\n",
    "# Разделение X/y\n",
    "target_col = \"Churn\"\n",
    "y = use_df[target_col].astype(int)\n",
    "X = use_df.drop(columns=[target_col, \"BeginDate\", \"EndDate\", \"TenureMonths\"])\n",
    "\n",
    "# Списки признаков\n",
    "# Берём только дни (месяцы — убираем, чтобы не плодить корреляцию)\n",
    "num_cols = [\"MonthlyCharges\", \"TenureDays\"]\n",
    "cat_cols = [c for c in X.columns if c not in num_cols]\n",
    "\n",
    "# Сплит\n",
    "X_train, X_test, y_train, y_test = train_test_split(\n",
    "    X, y, test_size=0.25, random_state=RANDOM_STATE, stratify=y\n",
    ")"
   ]
  },
  {
   "cell_type": "code",
   "execution_count": 25,
   "id": "513107ab",
   "metadata": {},
   "outputs": [],
   "source": [
    "# Преобразователи\n",
    "numeric_transformer = Pipeline(steps=[\n",
    "    (\"scaler\", StandardScaler())\n",
    "])\n",
    "\n",
    "categorical_transformer = Pipeline(steps=[\n",
    "    (\"onehot\", OneHotEncoder(handle_unknown=\"ignore\", sparse=False))\n",
    "])\n",
    "\n",
    "preprocessor = ColumnTransformer(\n",
    "    transformers=[\n",
    "        (\"num\", numeric_transformer, num_cols),\n",
    "        (\"cat\", categorical_transformer, cat_cols),\n",
    "    ],\n",
    "    remainder=\"drop\"\n",
    ")"
   ]
  },
  {
   "cell_type": "code",
   "execution_count": 26,
   "id": "e12c4a37",
   "metadata": {},
   "outputs": [],
   "source": [
    "# Кастомный трансформер: добавляет столбец метки кластера после препроцессинга\n",
    "class AddCluster(BaseEstimator, TransformerMixin):\n",
    "    def __init__(self, n_clusters=4, random_state=RANDOM_STATE):\n",
    "        self.n_clusters = n_clusters\n",
    "        self.random_state = random_state\n",
    "        self.kmeans_ = None\n",
    "\n",
    "    def fit(self, X, y=None):\n",
    "        # KMeans обучается только на train-векторах (внутри Pipeline.fit)\n",
    "        self.kmeans_ = KMeans(n_clusters=self.n_clusters, n_init=10, random_state=self.random_state)\n",
    "        self.kmeans_.fit(X)\n",
    "        return self\n",
    "\n",
    "    def transform(self, X):\n",
    "        labels = self.kmeans_.predict(X).reshape(-1, 1)\n",
    "        # конкатенируем как дополнительный числовой признак\n",
    "        return np.hstack([X, labels])"
   ]
  },
  {
   "cell_type": "code",
   "execution_count": 27,
   "id": "ae2399cd",
   "metadata": {},
   "outputs": [],
   "source": [
    "# Полный пайплайн подготовки (без модели)\n",
    "prep_with_cluster = Pipeline(steps=[\n",
    "    (\"prep\", preprocessor),\n",
    "    (\"cluster\", AddCluster(n_clusters=4, random_state=RANDOM_STATE))\n",
    "])"
   ]
  },
  {
   "cell_type": "code",
   "execution_count": 28,
   "id": "0bb8fa7c",
   "metadata": {
    "scrolled": false
   },
   "outputs": [
    {
     "name": "stdout",
     "output_type": "stream",
     "text": [
      "Train shape after prep+cluster: (5282, 37)\n",
      "Test  shape after prep+cluster : (1761, 37)\n"
     ]
    }
   ],
   "source": [
    "# Пробный прогон: посмотреть форму признаков после подготовки\n",
    "Xtr_ready = prep_with_cluster.fit_transform(X_train, y_train)  # fit на train (без утечки)\n",
    "Xte_ready = prep_with_cluster.transform(X_test)\n",
    "\n",
    "print(\"Train shape after prep+cluster:\", Xtr_ready.shape)\n",
    "print(\"Test  shape after prep+cluster :\", Xte_ready.shape)"
   ]
  },
  {
   "cell_type": "markdown",
   "id": "92db4661",
   "metadata": {},
   "source": [
    "## Обучение моделей машинного обучения"
   ]
  },
  {
   "cell_type": "markdown",
   "id": "6e335802",
   "metadata": {},
   "source": [
    "- Модели: **RandomForestClassifier**, **GradientBoostingClassifier**, **KNN**, **CatBoostClassifier**, **HistGradientBoostingClassifier**.\n",
    "- Кросс-валидация: Stratified K-Fold, `cv=5`, `scoring={'roc_auc','accuracy'}`, `refit='roc_auc'`.\n",
    "- Пайплайн: общий препроцессинг `prep_with_cluster` (масштабирование, OHE, KMeans, `Cluster`) + классификатор.\n",
    "- Выбирается лучшая модель по CV **AUC-ROC**. Сохраняются лучшие параметры и метрики (AUC-ROC, Accuracy) по кросс-валидации.\n",
    "- Критерий проекта: **AUC-ROC ≥ 0.85** (на валидации)."
   ]
  },
  {
   "cell_type": "code",
   "execution_count": 29,
   "id": "1bfca1a0",
   "metadata": {},
   "outputs": [],
   "source": [
    "# Определяем три модельных пайплайна: prep + clf\n",
    "pipe_rf = Pipeline(steps=[\n",
    "    (\"prep\", prep_with_cluster),   # из предыдущего шага\n",
    "    (\"clf\", RandomForestClassifier(random_state=RANDOM_STATE, n_jobs=-1))\n",
    "])\n",
    "\n",
    "pipe_gb = Pipeline(steps=[\n",
    "    (\"prep\", prep_with_cluster),\n",
    "    (\"clf\", GradientBoostingClassifier(random_state=RANDOM_STATE))\n",
    "])\n",
    "\n",
    "pipe_knn = Pipeline(steps=[\n",
    "    (\"prep\", prep_with_cluster),\n",
    "    (\"clf\", KNeighborsClassifier())\n",
    "])\n",
    "\n",
    "pipe_cat = Pipeline(steps=[\n",
    "    (\"prep\", prep_with_cluster),\n",
    "    (\"clf\", CatBoostClassifier(\n",
    "        loss_function=\"Logloss\",\n",
    "        eval_metric=\"AUC\",\n",
    "        random_state=RANDOM_STATE,\n",
    "        verbose=False,           # без лишнего лога\n",
    "        thread_count=-1\n",
    "    ))\n",
    "])\n",
    "\n",
    "pipe_hgb = Pipeline(steps=[\n",
    "    (\"prep\", prep_with_cluster),\n",
    "    (\"clf\", HistGradientBoostingClassifier(random_state=RANDOM_STATE))\n",
    "])"
   ]
  },
  {
   "cell_type": "code",
   "execution_count": 30,
   "id": "3b8d0ef3",
   "metadata": {},
   "outputs": [],
   "source": [
    "param_grid_rf = {\n",
    "    \"clf__n_estimators\": [300, 600, 900],\n",
    "    \"clf__max_depth\": [10, None],\n",
    "    \"clf__min_samples_split\": [2, 5],\n",
    "    \"clf__min_samples_leaf\": [2, 4, 8],\n",
    "    \"clf__max_features\": [\"sqrt\", \"log2\"],\n",
    "    \"clf__class_weight\": [\"balanced\"]\n",
    "}\n",
    "\n",
    "param_grid_gb = {\n",
    "    \"clf__n_estimators\": [400, 700],\n",
    "    \"clf__learning_rate\": [0.05, 0.08],\n",
    "    \"clf__max_depth\": [2, 3],\n",
    "    \"clf__subsample\": [0.7, 0.9, 1.0],\n",
    "    \"clf__min_samples_leaf\": [3, 5, 10],\n",
    "    \"clf__max_features\": [\"sqrt\"]\n",
    "}\n",
    "\n",
    "param_grid_knn = {\n",
    "    \"clf__n_neighbors\": [25, 50, 75],\n",
    "    \"clf__weights\": [\"uniform\", \"distance\"],\n",
    "    \"clf__p\": [1, 2]\n",
    "}\n",
    "\n",
    "param_grid_cat = {\n",
    "    \"clf__n_estimators\": [700, 1000],\n",
    "    \"clf__learning_rate\": [0.05, 0.08],\n",
    "    \"clf__depth\": [4, 6],\n",
    "    \"clf__l2_leaf_reg\": [3.0, 5.0],\n",
    "    \"clf__subsample\": [0.8, 1.0],\n",
    "    \"clf__scale_pos_weight\": [4.0, 6.0]\n",
    "}\n",
    "\n",
    "param_grid_hgb = {\n",
    "    \"clf__learning_rate\": [0.05, 0.1],\n",
    "    \"clf__max_depth\": [None, 8, 12],\n",
    "    \"clf__max_leaf_nodes\": [31, 63],\n",
    "    \"clf__min_samples_leaf\": [10, 20, 50]\n",
    "}\n",
    "\n",
    "models = [\n",
    "    (\"RandomForest\", pipe_rf, param_grid_rf),\n",
    "    (\"GradientBoosting\", pipe_gb, param_grid_gb),\n",
    "    (\"KNN\", pipe_knn, param_grid_knn),\n",
    "    (\"CatBoost\", pipe_cat, param_grid_cat),\n",
    "    (\"HistGB\", pipe_hgb, param_grid_hgb),\n",
    "]"
   ]
  },
  {
   "cell_type": "code",
   "execution_count": 31,
   "id": "c8f5aba8",
   "metadata": {},
   "outputs": [
    {
     "name": "stdout",
     "output_type": "stream",
     "text": [
      "Fitting 5 folds for each of 72 candidates, totalling 360 fits\n",
      "Fitting 5 folds for each of 72 candidates, totalling 360 fits\n",
      "Fitting 5 folds for each of 12 candidates, totalling 60 fits\n",
      "Fitting 5 folds for each of 64 candidates, totalling 320 fits\n",
      "Fitting 5 folds for each of 36 candidates, totalling 180 fits\n"
     ]
    }
   ],
   "source": [
    "# Настройки кросс-валидации и метрик\n",
    "cv = StratifiedKFold(n_splits=5, shuffle=True, random_state=RANDOM_STATE)\n",
    "scoring = {\"roc_auc\": \"roc_auc\", \"accuracy\": \"accuracy\"}\n",
    "\n",
    "results = []\n",
    "\n",
    "best_estimators = {}\n",
    "\n",
    "for name, pipe, grid in models:\n",
    "    gs = GridSearchCV(\n",
    "        estimator=pipe,\n",
    "        param_grid=grid,\n",
    "        scoring=scoring,\n",
    "        refit=\"roc_auc\",          # выбираем по AUC-ROC\n",
    "        cv=cv,\n",
    "        n_jobs=-1,\n",
    "        verbose=1,\n",
    "        return_train_score=False\n",
    "    )\n",
    "    gs.fit(X_train, y_train)\n",
    "\n",
    "    # Сохраняем лучшего и короткое резюме\n",
    "    best_estimators[name] = gs.best_estimator_\n",
    "\n",
    "    mean_auc = gs.cv_results_[\"mean_test_roc_auc\"][gs.best_index_]\n",
    "    std_auc  = gs.cv_results_[\"std_test_roc_auc\"][gs.best_index_]\n",
    "    mean_acc = gs.cv_results_[\"mean_test_accuracy\"][gs.best_index_]\n",
    "    std_acc  = gs.cv_results_[\"std_test_accuracy\"][gs.best_index_]\n",
    "\n",
    "    results.append({\n",
    "        \"model\": name,\n",
    "        \"best_params\": gs.best_params_,\n",
    "        \"cv_auc_mean\": round(mean_auc, 4),\n",
    "        \"cv_auc_std\": round(std_auc, 4),\n",
    "        \"cv_acc_mean\": round(mean_acc, 4),\n",
    "        \"cv_acc_std\": round(std_acc, 4)\n",
    "    })"
   ]
  },
  {
   "cell_type": "code",
   "execution_count": 32,
   "id": "76293123",
   "metadata": {},
   "outputs": [
    {
     "name": "stdout",
     "output_type": "stream",
     "text": [
      "=== CV Summary (refit=roc_auc) ===\n"
     ]
    },
    {
     "data": {
      "text/html": [
       "<div>\n",
       "<style scoped>\n",
       "    .dataframe tbody tr th:only-of-type {\n",
       "        vertical-align: middle;\n",
       "    }\n",
       "\n",
       "    .dataframe tbody tr th {\n",
       "        vertical-align: top;\n",
       "    }\n",
       "\n",
       "    .dataframe thead th {\n",
       "        text-align: right;\n",
       "    }\n",
       "</style>\n",
       "<table border=\"1\" class=\"dataframe\">\n",
       "  <thead>\n",
       "    <tr style=\"text-align: right;\">\n",
       "      <th></th>\n",
       "      <th>model</th>\n",
       "      <th>best_params</th>\n",
       "      <th>cv_auc_mean</th>\n",
       "      <th>cv_auc_std</th>\n",
       "      <th>cv_acc_mean</th>\n",
       "      <th>cv_acc_std</th>\n",
       "    </tr>\n",
       "  </thead>\n",
       "  <tbody>\n",
       "    <tr>\n",
       "      <th>3</th>\n",
       "      <td>CatBoost</td>\n",
       "      <td>{'clf__depth': 4, 'clf__l2_leaf_reg': 3.0, 'clf__learning_rate': 0.08, 'clf__n_estimators': 1000, 'clf__scale_pos_weight': 4.0, 'clf__subsample': 0.8}</td>\n",
       "      <td>0.9205</td>\n",
       "      <td>0.0157</td>\n",
       "      <td>0.9014</td>\n",
       "      <td>0.0091</td>\n",
       "    </tr>\n",
       "    <tr>\n",
       "      <th>4</th>\n",
       "      <td>HistGB</td>\n",
       "      <td>{'clf__learning_rate': 0.1, 'clf__max_depth': None, 'clf__max_leaf_nodes': 63, 'clf__min_samples_leaf': 20}</td>\n",
       "      <td>0.8689</td>\n",
       "      <td>0.0173</td>\n",
       "      <td>0.8821</td>\n",
       "      <td>0.0056</td>\n",
       "    </tr>\n",
       "    <tr>\n",
       "      <th>1</th>\n",
       "      <td>GradientBoosting</td>\n",
       "      <td>{'clf__learning_rate': 0.08, 'clf__max_depth': 2, 'clf__max_features': 'sqrt', 'clf__min_samples_leaf': 5, 'clf__n_estimators': 700, 'clf__subsample': 0.7}</td>\n",
       "      <td>0.8453</td>\n",
       "      <td>0.0260</td>\n",
       "      <td>0.8682</td>\n",
       "      <td>0.0032</td>\n",
       "    </tr>\n",
       "    <tr>\n",
       "      <th>0</th>\n",
       "      <td>RandomForest</td>\n",
       "      <td>{'clf__class_weight': 'balanced', 'clf__max_depth': 10, 'clf__max_features': 'sqrt', 'clf__min_samples_leaf': 8, 'clf__min_samples_split': 2, 'clf__n_estimators': 600}</td>\n",
       "      <td>0.8275</td>\n",
       "      <td>0.0239</td>\n",
       "      <td>0.7988</td>\n",
       "      <td>0.0156</td>\n",
       "    </tr>\n",
       "    <tr>\n",
       "      <th>2</th>\n",
       "      <td>KNN</td>\n",
       "      <td>{'clf__n_neighbors': 75, 'clf__p': 2, 'clf__weights': 'distance'}</td>\n",
       "      <td>0.7860</td>\n",
       "      <td>0.0250</td>\n",
       "      <td>0.8493</td>\n",
       "      <td>0.0015</td>\n",
       "    </tr>\n",
       "  </tbody>\n",
       "</table>\n",
       "</div>"
      ],
      "text/plain": [
       "              model  \\\n",
       "3          CatBoost   \n",
       "4            HistGB   \n",
       "1  GradientBoosting   \n",
       "0      RandomForest   \n",
       "2               KNN   \n",
       "\n",
       "                                                                                                                                                               best_params  \\\n",
       "3                   {'clf__depth': 4, 'clf__l2_leaf_reg': 3.0, 'clf__learning_rate': 0.08, 'clf__n_estimators': 1000, 'clf__scale_pos_weight': 4.0, 'clf__subsample': 0.8}   \n",
       "4                                                              {'clf__learning_rate': 0.1, 'clf__max_depth': None, 'clf__max_leaf_nodes': 63, 'clf__min_samples_leaf': 20}   \n",
       "1              {'clf__learning_rate': 0.08, 'clf__max_depth': 2, 'clf__max_features': 'sqrt', 'clf__min_samples_leaf': 5, 'clf__n_estimators': 700, 'clf__subsample': 0.7}   \n",
       "0  {'clf__class_weight': 'balanced', 'clf__max_depth': 10, 'clf__max_features': 'sqrt', 'clf__min_samples_leaf': 8, 'clf__min_samples_split': 2, 'clf__n_estimators': 600}   \n",
       "2                                                                                                        {'clf__n_neighbors': 75, 'clf__p': 2, 'clf__weights': 'distance'}   \n",
       "\n",
       "   cv_auc_mean  cv_auc_std  cv_acc_mean  cv_acc_std  \n",
       "3       0.9205      0.0157       0.9014      0.0091  \n",
       "4       0.8689      0.0173       0.8821      0.0056  \n",
       "1       0.8453      0.0260       0.8682      0.0032  \n",
       "0       0.8275      0.0239       0.7988      0.0156  \n",
       "2       0.7860      0.0250       0.8493      0.0015  "
      ]
     },
     "metadata": {},
     "output_type": "display_data"
    }
   ],
   "source": [
    "# Сводная таблица по моделям\n",
    "summary_df = pd.DataFrame(results).sort_values(by=\"cv_auc_mean\", ascending=False)\n",
    "print(\"=== CV Summary (refit=roc_auc) ===\")\n",
    "display(summary_df)"
   ]
  },
  {
   "cell_type": "code",
   "execution_count": 33,
   "id": "5504cfc4",
   "metadata": {},
   "outputs": [
    {
     "name": "stdout",
     "output_type": "stream",
     "text": [
      "\n",
      "Лучшая модель по CV AUC-ROC: CatBoost\n",
      "Лучшие параметры: {'clf__depth': 4, 'clf__l2_leaf_reg': 3.0, 'clf__learning_rate': 0.08, 'clf__n_estimators': 1000, 'clf__scale_pos_weight': 4.0, 'clf__subsample': 0.8}\n",
      "CV AUC-ROC: 0.9205 ± 0.0157\n",
      "CV Accuracy: 0.9014 ± 0.0091\n"
     ]
    }
   ],
   "source": [
    "# Выбор лучшей модели по AUC-ROC\n",
    "best_row = summary_df.iloc[0]\n",
    "best_name = best_row[\"model\"]\n",
    "best_model = best_estimators[best_name]\n",
    "\n",
    "print(f\"\\nЛучшая модель по CV AUC-ROC: {best_name}\")\n",
    "print(\"Лучшие параметры:\", best_row[\"best_params\"])\n",
    "print(f\"CV AUC-ROC: {best_row['cv_auc_mean']} ± {best_row['cv_auc_std']}\")\n",
    "print(f\"CV Accuracy: {best_row['cv_acc_mean']} ± {best_row['cv_acc_std']}\")"
   ]
  },
  {
   "cell_type": "markdown",
   "id": "88538b6a",
   "metadata": {},
   "source": [
    "По результатам кросс-валидации наилучшие показатели продемонстрировала модель CatBoost, достигнув среднего значения AUC-ROC 0.92 ± 0.02 и Accuracy 0.90 ± 0.01, что существенно превышает качество остальных алгоритмов. Второе место занял HistGradientBoosting (AUC-ROC 0.87), а классический Gradient Boosting показал AUC-ROC 0.85. Модели Random Forest и KNN продемонстрировали заметно более низкие результаты (AUC-ROC около 0.83 и 0.79 соответственно). Таким образом, CatBoost выбран в качестве основной модели для финального тестирования."
   ]
  },
  {
   "cell_type": "markdown",
   "id": "e7825ffa",
   "metadata": {},
   "source": [
    "## Тестирование лучшей модели"
   ]
  },
  {
   "cell_type": "code",
   "execution_count": 34,
   "id": "c9538a0e",
   "metadata": {},
   "outputs": [
    {
     "name": "stdout",
     "output_type": "stream",
     "text": [
      "=== Тестовые метрики ===\n",
      "AUC-ROC: 0.9140\n",
      "Accuracy: 0.9023\n",
      "\n",
      "Classification report:\n",
      "              precision    recall  f1-score   support\n",
      "\n",
      "           0      0.947     0.937     0.942      1486\n",
      "           1      0.677     0.716     0.696       275\n",
      "\n",
      "    accuracy                          0.902      1761\n",
      "   macro avg      0.812     0.827     0.819      1761\n",
      "weighted avg      0.905     0.902     0.903      1761\n",
      "\n"
     ]
    },
    {
     "data": {
      "image/png": "[encoded data removed]",
      "text/plain": [
       "<Figure size 288x288 with 1 Axes>"
      ]
     },
     "metadata": {},
     "output_type": "display_data"
    }
   ],
   "source": [
    "# Лучшая модель по результатам GridSearchCV\n",
    "best_model = best_estimators[\"CatBoost\"]\n",
    "\n",
    "# Предсказания на тестовой выборке\n",
    "y_pred_proba = best_model.predict_proba(X_test)[:, 1]\n",
    "y_pred = best_model.predict(X_test)\n",
    "\n",
    "# Метрики\n",
    "test_auc = roc_auc_score(y_test, y_pred_proba)\n",
    "test_acc = accuracy_score(y_test, y_pred)\n",
    "\n",
    "print(\"=== Тестовые метрики ===\")\n",
    "print(f\"AUC-ROC: {test_auc:.4f}\")\n",
    "print(f\"Accuracy: {test_acc:.4f}\")\n",
    "print(\"\\nClassification report:\")\n",
    "print(classification_report(y_test, y_pred, digits=3))\n",
    "\n",
    "# Матрица ошибок\n",
    "cm = confusion_matrix(y_test, y_pred)\n",
    "plt.figure(figsize=(4, 4))\n",
    "sns.heatmap(cm, annot=True, fmt=\"d\", cmap=\"Blues\", cbar=False)\n",
    "plt.xlabel(\"Predicted\")\n",
    "plt.ylabel(\"True\")\n",
    "plt.title(\"Confusion Matrix (Test)\")\n",
    "plt.show()"
   ]
  },
  {
   "cell_type": "markdown",
   "id": "606c1d1a",
   "metadata": {},
   "source": [
    "Финальная модель на основе CatBoost показала высокий уровень качества: на кросс-валидации AUC-ROC составил 0.921, Accuracy — 0.901, а на тестовой выборке AUC-ROC достиг 0.914, Accuracy — 0.902. Модель демонстрирует уверенную способность различать клиентов с риском оттока, причём по классу «отток» recall составил 0.716, что значительно выше по сравнению с предыдущими версиями. Это означает, что модель не только хорошо удерживает «надёжных» абонентов, но и достаточно эффективно выявляет клиентов с высокой вероятностью ухода, что делает её практическим инструментом для построения программ лояльности и точечного удержания."
   ]
  },
  {
   "cell_type": "markdown",
   "id": "2da4e333",
   "metadata": {},
   "source": [
    "### Важность признаков"
   ]
  },
  {
   "cell_type": "code",
   "execution_count": 35,
   "id": "f9d82651",
   "metadata": {},
   "outputs": [
    {
     "data": {
      "image/png": "[encoded data removed]",
      "text/plain": [
       "<Figure size 576x432 with 1 Axes>"
      ]
     },
     "metadata": {},
     "output_type": "display_data"
    }
   ],
   "source": [
    "# --- Достаём имена признаков из пайплайна ---\n",
    "\n",
    "# ColumnTransformer внутри нашего общего prep-пайплайна\n",
    "ct = best_model.named_steps[\"prep\"].named_steps[\"prep\"]   # ColumnTransformer\n",
    "ohe = ct.named_transformers_[\"cat\"].named_steps[\"onehot\"]\n",
    "\n",
    "# Имена категориальных фич после OHE (fallback для старых версий sklearn)\n",
    "if hasattr(ohe, \"get_feature_names_out\"):\n",
    "    cat_feature_names = ohe.get_feature_names_out(input_features=cat_cols)\n",
    "else:\n",
    "    cat_feature_names = ohe.get_feature_names(input_features=cat_cols)\n",
    "\n",
    "# Полный список имён фич после трансформации\n",
    "feature_names = list(num_cols) + list(cat_feature_names) + [\"Cluster\"]\n",
    "\n",
    "# sanity-check: размер должен совпасть с матрицей признаков\n",
    "assert len(feature_names) == Xtr_ready.shape[1], (len(feature_names), Xtr_ready.shape)\n",
    "\n",
    "# --- Глобальная важность признаков (GradientBoosting) ---\n",
    "importances = best_model.named_steps[\"clf\"].feature_importances_\n",
    "\n",
    "feat_imp = (\n",
    "    pd.DataFrame({\"feature\": feature_names, \"importance\": importances})\n",
    "      .sort_values(\"importance\", ascending=False)\n",
    ")\n",
    "\n",
    "plt.figure(figsize=(8, 6))\n",
    "sns.barplot(data=feat_imp.head(15), x=\"importance\", y=\"feature\")\n",
    "plt.title(\"Топ-15 важных признаков (GradientBoosting)\")\n",
    "plt.xlabel(\"Importance\")\n",
    "plt.ylabel(\"\")\n",
    "plt.tight_layout()\n",
    "plt.show()"
   ]
  },
  {
   "cell_type": "markdown",
   "id": "0291e21b",
   "metadata": {},
   "source": [
    "Глобальный анализ важности признаков показал, что ключевым фактором оттока является длительность обслуживания (TenureDays): чем меньше срок, тем выше вероятность ухода. Существенное влияние также оказывают ежемесячные платежи (MonthlyCharges) и тип контракта (особенно помесячный формат). Дополнительными индикаторами риска выступают отсутствие партнёра, отсутствие нескольких линий связи, а также выбор способа оплаты (например, электронный чек или почтовый перевод). Важность кластерного признака также подтверждает ценность сегментации пользователей. Таким образом, в зоне наибольшего риска находятся клиенты с короткой историей взаимодействия, помесячными договорами и высокими ежемесячными затратами, что указывает бизнесу направления для целевых мер по удержанию."
   ]
  },
  {
   "cell_type": "markdown",
   "id": "972c946f",
   "metadata": {},
   "source": [
    "## Общий вывод и рекомендации заказчику"
   ]
  },
  {
   "cell_type": "markdown",
   "id": "cca934a4",
   "metadata": {},
   "source": [
    "В ходе проекта была реализована полная процедура построения модели прогнозирования оттока клиентов телеком-оператора. Проведена загрузка и интеграция данных из четырёх источников (договоры, персональные сведения, интернет- и телефонные услуги), выполнена предобработка: приведены типы переменных, рассчитан стаж в днях, обработаны пропуски, объединены таблицы. На этапе исследовательского анализа изучены распределения признаков и зависимости с целевой переменной, проведён корреляционный анализ. Выявлено, что риск оттока выше у клиентов с помесячными договорами, высоким уровнем ежемесячных платежей и отсутствием дополнительных сервисов. Дополнительно выполнена кластеризация пользователей, результаты которой использованы как новый признак в моделях.\n",
    "\n",
    "Для прогнозирования обучены и сравнены несколько алгоритмов (Random Forest, Gradient Boosting, KNN, CatBoost, HistGradientBoosting) с подбором гиперпараметров через GridSearchCV. Наилучшие результаты показала модель **CatBoost**: на кросс-валидации AUC-ROC составил **0.92**, Accuracy — **0.90**, на тестовой выборке AUC-ROC достиг **0.91**, Accuracy — **0.90**. Интерпретация подтвердила ключевое влияние длительности обслуживания, типа контракта и величины ежемесячных платежей на вероятность ухода.\n",
    "\n",
    "Практическая ценность результатов заключается в возможности выделения групп повышенного риска и разработки адресных мер удержания. Рекомендуется стимулировать клиентов к переходу на долгосрочные договоры, предлагать пакеты с дополнительными услугами, адаптировать тарифные предложения для пользователей с высокими ежемесячными платежами и отдельно работать с сегментами, у которых повышен риск оттока по способу оплаты и типу подключения. Реализация данных мер позволит сократить отток и повысить лояльность клиентов."
   ]
  }
 ],
 "metadata": {
  "ExecuteTimeLog": [
   {
    "duration": 1426,
    "start_time": "2025-08-26T09:23:26.289Z"
   },
   {
    "duration": 4,
    "start_time": "2025-08-26T09:23:31.592Z"
   },
   {
    "duration": 70,
    "start_time": "2025-08-26T09:27:05.860Z"
   },
   {
    "duration": 42,
    "start_time": "2025-08-26T09:27:47.483Z"
   },
   {
    "duration": 43,
    "start_time": "2025-08-26T09:28:01.712Z"
   },
   {
    "duration": 33,
    "start_time": "2025-08-26T09:28:18.587Z"
   },
   {
    "duration": 1299,
    "start_time": "2025-08-26T09:30:03.413Z"
   },
   {
    "duration": 5,
    "start_time": "2025-08-26T09:30:04.714Z"
   },
   {
    "duration": 72,
    "start_time": "2025-08-26T09:30:04.721Z"
   },
   {
    "duration": 39,
    "start_time": "2025-08-26T09:30:04.796Z"
   },
   {
    "duration": 42,
    "start_time": "2025-08-26T09:30:04.838Z"
   },
   {
    "duration": 44,
    "start_time": "2025-08-26T09:30:04.882Z"
   },
   {
    "duration": 1526,
    "start_time": "2025-08-26T17:47:22.978Z"
   },
   {
    "duration": 4,
    "start_time": "2025-08-26T17:47:24.506Z"
   },
   {
    "duration": 69,
    "start_time": "2025-08-26T17:47:24.511Z"
   },
   {
    "duration": 34,
    "start_time": "2025-08-26T17:47:24.582Z"
   },
   {
    "duration": 108,
    "start_time": "2025-08-26T17:47:24.618Z"
   },
   {
    "duration": 31,
    "start_time": "2025-08-26T17:47:24.728Z"
   },
   {
    "duration": 1379,
    "start_time": "2025-09-02T07:52:33.794Z"
   },
   {
    "duration": 6,
    "start_time": "2025-09-02T07:52:35.176Z"
   },
   {
    "duration": 207,
    "start_time": "2025-09-02T07:52:35.185Z"
   },
   {
    "duration": 122,
    "start_time": "2025-09-02T07:52:35.394Z"
   },
   {
    "duration": 125,
    "start_time": "2025-09-02T07:52:35.519Z"
   },
   {
    "duration": 69,
    "start_time": "2025-09-02T07:52:35.646Z"
   },
   {
    "duration": 23,
    "start_time": "2025-09-02T07:52:35.717Z"
   },
   {
    "duration": 80,
    "start_time": "2025-09-02T07:52:35.741Z"
   },
   {
    "duration": 140,
    "start_time": "2025-09-02T07:52:35.823Z"
   },
   {
    "duration": 1251,
    "start_time": "2025-09-02T07:59:04.608Z"
   },
   {
    "duration": 3,
    "start_time": "2025-09-02T07:59:05.861Z"
   },
   {
    "duration": 74,
    "start_time": "2025-09-02T07:59:05.866Z"
   },
   {
    "duration": 37,
    "start_time": "2025-09-02T07:59:05.941Z"
   },
   {
    "duration": 40,
    "start_time": "2025-09-02T07:59:05.980Z"
   },
   {
    "duration": 30,
    "start_time": "2025-09-02T07:59:06.022Z"
   },
   {
    "duration": 35,
    "start_time": "2025-09-02T07:59:06.054Z"
   },
   {
    "duration": 133,
    "start_time": "2025-09-02T07:59:06.091Z"
   },
   {
    "duration": 95,
    "start_time": "2025-09-02T07:59:06.226Z"
   },
   {
    "duration": 136,
    "start_time": "2025-09-02T08:04:17.812Z"
   },
   {
    "duration": 1214,
    "start_time": "2025-09-02T08:06:04.177Z"
   },
   {
    "duration": 4,
    "start_time": "2025-09-02T08:06:05.392Z"
   },
   {
    "duration": 88,
    "start_time": "2025-09-02T08:06:05.398Z"
   },
   {
    "duration": 39,
    "start_time": "2025-09-02T08:06:05.488Z"
   },
   {
    "duration": 40,
    "start_time": "2025-09-02T08:06:05.529Z"
   },
   {
    "duration": 45,
    "start_time": "2025-09-02T08:06:05.571Z"
   },
   {
    "duration": 10,
    "start_time": "2025-09-02T08:06:05.618Z"
   },
   {
    "duration": 125,
    "start_time": "2025-09-02T08:06:05.629Z"
   },
   {
    "duration": 182,
    "start_time": "2025-09-02T08:06:05.755Z"
   },
   {
    "duration": 1235,
    "start_time": "2025-09-02T08:14:53.634Z"
   },
   {
    "duration": 4,
    "start_time": "2025-09-02T08:14:54.871Z"
   },
   {
    "duration": 71,
    "start_time": "2025-09-02T08:14:54.876Z"
   },
   {
    "duration": 38,
    "start_time": "2025-09-02T08:14:54.950Z"
   },
   {
    "duration": 49,
    "start_time": "2025-09-02T08:14:54.990Z"
   },
   {
    "duration": 30,
    "start_time": "2025-09-02T08:14:55.041Z"
   },
   {
    "duration": 10,
    "start_time": "2025-09-02T08:14:55.073Z"
   },
   {
    "duration": 87,
    "start_time": "2025-09-02T08:14:55.084Z"
   },
   {
    "duration": 134,
    "start_time": "2025-09-02T08:14:55.174Z"
   },
   {
    "duration": 66,
    "start_time": "2025-09-02T08:14:55.309Z"
   },
   {
    "duration": 10,
    "start_time": "2025-09-02T08:19:02.650Z"
   },
   {
    "duration": 40,
    "start_time": "2025-09-02T08:21:16.123Z"
   },
   {
    "duration": 10,
    "start_time": "2025-09-02T08:21:44.053Z"
   },
   {
    "duration": 24,
    "start_time": "2025-09-02T08:25:03.210Z"
   },
   {
    "duration": 7,
    "start_time": "2025-09-02T08:25:12.412Z"
   },
   {
    "duration": 156,
    "start_time": "2025-09-02T08:27:50.536Z"
   },
   {
    "duration": 3427,
    "start_time": "2025-09-02T08:34:50.131Z"
   },
   {
    "duration": 1427,
    "start_time": "2025-09-02T08:37:51.253Z"
   },
   {
    "duration": 3,
    "start_time": "2025-09-02T08:37:52.682Z"
   },
   {
    "duration": 60,
    "start_time": "2025-09-02T08:37:52.687Z"
   },
   {
    "duration": 38,
    "start_time": "2025-09-02T08:37:52.749Z"
   },
   {
    "duration": 47,
    "start_time": "2025-09-02T08:37:52.789Z"
   },
   {
    "duration": 31,
    "start_time": "2025-09-02T08:37:52.838Z"
   },
   {
    "duration": 9,
    "start_time": "2025-09-02T08:37:52.871Z"
   },
   {
    "duration": 77,
    "start_time": "2025-09-02T08:37:52.882Z"
   },
   {
    "duration": 116,
    "start_time": "2025-09-02T08:37:52.961Z"
   },
   {
    "duration": 69,
    "start_time": "2025-09-02T08:37:53.078Z"
   },
   {
    "duration": 9,
    "start_time": "2025-09-02T08:37:53.149Z"
   },
   {
    "duration": 40,
    "start_time": "2025-09-02T08:37:53.160Z"
   },
   {
    "duration": 35,
    "start_time": "2025-09-02T08:37:53.201Z"
   },
   {
    "duration": 23,
    "start_time": "2025-09-02T08:37:53.239Z"
   },
   {
    "duration": 7,
    "start_time": "2025-09-02T08:37:53.263Z"
   },
   {
    "duration": 180,
    "start_time": "2025-09-02T08:37:53.272Z"
   },
   {
    "duration": 3575,
    "start_time": "2025-09-02T08:37:53.454Z"
   },
   {
    "duration": 4069,
    "start_time": "2025-09-02T08:45:03.134Z"
   },
   {
    "duration": 1444,
    "start_time": "2025-09-02T08:45:07.205Z"
   },
   {
    "duration": 4,
    "start_time": "2025-09-02T08:45:08.650Z"
   },
   {
    "duration": 71,
    "start_time": "2025-09-02T08:45:08.656Z"
   },
   {
    "duration": 38,
    "start_time": "2025-09-02T08:45:08.729Z"
   },
   {
    "duration": 40,
    "start_time": "2025-09-02T08:45:08.768Z"
   },
   {
    "duration": 32,
    "start_time": "2025-09-02T08:45:08.809Z"
   },
   {
    "duration": 10,
    "start_time": "2025-09-02T08:45:08.843Z"
   },
   {
    "duration": 81,
    "start_time": "2025-09-02T08:45:08.855Z"
   },
   {
    "duration": 124,
    "start_time": "2025-09-02T08:45:08.938Z"
   },
   {
    "duration": 43,
    "start_time": "2025-09-02T08:45:09.064Z"
   },
   {
    "duration": 33,
    "start_time": "2025-09-02T08:45:09.109Z"
   },
   {
    "duration": 43,
    "start_time": "2025-09-02T08:45:09.144Z"
   },
   {
    "duration": 11,
    "start_time": "2025-09-02T08:45:09.189Z"
   },
   {
    "duration": 50,
    "start_time": "2025-09-02T08:45:09.201Z"
   },
   {
    "duration": 8,
    "start_time": "2025-09-02T08:45:09.252Z"
   },
   {
    "duration": 189,
    "start_time": "2025-09-02T08:45:09.262Z"
   },
   {
    "duration": 3732,
    "start_time": "2025-09-02T08:45:09.452Z"
   },
   {
    "duration": 417,
    "start_time": "2025-09-02T08:45:13.186Z"
   },
   {
    "duration": 14145,
    "start_time": "2025-09-02T08:45:13.605Z"
   },
   {
    "duration": 2554,
    "start_time": "2025-09-02T08:49:25.066Z"
   },
   {
    "duration": 1322,
    "start_time": "2025-09-02T08:49:27.622Z"
   },
   {
    "duration": 4,
    "start_time": "2025-09-02T08:49:28.945Z"
   },
   {
    "duration": 72,
    "start_time": "2025-09-02T08:49:28.951Z"
   },
   {
    "duration": 38,
    "start_time": "2025-09-02T08:49:29.026Z"
   },
   {
    "duration": 40,
    "start_time": "2025-09-02T08:49:29.066Z"
   },
   {
    "duration": 31,
    "start_time": "2025-09-02T08:49:29.107Z"
   },
   {
    "duration": 10,
    "start_time": "2025-09-02T08:49:29.139Z"
   },
   {
    "duration": 70,
    "start_time": "2025-09-02T08:49:29.151Z"
   },
   {
    "duration": 131,
    "start_time": "2025-09-02T08:49:29.222Z"
   },
   {
    "duration": 42,
    "start_time": "2025-09-02T08:49:29.354Z"
   },
   {
    "duration": 8,
    "start_time": "2025-09-02T08:49:29.398Z"
   },
   {
    "duration": 92,
    "start_time": "2025-09-02T08:49:29.408Z"
   },
   {
    "duration": 10,
    "start_time": "2025-09-02T08:49:29.503Z"
   },
   {
    "duration": 22,
    "start_time": "2025-09-02T08:49:29.515Z"
   },
   {
    "duration": 8,
    "start_time": "2025-09-02T08:49:29.539Z"
   },
   {
    "duration": 251,
    "start_time": "2025-09-02T08:49:29.549Z"
   },
   {
    "duration": 3663,
    "start_time": "2025-09-02T08:49:29.802Z"
   },
   {
    "duration": 374,
    "start_time": "2025-09-02T08:49:33.467Z"
   },
   {
    "duration": 14774,
    "start_time": "2025-09-02T08:49:33.843Z"
   },
   {
    "duration": 2620,
    "start_time": "2025-09-02T09:19:15.588Z"
   },
   {
    "duration": 1306,
    "start_time": "2025-09-02T09:19:18.211Z"
   },
   {
    "duration": 5,
    "start_time": "2025-09-02T09:19:19.518Z"
   },
   {
    "duration": 67,
    "start_time": "2025-09-02T09:19:19.525Z"
   },
   {
    "duration": 37,
    "start_time": "2025-09-02T09:19:19.594Z"
   },
   {
    "duration": 40,
    "start_time": "2025-09-02T09:19:19.632Z"
   },
   {
    "duration": 30,
    "start_time": "2025-09-02T09:19:19.674Z"
   },
   {
    "duration": 10,
    "start_time": "2025-09-02T09:19:19.705Z"
   },
   {
    "duration": 70,
    "start_time": "2025-09-02T09:19:19.717Z"
   },
   {
    "duration": 116,
    "start_time": "2025-09-02T09:19:19.789Z"
   },
   {
    "duration": 63,
    "start_time": "2025-09-02T09:19:19.907Z"
   },
   {
    "duration": 8,
    "start_time": "2025-09-02T09:19:19.972Z"
   },
   {
    "duration": 80,
    "start_time": "2025-09-02T09:19:19.982Z"
   },
   {
    "duration": 18,
    "start_time": "2025-09-02T09:19:20.065Z"
   },
   {
    "duration": 67,
    "start_time": "2025-09-02T09:19:20.085Z"
   },
   {
    "duration": 18,
    "start_time": "2025-09-02T09:19:20.153Z"
   },
   {
    "duration": 174,
    "start_time": "2025-09-02T09:19:20.173Z"
   },
   {
    "duration": 3673,
    "start_time": "2025-09-02T09:19:20.348Z"
   },
   {
    "duration": 386,
    "start_time": "2025-09-02T09:19:24.023Z"
   },
   {
    "duration": 2734,
    "start_time": "2025-09-02T09:19:24.411Z"
   },
   {
    "duration": 2580,
    "start_time": "2025-09-02T09:22:31.012Z"
   },
   {
    "duration": 1224,
    "start_time": "2025-09-02T09:22:33.595Z"
   },
   {
    "duration": 4,
    "start_time": "2025-09-02T09:22:34.821Z"
   },
   {
    "duration": 76,
    "start_time": "2025-09-02T09:22:34.827Z"
   },
   {
    "duration": 39,
    "start_time": "2025-09-02T09:22:34.905Z"
   },
   {
    "duration": 42,
    "start_time": "2025-09-02T09:22:34.946Z"
   },
   {
    "duration": 33,
    "start_time": "2025-09-02T09:22:34.990Z"
   },
   {
    "duration": 15,
    "start_time": "2025-09-02T09:22:35.025Z"
   },
   {
    "duration": 95,
    "start_time": "2025-09-02T09:22:35.042Z"
   },
   {
    "duration": 146,
    "start_time": "2025-09-02T09:22:35.140Z"
   },
   {
    "duration": 64,
    "start_time": "2025-09-02T09:22:35.287Z"
   },
   {
    "duration": 9,
    "start_time": "2025-09-02T09:22:35.353Z"
   },
   {
    "duration": 88,
    "start_time": "2025-09-02T09:22:35.364Z"
   },
   {
    "duration": 11,
    "start_time": "2025-09-02T09:22:35.454Z"
   },
   {
    "duration": 42,
    "start_time": "2025-09-02T09:22:35.467Z"
   },
   {
    "duration": 7,
    "start_time": "2025-09-02T09:22:35.511Z"
   },
   {
    "duration": 271,
    "start_time": "2025-09-02T09:22:35.520Z"
   },
   {
    "duration": 3648,
    "start_time": "2025-09-02T09:22:35.793Z"
   },
   {
    "duration": 379,
    "start_time": "2025-09-02T09:22:39.443Z"
   },
   {
    "duration": 4144,
    "start_time": "2025-09-02T09:22:39.823Z"
   },
   {
    "duration": 464,
    "start_time": "2025-09-02T09:36:23.420Z"
   },
   {
    "duration": 43,
    "start_time": "2025-09-02T09:37:13.613Z"
   },
   {
    "duration": 14936,
    "start_time": "2025-09-02T09:37:22.671Z"
   },
   {
    "duration": 35585,
    "start_time": "2025-09-02T09:39:26.326Z"
   },
   {
    "duration": 2,
    "start_time": "2025-09-02T09:41:48.221Z"
   },
   {
    "duration": 54740,
    "start_time": "2025-09-02T09:41:59.563Z"
   },
   {
    "duration": 2126,
    "start_time": "2025-09-02T09:48:24.558Z"
   },
   {
    "duration": 2000,
    "start_time": "2025-09-02T09:48:54.780Z"
   },
   {
    "duration": 2121,
    "start_time": "2025-09-02T09:51:38.371Z"
   },
   {
    "duration": 2750,
    "start_time": "2025-09-02T09:52:03.958Z"
   },
   {
    "duration": 1427,
    "start_time": "2025-09-02T09:52:06.711Z"
   },
   {
    "duration": 4,
    "start_time": "2025-09-02T09:52:08.140Z"
   },
   {
    "duration": 77,
    "start_time": "2025-09-02T09:52:08.145Z"
   },
   {
    "duration": 37,
    "start_time": "2025-09-02T09:52:08.224Z"
   },
   {
    "duration": 54,
    "start_time": "2025-09-02T09:52:08.263Z"
   },
   {
    "duration": 31,
    "start_time": "2025-09-02T09:52:08.319Z"
   },
   {
    "duration": 10,
    "start_time": "2025-09-02T09:52:08.351Z"
   },
   {
    "duration": 82,
    "start_time": "2025-09-02T09:52:08.362Z"
   },
   {
    "duration": 124,
    "start_time": "2025-09-02T09:52:08.445Z"
   },
   {
    "duration": 65,
    "start_time": "2025-09-02T09:52:08.571Z"
   },
   {
    "duration": 16,
    "start_time": "2025-09-02T09:52:08.638Z"
   },
   {
    "duration": 61,
    "start_time": "2025-09-02T09:52:08.656Z"
   },
   {
    "duration": 11,
    "start_time": "2025-09-02T09:52:08.720Z"
   },
   {
    "duration": 28,
    "start_time": "2025-09-02T09:52:08.732Z"
   },
   {
    "duration": 9,
    "start_time": "2025-09-02T09:52:08.761Z"
   },
   {
    "duration": 173,
    "start_time": "2025-09-02T09:52:08.772Z"
   },
   {
    "duration": 3722,
    "start_time": "2025-09-02T09:52:08.947Z"
   },
   {
    "duration": 372,
    "start_time": "2025-09-02T09:52:12.671Z"
   },
   {
    "duration": 4317,
    "start_time": "2025-09-02T09:52:13.045Z"
   },
   {
    "duration": 662,
    "start_time": "2025-09-02T09:52:17.363Z"
   },
   {
    "duration": 46,
    "start_time": "2025-09-02T09:52:18.027Z"
   },
   {
    "duration": 56450,
    "start_time": "2025-09-02T09:52:18.074Z"
   },
   {
    "duration": 2159,
    "start_time": "2025-09-02T09:53:14.526Z"
   },
   {
    "duration": 125,
    "start_time": "2025-09-02T10:07:18.819Z"
   },
   {
    "duration": 10,
    "start_time": "2025-09-02T10:07:24.065Z"
   },
   {
    "duration": 1636,
    "start_time": "2025-09-02T10:07:26.508Z"
   },
   {
    "duration": 2435,
    "start_time": "2025-09-02T10:10:56.678Z"
   },
   {
    "duration": 1587,
    "start_time": "2025-09-02T10:10:59.115Z"
   },
   {
    "duration": 4,
    "start_time": "2025-09-02T10:11:00.704Z"
   },
   {
    "duration": 101,
    "start_time": "2025-09-02T10:11:00.711Z"
   },
   {
    "duration": 41,
    "start_time": "2025-09-02T10:11:00.814Z"
   },
   {
    "duration": 70,
    "start_time": "2025-09-02T10:11:00.856Z"
   },
   {
    "duration": 30,
    "start_time": "2025-09-02T10:11:00.928Z"
   },
   {
    "duration": 11,
    "start_time": "2025-09-02T10:11:00.960Z"
   },
   {
    "duration": 81,
    "start_time": "2025-09-02T10:11:00.972Z"
   },
   {
    "duration": 127,
    "start_time": "2025-09-02T10:11:01.057Z"
   },
   {
    "duration": 75,
    "start_time": "2025-09-02T10:11:01.187Z"
   },
   {
    "duration": 9,
    "start_time": "2025-09-02T10:11:01.265Z"
   },
   {
    "duration": 64,
    "start_time": "2025-09-02T10:11:01.276Z"
   },
   {
    "duration": 11,
    "start_time": "2025-09-02T10:11:01.343Z"
   },
   {
    "duration": 86,
    "start_time": "2025-09-02T10:11:01.355Z"
   },
   {
    "duration": 35,
    "start_time": "2025-09-02T10:11:01.443Z"
   },
   {
    "duration": 204,
    "start_time": "2025-09-02T10:11:01.480Z"
   },
   {
    "duration": 3802,
    "start_time": "2025-09-02T10:11:01.686Z"
   },
   {
    "duration": 425,
    "start_time": "2025-09-02T10:11:05.490Z"
   },
   {
    "duration": 4428,
    "start_time": "2025-09-02T10:11:05.917Z"
   },
   {
    "duration": 40,
    "start_time": "2025-09-02T10:11:10.346Z"
   },
   {
    "duration": 55256,
    "start_time": "2025-09-02T10:11:10.388Z"
   },
   {
    "duration": 2147,
    "start_time": "2025-09-02T10:12:05.646Z"
   },
   {
    "duration": 13,
    "start_time": "2025-09-02T10:12:07.794Z"
   },
   {
    "duration": 36,
    "start_time": "2025-09-02T10:12:07.809Z"
   },
   {
    "duration": 9,
    "start_time": "2025-09-02T10:12:07.847Z"
   },
   {
    "duration": 62,
    "start_time": "2025-09-02T10:12:07.858Z"
   },
   {
    "duration": 1720,
    "start_time": "2025-09-02T10:12:07.923Z"
   },
   {
    "duration": 15,
    "start_time": "2025-09-02T10:25:52.270Z"
   },
   {
    "duration": 5,
    "start_time": "2025-09-02T10:26:46.350Z"
   },
   {
    "duration": 4,
    "start_time": "2025-09-02T10:26:56.338Z"
   },
   {
    "duration": 972450,
    "start_time": "2025-09-02T10:27:29.187Z"
   },
   {
    "duration": 104,
    "start_time": "2025-09-02T10:43:41.640Z"
   },
   {
    "duration": 5,
    "start_time": "2025-09-02T10:43:41.746Z"
   },
   {
    "duration": 2457,
    "start_time": "2025-09-02T10:55:29.732Z"
   },
   {
    "duration": 1519,
    "start_time": "2025-09-02T10:55:32.191Z"
   },
   {
    "duration": 5,
    "start_time": "2025-09-02T10:55:33.711Z"
   },
   {
    "duration": 76,
    "start_time": "2025-09-02T10:55:33.717Z"
   },
   {
    "duration": 37,
    "start_time": "2025-09-02T10:55:33.796Z"
   },
   {
    "duration": 39,
    "start_time": "2025-09-02T10:55:33.835Z"
   },
   {
    "duration": 32,
    "start_time": "2025-09-02T10:55:33.876Z"
   },
   {
    "duration": 10,
    "start_time": "2025-09-02T10:55:33.910Z"
   },
   {
    "duration": 77,
    "start_time": "2025-09-02T10:55:33.923Z"
   },
   {
    "duration": 110,
    "start_time": "2025-09-02T10:55:34.002Z"
   },
   {
    "duration": 59,
    "start_time": "2025-09-02T10:55:34.114Z"
   },
   {
    "duration": 9,
    "start_time": "2025-09-02T10:55:34.174Z"
   },
   {
    "duration": 60,
    "start_time": "2025-09-02T10:55:34.185Z"
   },
   {
    "duration": 9,
    "start_time": "2025-09-02T10:55:34.248Z"
   },
   {
    "duration": 31,
    "start_time": "2025-09-02T10:55:34.259Z"
   },
   {
    "duration": 7,
    "start_time": "2025-09-02T10:55:34.292Z"
   },
   {
    "duration": 195,
    "start_time": "2025-09-02T10:55:34.300Z"
   },
   {
    "duration": 3632,
    "start_time": "2025-09-02T10:55:34.496Z"
   },
   {
    "duration": 387,
    "start_time": "2025-09-02T10:55:38.130Z"
   },
   {
    "duration": 4281,
    "start_time": "2025-09-02T10:55:38.519Z"
   },
   {
    "duration": 54,
    "start_time": "2025-09-02T10:55:42.802Z"
   },
   {
    "duration": 54767,
    "start_time": "2025-09-02T10:55:42.858Z"
   },
   {
    "duration": 2160,
    "start_time": "2025-09-02T10:56:37.627Z"
   },
   {
    "duration": 12,
    "start_time": "2025-09-02T10:56:39.789Z"
   },
   {
    "duration": 7,
    "start_time": "2025-09-02T10:56:39.803Z"
   },
   {
    "duration": 5,
    "start_time": "2025-09-02T10:56:39.835Z"
   },
   {
    "duration": 22,
    "start_time": "2025-09-02T10:56:39.841Z"
   },
   {
    "duration": 1572,
    "start_time": "2025-09-02T10:56:39.865Z"
   },
   {
    "duration": 4,
    "start_time": "2025-09-02T10:56:41.439Z"
   },
   {
    "duration": 5,
    "start_time": "2025-09-02T10:56:41.445Z"
   },
   {
    "duration": 3891288,
    "start_time": "2025-09-02T10:56:41.452Z"
   },
   {
    "duration": 99,
    "start_time": "2025-09-02T12:01:32.744Z"
   },
   {
    "duration": 38,
    "start_time": "2025-09-02T12:01:32.845Z"
   },
   {
    "duration": 3,
    "start_time": "2025-09-02T12:12:01.489Z"
   },
   {
    "duration": 233,
    "start_time": "2025-09-02T12:12:14.834Z"
   },
   {
    "duration": 2476,
    "start_time": "2025-09-02T12:16:49.899Z"
   },
   {
    "duration": 1518,
    "start_time": "2025-09-02T12:16:52.378Z"
   },
   {
    "duration": 4,
    "start_time": "2025-09-02T12:16:53.898Z"
   },
   {
    "duration": 84,
    "start_time": "2025-09-02T12:16:53.904Z"
   },
   {
    "duration": 38,
    "start_time": "2025-09-02T12:16:53.990Z"
   },
   {
    "duration": 40,
    "start_time": "2025-09-02T12:16:54.033Z"
   },
   {
    "duration": 35,
    "start_time": "2025-09-02T12:16:54.075Z"
   },
   {
    "duration": 10,
    "start_time": "2025-09-02T12:16:54.112Z"
   },
   {
    "duration": 77,
    "start_time": "2025-09-02T12:16:54.124Z"
   },
   {
    "duration": 117,
    "start_time": "2025-09-02T12:16:54.203Z"
   },
   {
    "duration": 45,
    "start_time": "2025-09-02T12:16:54.335Z"
   },
   {
    "duration": 9,
    "start_time": "2025-09-02T12:16:54.381Z"
   },
   {
    "duration": 105,
    "start_time": "2025-09-02T12:16:54.392Z"
   },
   {
    "duration": 11,
    "start_time": "2025-09-02T12:16:54.501Z"
   },
   {
    "duration": 100,
    "start_time": "2025-09-02T12:16:54.513Z"
   },
   {
    "duration": 8,
    "start_time": "2025-09-02T12:16:54.614Z"
   },
   {
    "duration": 251,
    "start_time": "2025-09-02T12:16:54.624Z"
   },
   {
    "duration": 3628,
    "start_time": "2025-09-02T12:16:54.877Z"
   },
   {
    "duration": 409,
    "start_time": "2025-09-02T12:16:58.506Z"
   },
   {
    "duration": 4354,
    "start_time": "2025-09-02T12:16:58.917Z"
   },
   {
    "duration": 61,
    "start_time": "2025-09-02T12:17:03.273Z"
   },
   {
    "duration": 54736,
    "start_time": "2025-09-02T12:17:03.336Z"
   },
   {
    "duration": 2111,
    "start_time": "2025-09-02T12:17:58.074Z"
   },
   {
    "duration": 12,
    "start_time": "2025-09-02T12:18:00.186Z"
   },
   {
    "duration": 43,
    "start_time": "2025-09-02T12:18:00.199Z"
   },
   {
    "duration": 23,
    "start_time": "2025-09-02T12:18:00.244Z"
   },
   {
    "duration": 33,
    "start_time": "2025-09-02T12:18:00.269Z"
   },
   {
    "duration": 1640,
    "start_time": "2025-09-02T12:18:00.304Z"
   },
   {
    "duration": 4,
    "start_time": "2025-09-02T12:18:01.946Z"
   },
   {
    "duration": 37,
    "start_time": "2025-09-02T12:18:01.951Z"
   },
   {
    "duration": 3803352,
    "start_time": "2025-09-02T12:18:01.990Z"
   },
   {
    "duration": 106,
    "start_time": "2025-09-02T13:21:25.346Z"
   },
   {
    "duration": 61,
    "start_time": "2025-09-02T13:21:25.454Z"
   },
   {
    "duration": 264,
    "start_time": "2025-09-02T13:21:25.516Z"
   },
   {
    "duration": 28,
    "start_time": "2025-09-02T13:24:37.667Z"
   },
   {
    "duration": 2415,
    "start_time": "2025-09-02T13:26:59.075Z"
   },
   {
    "duration": 1531,
    "start_time": "2025-09-02T13:27:01.492Z"
   },
   {
    "duration": 5,
    "start_time": "2025-09-02T13:27:03.025Z"
   },
   {
    "duration": 89,
    "start_time": "2025-09-02T13:27:03.034Z"
   },
   {
    "duration": 37,
    "start_time": "2025-09-02T13:27:03.126Z"
   },
   {
    "duration": 49,
    "start_time": "2025-09-02T13:27:03.164Z"
   },
   {
    "duration": 104,
    "start_time": "2025-09-02T13:27:03.215Z"
   },
   {
    "duration": 11,
    "start_time": "2025-09-02T13:27:03.321Z"
   },
   {
    "duration": 81,
    "start_time": "2025-09-02T13:27:03.334Z"
   },
   {
    "duration": 97,
    "start_time": "2025-09-02T13:27:03.417Z"
   },
   {
    "duration": 85,
    "start_time": "2025-09-02T13:27:03.515Z"
   },
   {
    "duration": 9,
    "start_time": "2025-09-02T13:27:03.602Z"
   },
   {
    "duration": 73,
    "start_time": "2025-09-02T13:27:03.612Z"
   },
   {
    "duration": 10,
    "start_time": "2025-09-02T13:27:03.688Z"
   },
   {
    "duration": 42,
    "start_time": "2025-09-02T13:27:03.700Z"
   },
   {
    "duration": 7,
    "start_time": "2025-09-02T13:27:03.744Z"
   },
   {
    "duration": 163,
    "start_time": "2025-09-02T13:27:03.752Z"
   },
   {
    "duration": 3642,
    "start_time": "2025-09-02T13:27:03.917Z"
   },
   {
    "duration": 385,
    "start_time": "2025-09-02T13:27:07.560Z"
   },
   {
    "duration": 4238,
    "start_time": "2025-09-02T13:27:07.947Z"
   },
   {
    "duration": 59,
    "start_time": "2025-09-02T13:27:12.187Z"
   },
   {
    "duration": 55684,
    "start_time": "2025-09-02T13:27:12.248Z"
   },
   {
    "duration": 2156,
    "start_time": "2025-09-02T13:28:07.934Z"
   },
   {
    "duration": 12,
    "start_time": "2025-09-02T13:28:10.091Z"
   },
   {
    "duration": 9,
    "start_time": "2025-09-02T13:28:10.105Z"
   },
   {
    "duration": 16,
    "start_time": "2025-09-02T13:28:10.134Z"
   },
   {
    "duration": 26,
    "start_time": "2025-09-02T13:28:10.151Z"
   },
   {
    "duration": 1663,
    "start_time": "2025-09-02T13:28:10.179Z"
   },
   {
    "duration": 5,
    "start_time": "2025-09-02T13:28:11.844Z"
   },
   {
    "duration": 19,
    "start_time": "2025-09-02T13:28:11.850Z"
   },
   {
    "duration": 855369,
    "start_time": "2025-09-02T13:28:11.871Z"
   },
   {
    "duration": 0,
    "start_time": "2025-09-02T13:42:27.242Z"
   },
   {
    "duration": 0,
    "start_time": "2025-09-02T13:42:27.243Z"
   },
   {
    "duration": 0,
    "start_time": "2025-09-02T13:42:27.245Z"
   },
   {
    "duration": 2563,
    "start_time": "2025-09-02T13:46:28.756Z"
   },
   {
    "duration": 1633,
    "start_time": "2025-09-02T13:46:31.322Z"
   },
   {
    "duration": 4,
    "start_time": "2025-09-02T13:46:32.957Z"
   },
   {
    "duration": 91,
    "start_time": "2025-09-02T13:46:32.963Z"
   },
   {
    "duration": 40,
    "start_time": "2025-09-02T13:46:33.056Z"
   },
   {
    "duration": 125,
    "start_time": "2025-09-02T13:46:33.097Z"
   },
   {
    "duration": 46,
    "start_time": "2025-09-02T13:46:33.224Z"
   },
   {
    "duration": 58,
    "start_time": "2025-09-02T13:46:33.272Z"
   },
   {
    "duration": 164,
    "start_time": "2025-09-02T13:46:33.332Z"
   },
   {
    "duration": 154,
    "start_time": "2025-09-02T13:46:33.498Z"
   },
   {
    "duration": 45,
    "start_time": "2025-09-02T13:46:33.654Z"
   },
   {
    "duration": 34,
    "start_time": "2025-09-02T13:46:33.701Z"
   },
   {
    "duration": 42,
    "start_time": "2025-09-02T13:46:33.738Z"
   },
   {
    "duration": 12,
    "start_time": "2025-09-02T13:46:33.783Z"
   },
   {
    "duration": 48,
    "start_time": "2025-09-02T13:46:33.797Z"
   },
   {
    "duration": 8,
    "start_time": "2025-09-02T13:46:33.847Z"
   },
   {
    "duration": 200,
    "start_time": "2025-09-02T13:46:33.856Z"
   },
   {
    "duration": 3854,
    "start_time": "2025-09-02T13:46:34.058Z"
   },
   {
    "duration": 430,
    "start_time": "2025-09-02T13:46:37.914Z"
   },
   {
    "duration": 4455,
    "start_time": "2025-09-02T13:46:38.346Z"
   },
   {
    "duration": 60,
    "start_time": "2025-09-02T13:46:42.802Z"
   },
   {
    "duration": 55585,
    "start_time": "2025-09-02T13:46:42.864Z"
   },
   {
    "duration": 2439,
    "start_time": "2025-09-02T13:47:38.451Z"
   },
   {
    "duration": 13,
    "start_time": "2025-09-02T13:47:40.892Z"
   },
   {
    "duration": 42,
    "start_time": "2025-09-02T13:47:40.906Z"
   },
   {
    "duration": 6,
    "start_time": "2025-09-02T13:47:40.950Z"
   },
   {
    "duration": 16,
    "start_time": "2025-09-02T13:47:40.958Z"
   },
   {
    "duration": 1567,
    "start_time": "2025-09-02T13:47:40.976Z"
   },
   {
    "duration": 7,
    "start_time": "2025-09-02T13:47:42.545Z"
   },
   {
    "duration": 8,
    "start_time": "2025-09-02T13:47:42.554Z"
   },
   {
    "duration": 4907775,
    "start_time": "2025-09-02T13:47:42.563Z"
   },
   {
    "duration": 0,
    "start_time": "2025-09-02T15:09:30.340Z"
   },
   {
    "duration": 0,
    "start_time": "2025-09-02T15:09:30.342Z"
   },
   {
    "duration": 0,
    "start_time": "2025-09-02T15:09:30.344Z"
   },
   {
    "duration": 2481,
    "start_time": "2025-09-02T15:10:12.074Z"
   },
   {
    "duration": 1577,
    "start_time": "2025-09-02T15:10:14.557Z"
   },
   {
    "duration": 4,
    "start_time": "2025-09-02T15:10:16.136Z"
   },
   {
    "duration": 59,
    "start_time": "2025-09-02T15:10:16.143Z"
   },
   {
    "duration": 41,
    "start_time": "2025-09-02T15:10:16.203Z"
   },
   {
    "duration": 42,
    "start_time": "2025-09-02T15:10:16.246Z"
   },
   {
    "duration": 124,
    "start_time": "2025-09-02T15:10:16.290Z"
   },
   {
    "duration": 11,
    "start_time": "2025-09-02T15:10:16.416Z"
   },
   {
    "duration": 97,
    "start_time": "2025-09-02T15:10:16.429Z"
   },
   {
    "duration": 128,
    "start_time": "2025-09-02T15:10:16.530Z"
   },
   {
    "duration": 48,
    "start_time": "2025-09-02T15:10:16.660Z"
   },
   {
    "duration": 34,
    "start_time": "2025-09-02T15:10:16.709Z"
   },
   {
    "duration": 42,
    "start_time": "2025-09-02T15:10:16.745Z"
   },
   {
    "duration": 11,
    "start_time": "2025-09-02T15:10:16.789Z"
   },
   {
    "duration": 54,
    "start_time": "2025-09-02T15:10:16.801Z"
   },
   {
    "duration": 7,
    "start_time": "2025-09-02T15:10:16.857Z"
   },
   {
    "duration": 209,
    "start_time": "2025-09-02T15:10:16.866Z"
   },
   {
    "duration": 3767,
    "start_time": "2025-09-02T15:10:17.077Z"
   },
   {
    "duration": 386,
    "start_time": "2025-09-02T15:10:20.846Z"
   },
   {
    "duration": 4468,
    "start_time": "2025-09-02T15:10:21.234Z"
   },
   {
    "duration": 55,
    "start_time": "2025-09-02T15:10:25.704Z"
   },
   {
    "duration": 54363,
    "start_time": "2025-09-02T15:10:25.761Z"
   },
   {
    "duration": 2015,
    "start_time": "2025-09-02T15:11:20.126Z"
   },
   {
    "duration": 14,
    "start_time": "2025-09-02T15:11:22.143Z"
   },
   {
    "duration": 17,
    "start_time": "2025-09-02T15:11:22.158Z"
   },
   {
    "duration": 8,
    "start_time": "2025-09-02T15:11:22.176Z"
   },
   {
    "duration": 16,
    "start_time": "2025-09-02T15:11:22.185Z"
   },
   {
    "duration": 1537,
    "start_time": "2025-09-02T15:11:22.204Z"
   },
   {
    "duration": 5,
    "start_time": "2025-09-02T15:11:23.743Z"
   },
   {
    "duration": 8,
    "start_time": "2025-09-02T15:11:23.749Z"
   },
   {
    "duration": 547580,
    "start_time": "2025-09-02T15:11:23.758Z"
   },
   {
    "duration": 0,
    "start_time": "2025-09-02T15:20:31.340Z"
   },
   {
    "duration": 0,
    "start_time": "2025-09-02T15:20:31.342Z"
   },
   {
    "duration": 0,
    "start_time": "2025-09-02T15:20:31.344Z"
   },
   {
    "duration": 6,
    "start_time": "2025-09-02T15:20:34.643Z"
   },
   {
    "duration": 256228,
    "start_time": "2025-09-02T15:20:35.535Z"
   },
   {
    "duration": 0,
    "start_time": "2025-09-02T15:24:51.765Z"
   },
   {
    "duration": 0,
    "start_time": "2025-09-02T15:24:51.835Z"
   },
   {
    "duration": 6,
    "start_time": "2025-09-02T15:24:53.995Z"
   },
   {
    "duration": 44165,
    "start_time": "2025-09-02T15:24:55.607Z"
   },
   {
    "duration": 13,
    "start_time": "2025-09-02T15:25:39.774Z"
   },
   {
    "duration": 8,
    "start_time": "2025-09-02T15:25:39.789Z"
   },
   {
    "duration": 163,
    "start_time": "2025-09-02T15:27:23.936Z"
   },
   {
    "duration": 2512,
    "start_time": "2025-09-02T15:28:31.814Z"
   },
   {
    "duration": 1554,
    "start_time": "2025-09-02T15:28:34.328Z"
   },
   {
    "duration": 4,
    "start_time": "2025-09-02T15:28:35.883Z"
   },
   {
    "duration": 101,
    "start_time": "2025-09-02T15:28:35.890Z"
   },
   {
    "duration": 89,
    "start_time": "2025-09-02T15:28:35.993Z"
   },
   {
    "duration": 48,
    "start_time": "2025-09-02T15:28:36.084Z"
   },
   {
    "duration": 31,
    "start_time": "2025-09-02T15:28:36.134Z"
   },
   {
    "duration": 101,
    "start_time": "2025-09-02T15:28:36.167Z"
   },
   {
    "duration": 78,
    "start_time": "2025-09-02T15:28:36.269Z"
   },
   {
    "duration": 117,
    "start_time": "2025-09-02T15:28:36.350Z"
   },
   {
    "duration": 67,
    "start_time": "2025-09-02T15:28:36.468Z"
   },
   {
    "duration": 10,
    "start_time": "2025-09-02T15:28:36.537Z"
   },
   {
    "duration": 52,
    "start_time": "2025-09-02T15:28:36.548Z"
   },
   {
    "duration": 36,
    "start_time": "2025-09-02T15:28:36.602Z"
   },
   {
    "duration": 28,
    "start_time": "2025-09-02T15:28:36.639Z"
   },
   {
    "duration": 8,
    "start_time": "2025-09-02T15:28:36.668Z"
   },
   {
    "duration": 189,
    "start_time": "2025-09-02T15:28:36.677Z"
   },
   {
    "duration": 3679,
    "start_time": "2025-09-02T15:28:36.868Z"
   },
   {
    "duration": 383,
    "start_time": "2025-09-02T15:28:40.549Z"
   },
   {
    "duration": 4435,
    "start_time": "2025-09-02T15:28:40.934Z"
   },
   {
    "duration": 43,
    "start_time": "2025-09-02T15:28:45.371Z"
   },
   {
    "duration": 53913,
    "start_time": "2025-09-02T15:28:45.416Z"
   },
   {
    "duration": 2270,
    "start_time": "2025-09-02T15:29:39.331Z"
   },
   {
    "duration": 40,
    "start_time": "2025-09-02T15:29:41.603Z"
   },
   {
    "duration": 7,
    "start_time": "2025-09-02T15:29:41.644Z"
   },
   {
    "duration": 5,
    "start_time": "2025-09-02T15:29:41.652Z"
   },
   {
    "duration": 13,
    "start_time": "2025-09-02T15:29:41.659Z"
   },
   {
    "duration": 1876,
    "start_time": "2025-09-02T15:29:41.675Z"
   },
   {
    "duration": 6,
    "start_time": "2025-09-02T15:29:43.553Z"
   },
   {
    "duration": 16,
    "start_time": "2025-09-02T15:29:43.561Z"
   },
   {
    "duration": 69963,
    "start_time": "2025-09-02T15:29:43.579Z"
   },
   {
    "duration": 14,
    "start_time": "2025-09-02T15:30:53.544Z"
   },
   {
    "duration": 14,
    "start_time": "2025-09-02T15:30:53.559Z"
   },
   {
    "duration": 300,
    "start_time": "2025-09-02T15:30:53.574Z"
   },
   {
    "duration": 2520,
    "start_time": "2025-09-02T15:33:01.056Z"
   },
   {
    "duration": 1537,
    "start_time": "2025-09-02T15:33:03.578Z"
   },
   {
    "duration": 4,
    "start_time": "2025-09-02T15:33:05.118Z"
   },
   {
    "duration": 115,
    "start_time": "2025-09-02T15:33:05.123Z"
   },
   {
    "duration": 39,
    "start_time": "2025-09-02T15:33:05.241Z"
   },
   {
    "duration": 154,
    "start_time": "2025-09-02T15:33:05.281Z"
   },
   {
    "duration": 32,
    "start_time": "2025-09-02T15:33:05.437Z"
   },
   {
    "duration": 10,
    "start_time": "2025-09-02T15:33:05.471Z"
   },
   {
    "duration": 75,
    "start_time": "2025-09-02T15:33:05.483Z"
   },
   {
    "duration": 118,
    "start_time": "2025-09-02T15:33:05.559Z"
   },
   {
    "duration": 73,
    "start_time": "2025-09-02T15:33:05.679Z"
   },
   {
    "duration": 26,
    "start_time": "2025-09-02T15:33:05.754Z"
   },
   {
    "duration": 54,
    "start_time": "2025-09-02T15:33:05.782Z"
   },
   {
    "duration": 11,
    "start_time": "2025-09-02T15:33:05.840Z"
   },
   {
    "duration": 52,
    "start_time": "2025-09-02T15:33:05.853Z"
   },
   {
    "duration": 8,
    "start_time": "2025-09-02T15:33:05.906Z"
   },
   {
    "duration": 303,
    "start_time": "2025-09-02T15:33:05.916Z"
   },
   {
    "duration": 3792,
    "start_time": "2025-09-02T15:33:06.221Z"
   },
   {
    "duration": 427,
    "start_time": "2025-09-02T15:33:10.015Z"
   },
   {
    "duration": 4523,
    "start_time": "2025-09-02T15:33:10.443Z"
   },
   {
    "duration": 43,
    "start_time": "2025-09-02T15:33:14.968Z"
   },
   {
    "duration": 54971,
    "start_time": "2025-09-02T15:33:15.013Z"
   },
   {
    "duration": 2520,
    "start_time": "2025-09-02T15:34:09.987Z"
   },
   {
    "duration": 37,
    "start_time": "2025-09-02T15:34:12.508Z"
   },
   {
    "duration": 14,
    "start_time": "2025-09-02T15:34:12.547Z"
   },
   {
    "duration": 12,
    "start_time": "2025-09-02T15:34:12.563Z"
   },
   {
    "duration": 13,
    "start_time": "2025-09-02T15:34:12.578Z"
   },
   {
    "duration": 1650,
    "start_time": "2025-09-02T15:34:12.594Z"
   },
   {
    "duration": 4,
    "start_time": "2025-09-02T15:34:14.246Z"
   },
   {
    "duration": 9,
    "start_time": "2025-09-02T15:34:14.252Z"
   },
   {
    "duration": 646060,
    "start_time": "2025-09-02T15:34:14.262Z"
   },
   {
    "duration": 14,
    "start_time": "2025-09-02T15:45:00.324Z"
   },
   {
    "duration": 46,
    "start_time": "2025-09-02T15:45:00.339Z"
   },
   {
    "duration": 393,
    "start_time": "2025-09-02T15:45:00.387Z"
   },
   {
    "duration": 3313,
    "start_time": "2025-09-03T05:45:13.316Z"
   },
   {
    "duration": 2042,
    "start_time": "2025-09-03T05:45:16.631Z"
   },
   {
    "duration": 5,
    "start_time": "2025-09-03T05:45:18.675Z"
   },
   {
    "duration": 163,
    "start_time": "2025-09-03T05:45:18.682Z"
   },
   {
    "duration": 70,
    "start_time": "2025-09-03T05:45:18.848Z"
   },
   {
    "duration": 72,
    "start_time": "2025-09-03T05:45:18.919Z"
   },
   {
    "duration": 74,
    "start_time": "2025-09-03T05:45:18.993Z"
   },
   {
    "duration": 10,
    "start_time": "2025-09-03T05:45:19.069Z"
   },
   {
    "duration": 66,
    "start_time": "2025-09-03T05:45:19.080Z"
   },
   {
    "duration": 111,
    "start_time": "2025-09-03T05:45:19.149Z"
   },
   {
    "duration": 59,
    "start_time": "2025-09-03T05:45:19.261Z"
   },
   {
    "duration": 8,
    "start_time": "2025-09-03T05:45:19.322Z"
   },
   {
    "duration": 45,
    "start_time": "2025-09-03T05:45:19.331Z"
   },
   {
    "duration": 10,
    "start_time": "2025-09-03T05:45:19.380Z"
   },
   {
    "duration": 45,
    "start_time": "2025-09-03T05:45:19.391Z"
   },
   {
    "duration": 7,
    "start_time": "2025-09-03T05:45:19.437Z"
   },
   {
    "duration": 155,
    "start_time": "2025-09-03T05:45:19.445Z"
   },
   {
    "duration": 3435,
    "start_time": "2025-09-03T05:45:19.602Z"
   },
   {
    "duration": 486,
    "start_time": "2025-09-03T05:45:23.039Z"
   },
   {
    "duration": 4510,
    "start_time": "2025-09-03T05:45:23.527Z"
   },
   {
    "duration": 36,
    "start_time": "2025-09-03T05:45:28.039Z"
   },
   {
    "duration": 56109,
    "start_time": "2025-09-03T05:45:28.077Z"
   },
   {
    "duration": 2076,
    "start_time": "2025-09-03T05:46:24.188Z"
   },
   {
    "duration": 53,
    "start_time": "2025-09-03T05:46:26.266Z"
   },
   {
    "duration": 2325,
    "start_time": "2025-09-03T05:52:08.832Z"
   },
   {
    "duration": 1376,
    "start_time": "2025-09-03T05:52:11.159Z"
   },
   {
    "duration": 4,
    "start_time": "2025-09-03T05:52:12.536Z"
   },
   {
    "duration": 76,
    "start_time": "2025-09-03T05:52:12.543Z"
   },
   {
    "duration": 36,
    "start_time": "2025-09-03T05:52:12.621Z"
   },
   {
    "duration": 54,
    "start_time": "2025-09-03T05:52:12.659Z"
   },
   {
    "duration": 29,
    "start_time": "2025-09-03T05:52:12.715Z"
   },
   {
    "duration": 9,
    "start_time": "2025-09-03T05:52:12.745Z"
   },
   {
    "duration": 66,
    "start_time": "2025-09-03T05:52:12.756Z"
   },
   {
    "duration": 106,
    "start_time": "2025-09-03T05:52:12.824Z"
   },
   {
    "duration": 39,
    "start_time": "2025-09-03T05:52:12.931Z"
   },
   {
    "duration": 8,
    "start_time": "2025-09-03T05:52:12.972Z"
   },
   {
    "duration": 65,
    "start_time": "2025-09-03T05:52:12.981Z"
   },
   {
    "duration": 11,
    "start_time": "2025-09-03T05:52:13.047Z"
   },
   {
    "duration": 26,
    "start_time": "2025-09-03T05:52:13.059Z"
   },
   {
    "duration": 7,
    "start_time": "2025-09-03T05:52:13.087Z"
   },
   {
    "duration": 155,
    "start_time": "2025-09-03T05:52:13.120Z"
   },
   {
    "duration": 3372,
    "start_time": "2025-09-03T05:52:13.276Z"
   },
   {
    "duration": 345,
    "start_time": "2025-09-03T05:52:16.650Z"
   },
   {
    "duration": 3952,
    "start_time": "2025-09-03T05:52:16.997Z"
   },
   {
    "duration": 38,
    "start_time": "2025-09-03T05:52:20.950Z"
   },
   {
    "duration": 55106,
    "start_time": "2025-09-03T05:52:20.989Z"
   },
   {
    "duration": 2368,
    "start_time": "2025-09-03T05:53:16.096Z"
   },
   {
    "duration": 27,
    "start_time": "2025-09-03T05:53:18.466Z"
   },
   {
    "duration": 25,
    "start_time": "2025-09-03T05:53:18.495Z"
   },
   {
    "duration": 5,
    "start_time": "2025-09-03T05:53:18.521Z"
   },
   {
    "duration": 5,
    "start_time": "2025-09-03T05:53:18.527Z"
   },
   {
    "duration": 2104,
    "start_time": "2025-09-03T05:53:18.534Z"
   },
   {
    "duration": 12,
    "start_time": "2025-09-03T05:53:20.640Z"
   },
   {
    "duration": 42,
    "start_time": "2025-09-03T05:53:20.654Z"
   },
   {
    "duration": 477173,
    "start_time": "2025-09-03T05:53:20.698Z"
   },
   {
    "duration": 12,
    "start_time": "2025-09-03T06:01:17.873Z"
   },
   {
    "duration": 5,
    "start_time": "2025-09-03T06:01:17.887Z"
   },
   {
    "duration": 240,
    "start_time": "2025-09-03T06:01:17.893Z"
   },
   {
    "duration": 2298,
    "start_time": "2025-09-03T06:14:26.005Z"
   },
   {
    "duration": 1637,
    "start_time": "2025-09-03T06:14:28.305Z"
   },
   {
    "duration": 0,
    "start_time": "2025-09-03T06:14:29.946Z"
   },
   {
    "duration": 0,
    "start_time": "2025-09-03T06:14:29.947Z"
   },
   {
    "duration": 0,
    "start_time": "2025-09-03T06:14:29.948Z"
   },
   {
    "duration": 0,
    "start_time": "2025-09-03T06:14:29.950Z"
   },
   {
    "duration": 1,
    "start_time": "2025-09-03T06:14:29.950Z"
   },
   {
    "duration": 0,
    "start_time": "2025-09-03T06:14:29.951Z"
   },
   {
    "duration": 0,
    "start_time": "2025-09-03T06:14:29.953Z"
   },
   {
    "duration": 0,
    "start_time": "2025-09-03T06:14:29.954Z"
   },
   {
    "duration": 0,
    "start_time": "2025-09-03T06:14:29.955Z"
   },
   {
    "duration": 0,
    "start_time": "2025-09-03T06:14:29.956Z"
   },
   {
    "duration": 0,
    "start_time": "2025-09-03T06:14:29.957Z"
   },
   {
    "duration": 0,
    "start_time": "2025-09-03T06:14:29.957Z"
   },
   {
    "duration": 0,
    "start_time": "2025-09-03T06:14:29.958Z"
   },
   {
    "duration": 0,
    "start_time": "2025-09-03T06:14:29.959Z"
   },
   {
    "duration": 0,
    "start_time": "2025-09-03T06:14:29.960Z"
   },
   {
    "duration": 0,
    "start_time": "2025-09-03T06:14:29.961Z"
   },
   {
    "duration": 0,
    "start_time": "2025-09-03T06:14:29.962Z"
   },
   {
    "duration": 0,
    "start_time": "2025-09-03T06:14:29.963Z"
   },
   {
    "duration": 0,
    "start_time": "2025-09-03T06:14:29.964Z"
   },
   {
    "duration": 0,
    "start_time": "2025-09-03T06:14:29.965Z"
   },
   {
    "duration": 0,
    "start_time": "2025-09-03T06:14:29.966Z"
   },
   {
    "duration": 0,
    "start_time": "2025-09-03T06:14:29.967Z"
   },
   {
    "duration": 0,
    "start_time": "2025-09-03T06:14:29.968Z"
   },
   {
    "duration": 0,
    "start_time": "2025-09-03T06:14:29.969Z"
   },
   {
    "duration": 0,
    "start_time": "2025-09-03T06:14:29.970Z"
   },
   {
    "duration": 0,
    "start_time": "2025-09-03T06:14:29.971Z"
   },
   {
    "duration": 1,
    "start_time": "2025-09-03T06:14:29.972Z"
   },
   {
    "duration": 0,
    "start_time": "2025-09-03T06:14:29.973Z"
   },
   {
    "duration": 0,
    "start_time": "2025-09-03T06:14:29.974Z"
   },
   {
    "duration": 0,
    "start_time": "2025-09-03T06:14:30.019Z"
   },
   {
    "duration": 0,
    "start_time": "2025-09-03T06:14:30.020Z"
   },
   {
    "duration": 0,
    "start_time": "2025-09-03T06:14:30.021Z"
   },
   {
    "duration": 12,
    "start_time": "2025-09-03T06:15:47.735Z"
   },
   {
    "duration": 102,
    "start_time": "2025-09-03T06:17:04.142Z"
   },
   {
    "duration": 2325,
    "start_time": "2025-09-03T06:17:14.008Z"
   },
   {
    "duration": 1417,
    "start_time": "2025-09-03T06:17:16.336Z"
   },
   {
    "duration": 4,
    "start_time": "2025-09-03T06:17:17.754Z"
   },
   {
    "duration": 55,
    "start_time": "2025-09-03T06:17:17.760Z"
   },
   {
    "duration": 35,
    "start_time": "2025-09-03T06:17:17.819Z"
   },
   {
    "duration": 40,
    "start_time": "2025-09-03T06:17:17.856Z"
   },
   {
    "duration": 31,
    "start_time": "2025-09-03T06:17:17.897Z"
   },
   {
    "duration": 9,
    "start_time": "2025-09-03T06:17:17.930Z"
   },
   {
    "duration": 65,
    "start_time": "2025-09-03T06:17:17.941Z"
   },
   {
    "duration": 129,
    "start_time": "2025-09-03T06:17:18.007Z"
   },
   {
    "duration": 40,
    "start_time": "2025-09-03T06:17:18.137Z"
   },
   {
    "duration": 9,
    "start_time": "2025-09-03T06:17:18.178Z"
   },
   {
    "duration": 36,
    "start_time": "2025-09-03T06:17:18.220Z"
   },
   {
    "duration": 10,
    "start_time": "2025-09-03T06:17:18.259Z"
   },
   {
    "duration": 22,
    "start_time": "2025-09-03T06:17:18.271Z"
   },
   {
    "duration": 30,
    "start_time": "2025-09-03T06:17:18.294Z"
   },
   {
    "duration": 150,
    "start_time": "2025-09-03T06:17:18.326Z"
   },
   {
    "duration": 3470,
    "start_time": "2025-09-03T06:17:18.478Z"
   },
   {
    "duration": 356,
    "start_time": "2025-09-03T06:17:21.950Z"
   },
   {
    "duration": 4135,
    "start_time": "2025-09-03T06:17:22.307Z"
   },
   {
    "duration": 41,
    "start_time": "2025-09-03T06:17:26.444Z"
   },
   {
    "duration": 54688,
    "start_time": "2025-09-03T06:17:26.487Z"
   },
   {
    "duration": 2192,
    "start_time": "2025-09-03T06:18:21.176Z"
   },
   {
    "duration": 54,
    "start_time": "2025-09-03T06:18:23.370Z"
   },
   {
    "duration": 5,
    "start_time": "2025-09-03T06:18:23.425Z"
   },
   {
    "duration": 7,
    "start_time": "2025-09-03T06:18:23.432Z"
   },
   {
    "duration": 5,
    "start_time": "2025-09-03T06:18:23.440Z"
   },
   {
    "duration": 1891,
    "start_time": "2025-09-03T06:18:23.447Z"
   },
   {
    "duration": 128,
    "start_time": "2025-09-03T06:18:25.339Z"
   },
   {
    "duration": 0,
    "start_time": "2025-09-03T06:18:25.468Z"
   },
   {
    "duration": 0,
    "start_time": "2025-09-03T06:18:25.469Z"
   },
   {
    "duration": 0,
    "start_time": "2025-09-03T06:18:25.470Z"
   },
   {
    "duration": 0,
    "start_time": "2025-09-03T06:18:25.471Z"
   },
   {
    "duration": 0,
    "start_time": "2025-09-03T06:18:25.472Z"
   },
   {
    "duration": 6,
    "start_time": "2025-09-03T06:26:19.381Z"
   },
   {
    "duration": 2445,
    "start_time": "2025-09-03T06:26:24.223Z"
   },
   {
    "duration": 1497,
    "start_time": "2025-09-03T06:26:26.670Z"
   },
   {
    "duration": 4,
    "start_time": "2025-09-03T06:26:28.168Z"
   },
   {
    "duration": 56,
    "start_time": "2025-09-03T06:26:28.174Z"
   },
   {
    "duration": 36,
    "start_time": "2025-09-03T06:26:28.233Z"
   },
   {
    "duration": 39,
    "start_time": "2025-09-03T06:26:28.270Z"
   },
   {
    "duration": 31,
    "start_time": "2025-09-03T06:26:28.310Z"
   },
   {
    "duration": 10,
    "start_time": "2025-09-03T06:26:28.343Z"
   },
   {
    "duration": 81,
    "start_time": "2025-09-03T06:26:28.355Z"
   },
   {
    "duration": 119,
    "start_time": "2025-09-03T06:26:28.438Z"
   },
   {
    "duration": 64,
    "start_time": "2025-09-03T06:26:28.558Z"
   },
   {
    "duration": 8,
    "start_time": "2025-09-03T06:26:28.624Z"
   },
   {
    "duration": 74,
    "start_time": "2025-09-03T06:26:28.634Z"
   },
   {
    "duration": 10,
    "start_time": "2025-09-03T06:26:28.711Z"
   },
   {
    "duration": 59,
    "start_time": "2025-09-03T06:26:28.723Z"
   },
   {
    "duration": 71,
    "start_time": "2025-09-03T06:26:28.783Z"
   },
   {
    "duration": 147,
    "start_time": "2025-09-03T06:26:28.856Z"
   },
   {
    "duration": 3859,
    "start_time": "2025-09-03T06:26:29.018Z"
   },
   {
    "duration": 440,
    "start_time": "2025-09-03T06:26:32.879Z"
   },
   {
    "duration": 4324,
    "start_time": "2025-09-03T06:26:33.322Z"
   },
   {
    "duration": 41,
    "start_time": "2025-09-03T06:26:37.647Z"
   },
   {
    "duration": 56105,
    "start_time": "2025-09-03T06:26:37.690Z"
   },
   {
    "duration": 2170,
    "start_time": "2025-09-03T06:27:33.797Z"
   },
   {
    "duration": 25,
    "start_time": "2025-09-03T06:27:35.969Z"
   },
   {
    "duration": 82,
    "start_time": "2025-09-03T06:27:35.996Z"
   },
   {
    "duration": 15,
    "start_time": "2025-09-03T06:27:36.080Z"
   },
   {
    "duration": 15,
    "start_time": "2025-09-03T06:27:36.096Z"
   },
   {
    "duration": 2023,
    "start_time": "2025-09-03T06:27:36.112Z"
   },
   {
    "duration": 5,
    "start_time": "2025-09-03T06:27:38.137Z"
   },
   {
    "duration": 51,
    "start_time": "2025-09-03T06:27:38.143Z"
   },
   {
    "duration": 2331,
    "start_time": "2025-09-03T06:46:25.836Z"
   },
   {
    "duration": 1462,
    "start_time": "2025-09-03T06:46:28.169Z"
   },
   {
    "duration": 4,
    "start_time": "2025-09-03T06:46:29.633Z"
   },
   {
    "duration": 69,
    "start_time": "2025-09-03T06:46:29.639Z"
   },
   {
    "duration": 37,
    "start_time": "2025-09-03T06:46:29.711Z"
   },
   {
    "duration": 43,
    "start_time": "2025-09-03T06:46:29.750Z"
   },
   {
    "duration": 32,
    "start_time": "2025-09-03T06:46:29.794Z"
   },
   {
    "duration": 10,
    "start_time": "2025-09-03T06:46:29.828Z"
   },
   {
    "duration": 81,
    "start_time": "2025-09-03T06:46:29.840Z"
   },
   {
    "duration": 127,
    "start_time": "2025-09-03T06:46:29.923Z"
   },
   {
    "duration": 73,
    "start_time": "2025-09-03T06:46:30.051Z"
   },
   {
    "duration": 10,
    "start_time": "2025-09-03T06:46:30.126Z"
   },
   {
    "duration": 54,
    "start_time": "2025-09-03T06:46:30.138Z"
   },
   {
    "duration": 26,
    "start_time": "2025-09-03T06:46:30.195Z"
   },
   {
    "duration": 34,
    "start_time": "2025-09-03T06:46:30.223Z"
   },
   {
    "duration": 68,
    "start_time": "2025-09-03T06:46:30.259Z"
   },
   {
    "duration": 215,
    "start_time": "2025-09-03T06:46:30.329Z"
   },
   {
    "duration": 3903,
    "start_time": "2025-09-03T06:46:30.546Z"
   },
   {
    "duration": 379,
    "start_time": "2025-09-03T06:46:34.451Z"
   },
   {
    "duration": 4532,
    "start_time": "2025-09-03T06:46:34.832Z"
   },
   {
    "duration": 57,
    "start_time": "2025-09-03T06:46:39.366Z"
   },
   {
    "duration": 53229,
    "start_time": "2025-09-03T06:46:39.425Z"
   },
   {
    "duration": 2313,
    "start_time": "2025-09-03T06:47:32.656Z"
   },
   {
    "duration": 50,
    "start_time": "2025-09-03T06:47:34.971Z"
   },
   {
    "duration": 4,
    "start_time": "2025-09-03T06:47:35.023Z"
   },
   {
    "duration": 6,
    "start_time": "2025-09-03T06:47:35.029Z"
   },
   {
    "duration": 7,
    "start_time": "2025-09-03T06:47:35.036Z"
   },
   {
    "duration": 2190,
    "start_time": "2025-09-03T06:47:35.045Z"
   },
   {
    "duration": 5,
    "start_time": "2025-09-03T06:47:37.237Z"
   },
   {
    "duration": 6,
    "start_time": "2025-09-03T06:47:37.244Z"
   },
   {
    "duration": 3020978,
    "start_time": "2025-09-03T06:47:37.252Z"
   },
   {
    "duration": 97,
    "start_time": "2025-09-03T07:37:58.232Z"
   },
   {
    "duration": 6,
    "start_time": "2025-09-03T07:37:58.331Z"
   },
   {
    "duration": 316,
    "start_time": "2025-09-03T07:37:58.338Z"
   },
   {
    "duration": 288,
    "start_time": "2025-09-03T07:46:00.945Z"
   },
   {
    "duration": 2483,
    "start_time": "2025-09-03T08:23:48.469Z"
   },
   {
    "duration": 1565,
    "start_time": "2025-09-03T08:23:50.955Z"
   },
   {
    "duration": 4,
    "start_time": "2025-09-03T08:23:52.522Z"
   },
   {
    "duration": 78,
    "start_time": "2025-09-03T08:23:52.528Z"
   },
   {
    "duration": 37,
    "start_time": "2025-09-03T08:23:52.608Z"
   },
   {
    "duration": 38,
    "start_time": "2025-09-03T08:23:52.646Z"
   },
   {
    "duration": 30,
    "start_time": "2025-09-03T08:23:52.686Z"
   },
   {
    "duration": 9,
    "start_time": "2025-09-03T08:23:52.718Z"
   },
   {
    "duration": 136,
    "start_time": "2025-09-03T08:23:52.728Z"
   },
   {
    "duration": 107,
    "start_time": "2025-09-03T08:23:52.866Z"
   },
   {
    "duration": 60,
    "start_time": "2025-09-03T08:23:52.974Z"
   },
   {
    "duration": 8,
    "start_time": "2025-09-03T08:23:53.036Z"
   },
   {
    "duration": 37,
    "start_time": "2025-09-03T08:23:53.045Z"
   },
   {
    "duration": 36,
    "start_time": "2025-09-03T08:23:53.085Z"
   },
   {
    "duration": 112,
    "start_time": "2025-09-03T08:23:53.122Z"
   },
   {
    "duration": 8,
    "start_time": "2025-09-03T08:23:53.236Z"
   },
   {
    "duration": 192,
    "start_time": "2025-09-03T08:23:53.246Z"
   },
   {
    "duration": 4112,
    "start_time": "2025-09-03T08:23:53.439Z"
   },
   {
    "duration": 351,
    "start_time": "2025-09-03T08:23:57.553Z"
   },
   {
    "duration": 4174,
    "start_time": "2025-09-03T08:23:57.906Z"
   },
   {
    "duration": 62,
    "start_time": "2025-09-03T08:24:02.082Z"
   },
   {
    "duration": 54551,
    "start_time": "2025-09-03T08:24:02.146Z"
   },
   {
    "duration": 2068,
    "start_time": "2025-09-03T08:24:56.699Z"
   },
   {
    "duration": 26,
    "start_time": "2025-09-03T08:24:58.768Z"
   },
   {
    "duration": 25,
    "start_time": "2025-09-03T08:24:58.796Z"
   },
   {
    "duration": 24,
    "start_time": "2025-09-03T08:24:58.822Z"
   },
   {
    "duration": 9,
    "start_time": "2025-09-03T08:24:58.848Z"
   },
   {
    "duration": 1978,
    "start_time": "2025-09-03T08:24:58.859Z"
   },
   {
    "duration": 6,
    "start_time": "2025-09-03T08:25:00.839Z"
   },
   {
    "duration": 9,
    "start_time": "2025-09-03T08:25:00.848Z"
   },
   {
    "duration": 125645,
    "start_time": "2025-09-03T08:25:00.858Z"
   },
   {
    "duration": 0,
    "start_time": "2025-09-03T08:27:06.505Z"
   },
   {
    "duration": 0,
    "start_time": "2025-09-03T08:27:06.506Z"
   },
   {
    "duration": 2464,
    "start_time": "2025-09-03T08:28:09.917Z"
   },
   {
    "duration": 1527,
    "start_time": "2025-09-03T08:28:12.383Z"
   },
   {
    "duration": 8,
    "start_time": "2025-09-03T08:28:13.912Z"
   },
   {
    "duration": 78,
    "start_time": "2025-09-03T08:28:13.923Z"
   },
   {
    "duration": 36,
    "start_time": "2025-09-03T08:28:14.003Z"
   },
   {
    "duration": 40,
    "start_time": "2025-09-03T08:28:14.041Z"
   },
   {
    "duration": 37,
    "start_time": "2025-09-03T08:28:14.082Z"
   },
   {
    "duration": 10,
    "start_time": "2025-09-03T08:28:14.121Z"
   },
   {
    "duration": 70,
    "start_time": "2025-09-03T08:28:14.133Z"
   },
   {
    "duration": 124,
    "start_time": "2025-09-03T08:28:14.206Z"
   },
   {
    "duration": 38,
    "start_time": "2025-09-03T08:28:14.332Z"
   },
   {
    "duration": 7,
    "start_time": "2025-09-03T08:28:14.372Z"
   },
   {
    "duration": 65,
    "start_time": "2025-09-03T08:28:14.380Z"
   },
   {
    "duration": 10,
    "start_time": "2025-09-03T08:28:14.446Z"
   },
   {
    "duration": 52,
    "start_time": "2025-09-03T08:28:14.458Z"
   },
   {
    "duration": 12,
    "start_time": "2025-09-03T08:28:14.512Z"
   },
   {
    "duration": 169,
    "start_time": "2025-09-03T08:28:14.526Z"
   },
   {
    "duration": 3522,
    "start_time": "2025-09-03T08:28:14.697Z"
   },
   {
    "duration": 377,
    "start_time": "2025-09-03T08:28:18.221Z"
   },
   {
    "duration": 4128,
    "start_time": "2025-09-03T08:28:18.599Z"
   },
   {
    "duration": 40,
    "start_time": "2025-09-03T08:28:22.728Z"
   },
   {
    "duration": 2474,
    "start_time": "2025-09-03T08:32:58.889Z"
   },
   {
    "duration": 1544,
    "start_time": "2025-09-03T08:33:01.365Z"
   },
   {
    "duration": 4,
    "start_time": "2025-09-03T08:33:02.911Z"
   },
   {
    "duration": 58,
    "start_time": "2025-09-03T08:33:02.917Z"
   },
   {
    "duration": 37,
    "start_time": "2025-09-03T08:33:02.976Z"
   },
   {
    "duration": 47,
    "start_time": "2025-09-03T08:33:03.015Z"
   },
   {
    "duration": 39,
    "start_time": "2025-09-03T08:33:03.065Z"
   },
   {
    "duration": 14,
    "start_time": "2025-09-03T08:33:03.106Z"
   },
   {
    "duration": 92,
    "start_time": "2025-09-03T08:33:03.121Z"
   },
   {
    "duration": 154,
    "start_time": "2025-09-03T08:33:03.215Z"
   },
   {
    "duration": 62,
    "start_time": "2025-09-03T08:33:03.370Z"
   },
   {
    "duration": 8,
    "start_time": "2025-09-03T08:33:03.434Z"
   },
   {
    "duration": 76,
    "start_time": "2025-09-03T08:33:03.443Z"
   },
   {
    "duration": 13,
    "start_time": "2025-09-03T08:33:03.521Z"
   },
   {
    "duration": 23,
    "start_time": "2025-09-03T08:33:03.536Z"
   },
   {
    "duration": 7,
    "start_time": "2025-09-03T08:33:03.561Z"
   },
   {
    "duration": 183,
    "start_time": "2025-09-03T08:33:03.570Z"
   },
   {
    "duration": 3620,
    "start_time": "2025-09-03T08:33:03.755Z"
   },
   {
    "duration": 399,
    "start_time": "2025-09-03T08:33:07.377Z"
   },
   {
    "duration": 4341,
    "start_time": "2025-09-03T08:33:07.778Z"
   },
   {
    "duration": 44,
    "start_time": "2025-09-03T08:33:12.120Z"
   },
   {
    "duration": 2619,
    "start_time": "2025-09-03T08:33:56.090Z"
   },
   {
    "duration": 1856,
    "start_time": "2025-09-03T08:33:58.711Z"
   },
   {
    "duration": 4,
    "start_time": "2025-09-03T08:34:00.568Z"
   },
   {
    "duration": 97,
    "start_time": "2025-09-03T08:34:00.574Z"
   },
   {
    "duration": 36,
    "start_time": "2025-09-03T08:34:00.673Z"
   },
   {
    "duration": 39,
    "start_time": "2025-09-03T08:34:00.711Z"
   },
   {
    "duration": 31,
    "start_time": "2025-09-03T08:34:00.751Z"
   },
   {
    "duration": 9,
    "start_time": "2025-09-03T08:34:00.784Z"
   },
   {
    "duration": 111,
    "start_time": "2025-09-03T08:34:00.795Z"
   },
   {
    "duration": 96,
    "start_time": "2025-09-03T08:34:00.908Z"
   },
   {
    "duration": 41,
    "start_time": "2025-09-03T08:34:01.018Z"
   },
   {
    "duration": 26,
    "start_time": "2025-09-03T08:34:01.061Z"
   },
   {
    "duration": 45,
    "start_time": "2025-09-03T08:34:01.089Z"
   },
   {
    "duration": 10,
    "start_time": "2025-09-03T08:34:01.137Z"
   },
   {
    "duration": 123,
    "start_time": "2025-09-03T08:34:01.149Z"
   },
   {
    "duration": 8,
    "start_time": "2025-09-03T08:34:01.274Z"
   },
   {
    "duration": 163,
    "start_time": "2025-09-03T08:34:01.284Z"
   },
   {
    "duration": 3718,
    "start_time": "2025-09-03T08:34:01.449Z"
   },
   {
    "duration": 384,
    "start_time": "2025-09-03T08:34:05.169Z"
   },
   {
    "duration": 4256,
    "start_time": "2025-09-03T08:34:05.555Z"
   },
   {
    "duration": 44,
    "start_time": "2025-09-03T08:34:09.813Z"
   },
   {
    "duration": 53553,
    "start_time": "2025-09-03T08:34:09.859Z"
   },
   {
    "duration": 2161,
    "start_time": "2025-09-03T08:35:03.414Z"
   },
   {
    "duration": 13,
    "start_time": "2025-09-03T08:35:05.576Z"
   },
   {
    "duration": 28,
    "start_time": "2025-09-03T08:35:05.591Z"
   },
   {
    "duration": 12,
    "start_time": "2025-09-03T08:35:05.621Z"
   },
   {
    "duration": 17,
    "start_time": "2025-09-03T08:35:05.636Z"
   },
   {
    "duration": 2382,
    "start_time": "2025-09-03T08:35:05.655Z"
   },
   {
    "duration": 5,
    "start_time": "2025-09-03T08:35:08.039Z"
   },
   {
    "duration": 9,
    "start_time": "2025-09-03T08:35:08.046Z"
   },
   {
    "duration": 5896967,
    "start_time": "2025-09-03T08:35:08.057Z"
   },
   {
    "duration": 14,
    "start_time": "2025-09-03T10:13:25.026Z"
   },
   {
    "duration": 81,
    "start_time": "2025-09-03T10:13:25.042Z"
   },
   {
    "duration": 248,
    "start_time": "2025-09-03T10:42:41.692Z"
   },
   {
    "duration": 134,
    "start_time": "2025-09-03T10:46:08.239Z"
   },
   {
    "duration": 11,
    "start_time": "2025-09-03T10:46:24.997Z"
   },
   {
    "duration": 6327,
    "start_time": "2025-09-03T10:46:37.652Z"
   },
   {
    "duration": 1350,
    "start_time": "2025-09-03T10:46:46.935Z"
   },
   {
    "duration": 15,
    "start_time": "2025-09-03T10:48:05.291Z"
   },
   {
    "duration": 864,
    "start_time": "2025-09-03T10:48:09.893Z"
   },
   {
    "duration": 427,
    "start_time": "2025-09-03T10:49:26.058Z"
   },
   {
    "duration": 27797,
    "start_time": "2025-09-03T10:49:48.271Z"
   },
   {
    "duration": 2480,
    "start_time": "2025-09-03T11:03:35.603Z"
   },
   {
    "duration": 1486,
    "start_time": "2025-09-03T11:03:38.085Z"
   },
   {
    "duration": 4,
    "start_time": "2025-09-03T11:03:39.572Z"
   },
   {
    "duration": 54,
    "start_time": "2025-09-03T11:03:39.577Z"
   },
   {
    "duration": 36,
    "start_time": "2025-09-03T11:03:39.633Z"
   },
   {
    "duration": 38,
    "start_time": "2025-09-03T11:03:39.671Z"
   },
   {
    "duration": 30,
    "start_time": "2025-09-03T11:03:39.711Z"
   },
   {
    "duration": 9,
    "start_time": "2025-09-03T11:03:39.743Z"
   },
   {
    "duration": 77,
    "start_time": "2025-09-03T11:03:39.754Z"
   },
   {
    "duration": 119,
    "start_time": "2025-09-03T11:03:39.833Z"
   },
   {
    "duration": 64,
    "start_time": "2025-09-03T11:03:39.955Z"
   },
   {
    "duration": 10,
    "start_time": "2025-09-03T11:03:40.021Z"
   },
   {
    "duration": 37,
    "start_time": "2025-09-03T11:03:40.033Z"
   },
   {
    "duration": 11,
    "start_time": "2025-09-03T11:03:40.072Z"
   },
   {
    "duration": 84,
    "start_time": "2025-09-03T11:03:40.085Z"
   },
   {
    "duration": 6,
    "start_time": "2025-09-03T11:03:40.171Z"
   },
   {
    "duration": 155,
    "start_time": "2025-09-03T11:03:40.179Z"
   },
   {
    "duration": 3513,
    "start_time": "2025-09-03T11:03:40.335Z"
   },
   {
    "duration": 364,
    "start_time": "2025-09-03T11:03:43.850Z"
   },
   {
    "duration": 4157,
    "start_time": "2025-09-03T11:03:44.216Z"
   },
   {
    "duration": 56,
    "start_time": "2025-09-03T11:03:48.375Z"
   },
   {
    "duration": 56174,
    "start_time": "2025-09-03T11:03:48.433Z"
   },
   {
    "duration": 2173,
    "start_time": "2025-09-03T11:04:44.609Z"
   },
   {
    "duration": 35,
    "start_time": "2025-09-03T11:04:46.784Z"
   },
   {
    "duration": 4,
    "start_time": "2025-09-03T11:04:46.821Z"
   },
   {
    "duration": 13,
    "start_time": "2025-09-03T11:04:46.827Z"
   },
   {
    "duration": 16,
    "start_time": "2025-09-03T11:04:46.841Z"
   },
   {
    "duration": 1883,
    "start_time": "2025-09-03T11:04:46.859Z"
   },
   {
    "duration": 5,
    "start_time": "2025-09-03T11:04:48.744Z"
   },
   {
    "duration": 20,
    "start_time": "2025-09-03T11:04:48.750Z"
   },
   {
    "duration": 8106953,
    "start_time": "2025-09-03T11:04:48.772Z"
   },
   {
    "duration": 13,
    "start_time": "2025-09-03T13:19:55.727Z"
   },
   {
    "duration": 80,
    "start_time": "2025-09-03T13:19:55.742Z"
   },
   {
    "duration": 306,
    "start_time": "2025-09-03T13:19:55.824Z"
   },
   {
    "duration": 408,
    "start_time": "2025-09-03T13:19:56.131Z"
   },
   {
    "duration": 3279,
    "start_time": "2025-09-05T06:04:07.754Z"
   },
   {
    "duration": 1777,
    "start_time": "2025-09-05T06:04:11.035Z"
   },
   {
    "duration": 5,
    "start_time": "2025-09-05T06:04:12.814Z"
   },
   {
    "duration": 82,
    "start_time": "2025-09-05T06:04:12.820Z"
   },
   {
    "duration": 38,
    "start_time": "2025-09-05T06:04:12.904Z"
   },
   {
    "duration": 42,
    "start_time": "2025-09-05T06:04:12.944Z"
   },
   {
    "duration": 33,
    "start_time": "2025-09-05T06:04:12.988Z"
   },
   {
    "duration": 10,
    "start_time": "2025-09-05T06:04:13.023Z"
   },
   {
    "duration": 64,
    "start_time": "2025-09-05T06:04:13.035Z"
   },
   {
    "duration": 134,
    "start_time": "2025-09-05T06:04:13.101Z"
   },
   {
    "duration": 46,
    "start_time": "2025-09-05T06:04:13.236Z"
   },
   {
    "duration": 9,
    "start_time": "2025-09-05T06:04:13.283Z"
   },
   {
    "duration": 69,
    "start_time": "2025-09-05T06:04:13.293Z"
   },
   {
    "duration": 11,
    "start_time": "2025-09-05T06:04:13.364Z"
   },
   {
    "duration": 25,
    "start_time": "2025-09-05T06:04:13.377Z"
   },
   {
    "duration": 32,
    "start_time": "2025-09-05T06:04:13.403Z"
   },
   {
    "duration": 198,
    "start_time": "2025-09-05T06:04:13.437Z"
   },
   {
    "duration": 3859,
    "start_time": "2025-09-05T06:04:13.637Z"
   },
   {
    "duration": 387,
    "start_time": "2025-09-05T06:04:17.498Z"
   },
   {
    "duration": 4495,
    "start_time": "2025-09-05T06:04:17.887Z"
   },
   {
    "duration": 2631,
    "start_time": "2025-09-05T06:23:16.324Z"
   },
   {
    "duration": 1573,
    "start_time": "2025-09-05T06:23:18.957Z"
   },
   {
    "duration": 4,
    "start_time": "2025-09-05T06:23:20.532Z"
   },
   {
    "duration": 56,
    "start_time": "2025-09-05T06:23:20.538Z"
   },
   {
    "duration": 39,
    "start_time": "2025-09-05T06:23:20.596Z"
   },
   {
    "duration": 75,
    "start_time": "2025-09-05T06:23:20.637Z"
   },
   {
    "duration": 66,
    "start_time": "2025-09-05T06:23:20.713Z"
   },
   {
    "duration": 10,
    "start_time": "2025-09-05T06:23:20.781Z"
   },
   {
    "duration": 76,
    "start_time": "2025-09-05T06:23:20.793Z"
   },
   {
    "duration": 135,
    "start_time": "2025-09-05T06:23:20.872Z"
   },
   {
    "duration": 63,
    "start_time": "2025-09-05T06:23:21.008Z"
   },
   {
    "duration": 9,
    "start_time": "2025-09-05T06:23:21.073Z"
   },
   {
    "duration": 66,
    "start_time": "2025-09-05T06:23:21.084Z"
   },
   {
    "duration": 11,
    "start_time": "2025-09-05T06:23:21.152Z"
   },
   {
    "duration": 27,
    "start_time": "2025-09-05T06:23:21.165Z"
   },
   {
    "duration": 8,
    "start_time": "2025-09-05T06:23:21.193Z"
   },
   {
    "duration": 195,
    "start_time": "2025-09-05T06:23:21.202Z"
   },
   {
    "duration": 4055,
    "start_time": "2025-09-05T06:23:21.398Z"
   },
   {
    "duration": 614,
    "start_time": "2025-09-05T06:23:25.455Z"
   },
   {
    "duration": 4756,
    "start_time": "2025-09-05T06:23:26.071Z"
   },
   {
    "duration": 44,
    "start_time": "2025-09-05T06:23:30.829Z"
   },
   {
    "duration": 56785,
    "start_time": "2025-09-05T06:23:30.874Z"
   },
   {
    "duration": 2130,
    "start_time": "2025-09-05T06:24:27.660Z"
   },
   {
    "duration": 55,
    "start_time": "2025-09-05T06:24:29.792Z"
   },
   {
    "duration": 6,
    "start_time": "2025-09-05T06:24:29.849Z"
   },
   {
    "duration": 8,
    "start_time": "2025-09-05T06:24:29.856Z"
   },
   {
    "duration": 9,
    "start_time": "2025-09-05T06:24:29.866Z"
   },
   {
    "duration": 168,
    "start_time": "2025-09-05T06:24:29.879Z"
   },
   {
    "duration": 0,
    "start_time": "2025-09-05T06:24:30.050Z"
   },
   {
    "duration": 0,
    "start_time": "2025-09-05T06:24:30.052Z"
   },
   {
    "duration": 0,
    "start_time": "2025-09-05T06:24:30.054Z"
   },
   {
    "duration": 0,
    "start_time": "2025-09-05T06:24:30.056Z"
   },
   {
    "duration": 0,
    "start_time": "2025-09-05T06:24:30.057Z"
   },
   {
    "duration": 0,
    "start_time": "2025-09-05T06:24:30.059Z"
   },
   {
    "duration": 0,
    "start_time": "2025-09-05T06:24:30.060Z"
   },
   {
    "duration": 5,
    "start_time": "2025-09-05T06:27:02.209Z"
   },
   {
    "duration": 4,
    "start_time": "2025-09-05T06:27:02.911Z"
   },
   {
    "duration": 4,
    "start_time": "2025-09-05T06:27:03.419Z"
   },
   {
    "duration": 42,
    "start_time": "2025-09-05T06:27:04.152Z"
   },
   {
    "duration": 5,
    "start_time": "2025-09-05T06:27:19.190Z"
   },
   {
    "duration": 5,
    "start_time": "2025-09-05T06:27:19.627Z"
   },
   {
    "duration": 4,
    "start_time": "2025-09-05T06:27:20.054Z"
   },
   {
    "duration": 46,
    "start_time": "2025-09-05T06:27:20.596Z"
   },
   {
    "duration": 31,
    "start_time": "2025-09-05T06:30:13.828Z"
   },
   {
    "duration": 5,
    "start_time": "2025-09-05T06:30:15.455Z"
   },
   {
    "duration": 4,
    "start_time": "2025-09-05T06:30:16.121Z"
   },
   {
    "duration": 3,
    "start_time": "2025-09-05T06:30:16.699Z"
   },
   {
    "duration": 1652,
    "start_time": "2025-09-05T06:30:17.403Z"
   },
   {
    "duration": 2606,
    "start_time": "2025-09-05T06:30:33.385Z"
   },
   {
    "duration": 1530,
    "start_time": "2025-09-05T06:30:35.994Z"
   },
   {
    "duration": 8,
    "start_time": "2025-09-05T06:30:37.526Z"
   },
   {
    "duration": 60,
    "start_time": "2025-09-05T06:30:37.536Z"
   },
   {
    "duration": 39,
    "start_time": "2025-09-05T06:30:37.599Z"
   },
   {
    "duration": 70,
    "start_time": "2025-09-05T06:30:37.640Z"
   },
   {
    "duration": 33,
    "start_time": "2025-09-05T06:30:37.711Z"
   },
   {
    "duration": 11,
    "start_time": "2025-09-05T06:30:37.746Z"
   },
   {
    "duration": 91,
    "start_time": "2025-09-05T06:30:37.758Z"
   },
   {
    "duration": 119,
    "start_time": "2025-09-05T06:30:37.851Z"
   },
   {
    "duration": 70,
    "start_time": "2025-09-05T06:30:37.971Z"
   },
   {
    "duration": 9,
    "start_time": "2025-09-05T06:30:38.043Z"
   },
   {
    "duration": 39,
    "start_time": "2025-09-05T06:30:38.054Z"
   },
   {
    "duration": 11,
    "start_time": "2025-09-05T06:30:38.096Z"
   },
   {
    "duration": 49,
    "start_time": "2025-09-05T06:30:38.109Z"
   },
   {
    "duration": 7,
    "start_time": "2025-09-05T06:30:38.160Z"
   },
   {
    "duration": 186,
    "start_time": "2025-09-05T06:30:38.169Z"
   },
   {
    "duration": 3727,
    "start_time": "2025-09-05T06:30:38.357Z"
   },
   {
    "duration": 382,
    "start_time": "2025-09-05T06:30:42.086Z"
   },
   {
    "duration": 4523,
    "start_time": "2025-09-05T06:30:42.470Z"
   },
   {
    "duration": 68,
    "start_time": "2025-09-05T06:30:46.995Z"
   },
   {
    "duration": 57249,
    "start_time": "2025-09-05T06:30:47.065Z"
   },
   {
    "duration": 2097,
    "start_time": "2025-09-05T06:31:44.315Z"
   },
   {
    "duration": 54,
    "start_time": "2025-09-05T06:31:46.414Z"
   },
   {
    "duration": 6,
    "start_time": "2025-09-05T06:31:46.470Z"
   },
   {
    "duration": 23,
    "start_time": "2025-09-05T06:31:46.478Z"
   },
   {
    "duration": 46,
    "start_time": "2025-09-05T06:31:46.503Z"
   },
   {
    "duration": 1808,
    "start_time": "2025-09-05T06:31:46.551Z"
   },
   {
    "duration": 6,
    "start_time": "2025-09-05T06:31:48.361Z"
   },
   {
    "duration": 40,
    "start_time": "2025-09-05T06:31:48.368Z"
   },
   {
    "duration": 2567,
    "start_time": "2025-09-05T06:37:14.725Z"
   },
   {
    "duration": 1520,
    "start_time": "2025-09-05T06:37:17.295Z"
   },
   {
    "duration": 4,
    "start_time": "2025-09-05T06:37:18.817Z"
   },
   {
    "duration": 63,
    "start_time": "2025-09-05T06:37:18.824Z"
   },
   {
    "duration": 38,
    "start_time": "2025-09-05T06:37:18.889Z"
   },
   {
    "duration": 40,
    "start_time": "2025-09-05T06:37:18.929Z"
   },
   {
    "duration": 31,
    "start_time": "2025-09-05T06:37:18.971Z"
   },
   {
    "duration": 11,
    "start_time": "2025-09-05T06:37:19.004Z"
   },
   {
    "duration": 66,
    "start_time": "2025-09-05T06:37:19.016Z"
   },
   {
    "duration": 128,
    "start_time": "2025-09-05T06:37:19.085Z"
   },
   {
    "duration": 62,
    "start_time": "2025-09-05T06:37:19.215Z"
   },
   {
    "duration": 9,
    "start_time": "2025-09-05T06:37:19.278Z"
   },
   {
    "duration": 65,
    "start_time": "2025-09-05T06:37:19.289Z"
   },
   {
    "duration": 11,
    "start_time": "2025-09-05T06:37:19.356Z"
   },
   {
    "duration": 26,
    "start_time": "2025-09-05T06:37:19.369Z"
   },
   {
    "duration": 7,
    "start_time": "2025-09-05T06:37:19.397Z"
   },
   {
    "duration": 204,
    "start_time": "2025-09-05T06:37:19.406Z"
   },
   {
    "duration": 3871,
    "start_time": "2025-09-05T06:37:19.612Z"
   },
   {
    "duration": 371,
    "start_time": "2025-09-05T06:37:23.485Z"
   },
   {
    "duration": 4551,
    "start_time": "2025-09-05T06:37:23.858Z"
   },
   {
    "duration": 60,
    "start_time": "2025-09-05T06:37:28.411Z"
   },
   {
    "duration": 61520,
    "start_time": "2025-09-05T06:37:28.473Z"
   },
   {
    "duration": 2716,
    "start_time": "2025-09-05T06:38:29.995Z"
   },
   {
    "duration": 51,
    "start_time": "2025-09-05T06:38:32.713Z"
   },
   {
    "duration": 70,
    "start_time": "2025-09-05T06:38:32.766Z"
   },
   {
    "duration": 5,
    "start_time": "2025-09-05T06:38:32.838Z"
   },
   {
    "duration": 6,
    "start_time": "2025-09-05T06:38:32.844Z"
   },
   {
    "duration": 2206,
    "start_time": "2025-09-05T06:38:32.854Z"
   },
   {
    "duration": 6,
    "start_time": "2025-09-05T06:38:35.062Z"
   },
   {
    "duration": 29,
    "start_time": "2025-09-05T06:38:35.070Z"
   },
   {
    "duration": 2651,
    "start_time": "2025-09-05T06:52:06.802Z"
   },
   {
    "duration": 1555,
    "start_time": "2025-09-05T06:52:09.456Z"
   },
   {
    "duration": 4,
    "start_time": "2025-09-05T06:52:11.013Z"
   },
   {
    "duration": 58,
    "start_time": "2025-09-05T06:52:11.019Z"
   },
   {
    "duration": 39,
    "start_time": "2025-09-05T06:52:11.079Z"
   },
   {
    "duration": 42,
    "start_time": "2025-09-05T06:52:11.120Z"
   },
   {
    "duration": 33,
    "start_time": "2025-09-05T06:52:11.164Z"
   },
   {
    "duration": 10,
    "start_time": "2025-09-05T06:52:11.199Z"
   },
   {
    "duration": 93,
    "start_time": "2025-09-05T06:52:11.211Z"
   },
   {
    "duration": 111,
    "start_time": "2025-09-05T06:52:11.305Z"
   },
   {
    "duration": 60,
    "start_time": "2025-09-05T06:52:11.418Z"
   },
   {
    "duration": 9,
    "start_time": "2025-09-05T06:52:11.480Z"
   },
   {
    "duration": 74,
    "start_time": "2025-09-05T06:52:11.491Z"
   },
   {
    "duration": 15,
    "start_time": "2025-09-05T06:52:11.568Z"
   },
   {
    "duration": 27,
    "start_time": "2025-09-05T06:52:11.585Z"
   },
   {
    "duration": 21,
    "start_time": "2025-09-05T06:52:11.614Z"
   },
   {
    "duration": 246,
    "start_time": "2025-09-05T06:52:11.637Z"
   },
   {
    "duration": 3813,
    "start_time": "2025-09-05T06:52:11.885Z"
   },
   {
    "duration": 382,
    "start_time": "2025-09-05T06:52:15.700Z"
   },
   {
    "duration": 4506,
    "start_time": "2025-09-05T06:52:16.084Z"
   },
   {
    "duration": 55,
    "start_time": "2025-09-05T06:52:20.592Z"
   },
   {
    "duration": 56331,
    "start_time": "2025-09-05T06:52:20.649Z"
   },
   {
    "duration": 2218,
    "start_time": "2025-09-05T06:53:16.982Z"
   },
   {
    "duration": 54,
    "start_time": "2025-09-05T06:53:19.201Z"
   },
   {
    "duration": 5,
    "start_time": "2025-09-05T06:53:19.257Z"
   },
   {
    "duration": 6,
    "start_time": "2025-09-05T06:53:19.263Z"
   },
   {
    "duration": 14,
    "start_time": "2025-09-05T06:53:19.271Z"
   },
   {
    "duration": 1474,
    "start_time": "2025-09-05T06:53:19.287Z"
   },
   {
    "duration": 180,
    "start_time": "2025-09-05T06:53:20.762Z"
   },
   {
    "duration": 39,
    "start_time": "2025-09-05T06:57:55.567Z"
   },
   {
    "duration": 2542,
    "start_time": "2025-09-05T07:04:51.024Z"
   },
   {
    "duration": 1567,
    "start_time": "2025-09-05T07:04:53.569Z"
   },
   {
    "duration": 4,
    "start_time": "2025-09-05T07:04:55.138Z"
   },
   {
    "duration": 94,
    "start_time": "2025-09-05T07:04:55.144Z"
   },
   {
    "duration": 38,
    "start_time": "2025-09-05T07:04:55.240Z"
   },
   {
    "duration": 43,
    "start_time": "2025-09-05T07:04:55.280Z"
   },
   {
    "duration": 33,
    "start_time": "2025-09-05T07:04:55.324Z"
   },
   {
    "duration": 9,
    "start_time": "2025-09-05T07:04:55.359Z"
   },
   {
    "duration": 77,
    "start_time": "2025-09-05T07:04:55.370Z"
   },
   {
    "duration": 121,
    "start_time": "2025-09-05T07:04:55.449Z"
   },
   {
    "duration": 68,
    "start_time": "2025-09-05T07:04:55.572Z"
   },
   {
    "duration": 8,
    "start_time": "2025-09-05T07:04:55.641Z"
   },
   {
    "duration": 45,
    "start_time": "2025-09-05T07:04:55.651Z"
   },
   {
    "duration": 46,
    "start_time": "2025-09-05T07:04:55.699Z"
   },
   {
    "duration": 77,
    "start_time": "2025-09-05T07:04:55.747Z"
   },
   {
    "duration": 35,
    "start_time": "2025-09-05T07:04:55.826Z"
   },
   {
    "duration": 179,
    "start_time": "2025-09-05T07:04:55.863Z"
   },
   {
    "duration": 3719,
    "start_time": "2025-09-05T07:04:56.044Z"
   },
   {
    "duration": 326,
    "start_time": "2025-09-05T07:04:59.764Z"
   },
   {
    "duration": 4443,
    "start_time": "2025-09-05T07:05:00.092Z"
   },
   {
    "duration": 41,
    "start_time": "2025-09-05T07:05:04.537Z"
   },
   {
    "duration": 2652,
    "start_time": "2025-09-05T07:05:46.456Z"
   },
   {
    "duration": 1623,
    "start_time": "2025-09-05T07:05:49.111Z"
   },
   {
    "duration": 4,
    "start_time": "2025-09-05T07:05:50.736Z"
   },
   {
    "duration": 82,
    "start_time": "2025-09-05T07:05:50.742Z"
   },
   {
    "duration": 42,
    "start_time": "2025-09-05T07:05:50.827Z"
   },
   {
    "duration": 44,
    "start_time": "2025-09-05T07:05:50.871Z"
   },
   {
    "duration": 138,
    "start_time": "2025-09-05T07:05:50.917Z"
   },
   {
    "duration": 11,
    "start_time": "2025-09-05T07:05:51.057Z"
   },
   {
    "duration": 87,
    "start_time": "2025-09-05T07:05:51.070Z"
   },
   {
    "duration": 126,
    "start_time": "2025-09-05T07:05:51.159Z"
   },
   {
    "duration": 66,
    "start_time": "2025-09-05T07:05:51.287Z"
   },
   {
    "duration": 10,
    "start_time": "2025-09-05T07:05:51.355Z"
   },
   {
    "duration": 69,
    "start_time": "2025-09-05T07:05:51.367Z"
   },
   {
    "duration": 12,
    "start_time": "2025-09-05T07:05:51.439Z"
   },
   {
    "duration": 26,
    "start_time": "2025-09-05T07:05:51.453Z"
   },
   {
    "duration": 8,
    "start_time": "2025-09-05T07:05:51.481Z"
   },
   {
    "duration": 203,
    "start_time": "2025-09-05T07:05:51.491Z"
   },
   {
    "duration": 3956,
    "start_time": "2025-09-05T07:05:51.696Z"
   },
   {
    "duration": 354,
    "start_time": "2025-09-05T07:05:55.654Z"
   },
   {
    "duration": 4598,
    "start_time": "2025-09-05T07:05:56.009Z"
   },
   {
    "duration": 57,
    "start_time": "2025-09-05T07:06:00.609Z"
   },
   {
    "duration": 57785,
    "start_time": "2025-09-05T07:06:00.668Z"
   },
   {
    "duration": 2281,
    "start_time": "2025-09-05T07:06:58.455Z"
   },
   {
    "duration": 45,
    "start_time": "2025-09-05T07:07:00.738Z"
   },
   {
    "duration": 4,
    "start_time": "2025-09-05T07:07:00.785Z"
   },
   {
    "duration": 71,
    "start_time": "2025-09-05T07:07:00.791Z"
   },
   {
    "duration": 27,
    "start_time": "2025-09-05T07:07:00.863Z"
   },
   {
    "duration": 2083,
    "start_time": "2025-09-05T07:07:00.892Z"
   },
   {
    "duration": 7,
    "start_time": "2025-09-05T07:07:02.976Z"
   },
   {
    "duration": 117,
    "start_time": "2025-09-05T07:07:02.984Z"
   },
   {
    "duration": 21698,
    "start_time": "2025-09-05T07:07:03.103Z"
   },
   {
    "duration": 0,
    "start_time": "2025-09-05T07:07:24.804Z"
   },
   {
    "duration": 0,
    "start_time": "2025-09-05T07:07:24.805Z"
   },
   {
    "duration": 0,
    "start_time": "2025-09-05T07:07:24.807Z"
   },
   {
    "duration": 0,
    "start_time": "2025-09-05T07:07:24.808Z"
   },
   {
    "duration": 3051,
    "start_time": "2025-09-05T07:10:17.656Z"
   },
   {
    "duration": 1786,
    "start_time": "2025-09-05T07:10:20.710Z"
   },
   {
    "duration": 4,
    "start_time": "2025-09-05T07:10:22.499Z"
   },
   {
    "duration": 93,
    "start_time": "2025-09-05T07:10:22.506Z"
   },
   {
    "duration": 39,
    "start_time": "2025-09-05T07:10:22.602Z"
   },
   {
    "duration": 67,
    "start_time": "2025-09-05T07:10:22.643Z"
   },
   {
    "duration": 34,
    "start_time": "2025-09-05T07:10:22.713Z"
   },
   {
    "duration": 10,
    "start_time": "2025-09-05T07:10:22.749Z"
   },
   {
    "duration": 88,
    "start_time": "2025-09-05T07:10:22.761Z"
   },
   {
    "duration": 130,
    "start_time": "2025-09-05T07:10:22.850Z"
   },
   {
    "duration": 63,
    "start_time": "2025-09-05T07:10:22.982Z"
   },
   {
    "duration": 10,
    "start_time": "2025-09-05T07:10:23.046Z"
   },
   {
    "duration": 46,
    "start_time": "2025-09-05T07:10:23.058Z"
   },
   {
    "duration": 35,
    "start_time": "2025-09-05T07:10:23.108Z"
   },
   {
    "duration": 24,
    "start_time": "2025-09-05T07:10:23.145Z"
   },
   {
    "duration": 8,
    "start_time": "2025-09-05T07:10:23.171Z"
   },
   {
    "duration": 206,
    "start_time": "2025-09-05T07:10:23.181Z"
   },
   {
    "duration": 4047,
    "start_time": "2025-09-05T07:10:23.389Z"
   },
   {
    "duration": 361,
    "start_time": "2025-09-05T07:10:27.437Z"
   },
   {
    "duration": 4754,
    "start_time": "2025-09-05T07:10:27.800Z"
   },
   {
    "duration": 56,
    "start_time": "2025-09-05T07:10:32.556Z"
   },
   {
    "duration": 56237,
    "start_time": "2025-09-05T07:10:32.634Z"
   },
   {
    "duration": 2130,
    "start_time": "2025-09-05T07:11:28.873Z"
   },
   {
    "duration": 62,
    "start_time": "2025-09-05T07:11:31.005Z"
   },
   {
    "duration": 5,
    "start_time": "2025-09-05T07:11:31.069Z"
   },
   {
    "duration": 16,
    "start_time": "2025-09-05T07:11:31.075Z"
   },
   {
    "duration": 9,
    "start_time": "2025-09-05T07:11:31.093Z"
   },
   {
    "duration": 187,
    "start_time": "2025-09-05T07:11:31.104Z"
   },
   {
    "duration": 0,
    "start_time": "2025-09-05T07:11:31.294Z"
   },
   {
    "duration": 0,
    "start_time": "2025-09-05T07:11:31.295Z"
   },
   {
    "duration": 0,
    "start_time": "2025-09-05T07:11:31.296Z"
   },
   {
    "duration": 0,
    "start_time": "2025-09-05T07:11:31.298Z"
   },
   {
    "duration": 0,
    "start_time": "2025-09-05T07:11:31.299Z"
   },
   {
    "duration": 0,
    "start_time": "2025-09-05T07:11:31.300Z"
   },
   {
    "duration": 0,
    "start_time": "2025-09-05T07:11:31.302Z"
   },
   {
    "duration": 2670,
    "start_time": "2025-09-05T07:12:36.122Z"
   },
   {
    "duration": 2295,
    "start_time": "2025-09-05T07:12:38.795Z"
   },
   {
    "duration": 4,
    "start_time": "2025-09-05T07:12:41.092Z"
   },
   {
    "duration": 65,
    "start_time": "2025-09-05T07:12:41.098Z"
   },
   {
    "duration": 43,
    "start_time": "2025-09-05T07:12:41.166Z"
   },
   {
    "duration": 43,
    "start_time": "2025-09-05T07:12:41.211Z"
   },
   {
    "duration": 34,
    "start_time": "2025-09-05T07:12:41.256Z"
   },
   {
    "duration": 11,
    "start_time": "2025-09-05T07:12:41.292Z"
   },
   {
    "duration": 89,
    "start_time": "2025-09-05T07:12:41.304Z"
   },
   {
    "duration": 144,
    "start_time": "2025-09-05T07:12:41.395Z"
   },
   {
    "duration": 46,
    "start_time": "2025-09-05T07:12:41.541Z"
   },
   {
    "duration": 11,
    "start_time": "2025-09-05T07:12:41.589Z"
   },
   {
    "duration": 54,
    "start_time": "2025-09-05T07:12:41.633Z"
   },
   {
    "duration": 12,
    "start_time": "2025-09-05T07:12:41.691Z"
   },
   {
    "duration": 126,
    "start_time": "2025-09-05T07:12:41.705Z"
   },
   {
    "duration": 8,
    "start_time": "2025-09-05T07:12:41.833Z"
   },
   {
    "duration": 171,
    "start_time": "2025-09-05T07:12:41.842Z"
   },
   {
    "duration": 3873,
    "start_time": "2025-09-05T07:12:42.015Z"
   },
   {
    "duration": 377,
    "start_time": "2025-09-05T07:12:45.889Z"
   },
   {
    "duration": 4583,
    "start_time": "2025-09-05T07:12:46.267Z"
   },
   {
    "duration": 44,
    "start_time": "2025-09-05T07:12:50.852Z"
   },
   {
    "duration": 56859,
    "start_time": "2025-09-05T07:12:50.898Z"
   },
   {
    "duration": 2146,
    "start_time": "2025-09-05T07:13:47.759Z"
   },
   {
    "duration": 58,
    "start_time": "2025-09-05T07:13:49.907Z"
   },
   {
    "duration": 4,
    "start_time": "2025-09-05T07:13:49.966Z"
   },
   {
    "duration": 9,
    "start_time": "2025-09-05T07:13:49.972Z"
   },
   {
    "duration": 6,
    "start_time": "2025-09-05T07:13:49.982Z"
   },
   {
    "duration": 2174,
    "start_time": "2025-09-05T07:13:49.989Z"
   },
   {
    "duration": 6,
    "start_time": "2025-09-05T07:13:52.166Z"
   },
   {
    "duration": 31,
    "start_time": "2025-09-05T07:13:52.174Z"
   },
   {
    "duration": 7885735,
    "start_time": "2025-09-05T07:13:52.206Z"
   },
   {
    "duration": 14,
    "start_time": "2025-09-05T09:25:17.943Z"
   },
   {
    "duration": 5,
    "start_time": "2025-09-05T09:25:18.035Z"
   },
   {
    "duration": 319,
    "start_time": "2025-09-05T09:25:18.042Z"
   },
   {
    "duration": 509,
    "start_time": "2025-09-05T09:25:18.363Z"
   },
   {
    "duration": 2068,
    "start_time": "2025-09-05T09:44:12.681Z"
   },
   {
    "duration": 3360,
    "start_time": "2025-09-05T09:44:34.555Z"
   },
   {
    "duration": 2575,
    "start_time": "2025-09-05T10:12:18.996Z"
   },
   {
    "duration": 1594,
    "start_time": "2025-09-05T10:12:21.574Z"
   },
   {
    "duration": 4,
    "start_time": "2025-09-05T10:12:23.170Z"
   },
   {
    "duration": 66,
    "start_time": "2025-09-05T10:12:23.177Z"
   },
   {
    "duration": 38,
    "start_time": "2025-09-05T10:12:23.246Z"
   },
   {
    "duration": 42,
    "start_time": "2025-09-05T10:12:23.286Z"
   },
   {
    "duration": 32,
    "start_time": "2025-09-05T10:12:23.333Z"
   },
   {
    "duration": 10,
    "start_time": "2025-09-05T10:12:23.367Z"
   },
   {
    "duration": 80,
    "start_time": "2025-09-05T10:12:23.379Z"
   },
   {
    "duration": 131,
    "start_time": "2025-09-05T10:12:23.463Z"
   },
   {
    "duration": 71,
    "start_time": "2025-09-05T10:12:23.596Z"
   },
   {
    "duration": 10,
    "start_time": "2025-09-05T10:12:23.669Z"
   },
   {
    "duration": 73,
    "start_time": "2025-09-05T10:12:23.681Z"
   },
   {
    "duration": 12,
    "start_time": "2025-09-05T10:12:23.757Z"
   },
   {
    "duration": 29,
    "start_time": "2025-09-05T10:12:23.771Z"
   },
   {
    "duration": 33,
    "start_time": "2025-09-05T10:12:23.802Z"
   },
   {
    "duration": 178,
    "start_time": "2025-09-05T10:12:23.838Z"
   },
   {
    "duration": 3946,
    "start_time": "2025-09-05T10:12:24.018Z"
   },
   {
    "duration": 349,
    "start_time": "2025-09-05T10:12:27.966Z"
   },
   {
    "duration": 4643,
    "start_time": "2025-09-05T10:12:28.317Z"
   },
   {
    "duration": 44,
    "start_time": "2025-09-05T10:12:32.961Z"
   },
   {
    "duration": 55951,
    "start_time": "2025-09-05T10:12:33.007Z"
   },
   {
    "duration": 2148,
    "start_time": "2025-09-05T10:13:28.960Z"
   },
   {
    "duration": 37,
    "start_time": "2025-09-05T10:13:31.134Z"
   },
   {
    "duration": 6,
    "start_time": "2025-09-05T10:13:31.172Z"
   },
   {
    "duration": 7,
    "start_time": "2025-09-05T10:13:31.180Z"
   },
   {
    "duration": 5,
    "start_time": "2025-09-05T10:13:31.189Z"
   },
   {
    "duration": 2180,
    "start_time": "2025-09-05T10:13:31.197Z"
   },
   {
    "duration": 6,
    "start_time": "2025-09-05T10:13:33.379Z"
   },
   {
    "duration": 12,
    "start_time": "2025-09-05T10:13:33.388Z"
   },
   {
    "duration": 2557,
    "start_time": "2025-09-05T10:35:17.665Z"
   },
   {
    "duration": 1582,
    "start_time": "2025-09-05T10:35:20.225Z"
   },
   {
    "duration": 4,
    "start_time": "2025-09-05T10:35:21.809Z"
   },
   {
    "duration": 61,
    "start_time": "2025-09-05T10:35:21.815Z"
   },
   {
    "duration": 40,
    "start_time": "2025-09-05T10:35:21.877Z"
   },
   {
    "duration": 43,
    "start_time": "2025-09-05T10:35:21.919Z"
   },
   {
    "duration": 32,
    "start_time": "2025-09-05T10:35:21.965Z"
   },
   {
    "duration": 22,
    "start_time": "2025-09-05T10:35:21.999Z"
   },
   {
    "duration": 75,
    "start_time": "2025-09-05T10:35:22.023Z"
   },
   {
    "duration": 139,
    "start_time": "2025-09-05T10:35:22.101Z"
   },
   {
    "duration": 45,
    "start_time": "2025-09-05T10:35:22.242Z"
   },
   {
    "duration": 9,
    "start_time": "2025-09-05T10:35:22.288Z"
   },
   {
    "duration": 107,
    "start_time": "2025-09-05T10:35:22.299Z"
   },
   {
    "duration": 11,
    "start_time": "2025-09-05T10:35:22.409Z"
   },
   {
    "duration": 58,
    "start_time": "2025-09-05T10:35:22.422Z"
   },
   {
    "duration": 8,
    "start_time": "2025-09-05T10:35:22.481Z"
   },
   {
    "duration": 192,
    "start_time": "2025-09-05T10:35:22.491Z"
   },
   {
    "duration": 3940,
    "start_time": "2025-09-05T10:35:22.685Z"
   },
   {
    "duration": 368,
    "start_time": "2025-09-05T10:35:26.633Z"
   },
   {
    "duration": 4389,
    "start_time": "2025-09-05T10:35:27.003Z"
   },
   {
    "duration": 60,
    "start_time": "2025-09-05T10:35:31.394Z"
   },
   {
    "duration": 57101,
    "start_time": "2025-09-05T10:35:31.456Z"
   },
   {
    "duration": 2135,
    "start_time": "2025-09-05T10:36:28.559Z"
   },
   {
    "duration": 55,
    "start_time": "2025-09-05T10:36:30.696Z"
   },
   {
    "duration": 4,
    "start_time": "2025-09-05T10:36:30.753Z"
   },
   {
    "duration": 17,
    "start_time": "2025-09-05T10:36:30.759Z"
   },
   {
    "duration": 56,
    "start_time": "2025-09-05T10:36:30.777Z"
   },
   {
    "duration": 1909,
    "start_time": "2025-09-05T10:36:30.838Z"
   },
   {
    "duration": 5,
    "start_time": "2025-09-05T10:36:32.749Z"
   },
   {
    "duration": 28,
    "start_time": "2025-09-05T10:36:32.756Z"
   },
   {
    "duration": 5932158,
    "start_time": "2025-09-05T10:36:32.785Z"
   },
   {
    "duration": 102,
    "start_time": "2025-09-05T12:15:24.945Z"
   },
   {
    "duration": 40,
    "start_time": "2025-09-05T12:15:25.049Z"
   },
   {
    "duration": 293,
    "start_time": "2025-09-05T12:15:25.091Z"
   },
   {
    "duration": 446,
    "start_time": "2025-09-05T12:15:25.386Z"
   },
   {
    "duration": 264,
    "start_time": "2025-09-05T12:16:33.994Z"
   },
   {
    "duration": 409,
    "start_time": "2025-09-05T12:16:42.366Z"
   },
   {
    "duration": 2575,
    "start_time": "2025-09-05T12:30:52.175Z"
   },
   {
    "duration": 1629,
    "start_time": "2025-09-05T12:30:54.752Z"
   },
   {
    "duration": 4,
    "start_time": "2025-09-05T12:30:56.383Z"
   },
   {
    "duration": 71,
    "start_time": "2025-09-05T12:30:56.388Z"
   },
   {
    "duration": 37,
    "start_time": "2025-09-05T12:30:56.462Z"
   },
   {
    "duration": 43,
    "start_time": "2025-09-05T12:30:56.502Z"
   },
   {
    "duration": 32,
    "start_time": "2025-09-05T12:30:56.547Z"
   },
   {
    "duration": 10,
    "start_time": "2025-09-05T12:30:56.581Z"
   },
   {
    "duration": 85,
    "start_time": "2025-09-05T12:30:56.593Z"
   },
   {
    "duration": 120,
    "start_time": "2025-09-05T12:30:56.680Z"
   },
   {
    "duration": 67,
    "start_time": "2025-09-05T12:30:56.801Z"
   },
   {
    "duration": 18,
    "start_time": "2025-09-05T12:30:56.870Z"
   },
   {
    "duration": 103,
    "start_time": "2025-09-05T12:30:56.890Z"
   },
   {
    "duration": 11,
    "start_time": "2025-09-05T12:30:56.996Z"
   },
   {
    "duration": 30,
    "start_time": "2025-09-05T12:30:57.009Z"
   },
   {
    "duration": 7,
    "start_time": "2025-09-05T12:30:57.041Z"
   },
   {
    "duration": 173,
    "start_time": "2025-09-05T12:30:57.050Z"
   },
   {
    "duration": 3768,
    "start_time": "2025-09-05T12:30:57.234Z"
   },
   {
    "duration": 388,
    "start_time": "2025-09-05T12:31:01.004Z"
   },
   {
    "duration": 4530,
    "start_time": "2025-09-05T12:31:01.394Z"
   },
   {
    "duration": 42,
    "start_time": "2025-09-05T12:31:05.934Z"
   },
   {
    "duration": 56885,
    "start_time": "2025-09-05T12:31:05.978Z"
   },
   {
    "duration": 2132,
    "start_time": "2025-09-05T12:32:02.865Z"
   },
   {
    "duration": 62,
    "start_time": "2025-09-05T12:32:04.999Z"
   },
   {
    "duration": 3,
    "start_time": "2025-09-05T12:32:05.063Z"
   },
   {
    "duration": 26,
    "start_time": "2025-09-05T12:32:05.068Z"
   },
   {
    "duration": 32,
    "start_time": "2025-09-05T12:32:05.096Z"
   },
   {
    "duration": 2119,
    "start_time": "2025-09-05T12:32:05.130Z"
   },
   {
    "duration": 6,
    "start_time": "2025-09-05T12:32:07.251Z"
   },
   {
    "duration": 89,
    "start_time": "2025-09-05T12:32:07.258Z"
   },
   {
    "duration": 6059185,
    "start_time": "2025-09-05T12:32:07.349Z"
   },
   {
    "duration": 15,
    "start_time": "2025-09-05T14:13:06.536Z"
   },
   {
    "duration": 18,
    "start_time": "2025-09-05T14:13:06.552Z"
   },
   {
    "duration": 314,
    "start_time": "2025-09-05T14:13:06.571Z"
   },
   {
    "duration": 422,
    "start_time": "2025-09-05T14:13:06.887Z"
   }
  ],
  "kernelspec": {
   "display_name": "Python 3 (ipykernel)",
   "language": "python",
   "name": "python3"
  },
  "language_info": {
   "codemirror_mode": {
    "name": "ipython",
    "version": 3
   },
   "file_extension": ".py",
   "mimetype": "text/x-python",
   "name": "python",
   "nbconvert_exporter": "python",
   "pygments_lexer": "ipython3",
   "version": "3.9.18"
  },
  "toc": {
   "base_numbering": 1,
   "nav_menu": {},
   "number_sections": true,
   "sideBar": true,
   "skip_h1_title": true,
   "title_cell": "Table of Contents",
   "title_sidebar": "Contents",
   "toc_cell": false,
   "toc_position": {
    "height": "calc(100% - 180px)",
    "left": "10px",
    "top": "150px",
    "width": "165px"
   },
   "toc_section_display": true,
   "toc_window_display": true
  }
 },
 "nbformat": 4,
 "nbformat_minor": 5
}
