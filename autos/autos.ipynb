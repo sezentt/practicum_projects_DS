{
 "cells": [
  {
   "cell_type": "markdown",
   "metadata": {},
   "source": [
    "# Определение стоимости автомобилей"
   ]
  },
  {
   "cell_type": "markdown",
   "metadata": {},
   "source": [
    "**Цель проекта:**\n",
    "\n",
    "Построить модель машинного обучения для прогнозирования рыночной стоимости автомобилей по их техническим характеристикам, комплектации и другим признакам. Необходимо обеспечить высокое качество предсказания (`RMSE < 2500`), а также учесть скорость обучения и предсказания модели."
   ]
  },
  {
   "cell_type": "markdown",
   "metadata": {},
   "source": [
    "**Описание проекта:**\n",
    "\n",
    "Сервис по продаже автомобилей с пробегом «Не бит, не крашен» разрабатывает приложение для привлечения новых клиентов. В нём можно быстро узнать рыночную стоимость своего автомобиля. В нашем распоряжении исторические данные: технические характеристики, комплектации и цены автомобилей. Нам нужно построить модель для определения стоимости. \n",
    "\n",
    "Заказчику важны:\n",
    "\n",
    "- качество предсказания;\n",
    "- скорость предсказания;\n",
    "- время обучения."
   ]
  },
  {
   "cell_type": "markdown",
   "metadata": {},
   "source": [
    "**Описание данных:**\n",
    "\n",
    "Признаки:\n",
    "- `DateCrawled` — дата скачивания анкеты из базы\n",
    "- `VehicleType` — тип автомобильного кузова\n",
    "- `RegistrationYear` — год регистрации автомобиля\n",
    "- `Gearbox` — тип коробки передач\n",
    "- `Power` — мощность (л. с.)\n",
    "- `Model` — модель автомобиля\n",
    "- `Kilometer` — пробег (км)\n",
    "- `RegistrationMonth` — месяц регистрации автомобиля\n",
    "- `FuelType` — тип топлива\n",
    "- `Brand` — марка автомобиля\n",
    "- `Repaired` — была машина в ремонте или нет\n",
    "- `DateCreated` — дата создания анкеты\n",
    "- `NumberOfPictures` — количество фотографий автомобиля\n",
    "- `PostalCode` — почтовый индекс владельца анкеты (пользователя)\n",
    "- `LastSeen` — дата последней активности пользователя\n",
    "\n",
    "Целевой признак:\n",
    "- `Price` — цена (евро)"
   ]
  },
  {
   "cell_type": "markdown",
   "metadata": {},
   "source": [
    "## Загрузка и просмотр данных"
   ]
  },
  {
   "cell_type": "code",
   "execution_count": 1,
   "metadata": {},
   "outputs": [
    {
     "name": "stdout",
     "output_type": "stream",
     "text": [
      "Requirement already satisfied: phik in /opt/conda/lib/python3.9/site-packages (0.12.4)\n",
      "Requirement already satisfied: numpy>=1.18.0 in /opt/conda/lib/python3.9/site-packages (from phik) (1.21.1)\n",
      "Requirement already satisfied: matplotlib>=2.2.3 in /opt/conda/lib/python3.9/site-packages (from phik) (3.3.4)\n",
      "Requirement already satisfied: joblib>=0.14.1 in /opt/conda/lib/python3.9/site-packages (from phik) (1.1.0)\n",
      "Requirement already satisfied: scipy>=1.5.2 in /opt/conda/lib/python3.9/site-packages (from phik) (1.9.1)\n",
      "Requirement already satisfied: pandas>=0.25.1 in /opt/conda/lib/python3.9/site-packages (from phik) (1.2.4)\n",
      "Requirement already satisfied: python-dateutil>=2.1 in /opt/conda/lib/python3.9/site-packages (from matplotlib>=2.2.3->phik) (2.8.1)\n",
      "Requirement already satisfied: pillow>=6.2.0 in /opt/conda/lib/python3.9/site-packages (from matplotlib>=2.2.3->phik) (8.4.0)\n",
      "Requirement already satisfied: pyparsing!=2.0.4,!=2.1.2,!=2.1.6,>=2.0.3 in /opt/conda/lib/python3.9/site-packages (from matplotlib>=2.2.3->phik) (2.4.7)\n",
      "Requirement already satisfied: kiwisolver>=1.0.1 in /opt/conda/lib/python3.9/site-packages (from matplotlib>=2.2.3->phik) (1.4.4)\n",
      "Requirement already satisfied: cycler>=0.10 in /opt/conda/lib/python3.9/site-packages (from matplotlib>=2.2.3->phik) (0.11.0)\n",
      "Requirement already satisfied: pytz>=2017.3 in /opt/conda/lib/python3.9/site-packages (from pandas>=0.25.1->phik) (2021.1)\n",
      "Requirement already satisfied: six>=1.5 in /opt/conda/lib/python3.9/site-packages (from python-dateutil>=2.1->matplotlib>=2.2.3->phik) (1.16.0)\n"
     ]
    }
   ],
   "source": [
    "!pip install phik"
   ]
  },
  {
   "cell_type": "code",
   "execution_count": 2,
   "metadata": {},
   "outputs": [],
   "source": [
    "# Подключение всех необходимых библиотек\n",
    "import os\n",
    "import pandas as pd\n",
    "import numpy as np\n",
    "import matplotlib.pyplot as plt\n",
    "import seaborn as sns\n",
    "from math import sqrt\n",
    "\n",
    "from phik import phik_matrix\n",
    "from phik.report import plot_correlation_matrix\n",
    "\n",
    "# Настройка pandas для отображения полного текста\n",
    "pd.set_option('display.max_colwidth', None)\n",
    "\n",
    "# Задаем стиль графиков\n",
    "sns.set(style=\"whitegrid\")\n",
    "\n",
    "import warnings\n",
    "warnings.filterwarnings(\"ignore\")\n",
    "\n",
    "# ML\n",
    "from sklearn.model_selection import train_test_split\n",
    "from sklearn.preprocessing import OneHotEncoder, OrdinalEncoder, StandardScaler\n",
    "from sklearn.compose import ColumnTransformer\n",
    "from sklearn.impute import SimpleImputer\n",
    "from sklearn.pipeline import Pipeline\n",
    "from sklearn.metrics import mean_squared_error\n",
    "\n",
    "from sklearn.model_selection import GridSearchCV\n",
    "from sklearn.linear_model import Ridge\n",
    "from sklearn.ensemble import RandomForestRegressor\n",
    "from catboost import CatBoostRegressor\n",
    "from lightgbm import LGBMRegressor, plot_importance"
   ]
  },
  {
   "cell_type": "code",
   "execution_count": 3,
   "metadata": {},
   "outputs": [],
   "source": [
    "# Загружает CSV-файл и выводит случайные строки и общую информацию\n",
    "def load_and_inspect_csv(filepath, delimiter=',', sample_size=5):\n",
    "    if os.path.exists(filepath):\n",
    "        df = pd.read_csv(filepath, delimiter=delimiter)\n",
    "        print(f\"Файл успешно загружен: {filepath}\")\n",
    "        display(df.sample(sample_size, random_state=42))\n",
    "        df.info()\n",
    "        return df\n",
    "    else:\n",
    "        print(f\"Файл не найден: {filepath}\")\n",
    "        return None"
   ]
  },
  {
   "cell_type": "code",
   "execution_count": 4,
   "metadata": {},
   "outputs": [
    {
     "name": "stdout",
     "output_type": "stream",
     "text": [
      "Файл успешно загружен: /datasets/autos.csv\n"
     ]
    },
    {
     "data": {
      "text/html": [
       "<div>\n",
       "<style scoped>\n",
       "    .dataframe tbody tr th:only-of-type {\n",
       "        vertical-align: middle;\n",
       "    }\n",
       "\n",
       "    .dataframe tbody tr th {\n",
       "        vertical-align: top;\n",
       "    }\n",
       "\n",
       "    .dataframe thead th {\n",
       "        text-align: right;\n",
       "    }\n",
       "</style>\n",
       "<table border=\"1\" class=\"dataframe\">\n",
       "  <thead>\n",
       "    <tr style=\"text-align: right;\">\n",
       "      <th></th>\n",
       "      <th>DateCrawled</th>\n",
       "      <th>Price</th>\n",
       "      <th>VehicleType</th>\n",
       "      <th>RegistrationYear</th>\n",
       "      <th>Gearbox</th>\n",
       "      <th>Power</th>\n",
       "      <th>Model</th>\n",
       "      <th>Kilometer</th>\n",
       "      <th>RegistrationMonth</th>\n",
       "      <th>FuelType</th>\n",
       "      <th>Brand</th>\n",
       "      <th>Repaired</th>\n",
       "      <th>DateCreated</th>\n",
       "      <th>NumberOfPictures</th>\n",
       "      <th>PostalCode</th>\n",
       "      <th>LastSeen</th>\n",
       "    </tr>\n",
       "  </thead>\n",
       "  <tbody>\n",
       "    <tr>\n",
       "      <th>294049</th>\n",
       "      <td>2016-03-20 20:54:33</td>\n",
       "      <td>19999</td>\n",
       "      <td>wagon</td>\n",
       "      <td>2014</td>\n",
       "      <td>manual</td>\n",
       "      <td>122</td>\n",
       "      <td>leon</td>\n",
       "      <td>30000</td>\n",
       "      <td>3</td>\n",
       "      <td>petrol</td>\n",
       "      <td>seat</td>\n",
       "      <td>no</td>\n",
       "      <td>2016-03-20 00:00:00</td>\n",
       "      <td>0</td>\n",
       "      <td>22089</td>\n",
       "      <td>2016-03-27 10:47:13</td>\n",
       "    </tr>\n",
       "    <tr>\n",
       "      <th>76415</th>\n",
       "      <td>2016-03-25 12:56:02</td>\n",
       "      <td>14250</td>\n",
       "      <td>wagon</td>\n",
       "      <td>2011</td>\n",
       "      <td>manual</td>\n",
       "      <td>140</td>\n",
       "      <td>a3</td>\n",
       "      <td>70000</td>\n",
       "      <td>6</td>\n",
       "      <td>gasoline</td>\n",
       "      <td>audi</td>\n",
       "      <td>NaN</td>\n",
       "      <td>2016-03-25 00:00:00</td>\n",
       "      <td>0</td>\n",
       "      <td>45770</td>\n",
       "      <td>2016-03-29 11:48:26</td>\n",
       "    </tr>\n",
       "    <tr>\n",
       "      <th>212563</th>\n",
       "      <td>2016-03-09 13:46:02</td>\n",
       "      <td>2850</td>\n",
       "      <td>wagon</td>\n",
       "      <td>2001</td>\n",
       "      <td>manual</td>\n",
       "      <td>131</td>\n",
       "      <td>passat</td>\n",
       "      <td>150000</td>\n",
       "      <td>9</td>\n",
       "      <td>gasoline</td>\n",
       "      <td>volkswagen</td>\n",
       "      <td>no</td>\n",
       "      <td>2016-03-09 00:00:00</td>\n",
       "      <td>0</td>\n",
       "      <td>38259</td>\n",
       "      <td>2016-03-12 11:16:57</td>\n",
       "    </tr>\n",
       "    <tr>\n",
       "      <th>109307</th>\n",
       "      <td>2016-03-30 11:39:47</td>\n",
       "      <td>50</td>\n",
       "      <td>small</td>\n",
       "      <td>1996</td>\n",
       "      <td>manual</td>\n",
       "      <td>60</td>\n",
       "      <td>corsa</td>\n",
       "      <td>150000</td>\n",
       "      <td>8</td>\n",
       "      <td>petrol</td>\n",
       "      <td>opel</td>\n",
       "      <td>yes</td>\n",
       "      <td>2016-03-30 00:00:00</td>\n",
       "      <td>0</td>\n",
       "      <td>7957</td>\n",
       "      <td>2016-04-03 00:46:29</td>\n",
       "    </tr>\n",
       "    <tr>\n",
       "      <th>248545</th>\n",
       "      <td>2016-03-28 23:37:54</td>\n",
       "      <td>500</td>\n",
       "      <td>NaN</td>\n",
       "      <td>2016</td>\n",
       "      <td>manual</td>\n",
       "      <td>82</td>\n",
       "      <td>a_klasse</td>\n",
       "      <td>150000</td>\n",
       "      <td>2</td>\n",
       "      <td>petrol</td>\n",
       "      <td>mercedes_benz</td>\n",
       "      <td>NaN</td>\n",
       "      <td>2016-03-28 00:00:00</td>\n",
       "      <td>0</td>\n",
       "      <td>49356</td>\n",
       "      <td>2016-03-30 23:17:28</td>\n",
       "    </tr>\n",
       "  </tbody>\n",
       "</table>\n",
       "</div>"
      ],
      "text/plain": [
       "                DateCrawled  Price VehicleType  RegistrationYear Gearbox  \\\n",
       "294049  2016-03-20 20:54:33  19999       wagon              2014  manual   \n",
       "76415   2016-03-25 12:56:02  14250       wagon              2011  manual   \n",
       "212563  2016-03-09 13:46:02   2850       wagon              2001  manual   \n",
       "109307  2016-03-30 11:39:47     50       small              1996  manual   \n",
       "248545  2016-03-28 23:37:54    500         NaN              2016  manual   \n",
       "\n",
       "        Power     Model  Kilometer  RegistrationMonth  FuelType  \\\n",
       "294049    122      leon      30000                  3    petrol   \n",
       "76415     140        a3      70000                  6  gasoline   \n",
       "212563    131    passat     150000                  9  gasoline   \n",
       "109307     60     corsa     150000                  8    petrol   \n",
       "248545     82  a_klasse     150000                  2    petrol   \n",
       "\n",
       "                Brand Repaired          DateCreated  NumberOfPictures  \\\n",
       "294049           seat       no  2016-03-20 00:00:00                 0   \n",
       "76415            audi      NaN  2016-03-25 00:00:00                 0   \n",
       "212563     volkswagen       no  2016-03-09 00:00:00                 0   \n",
       "109307           opel      yes  2016-03-30 00:00:00                 0   \n",
       "248545  mercedes_benz      NaN  2016-03-28 00:00:00                 0   \n",
       "\n",
       "        PostalCode             LastSeen  \n",
       "294049       22089  2016-03-27 10:47:13  \n",
       "76415        45770  2016-03-29 11:48:26  \n",
       "212563       38259  2016-03-12 11:16:57  \n",
       "109307        7957  2016-04-03 00:46:29  \n",
       "248545       49356  2016-03-30 23:17:28  "
      ]
     },
     "metadata": {},
     "output_type": "display_data"
    },
    {
     "name": "stdout",
     "output_type": "stream",
     "text": [
      "<class 'pandas.core.frame.DataFrame'>\n",
      "RangeIndex: 354369 entries, 0 to 354368\n",
      "Data columns (total 16 columns):\n",
      " #   Column             Non-Null Count   Dtype \n",
      "---  ------             --------------   ----- \n",
      " 0   DateCrawled        354369 non-null  object\n",
      " 1   Price              354369 non-null  int64 \n",
      " 2   VehicleType        316879 non-null  object\n",
      " 3   RegistrationYear   354369 non-null  int64 \n",
      " 4   Gearbox            334536 non-null  object\n",
      " 5   Power              354369 non-null  int64 \n",
      " 6   Model              334664 non-null  object\n",
      " 7   Kilometer          354369 non-null  int64 \n",
      " 8   RegistrationMonth  354369 non-null  int64 \n",
      " 9   FuelType           321474 non-null  object\n",
      " 10  Brand              354369 non-null  object\n",
      " 11  Repaired           283215 non-null  object\n",
      " 12  DateCreated        354369 non-null  object\n",
      " 13  NumberOfPictures   354369 non-null  int64 \n",
      " 14  PostalCode         354369 non-null  int64 \n",
      " 15  LastSeen           354369 non-null  object\n",
      "dtypes: int64(7), object(9)\n",
      "memory usage: 43.3+ MB\n"
     ]
    }
   ],
   "source": [
    "# Изучим данные\n",
    "df = load_and_inspect_csv('/datasets/autos.csv')"
   ]
  },
  {
   "cell_type": "markdown",
   "metadata": {},
   "source": [
    "В данных 354 369 строк и 16 столбцов. Пропуски есть в `VehicleType`, `Gearbox`, `Model`, `FuelType`, `Repaired`. Некоторые числовые признаки требуют проверки на аномалии (`Power`, `NumberOfPictures`, `Price`). Временные признаки (`DateCrawled`, `DateCreated`, `LastSeen`) представлены как строки — их можно преобразовать в datetime или удалить."
   ]
  },
  {
   "cell_type": "markdown",
   "metadata": {},
   "source": [
    "Таким образом, мы загрузили и изучили наши данные."
   ]
  },
  {
   "cell_type": "markdown",
   "metadata": {},
   "source": [
    "## Предобработка данных"
   ]
  },
  {
   "cell_type": "markdown",
   "metadata": {},
   "source": [
    "### Отбор признаков"
   ]
  },
  {
   "cell_type": "markdown",
   "metadata": {},
   "source": [
    "Проверим, какие значения встречаются в `NumberOfPictures`."
   ]
  },
  {
   "cell_type": "code",
   "execution_count": 5,
   "metadata": {},
   "outputs": [
    {
     "data": {
      "text/plain": [
       "array([0])"
      ]
     },
     "execution_count": 5,
     "metadata": {},
     "output_type": "execute_result"
    }
   ],
   "source": [
    "df['NumberOfPictures'].unique()"
   ]
  },
  {
   "cell_type": "markdown",
   "metadata": {},
   "source": [
    "Уже на этом этапе можно обоснованно удалить несколько признаков, которые с высокой вероятностью не влияют на цену автомобиля и не принесут пользы модели:\n",
    "- `DateCrawled` – дата, когда объявление было скачано. Не имеет отношения к характеристикам автомобиля.\n",
    "- `DateCreated` – дата создания объявления. Аналогично, не влияет на цену машины.\n",
    "- `LastSeen` – дата последней активности пользователя. Бесполезна для прогноза цены.\n",
    "- `NumberOfPictures` – содержит только нули, можно удалить.\n",
    "- `PostalCode` – может косвенно отражать регион, но в текущем виде как числовой код — неинформативен. Без явного сопоставления с географией пользы не даст.\n",
    "\n",
    "**Вывод**: признаки `DateCrawled`, `DateCreated`, `LastSeen`, `NumberOfPictures`, `PostalCode` можно удалить сразу – это упростит дальнейшую работу и сократит время подготовки и анализа данных."
   ]
  },
  {
   "cell_type": "code",
   "execution_count": 6,
   "metadata": {},
   "outputs": [
    {
     "name": "stdout",
     "output_type": "stream",
     "text": [
      "<class 'pandas.core.frame.DataFrame'>\n",
      "RangeIndex: 354369 entries, 0 to 354368\n",
      "Data columns (total 11 columns):\n",
      " #   Column             Non-Null Count   Dtype \n",
      "---  ------             --------------   ----- \n",
      " 0   Price              354369 non-null  int64 \n",
      " 1   VehicleType        316879 non-null  object\n",
      " 2   RegistrationYear   354369 non-null  int64 \n",
      " 3   Gearbox            334536 non-null  object\n",
      " 4   Power              354369 non-null  int64 \n",
      " 5   Model              334664 non-null  object\n",
      " 6   Kilometer          354369 non-null  int64 \n",
      " 7   RegistrationMonth  354369 non-null  int64 \n",
      " 8   FuelType           321474 non-null  object\n",
      " 9   Brand              354369 non-null  object\n",
      " 10  Repaired           283215 non-null  object\n",
      "dtypes: int64(5), object(6)\n",
      "memory usage: 29.7+ MB\n"
     ]
    }
   ],
   "source": [
    "# Удаляем неинформативные признаки\n",
    "df = df.drop(['DateCrawled', 'DateCreated', 'LastSeen', 'NumberOfPictures', 'PostalCode'], axis=1)\n",
    "\n",
    "# Проверка\n",
    "df.info()"
   ]
  },
  {
   "cell_type": "markdown",
   "metadata": {},
   "source": [
    "### Работа с пропусками"
   ]
  },
  {
   "cell_type": "code",
   "execution_count": 7,
   "metadata": {},
   "outputs": [],
   "source": [
    "# Определяет пропущенные значения\n",
    "def analyze_missing_values(df):\n",
    "    total = len(df)\n",
    "    missing_counts = df.isna().sum()\n",
    "    missing_percent = (missing_counts / total * 100).round(2)\n",
    "    \n",
    "    missing = pd.DataFrame({\n",
    "        'Пропущено': missing_counts,\n",
    "        '% от общего': missing_percent\n",
    "    })\n",
    "    missing = missing[missing['Пропущено'] > 0]\n",
    "    \n",
    "    if missing.empty:\n",
    "        print(\"Пропущенные значения отсутствуют.\")\n",
    "    else:\n",
    "        print(\"Число пропусков по столбцам:\")\n",
    "        display(missing)"
   ]
  },
  {
   "cell_type": "code",
   "execution_count": 8,
   "metadata": {},
   "outputs": [
    {
     "name": "stdout",
     "output_type": "stream",
     "text": [
      "Число пропусков по столбцам:\n"
     ]
    },
    {
     "data": {
      "text/html": [
       "<div>\n",
       "<style scoped>\n",
       "    .dataframe tbody tr th:only-of-type {\n",
       "        vertical-align: middle;\n",
       "    }\n",
       "\n",
       "    .dataframe tbody tr th {\n",
       "        vertical-align: top;\n",
       "    }\n",
       "\n",
       "    .dataframe thead th {\n",
       "        text-align: right;\n",
       "    }\n",
       "</style>\n",
       "<table border=\"1\" class=\"dataframe\">\n",
       "  <thead>\n",
       "    <tr style=\"text-align: right;\">\n",
       "      <th></th>\n",
       "      <th>Пропущено</th>\n",
       "      <th>% от общего</th>\n",
       "    </tr>\n",
       "  </thead>\n",
       "  <tbody>\n",
       "    <tr>\n",
       "      <th>VehicleType</th>\n",
       "      <td>37490</td>\n",
       "      <td>10.58</td>\n",
       "    </tr>\n",
       "    <tr>\n",
       "      <th>Gearbox</th>\n",
       "      <td>19833</td>\n",
       "      <td>5.60</td>\n",
       "    </tr>\n",
       "    <tr>\n",
       "      <th>Model</th>\n",
       "      <td>19705</td>\n",
       "      <td>5.56</td>\n",
       "    </tr>\n",
       "    <tr>\n",
       "      <th>FuelType</th>\n",
       "      <td>32895</td>\n",
       "      <td>9.28</td>\n",
       "    </tr>\n",
       "    <tr>\n",
       "      <th>Repaired</th>\n",
       "      <td>71154</td>\n",
       "      <td>20.08</td>\n",
       "    </tr>\n",
       "  </tbody>\n",
       "</table>\n",
       "</div>"
      ],
      "text/plain": [
       "             Пропущено  % от общего\n",
       "VehicleType      37490        10.58\n",
       "Gearbox          19833         5.60\n",
       "Model            19705         5.56\n",
       "FuelType         32895         9.28\n",
       "Repaired         71154        20.08"
      ]
     },
     "metadata": {},
     "output_type": "display_data"
    }
   ],
   "source": [
    "analyze_missing_values(df)"
   ]
  },
  {
   "cell_type": "markdown",
   "metadata": {},
   "source": [
    "Все пропуски можно заменить на заглушку `unknown`, так как удаление строк приведёт к весомой потере данных, а заполнение пропусков, например, модой может привести у искажению распределений. Поскольку по смыслу признаки должны влиять на цену автомобиля, лучше остановиться на варианте с заглушкой. "
   ]
  },
  {
   "cell_type": "code",
   "execution_count": 9,
   "metadata": {},
   "outputs": [
    {
     "name": "stdout",
     "output_type": "stream",
     "text": [
      "Пропущенные значения отсутствуют.\n"
     ]
    }
   ],
   "source": [
    "# Заполнение\n",
    "columns_to_fill = ['VehicleType', 'Gearbox', 'Model', 'FuelType', 'Repaired']\n",
    "df[columns_to_fill] = df[columns_to_fill].fillna('unknown')\n",
    "\n",
    "# Проверка\n",
    "analyze_missing_values(df)"
   ]
  },
  {
   "cell_type": "markdown",
   "metadata": {},
   "source": [
    "### Работа с дубликатами"
   ]
  },
  {
   "cell_type": "code",
   "execution_count": 10,
   "metadata": {},
   "outputs": [],
   "source": [
    "def analyze_duplicates(df, subset=None):\n",
    "    # Маска дубликатов (все, кроме первого вхождения)\n",
    "    duplicate_mask = df.duplicated(subset=subset, keep='first')\n",
    "    \n",
    "    if not duplicate_mask.any():\n",
    "        print(\"Дубликаты отсутствуют.\")\n",
    "        return\n",
    "    \n",
    "    col_info = f\"по столбцам: {subset}\" if subset else \"по всем столбцам\"\n",
    "    print(f\"Найдено дубликатов ({col_info}): {duplicate_mask.sum()}\")\n",
    "\n",
    "    # Получаем все строки-дубликаты и их первые оригиналы\n",
    "    duplicates = df[duplicate_mask]\n",
    "    first_occurrences = df[df.duplicated(subset=subset, keep='last')]\n",
    "\n",
    "    # Объединяем для сравнения\n",
    "    combined = pd.concat([first_occurrences, duplicates]).sort_index()\n",
    "    \n",
    "    display(combined)"
   ]
  },
  {
   "cell_type": "code",
   "execution_count": 11,
   "metadata": {},
   "outputs": [
    {
     "name": "stdout",
     "output_type": "stream",
     "text": [
      "Найдено дубликатов (по всем столбцам): 27543\n"
     ]
    },
    {
     "data": {
      "text/html": [
       "<div>\n",
       "<style scoped>\n",
       "    .dataframe tbody tr th:only-of-type {\n",
       "        vertical-align: middle;\n",
       "    }\n",
       "\n",
       "    .dataframe tbody tr th {\n",
       "        vertical-align: top;\n",
       "    }\n",
       "\n",
       "    .dataframe thead th {\n",
       "        text-align: right;\n",
       "    }\n",
       "</style>\n",
       "<table border=\"1\" class=\"dataframe\">\n",
       "  <thead>\n",
       "    <tr style=\"text-align: right;\">\n",
       "      <th></th>\n",
       "      <th>Price</th>\n",
       "      <th>VehicleType</th>\n",
       "      <th>RegistrationYear</th>\n",
       "      <th>Gearbox</th>\n",
       "      <th>Power</th>\n",
       "      <th>Model</th>\n",
       "      <th>Kilometer</th>\n",
       "      <th>RegistrationMonth</th>\n",
       "      <th>FuelType</th>\n",
       "      <th>Brand</th>\n",
       "      <th>Repaired</th>\n",
       "    </tr>\n",
       "  </thead>\n",
       "  <tbody>\n",
       "    <tr>\n",
       "      <th>14</th>\n",
       "      <td>17999</td>\n",
       "      <td>suv</td>\n",
       "      <td>2011</td>\n",
       "      <td>manual</td>\n",
       "      <td>190</td>\n",
       "      <td>navara</td>\n",
       "      <td>70000</td>\n",
       "      <td>3</td>\n",
       "      <td>gasoline</td>\n",
       "      <td>nissan</td>\n",
       "      <td>no</td>\n",
       "    </tr>\n",
       "    <tr>\n",
       "      <th>20</th>\n",
       "      <td>10400</td>\n",
       "      <td>coupe</td>\n",
       "      <td>2009</td>\n",
       "      <td>manual</td>\n",
       "      <td>160</td>\n",
       "      <td>scirocco</td>\n",
       "      <td>100000</td>\n",
       "      <td>4</td>\n",
       "      <td>petrol</td>\n",
       "      <td>volkswagen</td>\n",
       "      <td>no</td>\n",
       "    </tr>\n",
       "    <tr>\n",
       "      <th>27</th>\n",
       "      <td>6900</td>\n",
       "      <td>sedan</td>\n",
       "      <td>2008</td>\n",
       "      <td>manual</td>\n",
       "      <td>99</td>\n",
       "      <td>civic</td>\n",
       "      <td>60000</td>\n",
       "      <td>11</td>\n",
       "      <td>petrol</td>\n",
       "      <td>honda</td>\n",
       "      <td>no</td>\n",
       "    </tr>\n",
       "    <tr>\n",
       "      <th>47</th>\n",
       "      <td>2100</td>\n",
       "      <td>wagon</td>\n",
       "      <td>1998</td>\n",
       "      <td>auto</td>\n",
       "      <td>193</td>\n",
       "      <td>5er</td>\n",
       "      <td>150000</td>\n",
       "      <td>2</td>\n",
       "      <td>petrol</td>\n",
       "      <td>bmw</td>\n",
       "      <td>no</td>\n",
       "    </tr>\n",
       "    <tr>\n",
       "      <th>64</th>\n",
       "      <td>14999</td>\n",
       "      <td>convertible</td>\n",
       "      <td>2007</td>\n",
       "      <td>manual</td>\n",
       "      <td>218</td>\n",
       "      <td>3er</td>\n",
       "      <td>50000</td>\n",
       "      <td>8</td>\n",
       "      <td>petrol</td>\n",
       "      <td>bmw</td>\n",
       "      <td>no</td>\n",
       "    </tr>\n",
       "    <tr>\n",
       "      <th>...</th>\n",
       "      <td>...</td>\n",
       "      <td>...</td>\n",
       "      <td>...</td>\n",
       "      <td>...</td>\n",
       "      <td>...</td>\n",
       "      <td>...</td>\n",
       "      <td>...</td>\n",
       "      <td>...</td>\n",
       "      <td>...</td>\n",
       "      <td>...</td>\n",
       "      <td>...</td>\n",
       "    </tr>\n",
       "    <tr>\n",
       "      <th>354336</th>\n",
       "      <td>3299</td>\n",
       "      <td>unknown</td>\n",
       "      <td>2005</td>\n",
       "      <td>auto</td>\n",
       "      <td>0</td>\n",
       "      <td>outlander</td>\n",
       "      <td>150000</td>\n",
       "      <td>4</td>\n",
       "      <td>petrol</td>\n",
       "      <td>mitsubishi</td>\n",
       "      <td>unknown</td>\n",
       "    </tr>\n",
       "    <tr>\n",
       "      <th>354337</th>\n",
       "      <td>11500</td>\n",
       "      <td>sedan</td>\n",
       "      <td>2004</td>\n",
       "      <td>auto</td>\n",
       "      <td>445</td>\n",
       "      <td>7er</td>\n",
       "      <td>125000</td>\n",
       "      <td>0</td>\n",
       "      <td>petrol</td>\n",
       "      <td>bmw</td>\n",
       "      <td>unknown</td>\n",
       "    </tr>\n",
       "    <tr>\n",
       "      <th>354352</th>\n",
       "      <td>6500</td>\n",
       "      <td>sedan</td>\n",
       "      <td>2003</td>\n",
       "      <td>auto</td>\n",
       "      <td>145</td>\n",
       "      <td>e_klasse</td>\n",
       "      <td>150000</td>\n",
       "      <td>3</td>\n",
       "      <td>gasoline</td>\n",
       "      <td>mercedes_benz</td>\n",
       "      <td>no</td>\n",
       "    </tr>\n",
       "    <tr>\n",
       "      <th>354355</th>\n",
       "      <td>4400</td>\n",
       "      <td>sedan</td>\n",
       "      <td>2008</td>\n",
       "      <td>manual</td>\n",
       "      <td>105</td>\n",
       "      <td>leon</td>\n",
       "      <td>150000</td>\n",
       "      <td>7</td>\n",
       "      <td>gasoline</td>\n",
       "      <td>seat</td>\n",
       "      <td>no</td>\n",
       "    </tr>\n",
       "    <tr>\n",
       "      <th>354363</th>\n",
       "      <td>1150</td>\n",
       "      <td>bus</td>\n",
       "      <td>2000</td>\n",
       "      <td>manual</td>\n",
       "      <td>0</td>\n",
       "      <td>zafira</td>\n",
       "      <td>150000</td>\n",
       "      <td>3</td>\n",
       "      <td>petrol</td>\n",
       "      <td>opel</td>\n",
       "      <td>no</td>\n",
       "    </tr>\n",
       "  </tbody>\n",
       "</table>\n",
       "<p>55086 rows × 11 columns</p>\n",
       "</div>"
      ],
      "text/plain": [
       "        Price  VehicleType  RegistrationYear Gearbox  Power      Model  \\\n",
       "14      17999          suv              2011  manual    190     navara   \n",
       "20      10400        coupe              2009  manual    160   scirocco   \n",
       "27       6900        sedan              2008  manual     99      civic   \n",
       "47       2100        wagon              1998    auto    193        5er   \n",
       "64      14999  convertible              2007  manual    218        3er   \n",
       "...       ...          ...               ...     ...    ...        ...   \n",
       "354336   3299      unknown              2005    auto      0  outlander   \n",
       "354337  11500        sedan              2004    auto    445        7er   \n",
       "354352   6500        sedan              2003    auto    145   e_klasse   \n",
       "354355   4400        sedan              2008  manual    105       leon   \n",
       "354363   1150          bus              2000  manual      0     zafira   \n",
       "\n",
       "        Kilometer  RegistrationMonth  FuelType          Brand Repaired  \n",
       "14          70000                  3  gasoline         nissan       no  \n",
       "20         100000                  4    petrol     volkswagen       no  \n",
       "27          60000                 11    petrol          honda       no  \n",
       "47         150000                  2    petrol            bmw       no  \n",
       "64          50000                  8    petrol            bmw       no  \n",
       "...           ...                ...       ...            ...      ...  \n",
       "354336     150000                  4    petrol     mitsubishi  unknown  \n",
       "354337     125000                  0    petrol            bmw  unknown  \n",
       "354352     150000                  3  gasoline  mercedes_benz       no  \n",
       "354355     150000                  7  gasoline           seat       no  \n",
       "354363     150000                  3    petrol           opel       no  \n",
       "\n",
       "[55086 rows x 11 columns]"
      ]
     },
     "metadata": {},
     "output_type": "display_data"
    }
   ],
   "source": [
    "analyze_duplicates(df)"
   ]
  },
  {
   "cell_type": "markdown",
   "metadata": {},
   "source": [
    "Полных дублей получилось достаточно много. Такое количество может возникнуть, если в базе просто несколько одинаковых анкет с одинаковыми ценами. В реальных данных по объявлениям это не редкость (например, перекупы копируют объявления, либо объявления обновляются без изменений).\n",
    "\n",
    "Необходимо проверить дубликаты без учёта цены. Если при этом дубликатов станет существенно больше — значит, были объявления с разными ценами при одинаковых характеристиках."
   ]
  },
  {
   "cell_type": "code",
   "execution_count": 12,
   "metadata": {},
   "outputs": [
    {
     "name": "stdout",
     "output_type": "stream",
     "text": [
      "Найдено дубликатов (по столбцам: ['VehicleType', 'RegistrationYear', 'Gearbox', 'Power', 'Model', 'Kilometer', 'RegistrationMonth', 'FuelType', 'Brand', 'Repaired']): 95679\n"
     ]
    },
    {
     "data": {
      "text/html": [
       "<div>\n",
       "<style scoped>\n",
       "    .dataframe tbody tr th:only-of-type {\n",
       "        vertical-align: middle;\n",
       "    }\n",
       "\n",
       "    .dataframe tbody tr th {\n",
       "        vertical-align: top;\n",
       "    }\n",
       "\n",
       "    .dataframe thead th {\n",
       "        text-align: right;\n",
       "    }\n",
       "</style>\n",
       "<table border=\"1\" class=\"dataframe\">\n",
       "  <thead>\n",
       "    <tr style=\"text-align: right;\">\n",
       "      <th></th>\n",
       "      <th>Price</th>\n",
       "      <th>VehicleType</th>\n",
       "      <th>RegistrationYear</th>\n",
       "      <th>Gearbox</th>\n",
       "      <th>Power</th>\n",
       "      <th>Model</th>\n",
       "      <th>Kilometer</th>\n",
       "      <th>RegistrationMonth</th>\n",
       "      <th>FuelType</th>\n",
       "      <th>Brand</th>\n",
       "      <th>Repaired</th>\n",
       "    </tr>\n",
       "  </thead>\n",
       "  <tbody>\n",
       "    <tr>\n",
       "      <th>3</th>\n",
       "      <td>1500</td>\n",
       "      <td>small</td>\n",
       "      <td>2001</td>\n",
       "      <td>manual</td>\n",
       "      <td>75</td>\n",
       "      <td>golf</td>\n",
       "      <td>150000</td>\n",
       "      <td>6</td>\n",
       "      <td>petrol</td>\n",
       "      <td>volkswagen</td>\n",
       "      <td>no</td>\n",
       "    </tr>\n",
       "    <tr>\n",
       "      <th>5</th>\n",
       "      <td>650</td>\n",
       "      <td>sedan</td>\n",
       "      <td>1995</td>\n",
       "      <td>manual</td>\n",
       "      <td>102</td>\n",
       "      <td>3er</td>\n",
       "      <td>150000</td>\n",
       "      <td>10</td>\n",
       "      <td>petrol</td>\n",
       "      <td>bmw</td>\n",
       "      <td>yes</td>\n",
       "    </tr>\n",
       "    <tr>\n",
       "      <th>6</th>\n",
       "      <td>2200</td>\n",
       "      <td>convertible</td>\n",
       "      <td>2004</td>\n",
       "      <td>manual</td>\n",
       "      <td>109</td>\n",
       "      <td>2_reihe</td>\n",
       "      <td>150000</td>\n",
       "      <td>8</td>\n",
       "      <td>petrol</td>\n",
       "      <td>peugeot</td>\n",
       "      <td>no</td>\n",
       "    </tr>\n",
       "    <tr>\n",
       "      <th>11</th>\n",
       "      <td>2799</td>\n",
       "      <td>wagon</td>\n",
       "      <td>2005</td>\n",
       "      <td>manual</td>\n",
       "      <td>140</td>\n",
       "      <td>passat</td>\n",
       "      <td>150000</td>\n",
       "      <td>12</td>\n",
       "      <td>gasoline</td>\n",
       "      <td>volkswagen</td>\n",
       "      <td>yes</td>\n",
       "    </tr>\n",
       "    <tr>\n",
       "      <th>14</th>\n",
       "      <td>17999</td>\n",
       "      <td>suv</td>\n",
       "      <td>2011</td>\n",
       "      <td>manual</td>\n",
       "      <td>190</td>\n",
       "      <td>navara</td>\n",
       "      <td>70000</td>\n",
       "      <td>3</td>\n",
       "      <td>gasoline</td>\n",
       "      <td>nissan</td>\n",
       "      <td>no</td>\n",
       "    </tr>\n",
       "    <tr>\n",
       "      <th>...</th>\n",
       "      <td>...</td>\n",
       "      <td>...</td>\n",
       "      <td>...</td>\n",
       "      <td>...</td>\n",
       "      <td>...</td>\n",
       "      <td>...</td>\n",
       "      <td>...</td>\n",
       "      <td>...</td>\n",
       "      <td>...</td>\n",
       "      <td>...</td>\n",
       "      <td>...</td>\n",
       "    </tr>\n",
       "    <tr>\n",
       "      <th>354355</th>\n",
       "      <td>4400</td>\n",
       "      <td>sedan</td>\n",
       "      <td>2008</td>\n",
       "      <td>manual</td>\n",
       "      <td>105</td>\n",
       "      <td>leon</td>\n",
       "      <td>150000</td>\n",
       "      <td>7</td>\n",
       "      <td>gasoline</td>\n",
       "      <td>seat</td>\n",
       "      <td>no</td>\n",
       "    </tr>\n",
       "    <tr>\n",
       "      <th>354358</th>\n",
       "      <td>1490</td>\n",
       "      <td>small</td>\n",
       "      <td>1998</td>\n",
       "      <td>manual</td>\n",
       "      <td>50</td>\n",
       "      <td>lupo</td>\n",
       "      <td>150000</td>\n",
       "      <td>9</td>\n",
       "      <td>petrol</td>\n",
       "      <td>volkswagen</td>\n",
       "      <td>no</td>\n",
       "    </tr>\n",
       "    <tr>\n",
       "      <th>354363</th>\n",
       "      <td>1150</td>\n",
       "      <td>bus</td>\n",
       "      <td>2000</td>\n",
       "      <td>manual</td>\n",
       "      <td>0</td>\n",
       "      <td>zafira</td>\n",
       "      <td>150000</td>\n",
       "      <td>3</td>\n",
       "      <td>petrol</td>\n",
       "      <td>opel</td>\n",
       "      <td>no</td>\n",
       "    </tr>\n",
       "    <tr>\n",
       "      <th>354365</th>\n",
       "      <td>2200</td>\n",
       "      <td>unknown</td>\n",
       "      <td>2005</td>\n",
       "      <td>unknown</td>\n",
       "      <td>0</td>\n",
       "      <td>unknown</td>\n",
       "      <td>20000</td>\n",
       "      <td>1</td>\n",
       "      <td>unknown</td>\n",
       "      <td>sonstige_autos</td>\n",
       "      <td>unknown</td>\n",
       "    </tr>\n",
       "    <tr>\n",
       "      <th>354367</th>\n",
       "      <td>9200</td>\n",
       "      <td>bus</td>\n",
       "      <td>1996</td>\n",
       "      <td>manual</td>\n",
       "      <td>102</td>\n",
       "      <td>transporter</td>\n",
       "      <td>150000</td>\n",
       "      <td>3</td>\n",
       "      <td>gasoline</td>\n",
       "      <td>volkswagen</td>\n",
       "      <td>no</td>\n",
       "    </tr>\n",
       "  </tbody>\n",
       "</table>\n",
       "<p>191358 rows × 11 columns</p>\n",
       "</div>"
      ],
      "text/plain": [
       "        Price  VehicleType  RegistrationYear  Gearbox  Power        Model  \\\n",
       "3        1500        small              2001   manual     75         golf   \n",
       "5         650        sedan              1995   manual    102          3er   \n",
       "6        2200  convertible              2004   manual    109      2_reihe   \n",
       "11       2799        wagon              2005   manual    140       passat   \n",
       "14      17999          suv              2011   manual    190       navara   \n",
       "...       ...          ...               ...      ...    ...          ...   \n",
       "354355   4400        sedan              2008   manual    105         leon   \n",
       "354358   1490        small              1998   manual     50         lupo   \n",
       "354363   1150          bus              2000   manual      0       zafira   \n",
       "354365   2200      unknown              2005  unknown      0      unknown   \n",
       "354367   9200          bus              1996   manual    102  transporter   \n",
       "\n",
       "        Kilometer  RegistrationMonth  FuelType           Brand Repaired  \n",
       "3          150000                  6    petrol      volkswagen       no  \n",
       "5          150000                 10    petrol             bmw      yes  \n",
       "6          150000                  8    petrol         peugeot       no  \n",
       "11         150000                 12  gasoline      volkswagen      yes  \n",
       "14          70000                  3  gasoline          nissan       no  \n",
       "...           ...                ...       ...             ...      ...  \n",
       "354355     150000                  7  gasoline            seat       no  \n",
       "354358     150000                  9    petrol      volkswagen       no  \n",
       "354363     150000                  3    petrol            opel       no  \n",
       "354365      20000                  1   unknown  sonstige_autos  unknown  \n",
       "354367     150000                  3  gasoline      volkswagen       no  \n",
       "\n",
       "[191358 rows x 11 columns]"
      ]
     },
     "metadata": {},
     "output_type": "display_data"
    }
   ],
   "source": [
    "analyze_duplicates(df, subset=[col for col in df.columns if col != 'Price'])"
   ]
  },
  {
   "cell_type": "markdown",
   "metadata": {},
   "source": [
    "Почти 96 тысяч строк имеют идентичные характеристики, но различаются ценой. То есть данные не дублированы «по смыслу», а просто отражают то, что одинаковые автомобили могут продаваться по разной цене.\n",
    "\n",
    "Таким образом, можно сделать два замечания:\n",
    "- Такие \"дубликаты по признакам\" полезны для обучения: модель будет видеть, что при одинаковых параметрах цена может варьироваться, и научится учитывать разброс.\n",
    "- Удаление таких строк приведёт к потере полезной информации и потенциально ухудшит качество модели.\n",
    "\n",
    "Как решение - удалим только точные дубликаты по всем признакам (включая цену), т.к. это технические копии."
   ]
  },
  {
   "cell_type": "code",
   "execution_count": 13,
   "metadata": {},
   "outputs": [
    {
     "name": "stdout",
     "output_type": "stream",
     "text": [
      "Дубликаты отсутствуют.\n"
     ]
    }
   ],
   "source": [
    "# Удаляем только абсолютные дубликаты\n",
    "df = df.drop_duplicates()\n",
    "\n",
    "# Проверка\n",
    "analyze_duplicates(df)"
   ]
  },
  {
   "cell_type": "markdown",
   "metadata": {},
   "source": [
    "Таким образом, мы выполнили предобработку данных:\n",
    "- исключили неинформативные признаки;\n",
    "- обработали пропуски - заполнили заглушкой;\n",
    "- удалили точные копии."
   ]
  },
  {
   "cell_type": "markdown",
   "metadata": {},
   "source": [
    "## Исследовательский анализ данных"
   ]
  },
  {
   "cell_type": "markdown",
   "metadata": {},
   "source": [
    "### Распределения признаков"
   ]
  },
  {
   "cell_type": "markdown",
   "metadata": {},
   "source": [
    "Проведем EDA - исследуем все признаки и сделаем выводы о том, как их нужно подготовить."
   ]
  },
  {
   "cell_type": "code",
   "execution_count": 14,
   "metadata": {},
   "outputs": [],
   "source": [
    "def explore_dataframe(df, name):\n",
    "    print(f'--- Анализ таблицы: {name} ---\\n')\n",
    "\n",
    "    df = df.drop(columns=['id'], errors='ignore')\n",
    "\n",
    "    numeric_cols = df.select_dtypes(include=['int64', 'float64']).columns.tolist()\n",
    "    categorical_cols = df.select_dtypes(include=['object', 'category']).columns.tolist()\n",
    "\n",
    "    discrete_cols = [\n",
    "        col for col in numeric_cols\n",
    "        if pd.api.types.is_integer_dtype(df[col]) and df[col].nunique() <= 50\n",
    "    ]\n",
    "    continuous_cols = [col for col in numeric_cols if col not in discrete_cols]\n",
    "\n",
    "    print('Числовые признаки:\\n')\n",
    "    display(df[numeric_cols].describe().T)\n",
    "    print()\n",
    "\n",
    "    if categorical_cols:\n",
    "        print('Категориальные признаки:\\n')\n",
    "        cat_stats = []\n",
    "        for col in categorical_cols:\n",
    "            mode_val = df[col].mode()[0] if not df[col].mode().empty else None\n",
    "            cat_stats.append({\n",
    "                'Признак': col,\n",
    "                'Уникальных значений': df[col].nunique(),\n",
    "                'Мода': mode_val\n",
    "            })\n",
    "        display(pd.DataFrame(cat_stats))\n",
    "        print()\n",
    "\n",
    "    def plot_distributions(cols, plot_type, title):\n",
    "        n = len(cols)\n",
    "        cols_per_row = 2\n",
    "        rows = (n + cols_per_row - 1) // cols_per_row\n",
    "        fig, axes = plt.subplots(rows, cols_per_row, figsize=(14, 5 * rows))\n",
    "        axes = axes.flatten()\n",
    "\n",
    "        for i, col in enumerate(cols):\n",
    "            if plot_type == 'numeric':\n",
    "                sns.histplot(df[col], kde=True, ax=axes[i])\n",
    "            else:\n",
    "                counts = df[col].value_counts().sort_values(ascending=False)\n",
    "                if len(counts) > 13:\n",
    "                    counts = counts.head(12)\n",
    "                sns.barplot(x=counts.index.astype(str), y=counts.values, ax=axes[i])\n",
    "                axes[i].tick_params(axis='x', rotation=45)\n",
    "            axes[i].set_title(col)\n",
    "\n",
    "        for j in range(i + 1, len(axes)):\n",
    "            fig.delaxes(axes[j])\n",
    "\n",
    "        fig.suptitle(f'{title} ({name})', fontsize=16, y=1.02)\n",
    "        plt.tight_layout()\n",
    "        plt.show()\n",
    "\n",
    "    if continuous_cols:\n",
    "        plot_distributions(continuous_cols, 'numeric', 'Распределение непрерывных числовых признаков')\n",
    "\n",
    "    if discrete_cols or categorical_cols:\n",
    "        plot_distributions(discrete_cols + categorical_cols, 'categorical', 'Распределение дискретных и категориальных признаков')"
   ]
  },
  {
   "cell_type": "code",
   "execution_count": 15,
   "metadata": {
    "scrolled": false
   },
   "outputs": [
    {
     "name": "stdout",
     "output_type": "stream",
     "text": [
      "--- Анализ таблицы: Данные до обработки аномалий ---\n",
      "\n",
      "Числовые признаки:\n",
      "\n"
     ]
    },
    {
     "data": {
      "text/html": [
       "<div>\n",
       "<style scoped>\n",
       "    .dataframe tbody tr th:only-of-type {\n",
       "        vertical-align: middle;\n",
       "    }\n",
       "\n",
       "    .dataframe tbody tr th {\n",
       "        vertical-align: top;\n",
       "    }\n",
       "\n",
       "    .dataframe thead th {\n",
       "        text-align: right;\n",
       "    }\n",
       "</style>\n",
       "<table border=\"1\" class=\"dataframe\">\n",
       "  <thead>\n",
       "    <tr style=\"text-align: right;\">\n",
       "      <th></th>\n",
       "      <th>count</th>\n",
       "      <th>mean</th>\n",
       "      <th>std</th>\n",
       "      <th>min</th>\n",
       "      <th>25%</th>\n",
       "      <th>50%</th>\n",
       "      <th>75%</th>\n",
       "      <th>max</th>\n",
       "    </tr>\n",
       "  </thead>\n",
       "  <tbody>\n",
       "    <tr>\n",
       "      <th>Price</th>\n",
       "      <td>326826.0</td>\n",
       "      <td>4403.747330</td>\n",
       "      <td>4518.209808</td>\n",
       "      <td>0.0</td>\n",
       "      <td>1000.0</td>\n",
       "      <td>2700.0</td>\n",
       "      <td>6350.0</td>\n",
       "      <td>20000.0</td>\n",
       "    </tr>\n",
       "    <tr>\n",
       "      <th>RegistrationYear</th>\n",
       "      <td>326826.0</td>\n",
       "      <td>2004.230985</td>\n",
       "      <td>91.120018</td>\n",
       "      <td>1000.0</td>\n",
       "      <td>1999.0</td>\n",
       "      <td>2003.0</td>\n",
       "      <td>2008.0</td>\n",
       "      <td>9999.0</td>\n",
       "    </tr>\n",
       "    <tr>\n",
       "      <th>Power</th>\n",
       "      <td>326826.0</td>\n",
       "      <td>110.244705</td>\n",
       "      <td>195.886373</td>\n",
       "      <td>0.0</td>\n",
       "      <td>69.0</td>\n",
       "      <td>105.0</td>\n",
       "      <td>141.0</td>\n",
       "      <td>20000.0</td>\n",
       "    </tr>\n",
       "    <tr>\n",
       "      <th>Kilometer</th>\n",
       "      <td>326826.0</td>\n",
       "      <td>128144.073605</td>\n",
       "      <td>37947.663920</td>\n",
       "      <td>5000.0</td>\n",
       "      <td>125000.0</td>\n",
       "      <td>150000.0</td>\n",
       "      <td>150000.0</td>\n",
       "      <td>150000.0</td>\n",
       "    </tr>\n",
       "    <tr>\n",
       "      <th>RegistrationMonth</th>\n",
       "      <td>326826.0</td>\n",
       "      <td>5.696239</td>\n",
       "      <td>3.724122</td>\n",
       "      <td>0.0</td>\n",
       "      <td>3.0</td>\n",
       "      <td>6.0</td>\n",
       "      <td>9.0</td>\n",
       "      <td>12.0</td>\n",
       "    </tr>\n",
       "  </tbody>\n",
       "</table>\n",
       "</div>"
      ],
      "text/plain": [
       "                      count           mean           std     min       25%  \\\n",
       "Price              326826.0    4403.747330   4518.209808     0.0    1000.0   \n",
       "RegistrationYear   326826.0    2004.230985     91.120018  1000.0    1999.0   \n",
       "Power              326826.0     110.244705    195.886373     0.0      69.0   \n",
       "Kilometer          326826.0  128144.073605  37947.663920  5000.0  125000.0   \n",
       "RegistrationMonth  326826.0       5.696239      3.724122     0.0       3.0   \n",
       "\n",
       "                        50%       75%       max  \n",
       "Price                2700.0    6350.0   20000.0  \n",
       "RegistrationYear     2003.0    2008.0    9999.0  \n",
       "Power                 105.0     141.0   20000.0  \n",
       "Kilometer          150000.0  150000.0  150000.0  \n",
       "RegistrationMonth       6.0       9.0      12.0  "
      ]
     },
     "metadata": {},
     "output_type": "display_data"
    },
    {
     "name": "stdout",
     "output_type": "stream",
     "text": [
      "\n",
      "Категориальные признаки:\n",
      "\n"
     ]
    },
    {
     "data": {
      "text/html": [
       "<div>\n",
       "<style scoped>\n",
       "    .dataframe tbody tr th:only-of-type {\n",
       "        vertical-align: middle;\n",
       "    }\n",
       "\n",
       "    .dataframe tbody tr th {\n",
       "        vertical-align: top;\n",
       "    }\n",
       "\n",
       "    .dataframe thead th {\n",
       "        text-align: right;\n",
       "    }\n",
       "</style>\n",
       "<table border=\"1\" class=\"dataframe\">\n",
       "  <thead>\n",
       "    <tr style=\"text-align: right;\">\n",
       "      <th></th>\n",
       "      <th>Признак</th>\n",
       "      <th>Уникальных значений</th>\n",
       "      <th>Мода</th>\n",
       "    </tr>\n",
       "  </thead>\n",
       "  <tbody>\n",
       "    <tr>\n",
       "      <th>0</th>\n",
       "      <td>VehicleType</td>\n",
       "      <td>9</td>\n",
       "      <td>sedan</td>\n",
       "    </tr>\n",
       "    <tr>\n",
       "      <th>1</th>\n",
       "      <td>Gearbox</td>\n",
       "      <td>3</td>\n",
       "      <td>manual</td>\n",
       "    </tr>\n",
       "    <tr>\n",
       "      <th>2</th>\n",
       "      <td>Model</td>\n",
       "      <td>251</td>\n",
       "      <td>golf</td>\n",
       "    </tr>\n",
       "    <tr>\n",
       "      <th>3</th>\n",
       "      <td>FuelType</td>\n",
       "      <td>8</td>\n",
       "      <td>petrol</td>\n",
       "    </tr>\n",
       "    <tr>\n",
       "      <th>4</th>\n",
       "      <td>Brand</td>\n",
       "      <td>40</td>\n",
       "      <td>volkswagen</td>\n",
       "    </tr>\n",
       "    <tr>\n",
       "      <th>5</th>\n",
       "      <td>Repaired</td>\n",
       "      <td>3</td>\n",
       "      <td>no</td>\n",
       "    </tr>\n",
       "  </tbody>\n",
       "</table>\n",
       "</div>"
      ],
      "text/plain": [
       "       Признак  Уникальных значений        Мода\n",
       "0  VehicleType                    9       sedan\n",
       "1      Gearbox                    3      manual\n",
       "2        Model                  251        golf\n",
       "3     FuelType                    8      petrol\n",
       "4        Brand                   40  volkswagen\n",
       "5     Repaired                    3          no"
      ]
     },
     "metadata": {},
     "output_type": "display_data"
    },
    {
     "name": "stdout",
     "output_type": "stream",
     "text": [
      "\n"
     ]
    },
    {
     "data": {
      "image/png": "[encoded data removed]",
      "text/plain": [
       "<Figure size 1008x720 with 3 Axes>"
      ]
     },
     "metadata": {},
     "output_type": "display_data"
    },
    {
     "data": {
      "image/png": "[encoded data removed]",
      "text/plain": [
       "<Figure size 1008x1440 with 8 Axes>"
      ]
     },
     "metadata": {},
     "output_type": "display_data"
    }
   ],
   "source": [
    "explore_dataframe(df, 'Данные до обработки аномалий')"
   ]
  },
  {
   "cell_type": "markdown",
   "metadata": {},
   "source": [
    "**Явные проблемы:**\n",
    "\n",
    "Числовые признаки:\n",
    "- `RegistrationYear` и `Power` - необходимо обработать аномальные значения.\n",
    "- `Price` - минимальное значение `0`. Такие записи не несут полезной информации для обучения модели (и искажают среднее, RMSE и распределение), поэтому их лучше удалить.\n",
    "- `RegistrationMonth` - есть значение `0`. Скорее всего, в данных пропущенные месяцы были записаны как `0`. Можно заменить это значение на моду, либо оставить как есть. Лучше интерпретировать как «неизвестный месяц регистрации» и оставить без изменений.\n",
    "\n",
    "Категориальные:\n",
    "- `FuelType` - категории `other` и `unknown` дублируются по смыслу, можно их объединить. Значения `gasoline` и `petrol`, возмонжо, стоит объединить, нужно уточнять у заказчика. По смыслу это одно и то же.\n",
    "- `VehicleType` - аналогично, категории `other` и `unknown` дублируются по смыслу."
   ]
  },
  {
   "cell_type": "markdown",
   "metadata": {},
   "source": [
    "#### `RegistrationYear`"
   ]
  },
  {
   "cell_type": "code",
   "execution_count": 16,
   "metadata": {},
   "outputs": [],
   "source": [
    "# Ограничим для лучшей читаемости графика\n",
    "valid_year_min = 1900\n",
    "valid_year_max = 2025\n",
    "\n",
    "RegistrationYear_temp = df['RegistrationYear'].apply(\n",
    "    lambda x: x if valid_year_min <= x <= valid_year_max else np.nan\n",
    ")"
   ]
  },
  {
   "cell_type": "code",
   "execution_count": 17,
   "metadata": {},
   "outputs": [
    {
     "data": {
      "image/png": "[encoded data removed]",
      "text/plain": [
       "<Figure size 720x288 with 1 Axes>"
      ]
     },
     "metadata": {},
     "output_type": "display_data"
    }
   ],
   "source": [
    "plt.figure(figsize=(10, 4))\n",
    "sns.histplot(RegistrationYear_temp, bins=100, kde=False)\n",
    "plt.title(\"Распределение годов регистрации\")\n",
    "plt.xlabel(\"Год\")\n",
    "plt.ylabel(\"Количество\")\n",
    "plt.grid(True)\n",
    "plt.show()"
   ]
  },
  {
   "cell_type": "markdown",
   "metadata": {},
   "source": [
    "Оптимальный диапазон - 1980 ≤ `RegistrationYear` ≤ 2025. До 1980 плотность очень мала - это либо ретро, либо шум. После 2025 - заведомо ошибка, так как эти автомобили ещё не зарегистрированы. Пропуски можно сразу заменить на моду, чтобы не терять данные. "
   ]
  },
  {
   "cell_type": "code",
   "execution_count": 18,
   "metadata": {},
   "outputs": [],
   "source": [
    "# Фильтрация\n",
    "df['RegistrationYear'] = df['RegistrationYear'].apply(\n",
    "    lambda x: x if 1980 <= x <= 2025 else np.nan\n",
    ")\n",
    "\n",
    "# Замена пропусков модой\n",
    "year_mode = df['RegistrationYear'].mode()[0]\n",
    "df['RegistrationYear'] = df['RegistrationYear'].fillna(year_mode)\n",
    "\n",
    "# Привести RegistrationYear обратно к int\n",
    "df['RegistrationYear'] = df['RegistrationYear'].astype(int)"
   ]
  },
  {
   "cell_type": "markdown",
   "metadata": {},
   "source": [
    "#### `Power`"
   ]
  },
  {
   "cell_type": "markdown",
   "metadata": {},
   "source": [
    "Основная масса легковых авто лежит в диапазоне [50, 500] л.с. Можем установить интервал немного шире, учитывая редкие спорткары."
   ]
  },
  {
   "cell_type": "code",
   "execution_count": 19,
   "metadata": {},
   "outputs": [],
   "source": [
    "# Ограничим значения \n",
    "df['Power'] = df['Power'].apply(\n",
    "    lambda x: x if 50 <= x <= 800 else np.nan\n",
    ")\n",
    "\n",
    "# Заполним пропуски модой\n",
    "power_mode = df['Power'].mode()[0]\n",
    "df['Power'] = df['Power'].fillna(power_mode)"
   ]
  },
  {
   "cell_type": "code",
   "execution_count": 20,
   "metadata": {},
   "outputs": [
    {
     "data": {
      "image/png": "[encoded data removed]",
      "text/plain": [
       "<Figure size 720x288 with 1 Axes>"
      ]
     },
     "metadata": {},
     "output_type": "display_data"
    }
   ],
   "source": [
    "plt.figure(figsize=(10, 4))\n",
    "sns.histplot(df['Power'], bins=100)\n",
    "plt.title(\"Распределение мощности\")\n",
    "plt.xlabel(\"Power (л.с.)\")\n",
    "plt.ylabel(\"Количество\")\n",
    "plt.grid(True)\n",
    "plt.show()"
   ]
  },
  {
   "cell_type": "markdown",
   "metadata": {},
   "source": [
    "#### `Price`"
   ]
  },
  {
   "cell_type": "markdown",
   "metadata": {},
   "source": [
    "Здесь нужно убрать только бесплатные авто, в остальном значения выглядят корректно."
   ]
  },
  {
   "cell_type": "code",
   "execution_count": 21,
   "metadata": {},
   "outputs": [
    {
     "data": {
      "text/plain": [
       "9387"
      ]
     },
     "execution_count": 21,
     "metadata": {},
     "output_type": "execute_result"
    }
   ],
   "source": [
    "# Количество строк с Price = 0 \n",
    "(df['Price'] == 0).sum()"
   ]
  },
  {
   "cell_type": "code",
   "execution_count": 22,
   "metadata": {},
   "outputs": [],
   "source": [
    "# Удалим эти строки\n",
    "df = df[df['Price'] > 0]"
   ]
  },
  {
   "cell_type": "markdown",
   "metadata": {},
   "source": [
    "#### `VehicleType` и `FuelType`"
   ]
  },
  {
   "cell_type": "markdown",
   "metadata": {},
   "source": [
    "Объединим категории `other` и `others` с `unknown` в обоих столбцах."
   ]
  },
  {
   "cell_type": "code",
   "execution_count": 23,
   "metadata": {},
   "outputs": [
    {
     "name": "stdout",
     "output_type": "stream",
     "text": [
      "VehicleType: ['unknown' 'coupe' 'suv' 'small' 'sedan' 'convertible' 'bus' 'wagon']\n",
      "FuelType: ['petrol' 'gasoline' 'unknown' 'lpg' 'hybrid' 'cng' 'electric']\n"
     ]
    }
   ],
   "source": [
    "# Объединяем 'other' и 'others' в 'unknown' для VehicleType и FuelType\n",
    "df['VehicleType'] = df['VehicleType'].replace({'other': 'unknown', 'others': 'unknown'})\n",
    "df['FuelType'] = df['FuelType'].replace({'other': 'unknown', 'others': 'unknown'})\n",
    "\n",
    "# Проверка\n",
    "print(\"VehicleType:\", df['VehicleType'].unique())\n",
    "print(\"FuelType:\", df['FuelType'].unique())"
   ]
  },
  {
   "cell_type": "markdown",
   "metadata": {},
   "source": [
    "#### Проверка"
   ]
  },
  {
   "cell_type": "code",
   "execution_count": 24,
   "metadata": {
    "scrolled": false
   },
   "outputs": [
    {
     "name": "stdout",
     "output_type": "stream",
     "text": [
      "--- Анализ таблицы: Данные после обработки ---\n",
      "\n",
      "Числовые признаки:\n",
      "\n"
     ]
    },
    {
     "data": {
      "text/html": [
       "<div>\n",
       "<style scoped>\n",
       "    .dataframe tbody tr th:only-of-type {\n",
       "        vertical-align: middle;\n",
       "    }\n",
       "\n",
       "    .dataframe tbody tr th {\n",
       "        vertical-align: top;\n",
       "    }\n",
       "\n",
       "    .dataframe thead th {\n",
       "        text-align: right;\n",
       "    }\n",
       "</style>\n",
       "<table border=\"1\" class=\"dataframe\">\n",
       "  <thead>\n",
       "    <tr style=\"text-align: right;\">\n",
       "      <th></th>\n",
       "      <th>count</th>\n",
       "      <th>mean</th>\n",
       "      <th>std</th>\n",
       "      <th>min</th>\n",
       "      <th>25%</th>\n",
       "      <th>50%</th>\n",
       "      <th>75%</th>\n",
       "      <th>max</th>\n",
       "    </tr>\n",
       "  </thead>\n",
       "  <tbody>\n",
       "    <tr>\n",
       "      <th>Price</th>\n",
       "      <td>317439.0</td>\n",
       "      <td>4533.970700</td>\n",
       "      <td>4519.674833</td>\n",
       "      <td>1.0</td>\n",
       "      <td>1200.0</td>\n",
       "      <td>2849.0</td>\n",
       "      <td>6500.0</td>\n",
       "      <td>20000.0</td>\n",
       "    </tr>\n",
       "    <tr>\n",
       "      <th>RegistrationYear</th>\n",
       "      <td>317439.0</td>\n",
       "      <td>2003.436635</td>\n",
       "      <td>6.579124</td>\n",
       "      <td>1980.0</td>\n",
       "      <td>1999.0</td>\n",
       "      <td>2003.0</td>\n",
       "      <td>2008.0</td>\n",
       "      <td>2019.0</td>\n",
       "    </tr>\n",
       "    <tr>\n",
       "      <th>Power</th>\n",
       "      <td>317439.0</td>\n",
       "      <td>115.878742</td>\n",
       "      <td>52.411854</td>\n",
       "      <td>50.0</td>\n",
       "      <td>75.0</td>\n",
       "      <td>105.0</td>\n",
       "      <td>142.0</td>\n",
       "      <td>800.0</td>\n",
       "    </tr>\n",
       "    <tr>\n",
       "      <th>Kilometer</th>\n",
       "      <td>317439.0</td>\n",
       "      <td>128236.700594</td>\n",
       "      <td>37632.284870</td>\n",
       "      <td>5000.0</td>\n",
       "      <td>125000.0</td>\n",
       "      <td>150000.0</td>\n",
       "      <td>150000.0</td>\n",
       "      <td>150000.0</td>\n",
       "    </tr>\n",
       "    <tr>\n",
       "      <th>RegistrationMonth</th>\n",
       "      <td>317439.0</td>\n",
       "      <td>5.750116</td>\n",
       "      <td>3.700353</td>\n",
       "      <td>0.0</td>\n",
       "      <td>3.0</td>\n",
       "      <td>6.0</td>\n",
       "      <td>9.0</td>\n",
       "      <td>12.0</td>\n",
       "    </tr>\n",
       "  </tbody>\n",
       "</table>\n",
       "</div>"
      ],
      "text/plain": [
       "                      count           mean           std     min       25%  \\\n",
       "Price              317439.0    4533.970700   4519.674833     1.0    1200.0   \n",
       "RegistrationYear   317439.0    2003.436635      6.579124  1980.0    1999.0   \n",
       "Power              317439.0     115.878742     52.411854    50.0      75.0   \n",
       "Kilometer          317439.0  128236.700594  37632.284870  5000.0  125000.0   \n",
       "RegistrationMonth  317439.0       5.750116      3.700353     0.0       3.0   \n",
       "\n",
       "                        50%       75%       max  \n",
       "Price                2849.0    6500.0   20000.0  \n",
       "RegistrationYear     2003.0    2008.0    2019.0  \n",
       "Power                 105.0     142.0     800.0  \n",
       "Kilometer          150000.0  150000.0  150000.0  \n",
       "RegistrationMonth       6.0       9.0      12.0  "
      ]
     },
     "metadata": {},
     "output_type": "display_data"
    },
    {
     "name": "stdout",
     "output_type": "stream",
     "text": [
      "\n",
      "Категориальные признаки:\n",
      "\n"
     ]
    },
    {
     "data": {
      "text/html": [
       "<div>\n",
       "<style scoped>\n",
       "    .dataframe tbody tr th:only-of-type {\n",
       "        vertical-align: middle;\n",
       "    }\n",
       "\n",
       "    .dataframe tbody tr th {\n",
       "        vertical-align: top;\n",
       "    }\n",
       "\n",
       "    .dataframe thead th {\n",
       "        text-align: right;\n",
       "    }\n",
       "</style>\n",
       "<table border=\"1\" class=\"dataframe\">\n",
       "  <thead>\n",
       "    <tr style=\"text-align: right;\">\n",
       "      <th></th>\n",
       "      <th>Признак</th>\n",
       "      <th>Уникальных значений</th>\n",
       "      <th>Мода</th>\n",
       "    </tr>\n",
       "  </thead>\n",
       "  <tbody>\n",
       "    <tr>\n",
       "      <th>0</th>\n",
       "      <td>VehicleType</td>\n",
       "      <td>8</td>\n",
       "      <td>sedan</td>\n",
       "    </tr>\n",
       "    <tr>\n",
       "      <th>1</th>\n",
       "      <td>Gearbox</td>\n",
       "      <td>3</td>\n",
       "      <td>manual</td>\n",
       "    </tr>\n",
       "    <tr>\n",
       "      <th>2</th>\n",
       "      <td>Model</td>\n",
       "      <td>251</td>\n",
       "      <td>golf</td>\n",
       "    </tr>\n",
       "    <tr>\n",
       "      <th>3</th>\n",
       "      <td>FuelType</td>\n",
       "      <td>7</td>\n",
       "      <td>petrol</td>\n",
       "    </tr>\n",
       "    <tr>\n",
       "      <th>4</th>\n",
       "      <td>Brand</td>\n",
       "      <td>40</td>\n",
       "      <td>volkswagen</td>\n",
       "    </tr>\n",
       "    <tr>\n",
       "      <th>5</th>\n",
       "      <td>Repaired</td>\n",
       "      <td>3</td>\n",
       "      <td>no</td>\n",
       "    </tr>\n",
       "  </tbody>\n",
       "</table>\n",
       "</div>"
      ],
      "text/plain": [
       "       Признак  Уникальных значений        Мода\n",
       "0  VehicleType                    8       sedan\n",
       "1      Gearbox                    3      manual\n",
       "2        Model                  251        golf\n",
       "3     FuelType                    7      petrol\n",
       "4        Brand                   40  volkswagen\n",
       "5     Repaired                    3          no"
      ]
     },
     "metadata": {},
     "output_type": "display_data"
    },
    {
     "name": "stdout",
     "output_type": "stream",
     "text": [
      "\n"
     ]
    },
    {
     "data": {
      "image/png": "[encoded data removed]",
      "text/plain": [
       "<Figure size 1008x360 with 2 Axes>"
      ]
     },
     "metadata": {},
     "output_type": "display_data"
    },
    {
     "data": {
      "image/png": "[encoded data removed]",
      "text/plain": [
       "<Figure size 1008x1800 with 9 Axes>"
      ]
     },
     "metadata": {},
     "output_type": "display_data"
    }
   ],
   "source": [
    "explore_dataframe(df, 'Данные после обработки')"
   ]
  },
  {
   "cell_type": "markdown",
   "metadata": {},
   "source": [
    "Таким образом, мы провели EDA и окончательно очистили данные.\n",
    "\n",
    "Для обучения моделей категориальные признаки необходимо закодировать. Признаки `RegistrationYear` и `RegistrationMonth`, несмотря на числовой тип, по смыслу являются категориальными (дискретные интервальные значения без количественного вклада) - поэтому их также будет целесообразно обработать как категории.\n",
    "Все категориальные признаки будут закодированы с помощью `OneHotEncoding` и `OrdinalEncoding`.\n",
    "Числовые непрерывные признаки масштабируются при необходимости (для модели SVR)."
   ]
  },
  {
   "cell_type": "markdown",
   "metadata": {},
   "source": [
    "### Оценка корреляций"
   ]
  },
  {
   "cell_type": "markdown",
   "metadata": {},
   "source": [
    "Изучим корреляцию между признаками и таргетом. "
   ]
  },
  {
   "cell_type": "code",
   "execution_count": 25,
   "metadata": {},
   "outputs": [],
   "source": [
    "# Строит графики корреляций \n",
    "def plot_feature_correlations(df, target='Price'):\n",
    "    # Числовые переменные – только target и Power\n",
    "    numeric_cols = [col for col in df.select_dtypes(include=['int64', 'float64']).columns if col in [target, 'Power']]\n",
    "    \n",
    "    # --- Спирмен для числовых ---\n",
    "    if len(numeric_cols) > 1:\n",
    "        corr_spearman = df[numeric_cols].corr(method='spearman')\n",
    "        plt.figure(figsize=(6, 4))\n",
    "        sns.heatmap(corr_spearman, annot=True, fmt=\".2f\", cmap='coolwarm', square=True, cbar_kws={\"shrink\": .75})\n",
    "        plt.title(\"Корреляция Спирмена: непрерывные признаки\")\n",
    "        plt.tight_layout()\n",
    "        plt.show()\n",
    "    else:\n",
    "        print(\"Недостаточно числовых признаков для корреляции.\")\n",
    "\n",
    "    # --- Phi-корреляция для категориальных ---\n",
    "    cat_cols = df.select_dtypes(include=['object']).columns.tolist()\n",
    "    # Добавим RegistrationYear, RegistrationMonth, Kilometer как категориальные по смыслу\n",
    "    cat_cols += ['RegistrationYear', 'RegistrationMonth', 'Kilometer', 'Model']\n",
    "\n",
    "    # Оставим только те, что есть в данных и не содержат слишком много уникальных значений\n",
    "    cat_cols = [col for col in cat_cols if col in df.columns and df[col].nunique() < 100]\n",
    "\n",
    "    # Вычисление phi-корреляции\n",
    "    phik_corr = df[[target] + cat_cols].phik_matrix(interval_cols=[target, 'Power'])\n",
    "\n",
    "    plt.figure(figsize=(10, 8))\n",
    "    sns.heatmap(phik_corr[[target]].drop(target), annot=True, fmt=\".2f\", cmap='YlGnBu', cbar_kws={\"shrink\": .75})\n",
    "    plt.title(\"Phi-корреляция с целевой переменной\")\n",
    "    plt.tight_layout()\n",
    "    plt.show()"
   ]
  },
  {
   "cell_type": "code",
   "execution_count": 26,
   "metadata": {},
   "outputs": [
    {
     "data": {
      "image/png": "[encoded data removed]",
      "text/plain": [
       "<Figure size 432x288 with 2 Axes>"
      ]
     },
     "metadata": {},
     "output_type": "display_data"
    },
    {
     "data": {
      "image/png": "[encoded data removed]",
      "text/plain": [
       "<Figure size 720x576 with 2 Axes>"
      ]
     },
     "metadata": {},
     "output_type": "display_data"
    }
   ],
   "source": [
    "plot_feature_correlations(df)"
   ]
  },
  {
   "cell_type": "markdown",
   "metadata": {},
   "source": [
    "Корреляционный анализ показал, что наибольшее влияние на цену оказывают год регистрации, мощность двигателя и информация о ремонте автомобиля. Признаки `Power` и `RegistrationYear` демонстрируют наибольшую числовую и категориальную корреляцию соответственно. Остальные признаки оказывают умеренное или слабое влияние, но также могут быть полезны для модели в совокупности."
   ]
  },
  {
   "cell_type": "markdown",
   "metadata": {},
   "source": [
    "На этапе подготовки данных были выполнены все необходимые шаги для обеспечения качества будущего моделирования. Удалены неинформативные признаки, заполнены пропуски в категориальных переменных значением `'unknown'`, а в числовых - модой. Проведена очистка от дубликатов и явных аномалий: исключены строки с нулевой ценой, ограничены допустимые значения года регистрации и мощности двигателя. Выполнен анализ распределений и корреляций, подтверждающий значимость ключевых переменных. Данные полностью подготовлены к этапу кодирования признаков, масштабирования и построения моделей."
   ]
  },
  {
   "cell_type": "markdown",
   "metadata": {},
   "source": [
    "## Обучение моделей"
   ]
  },
  {
   "cell_type": "markdown",
   "metadata": {},
   "source": [
    "Данный раздел можно было бы сделать в виде одного пайплайна, но поскольку заказчику важно отслеживать время обучения и время предсказания моделей, разобьем его на небольшие блоки по всем моделям - так будет удобнее и нагляднее сравнивать время."
   ]
  },
  {
   "cell_type": "markdown",
   "metadata": {},
   "source": [
    "### Подготовка данных"
   ]
  },
  {
   "cell_type": "markdown",
   "metadata": {},
   "source": [
    "Для перехода к этапу моделирования необходимо подготовить данные. План включает разбиение выборки на обучающую и тестовую, кодирование категориальных признаков и масштабирование числовых, если это требуется конкретной модели. Разбиение будет выполнено в соотношении 80/20/20. Для оценки качества моделей используется метрика RMSE, значение которой должно быть меньше 2500 согласно техническому заданию. Отдельно для каждой модели будут измеряться время обучения и предсказания с помощью команды `%%time`."
   ]
  },
  {
   "cell_type": "code",
   "execution_count": 27,
   "metadata": {},
   "outputs": [],
   "source": [
    "# Целевая переменная\n",
    "target = 'Price'\n",
    "\n",
    "# Признаки\n",
    "X = df.drop(columns=[target])\n",
    "y = df[target]"
   ]
  },
  {
   "cell_type": "code",
   "execution_count": 28,
   "metadata": {},
   "outputs": [],
   "source": [
    "# Первый сплит: отделяем тестовую выборку (20%)\n",
    "X_train_val, X_test, y_train_val, y_test = train_test_split(\n",
    "    X, y, test_size=0.2, random_state=42\n",
    ")\n",
    "\n",
    "# Второй сплит: делим оставшиеся 80% на тренировочную (60%) и валидационную (20%)\n",
    "X_train, X_val, y_train, y_val = train_test_split(\n",
    "    X_train_val, y_train_val, test_size=0.25, random_state=42  # 0.25 от 80% = 20% от исходных данных\n",
    ")"
   ]
  },
  {
   "cell_type": "code",
   "execution_count": 29,
   "metadata": {},
   "outputs": [],
   "source": [
    "# Категориальные признаки (номинальные) — OHE\n",
    "ohe_features = ['FuelType', 'Gearbox', 'Model', 'Brand', 'VehicleType', 'Repaired', 'RegistrationMonth']\n",
    "\n",
    "# Порядковые категориальные признаки — Ordinal\n",
    "ord_features = ['Kilometer', 'RegistrationYear']\n",
    "\n",
    "# Числовые признаки (не категориальные и не порядковые)\n",
    "num_features = ['Power']"
   ]
  },
  {
   "cell_type": "code",
   "execution_count": 30,
   "metadata": {},
   "outputs": [],
   "source": [
    "# Порядки значений\n",
    "kilometer_order = sorted(df['Kilometer'].unique())\n",
    "year_order = sorted(df['RegistrationYear'].unique())"
   ]
  },
  {
   "cell_type": "code",
   "execution_count": 31,
   "metadata": {},
   "outputs": [],
   "source": [
    "# Все категориальные признаки (номинальные + порядковые)\n",
    "all_cat_features = ohe_features + ord_features\n",
    "\n",
    "# Для деревянных моделей (RF, GB)\n",
    "preprocessor_tree = ColumnTransformer(\n",
    "    transformers=[\n",
    "        ('ord', Pipeline([\n",
    "            ('imputer', SimpleImputer(strategy='constant', fill_value='unknown')),\n",
    "            ('encoder', OrdinalEncoder(handle_unknown='use_encoded_value', \n",
    "                                     unknown_value=-1))\n",
    "        ]), all_cat_features),\n",
    "    ],\n",
    "    remainder='passthrough'\n",
    ")"
   ]
  },
  {
   "cell_type": "code",
   "execution_count": 32,
   "metadata": {},
   "outputs": [],
   "source": [
    "# Для SVR, Linear Regression\n",
    "preprocessor_scaled = ColumnTransformer(transformers=[\n",
    "    ('ohe', OneHotEncoder(handle_unknown='ignore'), ohe_features),\n",
    "    ('ord', OrdinalEncoder(categories=[kilometer_order, year_order]), ord_features),\n",
    "    ('num', StandardScaler(), num_features)\n",
    "], remainder='drop')  # только указанные признаки проходят"
   ]
  },
  {
   "cell_type": "code",
   "execution_count": 33,
   "metadata": {},
   "outputs": [],
   "source": [
    "# Список для хранения результатов моделей\n",
    "results = []\n",
    "\n",
    "# Функция для оценки модели (при наличии предсказаний)\n",
    "def evaluate_predictions(name, y_test, y_pred):\n",
    "    rmse = sqrt(mean_squared_error(y_test, y_pred))\n",
    "    print(f'RMSE для модели {name}: {rmse:.2f}')\n",
    "    results.append({'Модель': name, 'RMSE': round(rmse, 2)})"
   ]
  },
  {
   "cell_type": "markdown",
   "metadata": {},
   "source": [
    " ### Linear Regression (Ridge)"
   ]
  },
  {
   "cell_type": "code",
   "execution_count": 34,
   "metadata": {},
   "outputs": [
    {
     "name": "stdout",
     "output_type": "stream",
     "text": [
      "Лучший alpha: 0.01\n",
      "Лучшее качество (CV RMSE): 2622.259465536171\n"
     ]
    }
   ],
   "source": [
    "# Используем подготовленные данные с масштабированием\n",
    "X_train_scaled = preprocessor_scaled.fit_transform(X_train)\n",
    "X_val_scaled = preprocessor_scaled.transform(X_val)\n",
    "\n",
    "# Параметры для перебора\n",
    "param_grid = {\n",
    "    'alpha': [0.01, 0.05, 0.1, 0.5, 1, 10]\n",
    "}\n",
    "\n",
    "ridge = Ridge()\n",
    "grid = GridSearchCV(ridge, param_grid, scoring='neg_root_mean_squared_error', cv=5)\n",
    "grid.fit(X_train_scaled, y_train)\n",
    "\n",
    "print(\"Лучший alpha:\", grid.best_params_['alpha'])\n",
    "print(\"Лучшее качество (CV RMSE):\", -grid.best_score_)"
   ]
  },
  {
   "cell_type": "markdown",
   "metadata": {},
   "source": [
    "Для базовой модели с линейной зависимостью и регуляризацией результат очень достойный:\n",
    "RMSE ≈ 2622 - чуть выше порога 2500"
   ]
  },
  {
   "cell_type": "code",
   "execution_count": 35,
   "metadata": {},
   "outputs": [
    {
     "name": "stdout",
     "output_type": "stream",
     "text": [
      "CPU times: user 258 ms, sys: 25 µs, total: 258 ms\n",
      "Wall time: 260 ms\n"
     ]
    },
    {
     "data": {
      "text/plain": [
       "Ridge(alpha=0.05)"
      ]
     },
     "execution_count": 35,
     "metadata": {},
     "output_type": "execute_result"
    }
   ],
   "source": [
    "%%time\n",
    "\n",
    "# Обучение модели (fit) с замером времени\n",
    "ridge_best = Ridge(alpha=0.05)\n",
    "ridge_best.fit(X_train_scaled, y_train)"
   ]
  },
  {
   "cell_type": "code",
   "execution_count": 36,
   "metadata": {},
   "outputs": [
    {
     "name": "stdout",
     "output_type": "stream",
     "text": [
      "CPU times: user 4.32 ms, sys: 117 µs, total: 4.43 ms\n",
      "Wall time: 2.49 ms\n"
     ]
    }
   ],
   "source": [
    "%%time\n",
    "\n",
    "# Предсказание (predict) с замером времени\n",
    "y_pred_ridge = ridge_best.predict(X_val_scaled)"
   ]
  },
  {
   "cell_type": "code",
   "execution_count": 37,
   "metadata": {},
   "outputs": [
    {
     "name": "stdout",
     "output_type": "stream",
     "text": [
      "RMSE для модели Ridge Regression: 2609.42\n"
     ]
    }
   ],
   "source": [
    "# Оценка качества (RMSE)\n",
    "evaluate_predictions('Ridge Regression', y_val, y_pred_ridge)"
   ]
  },
  {
   "cell_type": "markdown",
   "metadata": {},
   "source": [
    "Модель линейной регрессии с L2-регуляризацией (Ridge) показала RMSE = 2609.42, что немного превышает заданный порог в 2500, но остаётся близким к нему. Обучение модели заняло всего 266 мс, а предсказание - около 2 мс, что делает её крайне быстрой и лёгкой в использовании. Несмотря на простоту, Ridge-регрессия обеспечивает стабильное качество и служит хорошей отправной точкой для сравнения с более сложными моделями."
   ]
  },
  {
   "cell_type": "markdown",
   "metadata": {},
   "source": [
    "### RandomForest"
   ]
  },
  {
   "cell_type": "code",
   "execution_count": 38,
   "metadata": {
    "scrolled": true
   },
   "outputs": [],
   "source": [
    "# Без масштабирования\n",
    "X_train_tree = preprocessor_tree.fit_transform(X_train)\n",
    "X_val_tree = preprocessor_tree.transform(X_val)"
   ]
  },
  {
   "cell_type": "code",
   "execution_count": 39,
   "metadata": {},
   "outputs": [
    {
     "name": "stdout",
     "output_type": "stream",
     "text": [
      "CPU times: user 59.7 s, sys: 1.01 s, total: 1min\n",
      "Wall time: 1min\n"
     ]
    },
    {
     "data": {
      "text/plain": [
       "RandomForestRegressor(n_jobs=-1, random_state=42)"
      ]
     },
     "execution_count": 39,
     "metadata": {},
     "output_type": "execute_result"
    }
   ],
   "source": [
    "%%time\n",
    "\n",
    "# Обучение\n",
    "rf_model = RandomForestRegressor(n_estimators=100, random_state=42, n_jobs=-1)\n",
    "rf_model.fit(X_train_tree, y_train)"
   ]
  },
  {
   "cell_type": "code",
   "execution_count": 40,
   "metadata": {},
   "outputs": [
    {
     "name": "stdout",
     "output_type": "stream",
     "text": [
      "CPU times: user 3.41 s, sys: 0 ns, total: 3.41 s\n",
      "Wall time: 3.42 s\n"
     ]
    }
   ],
   "source": [
    "%%time\n",
    "\n",
    "# Предсказание\n",
    "y_pred_rf = rf_model.predict(X_val_tree)"
   ]
  },
  {
   "cell_type": "code",
   "execution_count": 41,
   "metadata": {},
   "outputs": [
    {
     "name": "stdout",
     "output_type": "stream",
     "text": [
      "RMSE для модели Random Forest: 1772.96\n"
     ]
    }
   ],
   "source": [
    "# Оценка\n",
    "evaluate_predictions('Random Forest', y_val, y_pred_rf)"
   ]
  },
  {
   "cell_type": "markdown",
   "metadata": {},
   "source": [
    "### LightGBM"
   ]
  },
  {
   "cell_type": "code",
   "execution_count": 42,
   "metadata": {},
   "outputs": [
    {
     "name": "stdout",
     "output_type": "stream",
     "text": [
      "Лучшие параметры (LightGBM): {'categorical_feature': ['FuelType', 'Gearbox', 'Model', 'Brand', 'VehicleType', 'Repaired', 'RegistrationMonth', 'Kilometer', 'RegistrationYear'], 'learning_rate': 0.1, 'max_depth': 8, 'n_estimators': 500}\n",
      "Лучшее качество (CV RMSE): 1684.0467015944744\n"
     ]
    }
   ],
   "source": [
    "# Преобразуем категориальные признаки в тип 'category'\n",
    "for col in ohe_features + ord_features:\n",
    "    X_train[col] = X_train[col].astype('category')\n",
    "    X_val[col] = X_val[col].astype('category')\n",
    "\n",
    "# Параметры для перебора\n",
    "lgbm_params = {\n",
    "    'max_depth': [4, 6, 8],\n",
    "    'learning_rate': [0.03, 0.1],\n",
    "    'n_estimators': [300, 500],\n",
    "    'categorical_feature': [all_cat_features]  # Указываем имена категориальных признаков\n",
    "}\n",
    "\n",
    "lgbm_model = LGBMRegressor(random_state=42, verbose=-1)\n",
    "\n",
    "grid_lgbm = GridSearchCV(\n",
    "    lgbm_model,\n",
    "    lgbm_params,\n",
    "    scoring='neg_root_mean_squared_error',\n",
    "    cv=3,\n",
    "    n_jobs=-1\n",
    ")\n",
    "\n",
    "grid_lgbm.fit(X_train, y_train)\n",
    "\n",
    "print(\"Лучшие параметры (LightGBM):\", grid_lgbm.best_params_)\n",
    "print(\"Лучшее качество (CV RMSE):\", -grid_lgbm.best_score_)"
   ]
  },
  {
   "cell_type": "code",
   "execution_count": 43,
   "metadata": {},
   "outputs": [
    {
     "name": "stdout",
     "output_type": "stream",
     "text": [
      "CPU times: user 18.5 s, sys: 66.2 ms, total: 18.6 s\n",
      "Wall time: 19.1 s\n"
     ]
    },
    {
     "data": {
      "text/plain": [
       "LGBMRegressor(max_depth=8, n_estimators=500, random_state=42)"
      ]
     },
     "execution_count": 43,
     "metadata": {},
     "output_type": "execute_result"
    }
   ],
   "source": [
    "%%time\n",
    "\n",
    "# Обучение\n",
    "lgbm_model = LGBMRegressor(\n",
    "    n_estimators=500,\n",
    "    learning_rate=0.1,\n",
    "    max_depth=8,\n",
    "    random_state=42\n",
    ")\n",
    "\n",
    "lgbm_model.fit(X_train, y_train, categorical_feature=all_cat_features)"
   ]
  },
  {
   "cell_type": "code",
   "execution_count": 44,
   "metadata": {},
   "outputs": [
    {
     "name": "stdout",
     "output_type": "stream",
     "text": [
      "CPU times: user 2.75 s, sys: 0 ns, total: 2.75 s\n",
      "Wall time: 2.79 s\n"
     ]
    }
   ],
   "source": [
    "%%time\n",
    "\n",
    "# Предсказание\n",
    "y_pred_lgbm = lgbm_model.predict(X_val)"
   ]
  },
  {
   "cell_type": "code",
   "execution_count": 45,
   "metadata": {},
   "outputs": [
    {
     "name": "stdout",
     "output_type": "stream",
     "text": [
      "RMSE для модели LightGBM: 1646.07\n"
     ]
    }
   ],
   "source": [
    "# Оценка\n",
    "evaluate_predictions('LightGBM', y_val, y_pred_lgbm)"
   ]
  },
  {
   "cell_type": "markdown",
   "metadata": {},
   "source": [
    "### CatBoost"
   ]
  },
  {
   "cell_type": "code",
   "execution_count": 46,
   "metadata": {},
   "outputs": [
    {
     "name": "stdout",
     "output_type": "stream",
     "text": [
      "Лучшие параметры (CatBoost): {'depth': 8, 'iterations': 500, 'learning_rate': 0.1}\n",
      "Лучшее качество (CV RMSE): 1707.6818672421284\n"
     ]
    }
   ],
   "source": [
    "# Подбор гиперпараметров\n",
    "cat_params = {\n",
    "    'depth': [4, 6, 8],\n",
    "    'learning_rate': [0.03, 0.1],\n",
    "    'iterations': [300, 500]\n",
    "}\n",
    "\n",
    "cat_model = CatBoostRegressor(\n",
    "    loss_function='RMSE',\n",
    "    verbose=0,\n",
    "    random_seed=42\n",
    ")\n",
    "\n",
    "grid_cat = GridSearchCV(\n",
    "    cat_model,\n",
    "    cat_params,\n",
    "    scoring='neg_root_mean_squared_error',\n",
    "    cv=3,\n",
    "    n_jobs=-1\n",
    ")\n",
    "\n",
    "grid_cat.fit(X_train, y_train, cat_features=all_cat_features)\n",
    "\n",
    "print(\"Лучшие параметры (CatBoost):\", grid_cat.best_params_)\n",
    "print(\"Лучшее качество (CV RMSE):\", -grid_cat.best_score_)"
   ]
  },
  {
   "cell_type": "code",
   "execution_count": 47,
   "metadata": {},
   "outputs": [
    {
     "name": "stdout",
     "output_type": "stream",
     "text": [
      "CPU times: user 3min 25s, sys: 1.98 s, total: 3min 27s\n",
      "Wall time: 3min 28s\n"
     ]
    },
    {
     "data": {
      "text/plain": [
       "<catboost.core.CatBoostRegressor at 0x7f50be9dc3a0>"
      ]
     },
     "execution_count": 47,
     "metadata": {},
     "output_type": "execute_result"
    }
   ],
   "source": [
    "%%time\n",
    "\n",
    "# Обучение\n",
    "cat_model = CatBoostRegressor(\n",
    "    iterations=500,\n",
    "    depth=8,\n",
    "    learning_rate=0.1,\n",
    "    loss_function='RMSE',\n",
    "    verbose=0,\n",
    "    random_seed=42\n",
    ")\n",
    "\n",
    "cat_model.fit(X_train, y_train, cat_features=all_cat_features)"
   ]
  },
  {
   "cell_type": "code",
   "execution_count": 48,
   "metadata": {},
   "outputs": [
    {
     "name": "stdout",
     "output_type": "stream",
     "text": [
      "CPU times: user 573 ms, sys: 0 ns, total: 573 ms\n",
      "Wall time: 571 ms\n"
     ]
    }
   ],
   "source": [
    "%%time\n",
    "\n",
    "# Предсказание\n",
    "y_pred_cat = cat_model.predict(X_val)"
   ]
  },
  {
   "cell_type": "code",
   "execution_count": 49,
   "metadata": {},
   "outputs": [
    {
     "name": "stdout",
     "output_type": "stream",
     "text": [
      "RMSE для модели CatBoost: 1673.12\n"
     ]
    }
   ],
   "source": [
    "# Оценка\n",
    "evaluate_predictions('CatBoost', y_val, y_pred_cat)"
   ]
  },
  {
   "cell_type": "markdown",
   "metadata": {},
   "source": [
    "На этапе моделирования были реализованы четыре модели: Ridge-регрессия, Random Forest, CatBoost и LightGBM. Для каждой модели выполнено обучение, предсказание и оценка качества с помощью метрики RMSE. Кроме того, замерено время обучения и предсказания с использованием команды `%%time`, что позволяет учитывать требования заказчика к производительности. Почти все модели показали RMSE ниже допустимого порога (2500), причём наилучшие результаты продемонстрировали модели градиентного бустинга - LightGBM и CatBoost."
   ]
  },
  {
   "cell_type": "markdown",
   "metadata": {},
   "source": [
    "## Анализ моделей"
   ]
  },
  {
   "cell_type": "code",
   "execution_count": 50,
   "metadata": {
    "scrolled": true
   },
   "outputs": [
    {
     "data": {
      "text/html": [
       "<div>\n",
       "<style scoped>\n",
       "    .dataframe tbody tr th:only-of-type {\n",
       "        vertical-align: middle;\n",
       "    }\n",
       "\n",
       "    .dataframe tbody tr th {\n",
       "        vertical-align: top;\n",
       "    }\n",
       "\n",
       "    .dataframe thead th {\n",
       "        text-align: right;\n",
       "    }\n",
       "</style>\n",
       "<table border=\"1\" class=\"dataframe\">\n",
       "  <thead>\n",
       "    <tr style=\"text-align: right;\">\n",
       "      <th></th>\n",
       "      <th>Модель</th>\n",
       "      <th>RMSE</th>\n",
       "    </tr>\n",
       "  </thead>\n",
       "  <tbody>\n",
       "    <tr>\n",
       "      <th>2</th>\n",
       "      <td>LightGBM</td>\n",
       "      <td>1646.07</td>\n",
       "    </tr>\n",
       "    <tr>\n",
       "      <th>3</th>\n",
       "      <td>CatBoost</td>\n",
       "      <td>1673.12</td>\n",
       "    </tr>\n",
       "    <tr>\n",
       "      <th>1</th>\n",
       "      <td>Random Forest</td>\n",
       "      <td>1772.96</td>\n",
       "    </tr>\n",
       "    <tr>\n",
       "      <th>0</th>\n",
       "      <td>Ridge Regression</td>\n",
       "      <td>2609.42</td>\n",
       "    </tr>\n",
       "  </tbody>\n",
       "</table>\n",
       "</div>"
      ],
      "text/plain": [
       "             Модель     RMSE\n",
       "2          LightGBM  1646.07\n",
       "3          CatBoost  1673.12\n",
       "1     Random Forest  1772.96\n",
       "0  Ridge Regression  2609.42"
      ]
     },
     "metadata": {},
     "output_type": "display_data"
    }
   ],
   "source": [
    "results_df = pd.DataFrame(results)\n",
    "display(results_df.sort_values('RMSE'))"
   ]
  },
  {
   "cell_type": "markdown",
   "metadata": {},
   "source": [
    "Проведено сравнение четырёх моделей: линейной регрессии (Ridge), случайного леса, CatBoost и LightGBM. Почти все модели прошли порог качества RMSE < 2500, установленный заказчиком.\n",
    "\n",
    "Наихудшее качество показала модель Ridge Regression (RMSE ≈ 2609.42), однако она остаётся самой быстрой по обучению и предсказанию, что делает её пригодной для базовой оценки.\n",
    "\n",
    "Модели градиентного бустинга - CatBoost и LightGBM - продемонстрировали наилучшие значения метрики. После подбора гиперпараметров:\n",
    "- CatBoost достиг RMSE ≈ 1673.12 при времени обучения ~3.5 мин и предсказания < 1 сек;\n",
    "- LightGBM - RMSE ≈ 1646.07 при времени обучения ~19 сек и предсказания ~3 сек.\n",
    "\n",
    "Random Forest показал RMSE ≈ 1772.96, время обучения составило ~ 1 мин., модель тоже является достаточно практичной, немного уступая бустингам по качеству прогнозов.\n",
    "\n",
    "Таким образом, **LightGBM** с подобранными параметрами показал лучший результат по качеству, минимально опередив CatBoost. Оба бустинга являются предпочтительными для развёртывания, учитывая высокое качество и умеренное время работы."
   ]
  },
  {
   "cell_type": "markdown",
   "metadata": {},
   "source": [
    "## Тестирование лучшей модели"
   ]
  },
  {
   "cell_type": "markdown",
   "metadata": {},
   "source": [
    "Проверим лучшую модель на тестовой выборке."
   ]
  },
  {
   "cell_type": "code",
   "execution_count": 51,
   "metadata": {},
   "outputs": [
    {
     "name": "stdout",
     "output_type": "stream",
     "text": [
      "RMSE для модели LGBM: 1653.60\n"
     ]
    }
   ],
   "source": [
    "# Преобразуем категориальные признаки в 'category' (как в X_train)\n",
    "for col in all_cat_features:\n",
    "    X_test[col] = X_test[col].astype('category')\n",
    "\n",
    "# Предсказание на тестовой выборке\n",
    "y_test_pred = lgbm_model.predict(X_test)\n",
    "\n",
    "# Оценка\n",
    "evaluate_predictions('LGBM', y_test, y_test_pred)"
   ]
  },
  {
   "cell_type": "code",
   "execution_count": 52,
   "metadata": {},
   "outputs": [
    {
     "data": {
      "text/plain": [
       "<Figure size 720x432 with 0 Axes>"
      ]
     },
     "metadata": {},
     "output_type": "display_data"
    },
    {
     "data": {
      "image/png": "[encoded data removed]",
      "text/plain": [
       "<Figure size 432x288 with 1 Axes>"
      ]
     },
     "metadata": {},
     "output_type": "display_data"
    }
   ],
   "source": [
    "# Важность признаков\n",
    "plt.figure(figsize=(10, 6))\n",
    "plot_importance(lgbm_model)\n",
    "plt.show()"
   ]
  },
  {
   "cell_type": "markdown",
   "metadata": {},
   "source": [
    "LightGBM показал стабильное качество на тестовых данных с RMSE 1653.60, что согласуется с результатами кросс-валидации (1646.07), подтверждая надежность модели. Анализ важности признаков выявил четкие закономерности: мощность автомобиля (`Power`) оказалась ключевым фактором с максимальным влиянием на предсказание, модель автомобиля (`Model`) и год регистрации (`RegistrationYear`) также продемонстрировали значимый вклад. Такие признаки как тип топлива (`FuelType`) и коробка передач (`Gearbox`) имели минимальное влияние, что указывает на их второстепенную роль в прогнозировании цены. Полученные результаты не только подтверждают эффективность LightGBM для данной задачи, но и предоставляют ценную информацию о структуре данных, которая может быть использована для дальнейшего улучшения модели. Стабильность метрик на тестовой выборке и интерпретируемость важности признаков делают **LightGBM** оптимальным выбором для практического применения."
   ]
  }
 ],
 "metadata": {
  "ExecuteTimeLog": [
   {
    "duration": 1451,
    "start_time": "2025-06-25T06:39:53.046Z"
   },
   {
    "duration": 4,
    "start_time": "2025-06-25T06:39:54.999Z"
   },
   {
    "duration": 1112,
    "start_time": "2025-06-25T06:40:45.476Z"
   },
   {
    "duration": 4,
    "start_time": "2025-06-25T06:46:45.463Z"
   },
   {
    "duration": 10,
    "start_time": "2025-06-25T06:49:07.353Z"
   },
   {
    "duration": 7,
    "start_time": "2025-06-25T07:29:59.736Z"
   },
   {
    "duration": 103,
    "start_time": "2025-06-25T07:37:18.272Z"
   },
   {
    "duration": 1280,
    "start_time": "2025-06-25T07:42:04.202Z"
   },
   {
    "duration": 4,
    "start_time": "2025-06-25T07:42:05.484Z"
   },
   {
    "duration": 1162,
    "start_time": "2025-06-25T07:42:05.489Z"
   },
   {
    "duration": 6,
    "start_time": "2025-06-25T07:42:06.653Z"
   },
   {
    "duration": 82,
    "start_time": "2025-06-25T07:42:06.661Z"
   },
   {
    "duration": 4,
    "start_time": "2025-06-25T07:42:06.745Z"
   },
   {
    "duration": 29,
    "start_time": "2025-06-25T07:42:06.750Z"
   },
   {
    "duration": 12,
    "start_time": "2025-06-25T07:42:06.781Z"
   },
   {
    "duration": 95663,
    "start_time": "2025-06-25T07:42:06.795Z"
   },
   {
    "duration": 5,
    "start_time": "2025-06-25T07:43:42.460Z"
   },
   {
    "duration": 113,
    "start_time": "2025-06-25T07:46:03.513Z"
   },
   {
    "duration": 1183,
    "start_time": "2025-06-25T07:47:16.684Z"
   },
   {
    "duration": 4,
    "start_time": "2025-06-25T07:47:17.870Z"
   },
   {
    "duration": 1135,
    "start_time": "2025-06-25T07:47:17.875Z"
   },
   {
    "duration": 7,
    "start_time": "2025-06-25T07:47:19.012Z"
   },
   {
    "duration": 168,
    "start_time": "2025-06-25T07:47:19.021Z"
   },
   {
    "duration": 3,
    "start_time": "2025-06-25T07:47:19.191Z"
   },
   {
    "duration": 5,
    "start_time": "2025-06-25T07:47:19.196Z"
   },
   {
    "duration": 11,
    "start_time": "2025-06-25T07:47:19.202Z"
   },
   {
    "duration": 24,
    "start_time": "2025-06-25T07:47:19.214Z"
   },
   {
    "duration": 8,
    "start_time": "2025-06-25T07:47:19.241Z"
   },
   {
    "duration": 208,
    "start_time": "2025-06-25T07:48:59.718Z"
   },
   {
    "duration": 3,
    "start_time": "2025-06-25T07:49:49.823Z"
   },
   {
    "duration": 99,
    "start_time": "2025-06-25T07:49:50.351Z"
   },
   {
    "duration": 4,
    "start_time": "2025-06-25T07:58:00.227Z"
   },
   {
    "duration": 98,
    "start_time": "2025-06-25T07:58:00.868Z"
   },
   {
    "duration": 214,
    "start_time": "2025-06-25T08:06:05.664Z"
   },
   {
    "duration": 4,
    "start_time": "2025-06-25T08:07:13.431Z"
   },
   {
    "duration": 391,
    "start_time": "2025-06-25T08:07:25.109Z"
   },
   {
    "duration": 114,
    "start_time": "2025-06-25T08:10:34.442Z"
   },
   {
    "duration": 20,
    "start_time": "2025-06-25T08:11:02.191Z"
   },
   {
    "duration": 107,
    "start_time": "2025-06-25T08:11:28.782Z"
   },
   {
    "duration": 27,
    "start_time": "2025-06-25T08:11:37.299Z"
   },
   {
    "duration": 436,
    "start_time": "2025-06-25T08:15:45.836Z"
   },
   {
    "duration": 10,
    "start_time": "2025-06-25T08:21:37.700Z"
   },
   {
    "duration": 376,
    "start_time": "2025-06-25T08:21:47.709Z"
   },
   {
    "duration": 1279,
    "start_time": "2025-06-25T08:25:58.210Z"
   },
   {
    "duration": 4,
    "start_time": "2025-06-25T08:25:59.491Z"
   },
   {
    "duration": 1176,
    "start_time": "2025-06-25T08:25:59.497Z"
   },
   {
    "duration": 6,
    "start_time": "2025-06-25T08:26:00.675Z"
   },
   {
    "duration": 180,
    "start_time": "2025-06-25T08:26:00.684Z"
   },
   {
    "duration": 4,
    "start_time": "2025-06-25T08:26:00.866Z"
   },
   {
    "duration": 135,
    "start_time": "2025-06-25T08:26:00.872Z"
   },
   {
    "duration": 241,
    "start_time": "2025-06-25T08:26:01.010Z"
   },
   {
    "duration": 5,
    "start_time": "2025-06-25T08:26:01.253Z"
   },
   {
    "duration": 417,
    "start_time": "2025-06-25T08:26:01.260Z"
   },
   {
    "duration": 441,
    "start_time": "2025-06-25T08:26:01.679Z"
   },
   {
    "duration": 387,
    "start_time": "2025-06-25T08:26:02.122Z"
   },
   {
    "duration": 12,
    "start_time": "2025-06-25T08:26:02.511Z"
   },
   {
    "duration": 77357,
    "start_time": "2025-06-25T08:26:02.525Z"
   },
   {
    "duration": 6,
    "start_time": "2025-06-25T08:27:19.884Z"
   },
   {
    "duration": 1455,
    "start_time": "2025-06-26T07:06:10.367Z"
   },
   {
    "duration": 4,
    "start_time": "2025-06-26T07:06:11.824Z"
   },
   {
    "duration": 1095,
    "start_time": "2025-06-26T07:06:11.830Z"
   },
   {
    "duration": 6,
    "start_time": "2025-06-26T07:06:12.927Z"
   },
   {
    "duration": 165,
    "start_time": "2025-06-26T07:06:12.935Z"
   },
   {
    "duration": 4,
    "start_time": "2025-06-26T07:06:13.101Z"
   },
   {
    "duration": 189,
    "start_time": "2025-06-26T07:06:13.107Z"
   },
   {
    "duration": 248,
    "start_time": "2025-06-26T07:06:13.298Z"
   },
   {
    "duration": 5,
    "start_time": "2025-06-26T07:06:13.548Z"
   },
   {
    "duration": 403,
    "start_time": "2025-06-26T07:06:13.554Z"
   },
   {
    "duration": 447,
    "start_time": "2025-06-26T07:06:13.959Z"
   },
   {
    "duration": 411,
    "start_time": "2025-06-26T07:06:14.408Z"
   },
   {
    "duration": 9,
    "start_time": "2025-06-26T07:06:14.821Z"
   },
   {
    "duration": 79168,
    "start_time": "2025-06-26T07:06:14.833Z"
   },
   {
    "duration": 4,
    "start_time": "2025-06-26T07:07:34.003Z"
   },
   {
    "duration": 1188,
    "start_time": "2025-06-26T07:12:44.324Z"
   },
   {
    "duration": 4,
    "start_time": "2025-06-26T07:12:45.514Z"
   },
   {
    "duration": 1139,
    "start_time": "2025-06-26T07:12:45.519Z"
   },
   {
    "duration": 6,
    "start_time": "2025-06-26T07:12:46.659Z"
   },
   {
    "duration": 157,
    "start_time": "2025-06-26T07:12:46.676Z"
   },
   {
    "duration": 5,
    "start_time": "2025-06-26T07:12:46.834Z"
   },
   {
    "duration": 124,
    "start_time": "2025-06-26T07:12:46.840Z"
   },
   {
    "duration": 245,
    "start_time": "2025-06-26T07:12:46.966Z"
   },
   {
    "duration": 5,
    "start_time": "2025-06-26T07:12:47.213Z"
   },
   {
    "duration": 380,
    "start_time": "2025-06-26T07:12:47.219Z"
   },
   {
    "duration": 435,
    "start_time": "2025-06-26T07:12:47.601Z"
   },
   {
    "duration": 390,
    "start_time": "2025-06-26T07:12:48.037Z"
   },
   {
    "duration": 10,
    "start_time": "2025-06-26T07:12:48.429Z"
   },
   {
    "duration": 76531,
    "start_time": "2025-06-26T07:12:48.442Z"
   },
   {
    "duration": 6,
    "start_time": "2025-06-26T07:14:04.975Z"
   },
   {
    "duration": 103,
    "start_time": "2025-06-26T07:23:55.646Z"
   },
   {
    "duration": 6,
    "start_time": "2025-06-26T07:24:00.966Z"
   },
   {
    "duration": 1258,
    "start_time": "2025-06-26T07:24:42.862Z"
   },
   {
    "duration": 3,
    "start_time": "2025-06-26T07:24:44.122Z"
   },
   {
    "duration": 1123,
    "start_time": "2025-06-26T07:24:44.127Z"
   },
   {
    "duration": 7,
    "start_time": "2025-06-26T07:24:45.252Z"
   },
   {
    "duration": 188,
    "start_time": "2025-06-26T07:24:45.260Z"
   },
   {
    "duration": 5,
    "start_time": "2025-06-26T07:24:45.450Z"
   },
   {
    "duration": 127,
    "start_time": "2025-06-26T07:24:45.456Z"
   },
   {
    "duration": 242,
    "start_time": "2025-06-26T07:24:45.586Z"
   },
   {
    "duration": 5,
    "start_time": "2025-06-26T07:24:45.830Z"
   },
   {
    "duration": 493,
    "start_time": "2025-06-26T07:24:45.838Z"
   },
   {
    "duration": 474,
    "start_time": "2025-06-26T07:24:46.333Z"
   },
   {
    "duration": 392,
    "start_time": "2025-06-26T07:24:46.809Z"
   },
   {
    "duration": 10,
    "start_time": "2025-06-26T07:24:47.203Z"
   },
   {
    "duration": 78234,
    "start_time": "2025-06-26T07:24:47.215Z"
   },
   {
    "duration": 5,
    "start_time": "2025-06-26T07:26:05.451Z"
   },
   {
    "duration": 15,
    "start_time": "2025-06-26T07:39:58.579Z"
   },
   {
    "duration": 425,
    "start_time": "2025-06-26T07:41:12.370Z"
   },
   {
    "duration": 122,
    "start_time": "2025-06-26T07:42:02.847Z"
   },
   {
    "duration": 4577,
    "start_time": "2025-06-26T07:42:08.649Z"
   },
   {
    "duration": 1230,
    "start_time": "2025-06-26T07:51:52.787Z"
   },
   {
    "duration": 3,
    "start_time": "2025-06-26T07:51:54.019Z"
   },
   {
    "duration": 1200,
    "start_time": "2025-06-26T07:51:54.024Z"
   },
   {
    "duration": 7,
    "start_time": "2025-06-26T07:51:55.226Z"
   },
   {
    "duration": 173,
    "start_time": "2025-06-26T07:51:55.235Z"
   },
   {
    "duration": 99,
    "start_time": "2025-06-26T07:51:55.410Z"
   },
   {
    "duration": 106,
    "start_time": "2025-06-26T07:51:55.511Z"
   },
   {
    "duration": 246,
    "start_time": "2025-06-26T07:51:55.619Z"
   },
   {
    "duration": 23,
    "start_time": "2025-06-26T07:51:55.866Z"
   },
   {
    "duration": 426,
    "start_time": "2025-06-26T07:51:55.891Z"
   },
   {
    "duration": 475,
    "start_time": "2025-06-26T07:51:56.318Z"
   },
   {
    "duration": 408,
    "start_time": "2025-06-26T07:51:56.795Z"
   },
   {
    "duration": 10,
    "start_time": "2025-06-26T07:51:57.205Z"
   },
   {
    "duration": 80420,
    "start_time": "2025-06-26T07:51:57.218Z"
   },
   {
    "duration": 118,
    "start_time": "2025-06-26T07:53:17.654Z"
   },
   {
    "duration": 479,
    "start_time": "2025-06-26T07:53:17.775Z"
   },
   {
    "duration": 150,
    "start_time": "2025-06-26T07:53:18.256Z"
   },
   {
    "duration": 6,
    "start_time": "2025-06-26T07:53:18.408Z"
   },
   {
    "duration": 8,
    "start_time": "2025-06-26T07:55:32.382Z"
   },
   {
    "duration": 28,
    "start_time": "2025-06-26T07:57:14.498Z"
   },
   {
    "duration": 1247,
    "start_time": "2025-06-26T08:53:00.254Z"
   },
   {
    "duration": 4,
    "start_time": "2025-06-26T08:53:01.502Z"
   },
   {
    "duration": 1250,
    "start_time": "2025-06-26T08:53:01.508Z"
   },
   {
    "duration": 6,
    "start_time": "2025-06-26T08:53:02.760Z"
   },
   {
    "duration": 160,
    "start_time": "2025-06-26T08:53:02.776Z"
   },
   {
    "duration": 4,
    "start_time": "2025-06-26T08:53:02.938Z"
   },
   {
    "duration": 169,
    "start_time": "2025-06-26T08:53:02.944Z"
   },
   {
    "duration": 231,
    "start_time": "2025-06-26T08:53:03.114Z"
   },
   {
    "duration": 5,
    "start_time": "2025-06-26T08:53:03.346Z"
   },
   {
    "duration": 437,
    "start_time": "2025-06-26T08:53:03.352Z"
   },
   {
    "duration": 459,
    "start_time": "2025-06-26T08:53:03.791Z"
   },
   {
    "duration": 385,
    "start_time": "2025-06-26T08:53:04.253Z"
   },
   {
    "duration": 10,
    "start_time": "2025-06-26T08:53:04.640Z"
   },
   {
    "duration": 76608,
    "start_time": "2025-06-26T08:53:04.653Z"
   },
   {
    "duration": 115,
    "start_time": "2025-06-26T08:54:21.265Z"
   },
   {
    "duration": 435,
    "start_time": "2025-06-26T08:54:21.382Z"
   },
   {
    "duration": 132,
    "start_time": "2025-06-26T08:54:21.819Z"
   },
   {
    "duration": 5,
    "start_time": "2025-06-26T08:54:21.952Z"
   },
   {
    "duration": 44,
    "start_time": "2025-06-26T08:54:21.958Z"
   },
   {
    "duration": 6,
    "start_time": "2025-06-26T08:54:22.005Z"
   },
   {
    "duration": 5190,
    "start_time": "2025-06-26T08:57:27.628Z"
   },
   {
    "duration": 102,
    "start_time": "2025-06-26T08:58:13.929Z"
   },
   {
    "duration": 386,
    "start_time": "2025-06-26T08:58:21.025Z"
   },
   {
    "duration": 86,
    "start_time": "2025-06-26T08:58:28.875Z"
   },
   {
    "duration": 427,
    "start_time": "2025-06-26T08:58:29.480Z"
   },
   {
    "duration": 96,
    "start_time": "2025-06-26T09:04:08.696Z"
   },
   {
    "duration": 420,
    "start_time": "2025-06-26T09:04:09.363Z"
   },
   {
    "duration": 104,
    "start_time": "2025-06-26T09:08:59.559Z"
   },
   {
    "duration": 1231,
    "start_time": "2025-06-26T09:10:21.375Z"
   },
   {
    "duration": 4,
    "start_time": "2025-06-26T09:10:22.608Z"
   },
   {
    "duration": 1103,
    "start_time": "2025-06-26T09:10:22.613Z"
   },
   {
    "duration": 5,
    "start_time": "2025-06-26T09:10:23.718Z"
   },
   {
    "duration": 162,
    "start_time": "2025-06-26T09:10:23.726Z"
   },
   {
    "duration": 19,
    "start_time": "2025-06-26T09:10:23.890Z"
   },
   {
    "duration": 102,
    "start_time": "2025-06-26T09:10:23.910Z"
   },
   {
    "duration": 232,
    "start_time": "2025-06-26T09:10:24.013Z"
   },
   {
    "duration": 4,
    "start_time": "2025-06-26T09:10:24.247Z"
   },
   {
    "duration": 380,
    "start_time": "2025-06-26T09:10:24.253Z"
   },
   {
    "duration": 421,
    "start_time": "2025-06-26T09:10:24.635Z"
   },
   {
    "duration": 380,
    "start_time": "2025-06-26T09:10:25.058Z"
   },
   {
    "duration": 10,
    "start_time": "2025-06-26T09:10:25.440Z"
   },
   {
    "duration": 75909,
    "start_time": "2025-06-26T09:10:25.452Z"
   },
   {
    "duration": 112,
    "start_time": "2025-06-26T09:11:41.363Z"
   },
   {
    "duration": 424,
    "start_time": "2025-06-26T09:11:41.477Z"
   },
   {
    "duration": 169,
    "start_time": "2025-06-26T09:11:41.903Z"
   },
   {
    "duration": 120,
    "start_time": "2025-06-26T09:11:42.074Z"
   },
   {
    "duration": 5263,
    "start_time": "2025-06-26T09:11:42.195Z"
   },
   {
    "duration": 16,
    "start_time": "2025-06-26T09:11:47.460Z"
   },
   {
    "duration": 36,
    "start_time": "2025-06-26T09:11:47.478Z"
   },
   {
    "duration": 96,
    "start_time": "2025-06-26T09:11:47.516Z"
   },
   {
    "duration": 8319,
    "start_time": "2025-06-26T09:11:47.614Z"
   },
   {
    "duration": 4,
    "start_time": "2025-06-26T09:11:55.935Z"
   },
   {
    "duration": 12,
    "start_time": "2025-06-26T09:15:52.035Z"
   },
   {
    "duration": 1262,
    "start_time": "2025-06-26T09:18:02.956Z"
   },
   {
    "duration": 5,
    "start_time": "2025-06-26T09:18:04.220Z"
   },
   {
    "duration": 1156,
    "start_time": "2025-06-26T09:18:04.226Z"
   },
   {
    "duration": 5,
    "start_time": "2025-06-26T09:18:05.384Z"
   },
   {
    "duration": 224,
    "start_time": "2025-06-26T09:18:05.391Z"
   },
   {
    "duration": 5,
    "start_time": "2025-06-26T09:18:05.616Z"
   },
   {
    "duration": 238,
    "start_time": "2025-06-26T09:18:05.622Z"
   },
   {
    "duration": 264,
    "start_time": "2025-06-26T09:18:05.862Z"
   },
   {
    "duration": 4,
    "start_time": "2025-06-26T09:18:06.128Z"
   },
   {
    "duration": 420,
    "start_time": "2025-06-26T09:18:06.134Z"
   },
   {
    "duration": 447,
    "start_time": "2025-06-26T09:18:06.556Z"
   },
   {
    "duration": 385,
    "start_time": "2025-06-26T09:18:07.005Z"
   },
   {
    "duration": 10,
    "start_time": "2025-06-26T09:18:07.392Z"
   },
   {
    "duration": 78136,
    "start_time": "2025-06-26T09:18:07.405Z"
   },
   {
    "duration": 118,
    "start_time": "2025-06-26T09:19:25.543Z"
   },
   {
    "duration": 480,
    "start_time": "2025-06-26T09:19:25.663Z"
   },
   {
    "duration": 151,
    "start_time": "2025-06-26T09:19:26.145Z"
   },
   {
    "duration": 136,
    "start_time": "2025-06-26T09:19:26.297Z"
   },
   {
    "duration": 5450,
    "start_time": "2025-06-26T09:19:26.434Z"
   },
   {
    "duration": 7,
    "start_time": "2025-06-26T09:19:31.886Z"
   },
   {
    "duration": 71,
    "start_time": "2025-06-26T09:19:31.896Z"
   },
   {
    "duration": 120,
    "start_time": "2025-06-26T09:19:31.969Z"
   },
   {
    "duration": 6972,
    "start_time": "2025-06-26T09:19:32.091Z"
   },
   {
    "duration": 18,
    "start_time": "2025-06-26T09:19:39.064Z"
   },
   {
    "duration": 26,
    "start_time": "2025-06-26T09:19:39.084Z"
   },
   {
    "duration": 8,
    "start_time": "2025-06-26T09:29:46.292Z"
   },
   {
    "duration": 109,
    "start_time": "2025-06-26T09:32:36.061Z"
   },
   {
    "duration": 3567,
    "start_time": "2025-06-26T09:33:12.490Z"
   },
   {
    "duration": 129,
    "start_time": "2025-06-26T09:33:16.059Z"
   },
   {
    "duration": 11,
    "start_time": "2025-06-26T09:34:03.778Z"
   },
   {
    "duration": 10,
    "start_time": "2025-06-26T09:35:25.549Z"
   },
   {
    "duration": 4130,
    "start_time": "2025-06-26T09:35:35.053Z"
   },
   {
    "duration": 2654,
    "start_time": "2025-06-26T09:40:51.192Z"
   },
   {
    "duration": 1254,
    "start_time": "2025-06-26T09:40:53.848Z"
   },
   {
    "duration": 4,
    "start_time": "2025-06-26T09:40:55.104Z"
   },
   {
    "duration": 1199,
    "start_time": "2025-06-26T09:40:55.109Z"
   },
   {
    "duration": 6,
    "start_time": "2025-06-26T09:40:56.310Z"
   },
   {
    "duration": 182,
    "start_time": "2025-06-26T09:40:56.317Z"
   },
   {
    "duration": 6,
    "start_time": "2025-06-26T09:40:56.500Z"
   },
   {
    "duration": 127,
    "start_time": "2025-06-26T09:40:56.508Z"
   },
   {
    "duration": 318,
    "start_time": "2025-06-26T09:40:56.637Z"
   },
   {
    "duration": 4,
    "start_time": "2025-06-26T09:40:56.957Z"
   },
   {
    "duration": 399,
    "start_time": "2025-06-26T09:40:56.963Z"
   },
   {
    "duration": 456,
    "start_time": "2025-06-26T09:40:57.363Z"
   },
   {
    "duration": 409,
    "start_time": "2025-06-26T09:40:57.821Z"
   },
   {
    "duration": 10,
    "start_time": "2025-06-26T09:40:58.232Z"
   },
   {
    "duration": 82406,
    "start_time": "2025-06-26T09:40:58.243Z"
   },
   {
    "duration": 124,
    "start_time": "2025-06-26T09:42:20.651Z"
   },
   {
    "duration": 520,
    "start_time": "2025-06-26T09:42:20.785Z"
   },
   {
    "duration": 162,
    "start_time": "2025-06-26T09:42:21.307Z"
   },
   {
    "duration": 163,
    "start_time": "2025-06-26T09:42:21.470Z"
   },
   {
    "duration": 5563,
    "start_time": "2025-06-26T09:42:21.634Z"
   },
   {
    "duration": 6,
    "start_time": "2025-06-26T09:42:27.199Z"
   },
   {
    "duration": 33,
    "start_time": "2025-06-26T09:42:27.207Z"
   },
   {
    "duration": 153,
    "start_time": "2025-06-26T09:42:27.242Z"
   },
   {
    "duration": 7521,
    "start_time": "2025-06-26T09:42:27.399Z"
   },
   {
    "duration": 7,
    "start_time": "2025-06-26T09:42:34.922Z"
   },
   {
    "duration": 4359,
    "start_time": "2025-06-26T09:42:34.931Z"
   },
   {
    "duration": 11,
    "start_time": "2025-06-26T09:51:30.623Z"
   },
   {
    "duration": 16,
    "start_time": "2025-06-26T10:05:29.417Z"
   },
   {
    "duration": 2597,
    "start_time": "2025-06-26T10:24:59.042Z"
   },
   {
    "duration": 1633,
    "start_time": "2025-06-26T10:25:01.641Z"
   },
   {
    "duration": 6,
    "start_time": "2025-06-26T10:25:03.276Z"
   },
   {
    "duration": 1187,
    "start_time": "2025-06-26T10:25:03.285Z"
   },
   {
    "duration": 9,
    "start_time": "2025-06-26T10:25:04.475Z"
   },
   {
    "duration": 168,
    "start_time": "2025-06-26T10:25:04.486Z"
   },
   {
    "duration": 4,
    "start_time": "2025-06-26T10:25:04.656Z"
   },
   {
    "duration": 130,
    "start_time": "2025-06-26T10:25:04.661Z"
   },
   {
    "duration": 378,
    "start_time": "2025-06-26T10:25:04.793Z"
   },
   {
    "duration": 7,
    "start_time": "2025-06-26T10:25:05.179Z"
   },
   {
    "duration": 419,
    "start_time": "2025-06-26T10:25:05.188Z"
   },
   {
    "duration": 492,
    "start_time": "2025-06-26T10:25:05.609Z"
   },
   {
    "duration": 400,
    "start_time": "2025-06-26T10:25:06.103Z"
   },
   {
    "duration": 10,
    "start_time": "2025-06-26T10:25:06.505Z"
   },
   {
    "duration": 82977,
    "start_time": "2025-06-26T10:25:06.516Z"
   },
   {
    "duration": 122,
    "start_time": "2025-06-26T10:26:29.495Z"
   },
   {
    "duration": 462,
    "start_time": "2025-06-26T10:26:29.619Z"
   },
   {
    "duration": 148,
    "start_time": "2025-06-26T10:26:30.084Z"
   },
   {
    "duration": 130,
    "start_time": "2025-06-26T10:26:30.233Z"
   },
   {
    "duration": 5275,
    "start_time": "2025-06-26T10:26:30.365Z"
   },
   {
    "duration": 7,
    "start_time": "2025-06-26T10:26:35.642Z"
   },
   {
    "duration": 59,
    "start_time": "2025-06-26T10:26:35.651Z"
   },
   {
    "duration": 114,
    "start_time": "2025-06-26T10:26:35.712Z"
   },
   {
    "duration": 7050,
    "start_time": "2025-06-26T10:26:35.828Z"
   },
   {
    "duration": 12,
    "start_time": "2025-06-26T10:26:42.881Z"
   },
   {
    "duration": 4165,
    "start_time": "2025-06-26T10:26:42.895Z"
   },
   {
    "duration": 27,
    "start_time": "2025-06-26T10:26:47.062Z"
   },
   {
    "duration": 65,
    "start_time": "2025-06-26T10:26:47.093Z"
   },
   {
    "duration": 3,
    "start_time": "2025-06-26T10:26:47.160Z"
   },
   {
    "duration": 35,
    "start_time": "2025-06-26T10:26:47.177Z"
   },
   {
    "duration": 3,
    "start_time": "2025-06-26T10:26:47.214Z"
   },
   {
    "duration": 10,
    "start_time": "2025-06-26T10:26:47.218Z"
   },
   {
    "duration": 5,
    "start_time": "2025-06-26T10:26:47.229Z"
   },
   {
    "duration": 7899,
    "start_time": "2025-06-26T10:26:47.236Z"
   },
   {
    "duration": 2574,
    "start_time": "2025-06-26T11:13:27.399Z"
   },
   {
    "duration": 1785,
    "start_time": "2025-06-26T11:13:29.975Z"
   },
   {
    "duration": 4,
    "start_time": "2025-06-26T11:13:31.762Z"
   },
   {
    "duration": 1187,
    "start_time": "2025-06-26T11:13:31.767Z"
   },
   {
    "duration": 6,
    "start_time": "2025-06-26T11:13:32.956Z"
   },
   {
    "duration": 188,
    "start_time": "2025-06-26T11:13:32.963Z"
   },
   {
    "duration": 5,
    "start_time": "2025-06-26T11:13:33.153Z"
   },
   {
    "duration": 119,
    "start_time": "2025-06-26T11:13:33.159Z"
   },
   {
    "duration": 244,
    "start_time": "2025-06-26T11:13:33.279Z"
   },
   {
    "duration": 4,
    "start_time": "2025-06-26T11:13:33.525Z"
   },
   {
    "duration": 396,
    "start_time": "2025-06-26T11:13:33.531Z"
   },
   {
    "duration": 466,
    "start_time": "2025-06-26T11:13:33.928Z"
   },
   {
    "duration": 397,
    "start_time": "2025-06-26T11:13:34.396Z"
   },
   {
    "duration": 10,
    "start_time": "2025-06-26T11:13:34.796Z"
   },
   {
    "duration": 80193,
    "start_time": "2025-06-26T11:13:34.808Z"
   },
   {
    "duration": 122,
    "start_time": "2025-06-26T11:14:55.003Z"
   },
   {
    "duration": 476,
    "start_time": "2025-06-26T11:14:55.126Z"
   },
   {
    "duration": 151,
    "start_time": "2025-06-26T11:14:55.605Z"
   },
   {
    "duration": 175,
    "start_time": "2025-06-26T11:14:55.758Z"
   },
   {
    "duration": 5114,
    "start_time": "2025-06-26T11:14:55.935Z"
   },
   {
    "duration": 7,
    "start_time": "2025-06-26T11:15:01.051Z"
   },
   {
    "duration": 87,
    "start_time": "2025-06-26T11:15:01.060Z"
   },
   {
    "duration": 116,
    "start_time": "2025-06-26T11:15:01.149Z"
   },
   {
    "duration": 7387,
    "start_time": "2025-06-26T11:15:01.267Z"
   },
   {
    "duration": 8,
    "start_time": "2025-06-26T11:15:08.655Z"
   },
   {
    "duration": 4081,
    "start_time": "2025-06-26T11:15:08.678Z"
   },
   {
    "duration": 28,
    "start_time": "2025-06-26T11:15:12.760Z"
   },
   {
    "duration": 62,
    "start_time": "2025-06-26T11:15:12.790Z"
   },
   {
    "duration": 3,
    "start_time": "2025-06-26T11:15:12.854Z"
   },
   {
    "duration": 29,
    "start_time": "2025-06-26T11:15:12.859Z"
   },
   {
    "duration": 5,
    "start_time": "2025-06-26T11:15:12.890Z"
   },
   {
    "duration": 6,
    "start_time": "2025-06-26T11:15:12.897Z"
   },
   {
    "duration": 3,
    "start_time": "2025-06-26T11:15:12.905Z"
   },
   {
    "duration": 7941,
    "start_time": "2025-06-26T11:15:12.909Z"
   },
   {
    "duration": 9215,
    "start_time": "2025-06-26T11:27:20.777Z"
   },
   {
    "duration": 5,
    "start_time": "2025-06-26T11:29:32.563Z"
   },
   {
    "duration": 4,
    "start_time": "2025-06-26T11:30:12.561Z"
   },
   {
    "duration": 336,
    "start_time": "2025-06-26T11:30:20.033Z"
   },
   {
    "duration": 4,
    "start_time": "2025-06-26T11:30:29.266Z"
   },
   {
    "duration": 5,
    "start_time": "2025-06-26T11:30:41.370Z"
   },
   {
    "duration": 3,
    "start_time": "2025-06-26T11:31:21.672Z"
   },
   {
    "duration": 6,
    "start_time": "2025-06-26T11:31:23.784Z"
   },
   {
    "duration": 4,
    "start_time": "2025-06-26T11:31:25.199Z"
   },
   {
    "duration": 336,
    "start_time": "2025-06-26T11:32:06.346Z"
   },
   {
    "duration": 9248,
    "start_time": "2025-06-26T11:33:00.433Z"
   },
   {
    "duration": 333,
    "start_time": "2025-06-26T11:33:20.635Z"
   },
   {
    "duration": 6,
    "start_time": "2025-06-26T11:33:22.835Z"
   },
   {
    "duration": 4,
    "start_time": "2025-06-26T11:33:33.423Z"
   },
   {
    "duration": 6,
    "start_time": "2025-06-26T11:35:47.827Z"
   },
   {
    "duration": 2568,
    "start_time": "2025-06-26T11:51:27.630Z"
   },
   {
    "duration": 1615,
    "start_time": "2025-06-26T11:51:30.200Z"
   },
   {
    "duration": 4,
    "start_time": "2025-06-26T11:51:31.816Z"
   },
   {
    "duration": 1295,
    "start_time": "2025-06-26T11:51:31.821Z"
   },
   {
    "duration": 7,
    "start_time": "2025-06-26T11:51:33.120Z"
   },
   {
    "duration": 266,
    "start_time": "2025-06-26T11:51:33.128Z"
   },
   {
    "duration": 5,
    "start_time": "2025-06-26T11:51:33.396Z"
   },
   {
    "duration": 114,
    "start_time": "2025-06-26T11:51:33.403Z"
   },
   {
    "duration": 242,
    "start_time": "2025-06-26T11:51:33.519Z"
   },
   {
    "duration": 15,
    "start_time": "2025-06-26T11:51:33.764Z"
   },
   {
    "duration": 467,
    "start_time": "2025-06-26T11:51:33.782Z"
   },
   {
    "duration": 466,
    "start_time": "2025-06-26T11:51:34.251Z"
   },
   {
    "duration": 411,
    "start_time": "2025-06-26T11:51:34.720Z"
   },
   {
    "duration": 10,
    "start_time": "2025-06-26T11:51:35.134Z"
   },
   {
    "duration": 82471,
    "start_time": "2025-06-26T11:51:35.146Z"
   },
   {
    "duration": 118,
    "start_time": "2025-06-26T11:52:57.619Z"
   },
   {
    "duration": 476,
    "start_time": "2025-06-26T11:52:57.739Z"
   },
   {
    "duration": 139,
    "start_time": "2025-06-26T11:52:58.216Z"
   },
   {
    "duration": 132,
    "start_time": "2025-06-26T11:52:58.357Z"
   },
   {
    "duration": 5360,
    "start_time": "2025-06-26T11:52:58.491Z"
   },
   {
    "duration": 5,
    "start_time": "2025-06-26T11:53:03.853Z"
   },
   {
    "duration": 46,
    "start_time": "2025-06-26T11:53:03.860Z"
   },
   {
    "duration": 119,
    "start_time": "2025-06-26T11:53:03.908Z"
   },
   {
    "duration": 7452,
    "start_time": "2025-06-26T11:53:04.028Z"
   },
   {
    "duration": 11,
    "start_time": "2025-06-26T11:53:11.483Z"
   },
   {
    "duration": 4185,
    "start_time": "2025-06-26T11:53:11.496Z"
   },
   {
    "duration": 18,
    "start_time": "2025-06-26T11:53:15.684Z"
   },
   {
    "duration": 91,
    "start_time": "2025-06-26T11:53:15.704Z"
   },
   {
    "duration": 3,
    "start_time": "2025-06-26T11:53:15.797Z"
   },
   {
    "duration": 47,
    "start_time": "2025-06-26T11:53:15.802Z"
   },
   {
    "duration": 3,
    "start_time": "2025-06-26T11:53:15.852Z"
   },
   {
    "duration": 17,
    "start_time": "2025-06-26T11:53:15.857Z"
   },
   {
    "duration": 31,
    "start_time": "2025-06-26T11:53:15.877Z"
   },
   {
    "duration": 10004,
    "start_time": "2025-06-26T11:53:15.910Z"
   },
   {
    "duration": 362,
    "start_time": "2025-06-26T11:53:25.916Z"
   },
   {
    "duration": 7,
    "start_time": "2025-06-26T11:53:26.280Z"
   },
   {
    "duration": 6,
    "start_time": "2025-06-26T11:53:26.290Z"
   },
   {
    "duration": 2559,
    "start_time": "2025-06-26T12:42:46.597Z"
   },
   {
    "duration": 1565,
    "start_time": "2025-06-26T12:42:49.159Z"
   },
   {
    "duration": 5,
    "start_time": "2025-06-26T12:42:50.726Z"
   },
   {
    "duration": 1187,
    "start_time": "2025-06-26T12:42:50.733Z"
   },
   {
    "duration": 7,
    "start_time": "2025-06-26T12:42:51.923Z"
   },
   {
    "duration": 232,
    "start_time": "2025-06-26T12:42:51.933Z"
   },
   {
    "duration": 4,
    "start_time": "2025-06-26T12:42:52.167Z"
   },
   {
    "duration": 131,
    "start_time": "2025-06-26T12:42:52.178Z"
   },
   {
    "duration": 240,
    "start_time": "2025-06-26T12:42:52.310Z"
   },
   {
    "duration": 5,
    "start_time": "2025-06-26T12:42:52.552Z"
   },
   {
    "duration": 406,
    "start_time": "2025-06-26T12:42:52.558Z"
   },
   {
    "duration": 477,
    "start_time": "2025-06-26T12:42:52.966Z"
   },
   {
    "duration": 407,
    "start_time": "2025-06-26T12:42:53.445Z"
   },
   {
    "duration": 10,
    "start_time": "2025-06-26T12:42:53.855Z"
   },
   {
    "duration": 83373,
    "start_time": "2025-06-26T12:42:53.876Z"
   },
   {
    "duration": 115,
    "start_time": "2025-06-26T12:44:17.250Z"
   },
   {
    "duration": 434,
    "start_time": "2025-06-26T12:44:17.366Z"
   },
   {
    "duration": 138,
    "start_time": "2025-06-26T12:44:17.801Z"
   },
   {
    "duration": 126,
    "start_time": "2025-06-26T12:44:17.941Z"
   },
   {
    "duration": 5031,
    "start_time": "2025-06-26T12:44:18.069Z"
   },
   {
    "duration": 5,
    "start_time": "2025-06-26T12:44:23.102Z"
   },
   {
    "duration": 47,
    "start_time": "2025-06-26T12:44:23.108Z"
   },
   {
    "duration": 111,
    "start_time": "2025-06-26T12:44:23.157Z"
   },
   {
    "duration": 7083,
    "start_time": "2025-06-26T12:44:23.275Z"
   },
   {
    "duration": 27,
    "start_time": "2025-06-26T12:44:30.361Z"
   },
   {
    "duration": 4101,
    "start_time": "2025-06-26T12:44:30.390Z"
   },
   {
    "duration": 17,
    "start_time": "2025-06-26T12:44:34.494Z"
   },
   {
    "duration": 66,
    "start_time": "2025-06-26T12:44:34.514Z"
   },
   {
    "duration": 15,
    "start_time": "2025-06-26T12:44:34.582Z"
   },
   {
    "duration": 88,
    "start_time": "2025-06-26T12:44:34.598Z"
   },
   {
    "duration": 10,
    "start_time": "2025-06-26T12:44:34.687Z"
   },
   {
    "duration": 7,
    "start_time": "2025-06-26T12:44:34.698Z"
   },
   {
    "duration": 14,
    "start_time": "2025-06-26T12:44:34.707Z"
   },
   {
    "duration": 9879,
    "start_time": "2025-06-26T12:44:34.722Z"
   },
   {
    "duration": 379,
    "start_time": "2025-06-26T12:44:44.604Z"
   },
   {
    "duration": 7,
    "start_time": "2025-06-26T12:44:44.984Z"
   },
   {
    "duration": 17,
    "start_time": "2025-06-26T12:44:44.993Z"
   },
   {
    "duration": 3232,
    "start_time": "2025-06-26T13:34:00.186Z"
   },
   {
    "duration": 1484,
    "start_time": "2025-06-26T13:34:03.421Z"
   },
   {
    "duration": 4,
    "start_time": "2025-06-26T13:34:04.907Z"
   },
   {
    "duration": 1104,
    "start_time": "2025-06-26T13:34:04.912Z"
   },
   {
    "duration": 6,
    "start_time": "2025-06-26T13:34:06.018Z"
   },
   {
    "duration": 172,
    "start_time": "2025-06-26T13:34:06.025Z"
   },
   {
    "duration": 4,
    "start_time": "2025-06-26T13:34:06.199Z"
   },
   {
    "duration": 103,
    "start_time": "2025-06-26T13:34:06.205Z"
   },
   {
    "duration": 233,
    "start_time": "2025-06-26T13:34:06.309Z"
   },
   {
    "duration": 5,
    "start_time": "2025-06-26T13:34:06.543Z"
   },
   {
    "duration": 377,
    "start_time": "2025-06-26T13:34:06.550Z"
   },
   {
    "duration": 429,
    "start_time": "2025-06-26T13:34:06.928Z"
   },
   {
    "duration": 370,
    "start_time": "2025-06-26T13:34:07.359Z"
   },
   {
    "duration": 10,
    "start_time": "2025-06-26T13:34:07.732Z"
   },
   {
    "duration": 74585,
    "start_time": "2025-06-26T13:34:07.744Z"
   },
   {
    "duration": 108,
    "start_time": "2025-06-26T13:35:22.331Z"
   },
   {
    "duration": 436,
    "start_time": "2025-06-26T13:35:22.440Z"
   },
   {
    "duration": 127,
    "start_time": "2025-06-26T13:35:22.878Z"
   },
   {
    "duration": 116,
    "start_time": "2025-06-26T13:35:23.007Z"
   },
   {
    "duration": 4612,
    "start_time": "2025-06-26T13:35:23.125Z"
   },
   {
    "duration": 5,
    "start_time": "2025-06-26T13:35:27.739Z"
   },
   {
    "duration": 43,
    "start_time": "2025-06-26T13:35:27.745Z"
   },
   {
    "duration": 115,
    "start_time": "2025-06-26T13:35:27.790Z"
   },
   {
    "duration": 6833,
    "start_time": "2025-06-26T13:35:27.907Z"
   },
   {
    "duration": 7,
    "start_time": "2025-06-26T13:35:34.741Z"
   },
   {
    "duration": 3810,
    "start_time": "2025-06-26T13:35:34.750Z"
   },
   {
    "duration": 23,
    "start_time": "2025-06-26T13:35:38.562Z"
   },
   {
    "duration": 62,
    "start_time": "2025-06-26T13:35:38.587Z"
   },
   {
    "duration": 3,
    "start_time": "2025-06-26T13:35:38.651Z"
   },
   {
    "duration": 22,
    "start_time": "2025-06-26T13:35:38.655Z"
   },
   {
    "duration": 7,
    "start_time": "2025-06-26T13:35:38.678Z"
   },
   {
    "duration": 4,
    "start_time": "2025-06-26T13:35:38.686Z"
   },
   {
    "duration": 5,
    "start_time": "2025-06-26T13:35:38.692Z"
   },
   {
    "duration": 9526,
    "start_time": "2025-06-26T13:35:38.698Z"
   },
   {
    "duration": 371,
    "start_time": "2025-06-26T13:35:48.226Z"
   },
   {
    "duration": 6,
    "start_time": "2025-06-26T13:35:48.598Z"
   },
   {
    "duration": 7,
    "start_time": "2025-06-26T13:35:48.605Z"
   },
   {
    "duration": 6580239,
    "start_time": "2025-06-26T13:35:48.614Z"
   },
   {
    "duration": 3615,
    "start_time": "2025-06-26T15:25:28.855Z"
   },
   {
    "duration": 6,
    "start_time": "2025-06-26T15:25:32.476Z"
   },
   {
    "duration": 3455,
    "start_time": "2025-06-27T07:31:30.955Z"
   },
   {
    "duration": 1851,
    "start_time": "2025-06-27T07:31:37.129Z"
   },
   {
    "duration": 2839,
    "start_time": "2025-06-27T07:35:18.113Z"
   },
   {
    "duration": 1872,
    "start_time": "2025-06-27T07:35:20.955Z"
   },
   {
    "duration": 5,
    "start_time": "2025-06-27T07:35:22.831Z"
   },
   {
    "duration": 1085,
    "start_time": "2025-06-27T07:35:22.839Z"
   },
   {
    "duration": 15,
    "start_time": "2025-06-27T07:35:23.926Z"
   },
   {
    "duration": 160,
    "start_time": "2025-06-27T07:35:23.942Z"
   },
   {
    "duration": 4,
    "start_time": "2025-06-27T07:35:24.104Z"
   },
   {
    "duration": 120,
    "start_time": "2025-06-27T07:35:24.109Z"
   },
   {
    "duration": 263,
    "start_time": "2025-06-27T07:35:24.237Z"
   },
   {
    "duration": 5,
    "start_time": "2025-06-27T07:35:24.502Z"
   },
   {
    "duration": 408,
    "start_time": "2025-06-27T07:35:24.509Z"
   },
   {
    "duration": 423,
    "start_time": "2025-06-27T07:35:24.918Z"
   },
   {
    "duration": 369,
    "start_time": "2025-06-27T07:35:25.344Z"
   },
   {
    "duration": 10,
    "start_time": "2025-06-27T07:35:25.715Z"
   },
   {
    "duration": 75838,
    "start_time": "2025-06-27T07:35:25.727Z"
   },
   {
    "duration": 118,
    "start_time": "2025-06-27T07:36:41.567Z"
   },
   {
    "duration": 444,
    "start_time": "2025-06-27T07:36:41.687Z"
   },
   {
    "duration": 133,
    "start_time": "2025-06-27T07:36:42.137Z"
   },
   {
    "duration": 124,
    "start_time": "2025-06-27T07:36:42.272Z"
   },
   {
    "duration": 4542,
    "start_time": "2025-06-27T07:36:42.397Z"
   },
   {
    "duration": 5,
    "start_time": "2025-06-27T07:36:46.941Z"
   },
   {
    "duration": 31,
    "start_time": "2025-06-27T07:36:46.948Z"
   },
   {
    "duration": 124,
    "start_time": "2025-06-27T07:36:46.980Z"
   },
   {
    "duration": 6938,
    "start_time": "2025-06-27T07:36:47.105Z"
   },
   {
    "duration": 8,
    "start_time": "2025-06-27T07:36:54.045Z"
   },
   {
    "duration": 3952,
    "start_time": "2025-06-27T07:36:54.055Z"
   },
   {
    "duration": 32,
    "start_time": "2025-06-27T07:36:58.008Z"
   },
   {
    "duration": 63,
    "start_time": "2025-06-27T07:36:58.041Z"
   },
   {
    "duration": 3,
    "start_time": "2025-06-27T07:36:58.106Z"
   },
   {
    "duration": 26,
    "start_time": "2025-06-27T07:36:58.111Z"
   },
   {
    "duration": 4,
    "start_time": "2025-06-27T07:36:58.138Z"
   },
   {
    "duration": 27,
    "start_time": "2025-06-27T07:36:58.143Z"
   },
   {
    "duration": 4,
    "start_time": "2025-06-27T07:36:58.172Z"
   },
   {
    "duration": 9001,
    "start_time": "2025-06-27T07:36:58.177Z"
   },
   {
    "duration": 316,
    "start_time": "2025-06-27T07:37:07.180Z"
   },
   {
    "duration": 5,
    "start_time": "2025-06-27T07:37:07.498Z"
   },
   {
    "duration": 39,
    "start_time": "2025-06-27T07:37:07.505Z"
   },
   {
    "duration": 665,
    "start_time": "2025-06-27T07:37:07.546Z"
   },
   {
    "duration": 6439295,
    "start_time": "2025-06-27T07:37:08.213Z"
   },
   {
    "duration": 3682,
    "start_time": "2025-06-27T09:24:27.511Z"
   },
   {
    "duration": 4,
    "start_time": "2025-06-27T09:24:31.195Z"
   },
   {
    "duration": 20449,
    "start_time": "2025-06-27T09:24:31.201Z"
   },
   {
    "duration": 1809,
    "start_time": "2025-06-27T09:24:51.651Z"
   },
   {
    "duration": 4,
    "start_time": "2025-06-27T09:24:53.462Z"
   },
   {
    "duration": 18111,
    "start_time": "2025-06-27T09:24:53.536Z"
   },
   {
    "duration": 92,
    "start_time": "2025-06-27T09:25:11.649Z"
   },
   {
    "duration": 4,
    "start_time": "2025-06-27T09:25:11.743Z"
   },
   {
    "duration": 392260,
    "start_time": "2025-06-27T09:33:30.269Z"
   },
   {
    "duration": 542016,
    "start_time": "2025-06-27T09:40:02.531Z"
   },
   {
    "duration": 28698,
    "start_time": "2025-06-27T09:51:07.945Z"
   },
   {
    "duration": 2301,
    "start_time": "2025-06-27T09:51:36.646Z"
   },
   {
    "duration": 6,
    "start_time": "2025-06-27T09:51:38.949Z"
   },
   {
    "duration": 21762,
    "start_time": "2025-06-27T09:51:38.957Z"
   },
   {
    "duration": 103,
    "start_time": "2025-06-27T09:52:00.721Z"
   },
   {
    "duration": 12,
    "start_time": "2025-06-27T09:52:00.826Z"
   },
   {
    "duration": 114,
    "start_time": "2025-06-27T10:00:40.113Z"
   },
   {
    "duration": 9,
    "start_time": "2025-06-27T10:00:58.410Z"
   },
   {
    "duration": 9,
    "start_time": "2025-06-27T10:01:13.401Z"
   },
   {
    "duration": 10,
    "start_time": "2025-06-27T10:03:52.277Z"
   },
   {
    "duration": 8,
    "start_time": "2025-06-27T10:03:58.210Z"
   },
   {
    "duration": 2583,
    "start_time": "2025-06-27T10:07:43.404Z"
   },
   {
    "duration": 1876,
    "start_time": "2025-06-27T10:07:45.989Z"
   },
   {
    "duration": 4,
    "start_time": "2025-06-27T10:07:47.867Z"
   },
   {
    "duration": 1134,
    "start_time": "2025-06-27T10:07:47.873Z"
   },
   {
    "duration": 8,
    "start_time": "2025-06-27T10:07:49.011Z"
   },
   {
    "duration": 164,
    "start_time": "2025-06-27T10:07:49.021Z"
   },
   {
    "duration": 4,
    "start_time": "2025-06-27T10:07:49.187Z"
   },
   {
    "duration": 135,
    "start_time": "2025-06-27T10:07:49.193Z"
   },
   {
    "duration": 238,
    "start_time": "2025-06-27T10:07:49.330Z"
   },
   {
    "duration": 4,
    "start_time": "2025-06-27T10:07:49.570Z"
   },
   {
    "duration": 433,
    "start_time": "2025-06-27T10:07:49.576Z"
   },
   {
    "duration": 449,
    "start_time": "2025-06-27T10:07:50.011Z"
   },
   {
    "duration": 394,
    "start_time": "2025-06-27T10:07:50.464Z"
   },
   {
    "duration": 10,
    "start_time": "2025-06-27T10:07:50.861Z"
   },
   {
    "duration": 76955,
    "start_time": "2025-06-27T10:07:50.874Z"
   },
   {
    "duration": 114,
    "start_time": "2025-06-27T10:09:07.831Z"
   },
   {
    "duration": 433,
    "start_time": "2025-06-27T10:09:07.947Z"
   },
   {
    "duration": 131,
    "start_time": "2025-06-27T10:09:08.382Z"
   },
   {
    "duration": 121,
    "start_time": "2025-06-27T10:09:08.515Z"
   },
   {
    "duration": 5222,
    "start_time": "2025-06-27T10:09:08.638Z"
   },
   {
    "duration": 6,
    "start_time": "2025-06-27T10:09:13.862Z"
   },
   {
    "duration": 29,
    "start_time": "2025-06-27T10:09:13.869Z"
   },
   {
    "duration": 120,
    "start_time": "2025-06-27T10:09:13.900Z"
   },
   {
    "duration": 6800,
    "start_time": "2025-06-27T10:09:14.022Z"
   },
   {
    "duration": 16,
    "start_time": "2025-06-27T10:09:20.824Z"
   },
   {
    "duration": 3864,
    "start_time": "2025-06-27T10:09:20.842Z"
   },
   {
    "duration": 15,
    "start_time": "2025-06-27T10:09:24.708Z"
   },
   {
    "duration": 64,
    "start_time": "2025-06-27T10:09:24.736Z"
   },
   {
    "duration": 3,
    "start_time": "2025-06-27T10:09:24.802Z"
   },
   {
    "duration": 25,
    "start_time": "2025-06-27T10:09:24.807Z"
   },
   {
    "duration": 63,
    "start_time": "2025-06-27T10:09:24.833Z"
   },
   {
    "duration": 22,
    "start_time": "2025-06-27T10:09:24.898Z"
   },
   {
    "duration": 52,
    "start_time": "2025-06-27T10:09:24.921Z"
   },
   {
    "duration": 8601,
    "start_time": "2025-06-27T10:09:24.974Z"
   },
   {
    "duration": 320,
    "start_time": "2025-06-27T10:09:33.577Z"
   },
   {
    "duration": 5,
    "start_time": "2025-06-27T10:09:33.899Z"
   },
   {
    "duration": 4,
    "start_time": "2025-06-27T10:09:33.906Z"
   },
   {
    "duration": 702,
    "start_time": "2025-06-27T10:09:33.911Z"
   },
   {
    "duration": 6476636,
    "start_time": "2025-06-27T10:09:34.615Z"
   },
   {
    "duration": 3588,
    "start_time": "2025-06-27T11:57:31.252Z"
   },
   {
    "duration": 4,
    "start_time": "2025-06-27T11:57:34.844Z"
   },
   {
    "duration": 505494,
    "start_time": "2025-06-27T11:57:34.849Z"
   },
   {
    "duration": 22401,
    "start_time": "2025-06-27T12:06:00.345Z"
   },
   {
    "duration": 2203,
    "start_time": "2025-06-27T12:06:22.748Z"
   },
   {
    "duration": 5,
    "start_time": "2025-06-27T12:06:24.953Z"
   },
   {
    "duration": 386672,
    "start_time": "2025-06-27T12:06:24.959Z"
   },
   {
    "duration": 20546,
    "start_time": "2025-06-27T12:12:51.633Z"
   },
   {
    "duration": 96,
    "start_time": "2025-06-27T12:13:12.180Z"
   },
   {
    "duration": 4,
    "start_time": "2025-06-27T12:13:12.278Z"
   },
   {
    "duration": 28,
    "start_time": "2025-06-27T12:13:12.283Z"
   },
   {
    "duration": 3288,
    "start_time": "2025-06-28T09:32:02.511Z"
   },
   {
    "duration": 2277,
    "start_time": "2025-06-28T09:32:05.802Z"
   },
   {
    "duration": 4,
    "start_time": "2025-06-28T09:32:08.081Z"
   },
   {
    "duration": 1221,
    "start_time": "2025-06-28T09:32:08.087Z"
   },
   {
    "duration": 6,
    "start_time": "2025-06-28T09:32:09.310Z"
   },
   {
    "duration": 161,
    "start_time": "2025-06-28T09:32:09.318Z"
   },
   {
    "duration": 5,
    "start_time": "2025-06-28T09:32:09.480Z"
   },
   {
    "duration": 228,
    "start_time": "2025-06-28T09:32:09.486Z"
   },
   {
    "duration": 213,
    "start_time": "2025-06-28T09:32:09.715Z"
   },
   {
    "duration": 5,
    "start_time": "2025-06-28T09:32:09.930Z"
   },
   {
    "duration": 370,
    "start_time": "2025-06-28T09:32:09.936Z"
   },
   {
    "duration": 416,
    "start_time": "2025-06-28T09:32:10.308Z"
   },
   {
    "duration": 368,
    "start_time": "2025-06-28T09:32:10.726Z"
   },
   {
    "duration": 9,
    "start_time": "2025-06-28T09:32:11.097Z"
   },
   {
    "duration": 73841,
    "start_time": "2025-06-28T09:32:11.108Z"
   },
   {
    "duration": 119,
    "start_time": "2025-06-28T09:33:24.951Z"
   },
   {
    "duration": 429,
    "start_time": "2025-06-28T09:33:25.072Z"
   },
   {
    "duration": 136,
    "start_time": "2025-06-28T09:33:25.503Z"
   },
   {
    "duration": 140,
    "start_time": "2025-06-28T09:33:25.641Z"
   },
   {
    "duration": 4636,
    "start_time": "2025-06-28T09:33:25.783Z"
   },
   {
    "duration": 5,
    "start_time": "2025-06-28T09:33:30.421Z"
   },
   {
    "duration": 47,
    "start_time": "2025-06-28T09:33:30.428Z"
   },
   {
    "duration": 111,
    "start_time": "2025-06-28T09:33:30.477Z"
   },
   {
    "duration": 6909,
    "start_time": "2025-06-28T09:33:30.590Z"
   },
   {
    "duration": 9,
    "start_time": "2025-06-28T09:33:37.502Z"
   },
   {
    "duration": 3919,
    "start_time": "2025-06-28T09:33:37.514Z"
   },
   {
    "duration": 7,
    "start_time": "2025-06-28T09:36:39.933Z"
   },
   {
    "duration": 3962,
    "start_time": "2025-06-28T09:36:41.070Z"
   },
   {
    "duration": 2546,
    "start_time": "2025-06-28T09:55:45.721Z"
   },
   {
    "duration": 1606,
    "start_time": "2025-06-28T09:55:48.270Z"
   },
   {
    "duration": 5,
    "start_time": "2025-06-28T09:55:49.877Z"
   },
   {
    "duration": 1108,
    "start_time": "2025-06-28T09:55:49.883Z"
   },
   {
    "duration": 7,
    "start_time": "2025-06-28T09:55:50.993Z"
   },
   {
    "duration": 231,
    "start_time": "2025-06-28T09:55:51.001Z"
   },
   {
    "duration": 4,
    "start_time": "2025-06-28T09:55:51.234Z"
   },
   {
    "duration": 106,
    "start_time": "2025-06-28T09:55:51.239Z"
   },
   {
    "duration": 258,
    "start_time": "2025-06-28T09:55:51.347Z"
   },
   {
    "duration": 4,
    "start_time": "2025-06-28T09:55:51.607Z"
   },
   {
    "duration": 450,
    "start_time": "2025-06-28T09:55:51.613Z"
   },
   {
    "duration": 432,
    "start_time": "2025-06-28T09:55:52.064Z"
   },
   {
    "duration": 368,
    "start_time": "2025-06-28T09:55:52.498Z"
   },
   {
    "duration": 10,
    "start_time": "2025-06-28T09:55:52.869Z"
   },
   {
    "duration": 77932,
    "start_time": "2025-06-28T09:55:52.881Z"
   },
   {
    "duration": 113,
    "start_time": "2025-06-28T09:57:10.815Z"
   },
   {
    "duration": 459,
    "start_time": "2025-06-28T09:57:10.930Z"
   },
   {
    "duration": 137,
    "start_time": "2025-06-28T09:57:11.391Z"
   },
   {
    "duration": 119,
    "start_time": "2025-06-28T09:57:11.530Z"
   },
   {
    "duration": 5376,
    "start_time": "2025-06-28T09:57:11.651Z"
   },
   {
    "duration": 6,
    "start_time": "2025-06-28T09:57:17.029Z"
   },
   {
    "duration": 64,
    "start_time": "2025-06-28T09:57:17.036Z"
   },
   {
    "duration": 107,
    "start_time": "2025-06-28T09:57:17.102Z"
   },
   {
    "duration": 7058,
    "start_time": "2025-06-28T09:57:17.211Z"
   },
   {
    "duration": 8,
    "start_time": "2025-06-28T09:57:24.271Z"
   },
   {
    "duration": 4049,
    "start_time": "2025-06-28T09:57:24.280Z"
   },
   {
    "duration": 16,
    "start_time": "2025-06-28T09:57:28.331Z"
   },
   {
    "duration": 123,
    "start_time": "2025-06-28T09:57:28.360Z"
   },
   {
    "duration": 3,
    "start_time": "2025-06-28T09:57:28.484Z"
   },
   {
    "duration": 8,
    "start_time": "2025-06-28T09:57:28.489Z"
   },
   {
    "duration": 4,
    "start_time": "2025-06-28T09:57:28.498Z"
   },
   {
    "duration": 4,
    "start_time": "2025-06-28T09:57:28.503Z"
   },
   {
    "duration": 6,
    "start_time": "2025-06-28T09:57:28.509Z"
   },
   {
    "duration": 7433,
    "start_time": "2025-06-28T09:57:28.516Z"
   },
   {
    "duration": 273,
    "start_time": "2025-06-28T09:57:35.951Z"
   },
   {
    "duration": 6,
    "start_time": "2025-06-28T09:57:36.225Z"
   },
   {
    "duration": 21,
    "start_time": "2025-06-28T09:57:36.232Z"
   },
   {
    "duration": 158,
    "start_time": "2025-06-28T09:59:34.285Z"
   },
   {
    "duration": 16,
    "start_time": "2025-06-28T10:02:17.184Z"
   },
   {
    "duration": 6,
    "start_time": "2025-06-28T10:02:33.319Z"
   },
   {
    "duration": 12,
    "start_time": "2025-06-28T10:02:40.872Z"
   },
   {
    "duration": 7,
    "start_time": "2025-06-28T10:02:57.344Z"
   },
   {
    "duration": 8,
    "start_time": "2025-06-28T10:03:05.560Z"
   },
   {
    "duration": 4,
    "start_time": "2025-06-28T10:03:08.170Z"
   },
   {
    "duration": 835,
    "start_time": "2025-06-28T10:03:12.080Z"
   },
   {
    "duration": 61487,
    "start_time": "2025-06-28T10:03:14.879Z"
   },
   {
    "duration": 3225,
    "start_time": "2025-06-28T10:04:16.369Z"
   },
   {
    "duration": 5,
    "start_time": "2025-06-28T10:04:19.595Z"
   },
   {
    "duration": 857582,
    "start_time": "2025-06-28T10:04:19.603Z"
   },
   {
    "duration": 0,
    "start_time": "2025-06-28T10:18:37.187Z"
   },
   {
    "duration": 0,
    "start_time": "2025-06-28T10:18:37.188Z"
   },
   {
    "duration": 0,
    "start_time": "2025-06-28T10:18:37.190Z"
   },
   {
    "duration": 0,
    "start_time": "2025-06-28T10:18:37.191Z"
   },
   {
    "duration": 0,
    "start_time": "2025-06-28T10:18:37.192Z"
   },
   {
    "duration": 0,
    "start_time": "2025-06-28T10:18:37.193Z"
   },
   {
    "duration": 0,
    "start_time": "2025-06-28T10:18:37.194Z"
   },
   {
    "duration": 0,
    "start_time": "2025-06-28T10:18:37.196Z"
   },
   {
    "duration": 445102,
    "start_time": "2025-06-28T10:19:19.493Z"
   },
   {
    "duration": 0,
    "start_time": "2025-06-28T10:26:44.597Z"
   },
   {
    "duration": 0,
    "start_time": "2025-06-28T10:26:44.598Z"
   },
   {
    "duration": 0,
    "start_time": "2025-06-28T10:26:44.599Z"
   },
   {
    "duration": 772,
    "start_time": "2025-06-28T10:33:03.856Z"
   },
   {
    "duration": 4,
    "start_time": "2025-06-28T10:36:56.809Z"
   },
   {
    "duration": 2582,
    "start_time": "2025-06-28T10:37:48.186Z"
   },
   {
    "duration": 1676,
    "start_time": "2025-06-28T10:37:50.770Z"
   },
   {
    "duration": 4,
    "start_time": "2025-06-28T10:37:52.448Z"
   },
   {
    "duration": 1214,
    "start_time": "2025-06-28T10:37:52.454Z"
   },
   {
    "duration": 6,
    "start_time": "2025-06-28T10:37:53.670Z"
   },
   {
    "duration": 166,
    "start_time": "2025-06-28T10:37:53.678Z"
   },
   {
    "duration": 4,
    "start_time": "2025-06-28T10:37:53.846Z"
   },
   {
    "duration": 117,
    "start_time": "2025-06-28T10:37:53.851Z"
   },
   {
    "duration": 256,
    "start_time": "2025-06-28T10:37:53.970Z"
   },
   {
    "duration": 4,
    "start_time": "2025-06-28T10:37:54.228Z"
   },
   {
    "duration": 411,
    "start_time": "2025-06-28T10:37:54.235Z"
   },
   {
    "duration": 465,
    "start_time": "2025-06-28T10:37:54.648Z"
   },
   {
    "duration": 403,
    "start_time": "2025-06-28T10:37:55.115Z"
   },
   {
    "duration": 10,
    "start_time": "2025-06-28T10:37:55.521Z"
   },
   {
    "duration": 77552,
    "start_time": "2025-06-28T10:37:55.533Z"
   },
   {
    "duration": 121,
    "start_time": "2025-06-28T10:39:13.087Z"
   },
   {
    "duration": 445,
    "start_time": "2025-06-28T10:39:13.209Z"
   },
   {
    "duration": 141,
    "start_time": "2025-06-28T10:39:13.655Z"
   },
   {
    "duration": 124,
    "start_time": "2025-06-28T10:39:13.798Z"
   },
   {
    "duration": 5344,
    "start_time": "2025-06-28T10:39:13.924Z"
   },
   {
    "duration": 6,
    "start_time": "2025-06-28T10:39:19.270Z"
   },
   {
    "duration": 33,
    "start_time": "2025-06-28T10:39:19.277Z"
   },
   {
    "duration": 126,
    "start_time": "2025-06-28T10:39:19.312Z"
   },
   {
    "duration": 6880,
    "start_time": "2025-06-28T10:39:19.439Z"
   },
   {
    "duration": 7,
    "start_time": "2025-06-28T10:39:26.321Z"
   },
   {
    "duration": 4019,
    "start_time": "2025-06-28T10:39:26.330Z"
   },
   {
    "duration": 21,
    "start_time": "2025-06-28T10:39:30.351Z"
   },
   {
    "duration": 134,
    "start_time": "2025-06-28T10:39:30.374Z"
   },
   {
    "duration": 4,
    "start_time": "2025-06-28T10:39:30.510Z"
   },
   {
    "duration": 18,
    "start_time": "2025-06-28T10:39:30.515Z"
   },
   {
    "duration": 49,
    "start_time": "2025-06-28T10:39:30.534Z"
   },
   {
    "duration": 15,
    "start_time": "2025-06-28T10:39:30.585Z"
   },
   {
    "duration": 16,
    "start_time": "2025-06-28T10:39:30.602Z"
   },
   {
    "duration": 7599,
    "start_time": "2025-06-28T10:39:30.620Z"
   },
   {
    "duration": 265,
    "start_time": "2025-06-28T10:39:38.221Z"
   },
   {
    "duration": 5,
    "start_time": "2025-06-28T10:39:38.488Z"
   },
   {
    "duration": 5,
    "start_time": "2025-06-28T10:39:38.495Z"
   },
   {
    "duration": 849,
    "start_time": "2025-06-28T10:39:38.502Z"
   },
   {
    "duration": 60151,
    "start_time": "2025-06-28T10:39:39.353Z"
   },
   {
    "duration": 3372,
    "start_time": "2025-06-28T10:40:39.505Z"
   },
   {
    "duration": 4,
    "start_time": "2025-06-28T10:40:42.881Z"
   },
   {
    "duration": 4,
    "start_time": "2025-06-28T10:43:45.364Z"
   },
   {
    "duration": 7,
    "start_time": "2025-06-28T10:43:45.498Z"
   },
   {
    "duration": 841,
    "start_time": "2025-06-28T10:44:42.573Z"
   },
   {
    "duration": 586967,
    "start_time": "2025-06-28T10:45:47.500Z"
   },
   {
    "duration": 17743,
    "start_time": "2025-06-28T10:55:44.722Z"
   },
   {
    "duration": 20462,
    "start_time": "2025-06-28T11:00:51.017Z"
   },
   {
    "duration": 2870,
    "start_time": "2025-06-28T11:01:38.902Z"
   },
   {
    "duration": 4,
    "start_time": "2025-06-28T11:01:41.775Z"
   },
   {
    "duration": 3085447,
    "start_time": "2025-06-28T11:02:45.559Z"
   },
   {
    "duration": 207265,
    "start_time": "2025-06-28T11:54:11.008Z"
   },
   {
    "duration": 586,
    "start_time": "2025-06-28T11:57:38.275Z"
   },
   {
    "duration": 5,
    "start_time": "2025-06-28T11:57:38.863Z"
   },
   {
    "duration": 11,
    "start_time": "2025-06-28T11:57:38.870Z"
   },
   {
    "duration": 2831,
    "start_time": "2025-06-28T12:02:29.562Z"
   },
   {
    "duration": 230,
    "start_time": "2025-06-28T12:02:52.707Z"
   },
   {
    "duration": 2756,
    "start_time": "2025-06-28T12:03:26.513Z"
   },
   {
    "duration": 223,
    "start_time": "2025-06-28T12:03:30.595Z"
   },
   {
    "duration": 349,
    "start_time": "2025-06-28T12:08:23.329Z"
   },
   {
    "duration": 2558,
    "start_time": "2025-06-28T12:14:49.295Z"
   },
   {
    "duration": 1630,
    "start_time": "2025-06-28T12:14:51.855Z"
   },
   {
    "duration": 4,
    "start_time": "2025-06-28T12:14:53.486Z"
   },
   {
    "duration": 1129,
    "start_time": "2025-06-28T12:14:53.492Z"
   },
   {
    "duration": 6,
    "start_time": "2025-06-28T12:14:54.623Z"
   },
   {
    "duration": 164,
    "start_time": "2025-06-28T12:14:54.631Z"
   },
   {
    "duration": 4,
    "start_time": "2025-06-28T12:14:54.797Z"
   },
   {
    "duration": 123,
    "start_time": "2025-06-28T12:14:54.802Z"
   },
   {
    "duration": 243,
    "start_time": "2025-06-28T12:14:54.927Z"
   },
   {
    "duration": 4,
    "start_time": "2025-06-28T12:14:55.173Z"
   },
   {
    "duration": 397,
    "start_time": "2025-06-28T12:14:55.179Z"
   },
   {
    "duration": 475,
    "start_time": "2025-06-28T12:14:55.578Z"
   },
   {
    "duration": 389,
    "start_time": "2025-06-28T12:14:56.055Z"
   },
   {
    "duration": 14,
    "start_time": "2025-06-28T12:14:56.446Z"
   },
   {
    "duration": 80859,
    "start_time": "2025-06-28T12:14:56.462Z"
   },
   {
    "duration": 122,
    "start_time": "2025-06-28T12:16:17.322Z"
   },
   {
    "duration": 460,
    "start_time": "2025-06-28T12:16:17.446Z"
   },
   {
    "duration": 140,
    "start_time": "2025-06-28T12:16:17.908Z"
   },
   {
    "duration": 133,
    "start_time": "2025-06-28T12:16:18.050Z"
   },
   {
    "duration": 5395,
    "start_time": "2025-06-28T12:16:18.185Z"
   },
   {
    "duration": 6,
    "start_time": "2025-06-28T12:16:23.581Z"
   },
   {
    "duration": 31,
    "start_time": "2025-06-28T12:16:23.589Z"
   },
   {
    "duration": 126,
    "start_time": "2025-06-28T12:16:23.621Z"
   },
   {
    "duration": 7163,
    "start_time": "2025-06-28T12:16:23.749Z"
   },
   {
    "duration": 8,
    "start_time": "2025-06-28T12:16:30.915Z"
   },
   {
    "duration": 4010,
    "start_time": "2025-06-28T12:16:30.925Z"
   },
   {
    "duration": 29,
    "start_time": "2025-06-28T12:16:34.937Z"
   },
   {
    "duration": 136,
    "start_time": "2025-06-28T12:16:34.971Z"
   },
   {
    "duration": 4,
    "start_time": "2025-06-28T12:16:35.109Z"
   },
   {
    "duration": 26,
    "start_time": "2025-06-28T12:16:35.115Z"
   },
   {
    "duration": 15,
    "start_time": "2025-06-28T12:16:35.142Z"
   },
   {
    "duration": 11,
    "start_time": "2025-06-28T12:16:35.159Z"
   },
   {
    "duration": 17,
    "start_time": "2025-06-28T12:16:35.172Z"
   },
   {
    "duration": 7457,
    "start_time": "2025-06-28T12:16:35.191Z"
   },
   {
    "duration": 275,
    "start_time": "2025-06-28T12:16:42.650Z"
   },
   {
    "duration": 6,
    "start_time": "2025-06-28T12:16:42.926Z"
   },
   {
    "duration": 7,
    "start_time": "2025-06-28T12:16:42.934Z"
   },
   {
    "duration": 850,
    "start_time": "2025-06-28T12:16:42.960Z"
   },
   {
    "duration": 60948,
    "start_time": "2025-06-28T12:16:43.812Z"
   },
   {
    "duration": 3426,
    "start_time": "2025-06-28T12:17:44.762Z"
   },
   {
    "duration": 4,
    "start_time": "2025-06-28T12:17:48.190Z"
   },
   {
    "duration": 540579,
    "start_time": "2025-06-28T12:17:48.196Z"
   },
   {
    "duration": 19091,
    "start_time": "2025-06-28T12:26:48.776Z"
   },
   {
    "duration": 2795,
    "start_time": "2025-06-28T12:27:07.869Z"
   },
   {
    "duration": 5,
    "start_time": "2025-06-28T12:27:10.666Z"
   },
   {
    "duration": 2938619,
    "start_time": "2025-06-28T12:27:10.672Z"
   },
   {
    "duration": 208723,
    "start_time": "2025-06-28T13:16:09.293Z"
   },
   {
    "duration": 575,
    "start_time": "2025-06-28T13:19:38.018Z"
   },
   {
    "duration": 3,
    "start_time": "2025-06-28T13:19:38.595Z"
   },
   {
    "duration": 9,
    "start_time": "2025-06-28T13:19:38.600Z"
   },
   {
    "duration": 2780,
    "start_time": "2025-06-28T13:19:38.611Z"
   },
   {
    "duration": 292,
    "start_time": "2025-06-28T13:19:41.393Z"
   }
  ],
  "kernelspec": {
   "display_name": "Python 3 (ipykernel)",
   "language": "python",
   "name": "python3"
  },
  "language_info": {
   "codemirror_mode": {
    "name": "ipython",
    "version": 3
   },
   "file_extension": ".py",
   "mimetype": "text/x-python",
   "name": "python",
   "nbconvert_exporter": "python",
   "pygments_lexer": "ipython3",
   "version": "3.9.18"
  },
  "toc": {
   "base_numbering": 1,
   "nav_menu": {},
   "number_sections": true,
   "sideBar": true,
   "skip_h1_title": true,
   "title_cell": "Table of Contents",
   "title_sidebar": "Contents",
   "toc_cell": false,
   "toc_position": {
    "height": "calc(100% - 180px)",
    "left": "10px",
    "top": "150px",
    "width": "327.594px"
   },
   "toc_section_display": true,
   "toc_window_display": true
  }
 },
 "nbformat": 4,
 "nbformat_minor": 2
}
